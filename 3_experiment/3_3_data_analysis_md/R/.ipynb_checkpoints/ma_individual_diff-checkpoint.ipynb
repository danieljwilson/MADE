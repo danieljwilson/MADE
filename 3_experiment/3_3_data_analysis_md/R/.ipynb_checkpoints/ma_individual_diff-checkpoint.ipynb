{
 "cells": [
  {
   "cell_type": "markdown",
   "metadata": {},
   "source": [
    "# Setup"
   ]
  },
  {
   "cell_type": "markdown",
   "metadata": {},
   "source": [
    "## Imports"
   ]
  },
  {
   "cell_type": "code",
   "execution_count": null,
   "metadata": {},
   "outputs": [],
   "source": [
    "rm(list = ls())\n",
    "library(tidyverse)\n",
    "library(data.table)\n",
    "library(broom)\n",
    "library(dtplyr)\n",
    "library(lme4)\n",
    "library(lmerTest)\n",
    "library(ggbeeswarm)\n",
    "library(cowplot)\n",
    "\n",
    "# load(\"questionnaires.RData\")\n",
    "# save.image(\"questionnaires.RData\")\n",
    "source(\"https://raw.githubusercontent.com/hauselin/Rcode/master/cleanQuestionnaire.R\")"
   ]
  },
  {
   "cell_type": "markdown",
   "metadata": {},
   "source": [
    "## Load Data"
   ]
  },
  {
   "cell_type": "code",
   "execution_count": null,
   "metadata": {},
   "outputs": [],
   "source": [
    "dataFile <- \"Data/sm_questionnaires.csv\"\n",
    "qualtrics <- tbl_dt(fread(dataFile, header = T)[-1])\n",
    "\n",
    "names(qualtrics)[duplicated(names(qualtrics))] # check duplicated column names\n",
    "qualtrics[, n_distinct(ResponseID)]\n",
    "\n",
    "# remove incomplete subjects\n",
    "qualtrics$debrief = as.numeric(qualtrics$debrief)\n",
    "qualtrics<-subset(qualtrics, (!is.na(qualtrics$debrief)))\n",
    "\n",
    "qualtrics[, n_distinct(ResponseID)]\n",
    "\n",
    "# create subject ID\n",
    "qualtrics$subjectID = 1:qualtrics[, n_distinct(ResponseID)]"
   ]
  },
  {
   "cell_type": "code",
   "execution_count": null,
   "metadata": {},
   "outputs": [],
   "source": [
    "wellBeing <- select(qualtrics, subjectID, starts_with(\"wb\")) %>% \n",
    "    tbl_df() %>% \n",
    "    mutate_all(as.numeric) %>% \n",
    "    tbl_dt()\n",
    "\n",
    "addictionProne <- select(qualtrics, subjectID, starts_with(\"addict\")) %>% \n",
    "    tbl_df() %>% \n",
    "    mutate_all(as.numeric) %>% \n",
    "    tbl_dt()\n",
    "\n",
    "scales <- list()\n",
    "scalesWideRaw <- list()\n",
    "\n",
    "# test for people choosing only one score\n",
    "test_range = socialQs\n",
    "which(apply(test_range[,-1], 1, range)[2,] - apply(test_range[,-1], 1, range)[1,] ==0)\n",
    "\n",
    "# remove 56, 141, 209 (done at the end)"
   ]
  }
 ],
 "metadata": {
  "kernelspec": {
   "display_name": "R",
   "language": "R",
   "name": "ir"
  },
  "language_info": {
   "codemirror_mode": "r",
   "file_extension": ".r",
   "mimetype": "text/x-r-source",
   "name": "R",
   "pygments_lexer": "r",
   "version": "3.5.2"
  }
 },
 "nbformat": 4,
 "nbformat_minor": 2
}
