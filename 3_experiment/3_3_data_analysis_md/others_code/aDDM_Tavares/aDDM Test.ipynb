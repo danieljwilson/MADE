{
 "cells": [
  {
   "cell_type": "markdown",
   "metadata": {
    "toc": "true"
   },
   "source": [
    "# Table of Contents\n",
    " <p><div class=\"lev1 toc-item\"><a href=\"#Import-Libraries\" data-toc-modified-id=\"Import-Libraries-1\"><span class=\"toc-item-num\">1&nbsp;&nbsp;</span>Import Libraries</a></div><div class=\"lev1 toc-item\"><a href=\"#Define-Arguments\" data-toc-modified-id=\"Define-Arguments-2\"><span class=\"toc-item-num\">2&nbsp;&nbsp;</span>Define Arguments</a></div><div class=\"lev1 toc-item\"><a href=\"#Function\" data-toc-modified-id=\"Function-3\"><span class=\"toc-item-num\">3&nbsp;&nbsp;</span>Function</a></div>"
   ]
  },
  {
   "cell_type": "markdown",
   "metadata": {},
   "source": [
    "# Import Libraries"
   ]
  },
  {
   "cell_type": "code",
   "execution_count": 5,
   "metadata": {
    "ExecuteTime": {
     "end_time": "2017-10-19T15:04:59.546478Z",
     "start_time": "2017-10-19T15:04:59.539547Z"
    },
    "collapsed": true
   },
   "outputs": [],
   "source": [
    "\"\"\"\n",
    "addm_test.py\n",
    "Author: Gabriela Tavares, gtavares@caltech.edu\n",
    "\n",
    "Test to check the validity of the addm parameter estimation. Artificil data is\n",
    "generated using specific parameters for the model. Fixations are sampled from\n",
    "the data pooled from all subjects (or from a subset of subjects, when\n",
    "provided). The parameters used for data generation are then recovered through a\n",
    "posterior distribution estimation procedure.\n",
    "\"\"\"\n",
    "\n",
    "import argparse\n",
    "import numpy as np\n",
    "\n",
    "from addm import aDDM\n",
    "from util import (load_data_from_csv, get_empirical_distributions,\n",
    "                  convert_item_values)"
   ]
  },
  {
   "cell_type": "markdown",
   "metadata": {},
   "source": [
    "# Define Arguments"
   ]
  },
  {
   "cell_type": "code",
   "execution_count": 6,
   "metadata": {
    "ExecuteTime": {
     "end_time": "2017-10-19T15:05:00.478555Z",
     "start_time": "2017-10-19T15:05:00.450972Z"
    },
    "collapsed": true
   },
   "outputs": [],
   "source": [
    "class arguments:\n",
    "    \n",
    "    # \"--subject-ids\", nargs=\"+\", type=str, default=[],\n",
    "    # help= List of subject ids. If not provided, all\n",
    "    # existing subjects will be used.\")\n",
    "    subject_ids = []\n",
    "        \n",
    "    # \"--num-threads\", type=int, default=9,\n",
    "    # help= Size of the thread pool.\"\n",
    "    num_threads = 4\n",
    "    \n",
    "    # --trials-per-condition\", type=int, default=800,\n",
    "    # help= Number of artificial data trials to be\n",
    "    # generated per trial condition.\"\n",
    "    trials_per_condition = 100\n",
    "    \n",
    "    # \"--d\", type=float, default=0.006,\n",
    "    # help= aDDM parameter for generating artificial data.\n",
    "    d = 0.006\n",
    "    \n",
    "    # \"--sigma\", type=float, default=0.08,\n",
    "    # help= aDDM parameter for generating artificial data.\n",
    "    sigma = 0.08\n",
    "    \n",
    "    # \"--theta\", type=float, default=0.5,\n",
    "    # help= aDDM parameter for generating artificial data.\n",
    "    theta = 0.5\n",
    "    \n",
    "    # \"--range-d\", nargs=\"+\", type=float, default=[0.005, 0.006, 0.007],\n",
    "    # help= Search range for parameter d.\n",
    "    range_d = [0.005, 0.006, 0.007]\n",
    "    \n",
    "    # \"--range-sigma\", nargs=\"+\", type=float, default=[0.065, 0.08, 0.095],\n",
    "    # help= Search range for parameter sigma.\n",
    "    range_sigma = [0.065, 0.08, 0.095]\n",
    "    \n",
    "    # \"--range-theta\", nargs=\"+\", type=float, default=[0.4, 0.5, 0.6],\n",
    "    # help= Search range for parameter theta.\n",
    "    range_theta = [0.4, 0.5, 0.6]\n",
    "    \n",
    "    # \"--expdata-file-name\", type=str, default=\"expdata.csv\",\n",
    "    # help= Name of experimental data file.\n",
    "    expdata_file_name = \"expdata.csv\"\n",
    "    \n",
    "    # \"--fixations-file-name\", type=str, default=\"fixations.csv\",\n",
    "    # help= Name of fixations file.\n",
    "    fixations_file_name = \"fixations.csv\"\n",
    "    \n",
    "    # \"--verbose\", default=False, action=\"store_true\",\n",
    "    # help= Increase output verbosity.\n",
    "    verbose = \"store_true\"\n",
    "        \n",
    "args = arguments()"
   ]
  },
  {
   "cell_type": "markdown",
   "metadata": {},
   "source": [
    "# Function"
   ]
  },
  {
   "cell_type": "code",
   "execution_count": null,
   "metadata": {
    "ExecuteTime": {
     "start_time": "2017-10-19T19:05:01.520Z"
    }
   },
   "outputs": [
    {
     "name": "stdout",
     "output_type": "stream",
     "text": [
      "Loading experimental data...\n",
      "Getting fixation distributions...\n",
      "Generating artificial data...\n",
      "Computing likelihoods for model (0.005, 0.065, 0.4)...\n",
      "Computing likelihoods for model (0.005, 0.065, 0.5)...\n",
      "Computing likelihoods for model (0.005, 0.065, 0.6)...\n",
      "Computing likelihoods for model (0.005, 0.08, 0.4)...\n",
      "Computing likelihoods for model (0.005, 0.08, 0.5)...\n",
      "Computing likelihoods for model (0.005, 0.08, 0.6)...\n",
      "Computing likelihoods for model (0.005, 0.095, 0.4)...\n",
      "Computing likelihoods for model (0.005, 0.095, 0.5)...\n",
      "Computing likelihoods for model (0.005, 0.095, 0.6)...\n",
      "Computing likelihoods for model (0.006, 0.065, 0.4)...\n",
      "Computing likelihoods for model (0.006, 0.065, 0.5)...\n",
      "Computing likelihoods for model (0.006, 0.065, 0.6)...\n",
      "Computing likelihoods for model (0.006, 0.08, 0.4)...\n",
      "Computing likelihoods for model (0.006, 0.08, 0.5)...\n",
      "Computing likelihoods for model (0.006, 0.08, 0.6)...\n",
      "Computing likelihoods for model (0.006, 0.095, 0.4)...\n",
      "Computing likelihoods for model (0.006, 0.095, 0.5)...\n",
      "Computing likelihoods for model (0.006, 0.095, 0.6)...\n",
      "Computing likelihoods for model (0.007, 0.065, 0.4)...\n",
      "Computing likelihoods for model (0.007, 0.065, 0.5)...\n",
      "Computing likelihoods for model (0.007, 0.065, 0.6)...\n",
      "Computing likelihoods for model (0.007, 0.08, 0.4)...\n",
      "Computing likelihoods for model (0.007, 0.08, 0.5)...\n",
      "Computing likelihoods for model (0.007, 0.08, 0.6)...\n",
      "Computing likelihoods for model (0.007, 0.095, 0.4)...\n",
      "Computing likelihoods for model (0.007, 0.095, 0.5)...\n",
      "Computing likelihoods for model (0.007, 0.095, 0.6)...\n",
      "P(0.005, 0.065, 0.4) = 4.21564362808e-53\n",
      "P(0.005, 0.065, 0.5) = 3.19201856035e-43\n",
      "P(0.005, 0.065, 0.6) = 1.61087751964e-38\n",
      "P(0.005, 0.08, 0.4) = 1.87193315882e-18\n",
      "P(0.005, 0.08, 0.5) = 3.1585743405e-09\n",
      "P(0.005, 0.08, 0.6) = 0.00142836228886\n",
      "P(0.005, 0.095, 0.4) = 1.1529590413e-112\n",
      "P(0.005, 0.095, 0.5) = 1.80235106091e-104\n",
      "P(0.005, 0.095, 0.6) = 6.25090037616e-99\n",
      "P(0.006, 0.065, 0.4) = 9.44277832449e-39\n",
      "P(0.006, 0.065, 0.5) = 5.33382191906e-41\n",
      "P(0.006, 0.065, 0.6) = 1.21176017445e-50\n",
      "P(0.006, 0.08, 0.4) = 0.0198537651911\n",
      "P(0.006, 0.08, 0.5) = 0.978354323865\n",
      "P(0.006, 0.08, 0.6) = 0.000363545128305\n",
      "P(0.006, 0.095, 0.4) = 1.59799913641e-97\n",
      "P(0.006, 0.095, 0.5) = 2.06219927881e-94\n",
      "P(0.006, 0.095, 0.6) = 4.08125351409e-95\n",
      "P(0.007, 0.065, 0.4) = 2.88355490632e-59\n",
      "P(0.007, 0.065, 0.5) = 3.23279580077e-78\n",
      "P(0.007, 0.065, 0.6) = 3.6996574752e-107\n",
      "P(0.007, 0.08, 0.4) = 3.67783705188e-10\n",
      "P(0.007, 0.08, 0.5) = 4.39674914316e-19\n",
      "P(0.007, 0.08, 0.6) = 5.94870971324e-35\n",
      "P(0.007, 0.095, 0.4) = 8.79122270993e-100\n",
      "P(0.007, 0.095, 0.5) = 5.59652733537e-104\n",
      "P(0.007, 0.095, 0.6) = 2.33821646426e-113\n",
      "Sum: 1.0\n"
     ]
    }
   ],
   "source": [
    "def main():\n",
    "\n",
    "    # Trial conditions with format (valueLeft, valueRight). Change this\n",
    "    # according to the experiment.\n",
    "    trialConditions = [(0, 0), (0, 1), (0, 1), (0, 2), (0, 2), (0, 3),\n",
    "                       (1, 0), (1, 0), (1, 1), (1, 2), (1, 2), (1, 3),\n",
    "                       (2, 0), (2, 0), (2, 1), (2, 1), (2, 2), (2, 3),\n",
    "                       (3, 0), (3, 1), (3, 2)\n",
    "                      ]\n",
    "\n",
    "    # Load experimental data from CSV file.\n",
    "    if args.verbose:\n",
    "        print(\"Loading experimental data...\")\n",
    "    data = load_data_from_csv(\n",
    "        args.expdata_file_name, args.fixations_file_name,\n",
    "        convertItemValues=convert_item_values)\n",
    "\n",
    "    # Get fixation distributions.\n",
    "    if args.verbose:\n",
    "        print(\"Getting fixation distributions...\")\n",
    "    subjectIds = args.subject_ids if args.subject_ids else None\n",
    "    fixationData = get_empirical_distributions(data, subjectIds=subjectIds)\n",
    "\n",
    "    # Generate artificial data.\n",
    "    if args.verbose:\n",
    "        print(\"Generating artificial data...\")\n",
    "    model = aDDM(args.d, args.sigma, args.theta)\n",
    "    trials = list()\n",
    "    for (valueLeft, valueRight) in trialConditions:\n",
    "        for t in xrange(args.trials_per_condition):\n",
    "            try:\n",
    "                trials.append(\n",
    "                    model.simulate_trial(valueLeft, valueRight, fixationData))\n",
    "            except:\n",
    "                print(\"An exception occurred while generating artificial \" +\n",
    "                      \"trial \" + str(t) + \" for condition (\" + str(valueLeft) +\n",
    "                      \", \" + str(valueRight) + \").\")\n",
    "                raise\n",
    "\n",
    "    # Get likelihoods for all models and all artificial trials.\n",
    "    numModels = (len(args.range_d) * len(args.range_sigma) *\n",
    "                 len(args.range_theta))\n",
    "    likelihoods = dict()\n",
    "    models = list()\n",
    "    posteriors = dict()\n",
    "    for d in args.range_d:\n",
    "        for sigma in args.range_sigma:\n",
    "            for theta in args.range_theta:\n",
    "                model = aDDM(d, sigma, theta)\n",
    "                if args.verbose:\n",
    "                    print(\"Computing likelihoods for model \" +\n",
    "                          str(model.params) + \"...\")\n",
    "                try:\n",
    "                    likelihoods[model.params] = model.parallel_get_likelihoods(\n",
    "                        trials, numThreads=args.num_threads)\n",
    "                except:\n",
    "                    print(\"An exception occurred during the likelihood \" +\n",
    "                          \"computations for model \" + str(model.params) + \".\")\n",
    "                    raise\n",
    "                models.append(model)\n",
    "                posteriors[model.params] = 1. / numModels\n",
    "\n",
    "    # Compute the posteriors.\n",
    "    for t in xrange(len(trials)):\n",
    "        # Get the denominator for normalizing the posteriors.\n",
    "        denominator = 0\n",
    "        for model in models:\n",
    "            denominator += (posteriors[model.params] *\n",
    "                            likelihoods[model.params][t])\n",
    "        if denominator == 0:\n",
    "            continue\n",
    "\n",
    "        # Calculate the posteriors after this trial.\n",
    "        for model in models:\n",
    "            prior = posteriors[model.params]\n",
    "            posteriors[model.params] = (likelihoods[model.params][t] *\n",
    "                                        prior / denominator)\n",
    "\n",
    "    if args.verbose:\n",
    "        for model in models:\n",
    "            print(\"P\" + str(model.params) +  \" = \" +\n",
    "                  str(posteriors[model.params]))\n",
    "        print(\"Sum: \" + str(sum(posteriors.values())))\n",
    "\n",
    "\n",
    "if __name__ == \"__main__\":\n",
    "    main()"
   ]
  },
  {
   "cell_type": "code",
   "execution_count": 8,
   "metadata": {
    "ExecuteTime": {
     "end_time": "2017-10-19T16:14:54.801038Z",
     "start_time": "2017-10-19T16:14:54.794987Z"
    }
   },
   "outputs": [
    {
     "data": {
      "text/plain": [
       "addm.aDDM"
      ]
     },
     "execution_count": 8,
     "metadata": {},
     "output_type": "execute_result"
    }
   ],
   "source": [
    "aDDM"
   ]
  },
  {
   "cell_type": "code",
   "execution_count": 11,
   "metadata": {
    "ExecuteTime": {
     "end_time": "2017-09-04T21:25:14.433681Z",
     "start_time": "2017-09-04T21:25:14.406021Z"
    },
    "scrolled": true
   },
   "outputs": [
    {
     "ename": "NameError",
     "evalue": "name 'likelihoods' is not defined",
     "output_type": "error",
     "traceback": [
      "\u001b[0;31m---------------------------------------------------------------------------\u001b[0m",
      "\u001b[0;31mNameError\u001b[0m                                 Traceback (most recent call last)",
      "\u001b[0;32m<ipython-input-11-5c5dbce4e065>\u001b[0m in \u001b[0;36m<module>\u001b[0;34m()\u001b[0m\n\u001b[0;32m----> 1\u001b[0;31m \u001b[0mlikelihoods\u001b[0m\u001b[0;34m.\u001b[0m\u001b[0maDDM\u001b[0m\u001b[0;34m\u001b[0m\u001b[0m\n\u001b[0m",
      "\u001b[0;31mNameError\u001b[0m: name 'likelihoods' is not defined"
     ]
    }
   ],
   "source": []
  },
  {
   "cell_type": "code",
   "execution_count": null,
   "metadata": {
    "collapsed": true
   },
   "outputs": [],
   "source": []
  }
 ],
 "metadata": {
  "anaconda-cloud": {},
  "kernelspec": {
   "display_name": "Python [conda root]",
   "language": "python",
   "name": "conda-root-py"
  },
  "language_info": {
   "codemirror_mode": {
    "name": "ipython",
    "version": 2
   },
   "file_extension": ".py",
   "mimetype": "text/x-python",
   "name": "python",
   "nbconvert_exporter": "python",
   "pygments_lexer": "ipython2",
   "version": "2.7.12"
  },
  "toc": {
   "colors": {
    "hover_highlight": "#DAA520",
    "navigate_num": "#000000",
    "navigate_text": "#333333",
    "running_highlight": "#FF0000",
    "selected_highlight": "#FFD700",
    "sidebar_border": "#EEEEEE",
    "wrapper_background": "#FFFFFF"
   },
   "moveMenuLeft": true,
   "nav_menu": {
    "height": "66px",
    "width": "252px"
   },
   "navigate_menu": true,
   "number_sections": true,
   "sideBar": true,
   "threshold": 4,
   "toc_cell": true,
   "toc_section_display": "block",
   "toc_window_display": true,
   "widenNotebook": false
  },
  "varInspector": {
   "cols": {
    "lenName": 16,
    "lenType": 16,
    "lenVar": 40
   },
   "kernels_config": {
    "python": {
     "delete_cmd_postfix": "",
     "delete_cmd_prefix": "del ",
     "library": "var_list.py",
     "varRefreshCmd": "print(var_dic_list())"
    },
    "r": {
     "delete_cmd_postfix": ") ",
     "delete_cmd_prefix": "rm(",
     "library": "var_list.r",
     "varRefreshCmd": "cat(var_dic_list()) "
    }
   },
   "oldHeight": 186,
   "position": {
    "height": "40px",
    "left": "1065px",
    "right": "20px",
    "top": "120px",
    "width": "350px"
   },
   "types_to_exclude": [
    "module",
    "function",
    "builtin_function_or_method",
    "instance",
    "_Feature"
   ],
   "varInspector_section_display": "none",
   "window_display": true
  }
 },
 "nbformat": 4,
 "nbformat_minor": 1
}
