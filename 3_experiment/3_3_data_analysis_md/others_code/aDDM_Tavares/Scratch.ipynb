{
 "cells": [
  {
   "cell_type": "markdown",
   "metadata": {
    "toc": "true"
   },
   "source": [
    "# Table of Contents\n",
    " <p><div class=\"lev1 toc-item\"><a href=\"#Args\" data-toc-modified-id=\"Args-1\"><span class=\"toc-item-num\">1&nbsp;&nbsp;</span>Args</a></div>"
   ]
  },
  {
   "cell_type": "code",
   "execution_count": 2,
   "metadata": {
    "ExecuteTime": {
     "end_time": "2017-09-05T22:49:10.066520Z",
     "start_time": "2017-09-05T22:49:07.856151Z"
    },
    "collapsed": true
   },
   "outputs": [],
   "source": [
    "\"\"\"\n",
    "addm_mle.py\n",
    "Author: Gabriela Tavares, gtavares@caltech.edu\n",
    "\n",
    "Maximum likelihood estimation procedure for the attentional drift-diffusion\n",
    "model (aDDM), using a grid search over the 3 free parameters of the model. Data\n",
    "from all subjects is pooled such that a single set of optimal parameters is\n",
    "estimated (or from a subset of subjects, when provided).\n",
    "\n",
    "aDDM simulations are generated for the model with maximum estimated likelihood.\n",
    "\"\"\"\n",
    "\n",
    "import argparse\n",
    "import numpy as np\n",
    "import itertools\n",
    "\n",
    "from datetime import datetime\n",
    "from matplotlib.backends.backend_pdf import PdfPages\n",
    "\n",
    "from addm import aDDM\n",
    "from util import (load_data_from_csv, get_empirical_distributions,\n",
    "                  save_simulations_to_csv, generate_choice_curves,\n",
    "                  generate_rt_curves, convert_item_values)"
   ]
  },
  {
   "cell_type": "markdown",
   "metadata": {},
   "source": [
    "# Args"
   ]
  },
  {
   "cell_type": "code",
   "execution_count": 3,
   "metadata": {
    "ExecuteTime": {
     "end_time": "2017-09-05T22:49:10.124261Z",
     "start_time": "2017-09-05T22:49:10.085710Z"
    },
    "collapsed": true
   },
   "outputs": [],
   "source": [
    "class arguments:\n",
    "    \n",
    "    # \"--subject-ids\", nargs=\"+\", type=str, default=[],\n",
    "    # help= List of subject ids. If not provided, all\n",
    "    # existing subjects will be used.\n",
    "    subject_ids = []\n",
    "        \n",
    "    # \"--num-threads\", type=int, default=9,\n",
    "    # help= Size of the thread pool.\n",
    "    num_threads = 3\n",
    "    \n",
    "    # \"--trials-per-subject\", type=int, default=100,\n",
    "    # help= Number of trials from each subject to be used\n",
    "    # in the analysis; if smaller than 1, all trials are used.\n",
    "    trials_per_subject = None  # None to use all trials?\n",
    "    \n",
    "    # --simulations-per-condition\", type=int, default=800,\n",
    "    # help= Number of artificial data trials to be\n",
    "    # generated per trial condition.\n",
    "    simulations_per_condition = 100\n",
    "    \n",
    "    # \"--range-d\", nargs=\"+\", type=float, default=[0.005, 0.006, 0.007],\n",
    "    # help= Search range for parameter d.\n",
    "    range_d = [0.003, 0.006, 0.009]\n",
    "    \n",
    "    # \"--range-sigma\", nargs=\"+\", type=float, default=[0.065, 0.08, 0.095],\n",
    "    # help= Search range for parameter sigma.\n",
    "    range_sigma = [0.03, 0.06, 0.09]\n",
    "    \n",
    "    # \"--range-theta\", nargs=\"+\", type=float, default=[0.4, 0.5, 0.6],\n",
    "    # help= Search range for parameter theta.\n",
    "    range_theta = [0.3, 0.5, 0.7]\n",
    "    \n",
    "    # \"--expdata-file-name\", type=str, default=\"expdata.csv\",\n",
    "    # help= Name of experimental data file.\n",
    "    expdata_file_name = \"made_data/expdata.csv\"\n",
    "    \n",
    "    # \"--fixations-file-name\", type=str, default=\"fixations.csv\",\n",
    "    # help= Name of fixations file.\n",
    "    fixations_file_name = \"made_data/fixations.csv\"\n",
    "    \n",
    "    # \"--save-simulations\", default=False, action=\"store_true\", \n",
    "    # help= Save simulations to CSV.\n",
    "    save_simulations = True\n",
    "    \n",
    "    # \"--save-figures\", default=False, action=\"store_true\", \n",
    "    # help= Save figures comparing choice and RT curves for data and simulations.\n",
    "    save_figures = True\n",
    "    \n",
    "    # \"--verbose\", default=False, action=\"store_true\",\n",
    "    # help= Increase output verbosity.\n",
    "    verbose = True\n",
    "\n",
    "args = arguments()"
   ]
  },
  {
   "cell_type": "code",
   "execution_count": 4,
   "metadata": {
    "ExecuteTime": {
     "end_time": "2017-09-05T22:50:08.512243Z",
     "start_time": "2017-09-05T22:49:10.137108Z"
    },
    "collapsed": true
   },
   "outputs": [],
   "source": [
    "data = load_data_from_csv(\n",
    "    args.expdata_file_name, args.fixations_file_name,\n",
    "    convertItemValues=None)"
   ]
  },
  {
   "cell_type": "code",
   "execution_count": 5,
   "metadata": {
    "ExecuteTime": {
     "end_time": "2017-09-05T22:51:20.862822Z",
     "start_time": "2017-09-05T22:51:20.846903Z"
    },
    "collapsed": true
   },
   "outputs": [],
   "source": [
    "# Begin maximum likelihood estimation using odd trials only.\n",
    "# Get correct subset of trials.\n",
    "dataTrials = list()\n",
    "subjectIds = args.subject_ids if args.subject_ids else data.keys()\n",
    "for subjectId in subjectIds:\n",
    "    maxNumTrials = len(data[subjectId]) / 2\n",
    "    numTrials = (args.trials_per_subject\n",
    "                 if 1 <= args.trials_per_subject <= maxNumTrials\n",
    "                 else maxNumTrials)\n",
    "    trialSet = np.random.choice(\n",
    "        [trialId for trialId in range(len(data[subjectId]))\n",
    "         if trialId % 2],\n",
    "        numTrials, replace=False)\n",
    "    dataTrials.extend([data[subjectId][t] for t in trialSet])"
   ]
  },
  {
   "cell_type": "code",
   "execution_count": null,
   "metadata": {
    "collapsed": true
   },
   "outputs": [],
   "source": []
  }
 ],
 "metadata": {
  "anaconda-cloud": {},
  "kernelspec": {
   "display_name": "Python [conda root]",
   "language": "python",
   "name": "conda-root-py"
  },
  "language_info": {
   "codemirror_mode": {
    "name": "ipython",
    "version": 2
   },
   "file_extension": ".py",
   "mimetype": "text/x-python",
   "name": "python",
   "nbconvert_exporter": "python",
   "pygments_lexer": "ipython2",
   "version": "2.7.12"
  },
  "toc": {
   "colors": {
    "hover_highlight": "#DAA520",
    "navigate_num": "#000000",
    "navigate_text": "#333333",
    "running_highlight": "#FF0000",
    "selected_highlight": "#FFD700",
    "sidebar_border": "#EEEEEE",
    "wrapper_background": "#FFFFFF"
   },
   "moveMenuLeft": true,
   "nav_menu": {
    "height": "12px",
    "width": "252px"
   },
   "navigate_menu": true,
   "number_sections": true,
   "sideBar": true,
   "threshold": 4,
   "toc_cell": true,
   "toc_section_display": "block",
   "toc_window_display": true,
   "widenNotebook": false
  },
  "varInspector": {
   "cols": {
    "lenName": 16,
    "lenType": 16,
    "lenVar": 40
   },
   "kernels_config": {
    "python": {
     "delete_cmd_postfix": "",
     "delete_cmd_prefix": "del ",
     "library": "var_list.py",
     "varRefreshCmd": "print(var_dic_list())"
    },
    "r": {
     "delete_cmd_postfix": ") ",
     "delete_cmd_prefix": "rm(",
     "library": "var_list.r",
     "varRefreshCmd": "cat(var_dic_list()) "
    }
   },
   "types_to_exclude": [
    "module",
    "function",
    "builtin_function_or_method",
    "instance",
    "_Feature"
   ],
   "window_display": false
  }
 },
 "nbformat": 4,
 "nbformat_minor": 1
}
