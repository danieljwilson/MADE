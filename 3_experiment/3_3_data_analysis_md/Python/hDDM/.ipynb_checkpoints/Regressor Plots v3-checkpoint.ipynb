{
 "cells": [
  {
   "cell_type": "markdown",
   "metadata": {
    "toc": "true"
   },
   "source": [
    "# Table of Contents\n",
    " <p><div class=\"lev1 toc-item\"><a href=\"#Imports\" data-toc-modified-id=\"Imports-1\"><span class=\"toc-item-num\">1&nbsp;&nbsp;</span>Imports</a></div><div class=\"lev1 toc-item\"><a href=\"#Plots\" data-toc-modified-id=\"Plots-2\"><span class=\"toc-item-num\">2&nbsp;&nbsp;</span>Plots</a></div><div class=\"lev2 toc-item\"><a href=\"#Drift:-Measured-vs-Ideal\" data-toc-modified-id=\"Drift:-Measured-vs-Ideal-21\"><span class=\"toc-item-num\">2.1&nbsp;&nbsp;</span>Drift: Measured vs Ideal</a></div><div class=\"lev3 toc-item\"><a href=\"#Calculate-ideal-means-and-SD-at-mult-2-and-3\" data-toc-modified-id=\"Calculate-ideal-means-and-SD-at-mult-2-and-3-211\"><span class=\"toc-item-num\">2.1.1&nbsp;&nbsp;</span>Calculate ideal means and SD at mult 2 and 3</a></div><div class=\"lev3 toc-item\"><a href=\"#Plot-Drift-with-SD-error-bars\" data-toc-modified-id=\"Plot-Drift-with-SD-error-bars-212\"><span class=\"toc-item-num\">2.1.2&nbsp;&nbsp;</span>Plot Drift with SD error bars</a></div>"
   ]
  },
  {
   "cell_type": "markdown",
   "metadata": {},
   "source": [
    "# Imports"
   ]
  },
  {
   "cell_type": "code",
   "execution_count": 1,
   "metadata": {
    "ExecuteTime": {
     "end_time": "2017-10-05T09:47:18.503802Z",
     "start_time": "2017-10-05T09:47:15.721968Z"
    }
   },
   "outputs": [
    {
     "name": "stderr",
     "output_type": "stream",
     "text": [
      "/Users/djw/anaconda/lib/python2.7/site-packages/IPython/parallel.py:13: ShimWarning: The `IPython.parallel` package has been deprecated. You should import from ipyparallel instead.\n",
      "  \"You should import from ipyparallel instead.\", ShimWarning)\n"
     ]
    }
   ],
   "source": [
    "### UPDATED by Daniel J Wilson\n",
    "\n",
    "import hddm\n",
    "import pandas as pd\n",
    "import numpy as np\n",
    "import os,sys\n",
    "import matplotlib.pyplot as plt\n",
    "import pylab\n",
    "from scipy.stats import norm\n",
    "import seaborn as sns\n",
    "import scipy as sp"
   ]
  },
  {
   "cell_type": "markdown",
   "metadata": {},
   "source": [
    "# Plots"
   ]
  },
  {
   "cell_type": "markdown",
   "metadata": {},
   "source": [
    "## Drift: Measured vs Ideal "
   ]
  },
  {
   "cell_type": "markdown",
   "metadata": {},
   "source": [
    "### v2"
   ]
  },
  {
   "cell_type": "code",
   "execution_count": 14,
   "metadata": {
    "ExecuteTime": {
     "end_time": "2017-10-05T09:47:18.954520Z",
     "start_time": "2017-10-05T09:47:18.898212Z"
    },
    "collapsed": true
   },
   "outputs": [],
   "source": [
    "# Load data\n",
    "data = pd.read_csv(\"Analysis/HDDM/170913/Group/Desktop/stats_all_group_n23_reg3b_stats.csv\", index_col=0)\n",
    "\n",
    "# Note that this is actually the 3b model - DIC 24939.89...need to rerun the correct model..."
   ]
  },
  {
   "cell_type": "markdown",
   "metadata": {},
   "source": [
    "### v3"
   ]
  },
  {
   "cell_type": "code",
   "execution_count": null,
   "metadata": {
    "collapsed": true
   },
   "outputs": [],
   "source": [
    "# Load data\n",
    "data = pd.read_csv(\"Analysis/HDDM/171219/Group/TEST_made_reg_v4.1/stats_all_group_n29_reg0_stats.csv\", index_col=0)\n",
    "\n",
    "# Note that this is actually the 3b model - DIC 24939.89...need to rerun the correct model..."
   ]
  },
  {
   "cell_type": "markdown",
   "metadata": {},
   "source": [
    "### v4"
   ]
  },
  {
   "cell_type": "code",
   "execution_count": 18,
   "metadata": {
    "collapsed": true
   },
   "outputs": [],
   "source": [
    "# Load data\n",
    "data = pd.read_csv(\"Analysis/HDDM/171219/Group/TEST_made_reg_v4.1/stats_all_group_n29_reg0_stats.csv\", index_col=0)\n",
    "\n",
    "# Note that this is actually the 3b model - DIC 24939.89...need to rerun the correct model..."
   ]
  },
  {
   "cell_type": "code",
   "execution_count": 19,
   "metadata": {
    "ExecuteTime": {
     "end_time": "2017-10-05T09:47:19.401817Z",
     "start_time": "2017-10-05T09:47:19.321475Z"
    },
    "scrolled": false
   },
   "outputs": [
    {
     "data": {
      "text/html": [
       "<div>\n",
       "<table border=\"1\" class=\"dataframe\">\n",
       "  <thead>\n",
       "    <tr style=\"text-align: right;\">\n",
       "      <th></th>\n",
       "      <th>mean</th>\n",
       "      <th>std</th>\n",
       "      <th>2.5q</th>\n",
       "      <th>25q</th>\n",
       "      <th>50q</th>\n",
       "      <th>75q</th>\n",
       "      <th>97.5q</th>\n",
       "      <th>mc err</th>\n",
       "    </tr>\n",
       "  </thead>\n",
       "  <tbody>\n",
       "    <tr>\n",
       "      <th>a</th>\n",
       "      <td>4.355772</td>\n",
       "      <td>0.024295</td>\n",
       "      <td>4.309226</td>\n",
       "      <td>4.339371</td>\n",
       "      <td>4.355645</td>\n",
       "      <td>4.371646</td>\n",
       "      <td>4.404629</td>\n",
       "      <td>0.000529</td>\n",
       "    </tr>\n",
       "    <tr>\n",
       "      <th>z</th>\n",
       "      <td>0.501361</td>\n",
       "      <td>0.003682</td>\n",
       "      <td>0.494193</td>\n",
       "      <td>0.498842</td>\n",
       "      <td>0.501424</td>\n",
       "      <td>0.503831</td>\n",
       "      <td>0.508505</td>\n",
       "      <td>0.000083</td>\n",
       "    </tr>\n",
       "    <tr>\n",
       "      <th>v_Intercept</th>\n",
       "      <td>0.032223</td>\n",
       "      <td>0.007656</td>\n",
       "      <td>0.016939</td>\n",
       "      <td>0.027039</td>\n",
       "      <td>0.032272</td>\n",
       "      <td>0.037523</td>\n",
       "      <td>0.047348</td>\n",
       "      <td>0.000171</td>\n",
       "    </tr>\n",
       "    <tr>\n",
       "      <th>v_face_mult_1</th>\n",
       "      <td>0.529917</td>\n",
       "      <td>0.012045</td>\n",
       "      <td>0.507050</td>\n",
       "      <td>0.521592</td>\n",
       "      <td>0.529946</td>\n",
       "      <td>0.538306</td>\n",
       "      <td>0.553908</td>\n",
       "      <td>0.000198</td>\n",
       "    </tr>\n",
       "    <tr>\n",
       "      <th>v_house_mult_1</th>\n",
       "      <td>0.528381</td>\n",
       "      <td>0.012464</td>\n",
       "      <td>0.503561</td>\n",
       "      <td>0.519970</td>\n",
       "      <td>0.528429</td>\n",
       "      <td>0.537158</td>\n",
       "      <td>0.552271</td>\n",
       "      <td>0.000229</td>\n",
       "    </tr>\n",
       "  </tbody>\n",
       "</table>\n",
       "</div>"
      ],
      "text/plain": [
       "                    mean       std      2.5q       25q       50q       75q  \\\n",
       "a               4.355772  0.024295  4.309226  4.339371  4.355645  4.371646   \n",
       "z               0.501361  0.003682  0.494193  0.498842  0.501424  0.503831   \n",
       "v_Intercept     0.032223  0.007656  0.016939  0.027039  0.032272  0.037523   \n",
       "v_face_mult_1   0.529917  0.012045  0.507050  0.521592  0.529946  0.538306   \n",
       "v_house_mult_1  0.528381  0.012464  0.503561  0.519970  0.528429  0.537158   \n",
       "\n",
       "                   97.5q    mc err  \n",
       "a               4.404629  0.000529  \n",
       "z               0.508505  0.000083  \n",
       "v_Intercept     0.047348  0.000171  \n",
       "v_face_mult_1   0.553908  0.000198  \n",
       "v_house_mult_1  0.552271  0.000229  "
      ]
     },
     "execution_count": 19,
     "metadata": {},
     "output_type": "execute_result"
    }
   ],
   "source": [
    "data.head()"
   ]
  },
  {
   "cell_type": "code",
   "execution_count": 20,
   "metadata": {
    "ExecuteTime": {
     "end_time": "2017-10-05T09:47:19.693443Z",
     "start_time": "2017-10-05T09:47:19.679163Z"
    }
   },
   "outputs": [
    {
     "data": {
      "text/plain": [
       "0.032223325459894626"
      ]
     },
     "execution_count": 20,
     "metadata": {},
     "output_type": "execute_result"
    }
   ],
   "source": [
    "# Should be adding v intercept to v values?\n",
    "\n",
    "v_int = data.loc['v_Intercept', 'mean']\n",
    "v_int"
   ]
  },
  {
   "cell_type": "markdown",
   "metadata": {},
   "source": [
    "### Calculate ideal means and SD at mult 2 and 3"
   ]
  },
  {
   "cell_type": "code",
   "execution_count": 21,
   "metadata": {
    "ExecuteTime": {
     "end_time": "2017-10-05T09:47:20.081011Z",
     "start_time": "2017-10-05T09:47:20.016470Z"
    }
   },
   "outputs": [
    {
     "data": {
      "text/html": [
       "<div>\n",
       "<table border=\"1\" class=\"dataframe\">\n",
       "  <thead>\n",
       "    <tr style=\"text-align: right;\">\n",
       "      <th></th>\n",
       "      <th>meanFace</th>\n",
       "      <th>sdFace</th>\n",
       "      <th>meanHouse</th>\n",
       "      <th>sdHouse</th>\n",
       "    </tr>\n",
       "  </thead>\n",
       "  <tbody>\n",
       "    <tr>\n",
       "      <th>1</th>\n",
       "      <td>0</td>\n",
       "      <td>0</td>\n",
       "      <td>0</td>\n",
       "      <td>0</td>\n",
       "    </tr>\n",
       "    <tr>\n",
       "      <th>2</th>\n",
       "      <td>0</td>\n",
       "      <td>0</td>\n",
       "      <td>0</td>\n",
       "      <td>0</td>\n",
       "    </tr>\n",
       "    <tr>\n",
       "      <th>3</th>\n",
       "      <td>0</td>\n",
       "      <td>0</td>\n",
       "      <td>0</td>\n",
       "      <td>0</td>\n",
       "    </tr>\n",
       "  </tbody>\n",
       "</table>\n",
       "</div>"
      ],
      "text/plain": [
       "   meanFace  sdFace  meanHouse  sdHouse\n",
       "1         0       0          0        0\n",
       "2         0       0          0        0\n",
       "3         0       0          0        0"
      ]
     },
     "execution_count": 21,
     "metadata": {},
     "output_type": "execute_result"
    }
   ],
   "source": [
    "columns = ['meanFace', 'sdFace', 'meanHouse', 'sdHouse']\n",
    "index = [1,2,3]\n",
    "df = pd.DataFrame(index=index, columns=columns)\n",
    "df = df.fillna(0) # with 0s rather than NaNs\n",
    "df"
   ]
  },
  {
   "cell_type": "code",
   "execution_count": 22,
   "metadata": {
    "ExecuteTime": {
     "end_time": "2017-10-05T09:47:20.836557Z",
     "start_time": "2017-10-05T09:47:20.730253Z"
    },
    "scrolled": true
   },
   "outputs": [
    {
     "data": {
      "text/html": [
       "<div>\n",
       "<table border=\"1\" class=\"dataframe\">\n",
       "  <thead>\n",
       "    <tr style=\"text-align: right;\">\n",
       "      <th></th>\n",
       "      <th>meanFace</th>\n",
       "      <th>sdFace</th>\n",
       "      <th>meanHouse</th>\n",
       "      <th>sdHouse</th>\n",
       "    </tr>\n",
       "  </thead>\n",
       "  <tbody>\n",
       "    <tr>\n",
       "      <th>1</th>\n",
       "      <td>0.562141</td>\n",
       "      <td>0.012045</td>\n",
       "      <td>0.560605</td>\n",
       "      <td>0.012464</td>\n",
       "    </tr>\n",
       "    <tr>\n",
       "      <th>2</th>\n",
       "      <td>1.092058</td>\n",
       "      <td>0.024090</td>\n",
       "      <td>1.088986</td>\n",
       "      <td>0.024927</td>\n",
       "    </tr>\n",
       "    <tr>\n",
       "      <th>3</th>\n",
       "      <td>1.621975</td>\n",
       "      <td>0.036136</td>\n",
       "      <td>1.617368</td>\n",
       "      <td>0.037391</td>\n",
       "    </tr>\n",
       "  </tbody>\n",
       "</table>\n",
       "</div>"
      ],
      "text/plain": [
       "   meanFace    sdFace  meanHouse   sdHouse\n",
       "1  0.562141  0.012045   0.560605  0.012464\n",
       "2  1.092058  0.024090   1.088986  0.024927\n",
       "3  1.621975  0.036136   1.617368  0.037391"
      ]
     },
     "execution_count": 22,
     "metadata": {},
     "output_type": "execute_result"
    }
   ],
   "source": [
    "df.iloc[0,0] = data.loc['v_face_mult_1', 'mean'] + v_int\n",
    "df.iloc[0,1] = data.loc['v_face_mult_1', 'std']\n",
    "df.iloc[0,2] = data.loc['v_house_mult_1', 'mean']+ v_int\n",
    "df.iloc[0,3] = data.loc['v_house_mult_1', 'std']\n",
    "\n",
    "df.iloc[1,0] = data.loc['v_face_mult_1', 'mean'] * 2+ v_int\n",
    "df.iloc[1,1] = data.loc['v_face_mult_1', 'std'] * 2\n",
    "df.iloc[1,2] = data.loc['v_house_mult_1', 'mean'] * 2+ v_int\n",
    "df.iloc[1,3] = data.loc['v_house_mult_1', 'std'] * 2\n",
    "\n",
    "df.iloc[2,0] = data.loc['v_face_mult_1', 'mean'] * 3+ v_int\n",
    "df.iloc[2,1] = data.loc['v_face_mult_1', 'std'] * 3\n",
    "df.iloc[2,2] = data.loc['v_house_mult_1', 'mean'] * 3+ v_int\n",
    "df.iloc[2,3] = data.loc['v_house_mult_1', 'std'] *3\n",
    "\n",
    "df"
   ]
  },
  {
   "cell_type": "code",
   "execution_count": 23,
   "metadata": {
    "ExecuteTime": {
     "end_time": "2017-10-05T09:47:21.281683Z",
     "start_time": "2017-10-05T09:47:21.270188Z"
    }
   },
   "outputs": [
    {
     "data": {
      "text/plain": [
       "0.020668787305550381"
      ]
     },
     "execution_count": 23,
     "metadata": {},
     "output_type": "execute_result"
    }
   ],
   "source": [
    "data.loc['v_face_mult_2', 'std']"
   ]
  },
  {
   "cell_type": "code",
   "execution_count": 24,
   "metadata": {
    "ExecuteTime": {
     "end_time": "2017-10-05T09:47:21.950226Z",
     "start_time": "2017-10-05T09:47:21.902667Z"
    }
   },
   "outputs": [
    {
     "data": {
      "text/plain": [
       "Ttest_indResult(statistic=-67.156569000480033, pvalue=5.6372182420595771e-46)"
      ]
     },
     "execution_count": 24,
     "metadata": {},
     "output_type": "execute_result"
    }
   ],
   "source": [
    "# scipy.stats.ttest_ind_from_stats(mean1(measured), std1, nobs1, mean2(ideal), std2, nobs2, equal_var=True)\n",
    "\n",
    "# Face Mult = 2\n",
    "sp.stats.ttest_ind_from_stats(data.loc['v_face_mult_2', 'mean'], data.loc['v_face_mult_2', 'std'], 23,\n",
    "                             df.iloc[1,0], df.iloc[1,1], 23)"
   ]
  },
  {
   "cell_type": "code",
   "execution_count": 25,
   "metadata": {
    "ExecuteTime": {
     "end_time": "2017-10-05T09:47:22.369656Z",
     "start_time": "2017-10-05T09:47:22.353750Z"
    }
   },
   "outputs": [
    {
     "data": {
      "text/plain": [
       "Ttest_indResult(statistic=-69.0970375804133, pvalue=1.6283448881935469e-46)"
      ]
     },
     "execution_count": 25,
     "metadata": {},
     "output_type": "execute_result"
    }
   ],
   "source": [
    "# House Mult = 2\n",
    "sp.stats.ttest_ind_from_stats(data.loc['v_house_mult_2', 'mean'], data.loc['v_house_mult_2', 'std'], 23,\n",
    "                             df.iloc[1,2], df.iloc[1,3], 23)"
   ]
  },
  {
   "cell_type": "code",
   "execution_count": 26,
   "metadata": {
    "ExecuteTime": {
     "end_time": "2017-10-05T09:47:22.740987Z",
     "start_time": "2017-10-05T09:47:22.700778Z"
    }
   },
   "outputs": [
    {
     "data": {
      "text/plain": [
       "Ttest_indResult(statistic=-102.0364116505507, pvalue=6.4425821945055423e-54)"
      ]
     },
     "execution_count": 26,
     "metadata": {},
     "output_type": "execute_result"
    }
   ],
   "source": [
    "# Face Mult = 3\n",
    "sp.stats.ttest_ind_from_stats(data.loc['v_face_mult_3', 'mean'], data.loc['v_face_mult_3', 'std'], 23,\n",
    "                             df.iloc[2,0], df.iloc[2,1], 23)"
   ]
  },
  {
   "cell_type": "code",
   "execution_count": 27,
   "metadata": {
    "ExecuteTime": {
     "end_time": "2017-10-05T09:47:23.221494Z",
     "start_time": "2017-10-05T09:47:23.184231Z"
    }
   },
   "outputs": [
    {
     "data": {
      "text/plain": [
       "Ttest_indResult(statistic=-94.980117791295555, pvalue=1.4872677084262666e-52)"
      ]
     },
     "execution_count": 27,
     "metadata": {},
     "output_type": "execute_result"
    }
   ],
   "source": [
    "# House Mult = 3\n",
    "sp.stats.ttest_ind_from_stats(data.loc['v_house_mult_3', 'mean'], data.loc['v_house_mult_3', 'std'], 23,\n",
    "                             df.iloc[2,2], df.iloc[2,3], 23)"
   ]
  },
  {
   "cell_type": "markdown",
   "metadata": {},
   "source": [
    "### Plot Drift with SD error bars"
   ]
  },
  {
   "cell_type": "code",
   "execution_count": 28,
   "metadata": {
    "ExecuteTime": {
     "end_time": "2017-10-05T10:00:54.788990Z",
     "start_time": "2017-10-05T10:00:54.783201Z"
    }
   },
   "outputs": [
    {
     "name": "stdout",
     "output_type": "stream",
     "text": [
      "[u'seaborn-darkgrid', u'seaborn-notebook', u'classic', u'seaborn-ticks', u'grayscale', u'bmh', u'seaborn-talk', u'dark_background', u'ggplot', u'fivethirtyeight', u'seaborn-colorblind', u'seaborn-deep', u'seaborn-whitegrid', u'seaborn-bright', u'seaborn-poster', u'seaborn-muted', u'seaborn-paper', u'seaborn-white', u'seaborn-pastel', u'seaborn-dark', u'seaborn-dark-palette']\n"
     ]
    }
   ],
   "source": [
    "print(plt.style.available)"
   ]
  },
  {
   "cell_type": "code",
   "execution_count": 32,
   "metadata": {
    "ExecuteTime": {
     "end_time": "2017-10-05T10:12:30.106284Z",
     "start_time": "2017-10-05T10:12:29.536354Z"
    },
    "scrolled": false
   },
   "outputs": [
    {
     "data": {
      "image/png": "[encoded data removed]",
      "text/plain": [
       "<matplotlib.figure.Figure at 0x110d37050>"
      ]
     },
     "metadata": {},
     "output_type": "display_data"
    }
   ],
   "source": [
    "#plt.rcParams['axes.facecolor'] = 'white'\n",
    "plt.style.use('seaborn-whitegrid')\n",
    "\n",
    "initValFace = data.loc['v_face_mult_1', 'mean'] + v_int\n",
    "initValHouse = data.loc['v_house_mult_1', 'mean'] + v_int\n",
    "x = np.linspace(0.5,3.5,1000)\n",
    "\n",
    "# Ideal Values\n",
    "yFace = x*initValFace\n",
    "yHouse = x*initValHouse\n",
    "\n",
    "# Actual Values\n",
    "xMult = np.array([1,2,3]) \n",
    "yFaceActual = np.array([data.loc['v_face_mult_1', 'mean'] + v_int, \n",
    "                        data.loc['v_face_mult_2', 'mean'] + v_int,\n",
    "                        data.loc['v_face_mult_3', 'mean'] + v_int])\n",
    "yHouseActual = np.array([data.loc['v_house_mult_1', 'mean'] + v_int,\n",
    "                         data.loc['v_house_mult_2', 'mean'] + v_int,\n",
    "                         data.loc['v_house_mult_3', 'mean'] + v_int])\n",
    "\n",
    "# SD\n",
    "eFace = np.array([data.loc['v_face_mult_1', 'std'], data.loc['v_face_mult_2', 'std'], data.loc['v_face_mult_3', 'std']])\n",
    "eHouse = np.array([data.loc['v_house_mult_1', 'std'], data.loc['v_house_mult_2', 'std'], data.loc['v_house_mult_3', 'std']])\n",
    "\n",
    "# PLOT\n",
    "\n",
    "# Idealized weighting\n",
    "#ideal_line1, = plt.plot(x,yFace, linestyle='--', label = \"Ideal Face Re-weighting\")\n",
    "#ideal_line2, = plt.plot(x,yHouse, linestyle= '--', label = \"Ideal House Re-weighting\")\n",
    "ideal_line3, = plt.plot(x,(yHouse + yFace)/2, linestyle= '--', label = \"Ideal Attribute Re-weighting\", linewidth = \"1.5\")\n",
    "\n",
    "# Starting dots\n",
    "# plt.plot(1,data.loc['v_face_mult_1', 'mean'] + v_int, marker='o', label = \"Face Weight: Mult = 1\")\n",
    "# plt.plot(1,data.loc['v_house_mult_1', 'mean'] + v_int, marker='o', label = \"House Weight: House = 1\")\n",
    "\n",
    "# Actual weighting\n",
    "plt.errorbar(xMult, yFaceActual, eFace, linestyle='-', fmt='o', label = \"Actual Face Re-weighting\")\n",
    "plt.errorbar(xMult, yHouseActual, eHouse, linestyle='-', fmt='o', label = \"Actual House Re-weighting\")\n",
    "\n",
    "plt.xlabel(\"Multiplier Value\", fontsize = 24)\n",
    "plt.ylabel(\"Weighting\", fontsize = 24)\n",
    "plt.xticks(np.arange(1, 4, 1))\n",
    "plt.tick_params(\n",
    "    axis='both',          # changes apply to the x-axis\n",
    "    which='both',      # both major and minor ticks are affected\n",
    "    right='off',      # ticks along the bottom edge are off\n",
    "    top='off')         # ticks along the top edge are off\n",
    "\n",
    "plt.legend(loc = 4)\n",
    "plt.show()\n",
    "plt.close()\n",
    "#plt.savefig('/Users/djw/Desktop/weighting.pdf', bbox_inches='tight')\n",
    "\n",
    "# savefig('plt.png', facecolor=fig.get_facecolor(), transparent=True)"
   ]
  },
  {
   "cell_type": "code",
   "execution_count": null,
   "metadata": {
    "collapsed": true
   },
   "outputs": [],
   "source": []
  },
  {
   "cell_type": "code",
   "execution_count": 14,
   "metadata": {
    "ExecuteTime": {
     "end_time": "2017-09-13T17:22:31.982189Z",
     "start_time": "2017-09-13T17:22:31.975375Z"
    },
    "collapsed": true
   },
   "outputs": [],
   "source": [
    "mean = data.loc['v_face_mult_1', 'mean']\n",
    "sd = data.loc['v_face_mult_1', 'std']"
   ]
  },
  {
   "cell_type": "code",
   "execution_count": 19,
   "metadata": {
    "ExecuteTime": {
     "end_time": "2017-09-13T17:25:02.398998Z",
     "start_time": "2017-09-13T17:25:02.214889Z"
    }
   },
   "outputs": [
    {
     "data": {
      "image/png": "[encoded data removed]",
      "text/plain": [
       "<matplotlib.figure.Figure at 0x113d97a10>"
      ]
     },
     "metadata": {},
     "output_type": "display_data"
    }
   ],
   "source": [
    "x = np.linspace(0,2,1000)\n",
    "mean = data.loc['v_face_mult_1', 'mean']\n",
    "sd = data.loc['v_face_mult_1', 'std']\n",
    "y1 = norm.pdf(x, loc=mean, scale=sd)    # mean = loc, sd = scale\n",
    "mean = data.loc['v_house_mult_1', 'mean']\n",
    "sd = data.loc['v_house_mult_1', 'std']\n",
    "y2 = norm.pdf(x, loc=mean, scale=sd)    # mean = loc, sd = scale\n",
    "pylab.plot(x,y1)\n",
    "pylab.plot(x,y2)\n",
    "pylab.show()"
   ]
  },
  {
   "cell_type": "code",
   "execution_count": null,
   "metadata": {
    "collapsed": true
   },
   "outputs": [],
   "source": []
  }
 ],
 "metadata": {
  "anaconda-cloud": {},
  "kernelspec": {
   "display_name": "Python [default]",
   "language": "python",
   "name": "python2"
  },
  "language_info": {
   "codemirror_mode": {
    "name": "ipython",
    "version": 2
   },
   "file_extension": ".py",
   "mimetype": "text/x-python",
   "name": "python",
   "nbconvert_exporter": "python",
   "pygments_lexer": "ipython2",
   "version": "2.7.12"
  },
  "toc": {
   "colors": {
    "hover_highlight": "#DAA520",
    "navigate_num": "#000000",
    "navigate_text": "#333333",
    "running_highlight": "#FF0000",
    "selected_highlight": "#FFD700",
    "sidebar_border": "#EEEEEE",
    "wrapper_background": "#FFFFFF"
   },
   "moveMenuLeft": true,
   "nav_menu": {
    "height": "66px",
    "width": "252px"
   },
   "navigate_menu": true,
   "number_sections": true,
   "sideBar": true,
   "threshold": 4,
   "toc_cell": true,
   "toc_section_display": "block",
   "toc_window_display": true,
   "widenNotebook": false
  },
  "varInspector": {
   "cols": {
    "lenName": 16,
    "lenType": 16,
    "lenVar": 40
   },
   "kernels_config": {
    "python": {
     "delete_cmd_postfix": "",
     "delete_cmd_prefix": "del ",
     "library": "var_list.py",
     "varRefreshCmd": "print(var_dic_list())"
    },
    "r": {
     "delete_cmd_postfix": ") ",
     "delete_cmd_prefix": "rm(",
     "library": "var_list.r",
     "varRefreshCmd": "cat(var_dic_list()) "
    }
   },
   "types_to_exclude": [
    "module",
    "function",
    "builtin_function_or_method",
    "instance",
    "_Feature"
   ],
   "window_display": false
  }
 },
 "nbformat": 4,
 "nbformat_minor": 1
}
