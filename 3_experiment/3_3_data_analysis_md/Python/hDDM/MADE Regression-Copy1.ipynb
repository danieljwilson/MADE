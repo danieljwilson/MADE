{
 "cells": [
  {
   "cell_type": "markdown",
   "metadata": {
    "toc": "true"
   },
   "source": [
    "<h1>Table of Contents<span class=\"tocSkip\"></span></h1>\n",
    "<div class=\"toc\"><ul class=\"toc-item\"><li><span><a href=\"#Import-Libraries\" data-toc-modified-id=\"Import-Libraries-1\"><span class=\"toc-item-num\">1&nbsp;&nbsp;</span>Import Libraries</a></span></li><li><span><a href=\"#Paths\" data-toc-modified-id=\"Paths-2\"><span class=\"toc-item-num\">2&nbsp;&nbsp;</span>Paths</a></span></li><li><span><a href=\"#Group-Model\" data-toc-modified-id=\"Group-Model-3\"><span class=\"toc-item-num\">3&nbsp;&nbsp;</span>Group Model</a></span><ul class=\"toc-item\"><li><span><a href=\"#Load-Data\" data-toc-modified-id=\"Load-Data-3.1\"><span class=\"toc-item-num\">3.1&nbsp;&nbsp;</span>Load Data</a></span><ul class=\"toc-item\"><li><span><a href=\"#V2\" data-toc-modified-id=\"V2-3.1.1\"><span class=\"toc-item-num\">3.1.1&nbsp;&nbsp;</span>V2</a></span></li><li><span><a href=\"#V3\" data-toc-modified-id=\"V3-3.1.2\"><span class=\"toc-item-num\">3.1.2&nbsp;&nbsp;</span>V3</a></span></li><li><span><a href=\"#V4\" data-toc-modified-id=\"V4-3.1.3\"><span class=\"toc-item-num\">3.1.3&nbsp;&nbsp;</span>V4</a></span></li><li><span><a href=\"#Imported-DF\" data-toc-modified-id=\"Imported-DF-3.1.4\"><span class=\"toc-item-num\">3.1.4&nbsp;&nbsp;</span>Imported DF</a></span></li></ul></li><li><span><a href=\"#Create-Regressor-Columns\" data-toc-modified-id=\"Create-Regressor-Columns-3.2\"><span class=\"toc-item-num\">3.2&nbsp;&nbsp;</span>Create Regressor Columns</a></span></li><li><span><a href=\"#Separate-Regressors\" data-toc-modified-id=\"Separate-Regressors-3.3\"><span class=\"toc-item-num\">3.3&nbsp;&nbsp;</span>Separate Regressors</a></span><ul class=\"toc-item\"><li><span><a href=\"#v2\" data-toc-modified-id=\"v2-3.3.1\"><span class=\"toc-item-num\">3.3.1&nbsp;&nbsp;</span>v2</a></span></li><li><span><a href=\"#v3\" data-toc-modified-id=\"v3-3.3.2\"><span class=\"toc-item-num\">3.3.2&nbsp;&nbsp;</span>v3</a></span></li><li><span><a href=\"#v4\" data-toc-modified-id=\"v4-3.3.3\"><span class=\"toc-item-num\">3.3.3&nbsp;&nbsp;</span>v4</a></span></li><li><span><a href=\"#New-DF\" data-toc-modified-id=\"New-DF-3.3.4\"><span class=\"toc-item-num\">3.3.4&nbsp;&nbsp;</span>New DF</a></span></li></ul></li><li><span><a href=\"#Convert-Choices\" data-toc-modified-id=\"Convert-Choices-3.4\"><span class=\"toc-item-num\">3.4&nbsp;&nbsp;</span>Convert Choices</a></span></li><li><span><a href=\"#Confidence\" data-toc-modified-id=\"Confidence-3.5\"><span class=\"toc-item-num\">3.5&nbsp;&nbsp;</span>Confidence</a></span></li></ul></li><li><span><a href=\"#Regressor\" data-toc-modified-id=\"Regressor-4\"><span class=\"toc-item-num\">4&nbsp;&nbsp;</span>Regressor</a></span><ul class=\"toc-item\"><li><span><a href=\"#v2-Models\" data-toc-modified-id=\"v2-Models-4.1\"><span class=\"toc-item-num\">4.1&nbsp;&nbsp;</span>v2 Models</a></span><ul class=\"toc-item\"><li><span><a href=\"#v-~-abs(Net-Value)\" data-toc-modified-id=\"v-~-abs(Net-Value)-4.1.1\"><span class=\"toc-item-num\">4.1.1&nbsp;&nbsp;</span>v ~ abs(Net Value)</a></span></li><li><span><a href=\"#v-~-abs(Net-Value)-||-a-~-abs(Net-Value)\" data-toc-modified-id=\"v-~-abs(Net-Value)-||-a-~-abs(Net-Value)-4.1.2\"><span class=\"toc-item-num\">4.1.2&nbsp;&nbsp;</span>v ~ abs(Net Value) || a ~ abs(Net Value)</a></span></li><li><span><a href=\"#v-~-abs(Net-Value)-||-t-~-swapAmount\" data-toc-modified-id=\"v-~-abs(Net-Value)-||-t-~-swapAmount-4.1.3\"><span class=\"toc-item-num\">4.1.3&nbsp;&nbsp;</span>v ~ abs(Net Value) || t ~ swapAmount</a></span></li><li><span><a href=\"#v-~-Net-Value-||-a-~-multNum\" data-toc-modified-id=\"v-~-Net-Value-||-a-~-multNum-4.1.4\"><span class=\"toc-item-num\">4.1.4&nbsp;&nbsp;</span>v ~ Net Value || a ~ multNum</a></span></li><li><span><a href=\"#v-~-abs(Net-Value)-||-a-~-multNum\" data-toc-modified-id=\"v-~-abs(Net-Value)-||-a-~-multNum-4.1.5\"><span class=\"toc-item-num\">4.1.5&nbsp;&nbsp;</span>v ~ abs(Net Value) || a ~ multNum</a></span></li><li><span><a href=\"#v-~-Net-Value-||-a-~-multNum-||-t-~-swapAmount\" data-toc-modified-id=\"v-~-Net-Value-||-a-~-multNum-||-t-~-swapAmount-4.1.6\"><span class=\"toc-item-num\">4.1.6&nbsp;&nbsp;</span>v ~ Net Value || a ~ multNum || t ~ swapAmount</a></span></li><li><span><a href=\"#v-~-faceVal-+-houseVal-||-a-~-multNum\" data-toc-modified-id=\"v-~-faceVal-+-houseVal-||-a-~-multNum-4.1.7\"><span class=\"toc-item-num\">4.1.7&nbsp;&nbsp;</span>v ~ faceVal + houseVal || a ~ multNum</a></span></li><li><span><a href=\"#v-~-face-Value-+-house-Value-||-a-~-multNum-||-t-~-swapAmount\" data-toc-modified-id=\"v-~-face-Value-+-house-Value-||-a-~-multNum-||-t-~-swapAmount-4.1.8\"><span class=\"toc-item-num\">4.1.8&nbsp;&nbsp;</span>v ~ face Value + house Value || a ~ multNum || t ~ swapAmount</a></span></li><li><span><a href=\"#v-~-6-Regressor-||-a-~-multNum\" data-toc-modified-id=\"v-~-6-Regressor-||-a-~-multNum-4.1.9\"><span class=\"toc-item-num\">4.1.9&nbsp;&nbsp;</span>v ~ 6 Regressor || a ~ multNum</a></span></li><li><span><a href=\"#v-~-6-regressor-||-a-~-multNum-||-t-~-swapAmount\" data-toc-modified-id=\"v-~-6-regressor-||-a-~-multNum-||-t-~-swapAmount-4.1.10\"><span class=\"toc-item-num\">4.1.10&nbsp;&nbsp;</span>v ~ 6 regressor || a ~ multNum || t ~ swapAmount</a></span></li></ul></li><li><span><a href=\"#v4-Models\" data-toc-modified-id=\"v4-Models-4.2\"><span class=\"toc-item-num\">4.2&nbsp;&nbsp;</span>v4 Models</a></span><ul class=\"toc-item\"><li><span><a href=\"#v-~-abs(Net-Value)\" data-toc-modified-id=\"v-~-abs(Net-Value)-4.2.1\"><span class=\"toc-item-num\">4.2.1&nbsp;&nbsp;</span>v ~ abs(Net Value)</a></span></li><li><span><a href=\"#v-~-abs(Net-Value)-||-a-~-abs(Net-Value)\" data-toc-modified-id=\"v-~-abs(Net-Value)-||-a-~-abs(Net-Value)-4.2.2\"><span class=\"toc-item-num\">4.2.2&nbsp;&nbsp;</span>v ~ abs(Net Value) || a ~ abs(Net Value)</a></span></li><li><span><a href=\"#v-~-abs(Net-Value)-||-t-~-swapAmount\" data-toc-modified-id=\"v-~-abs(Net-Value)-||-t-~-swapAmount-4.2.3\"><span class=\"toc-item-num\">4.2.3&nbsp;&nbsp;</span>v ~ abs(Net Value) || t ~ swapAmount</a></span></li><li><span><a href=\"#v-~-Net-Value-||-a-~-multNum-||-t-~-swapAmount\" data-toc-modified-id=\"v-~-Net-Value-||-a-~-multNum-||-t-~-swapAmount-4.2.4\"><span class=\"toc-item-num\">4.2.4&nbsp;&nbsp;</span>v ~ Net Value || a ~ multNum || t ~ swapAmount</a></span></li><li><span><a href=\"#v-~-6-regressor-||-t-~-fix_num\" data-toc-modified-id=\"v-~-6-regressor-||-t-~-fix_num-4.2.5\"><span class=\"toc-item-num\">4.2.5&nbsp;&nbsp;</span>v ~ 6 regressor || t ~ fix_num</a></span></li><li><span><a href=\"#v-~-6-regressor-||-a-~-mult_num-||-t-~-fix_num\" data-toc-modified-id=\"v-~-6-regressor-||-a-~-mult_num-||-t-~-fix_num-4.2.6\"><span class=\"toc-item-num\">4.2.6&nbsp;&nbsp;</span>v ~ 6 regressor || a ~ mult_num || t ~ fix_num</a></span></li></ul></li><li><span><a href=\"#v3-Models\" data-toc-modified-id=\"v3-Models-4.3\"><span class=\"toc-item-num\">4.3&nbsp;&nbsp;</span>v3 Models</a></span><ul class=\"toc-item\"><li><span><a href=\"#v-~-6-regressor-||-a-~-mult_num-||-t-~-fix_num\" data-toc-modified-id=\"v-~-6-regressor-||-a-~-mult_num-||-t-~-fix_num-4.3.1\"><span class=\"toc-item-num\">4.3.1&nbsp;&nbsp;</span>v ~ 6 regressor || a ~ mult_num || t ~ fix_num</a></span></li></ul></li><li><span><a href=\"#PPC\" data-toc-modified-id=\"PPC-4.4\"><span class=\"toc-item-num\">4.4&nbsp;&nbsp;</span>PPC</a></span></li><li><span><a href=\"#Save-Posterior-Plots\" data-toc-modified-id=\"Save-Posterior-Plots-4.5\"><span class=\"toc-item-num\">4.5&nbsp;&nbsp;</span>Save Posterior Plots</a></span></li></ul></li><li><span><a href=\"#PLOT\" data-toc-modified-id=\"PLOT-5\"><span class=\"toc-item-num\">5&nbsp;&nbsp;</span>PLOT</a></span><ul class=\"toc-item\"><li><span><a href=\"#Drift-Rates\" data-toc-modified-id=\"Drift-Rates-5.1\"><span class=\"toc-item-num\">5.1&nbsp;&nbsp;</span>Drift Rates</a></span></li></ul></li><li><span><a href=\"#Hypothesis-Testing\" data-toc-modified-id=\"Hypothesis-Testing-6\"><span class=\"toc-item-num\">6&nbsp;&nbsp;</span>Hypothesis Testing</a></span><ul class=\"toc-item\"><li><span><a href=\"#Difference-in-v\" data-toc-modified-id=\"Difference-in-v-6.1\"><span class=\"toc-item-num\">6.1&nbsp;&nbsp;</span>Difference in v</a></span></li></ul></li></ul></div>"
   ]
  },
  {
   "cell_type": "markdown",
   "metadata": {},
   "source": [
    "# Import Libraries"
   ]
  },
  {
   "cell_type": "code",
   "execution_count": 1,
   "metadata": {
    "ExecuteTime": {
     "end_time": "2017-09-15T11:39:41.813855Z",
     "start_time": "2017-09-15T11:39:39.893221Z"
    }
   },
   "outputs": [
    {
     "name": "stderr",
     "output_type": "stream",
     "text": [
      "/Users/djw/anaconda/lib/python2.7/site-packages/IPython/parallel.py:13: ShimWarning: The `IPython.parallel` package has been deprecated. You should import from ipyparallel instead.\n",
      "  \"You should import from ipyparallel instead.\", ShimWarning)\n"
     ]
    }
   ],
   "source": [
    "###HDDM SCRIPT: JOHN CLITHERO###\n",
    "###UPDATED: 23 March 2016###\n",
    "\n",
    "### UPDATED by Daniel J Wilson\n",
    "\n",
    "import hddm\n",
    "import pandas as pd\n",
    "import numpy as np\n",
    "import os,sys\n",
    "import matplotlib.pyplot as plt"
   ]
  },
  {
   "cell_type": "markdown",
   "metadata": {},
   "source": [
    "# Paths"
   ]
  },
  {
   "cell_type": "code",
   "execution_count": 3,
   "metadata": {
    "ExecuteTime": {
     "end_time": "2017-09-15T11:39:41.835878Z",
     "start_time": "2017-09-15T11:39:41.825799Z"
    },
    "collapsed": true
   },
   "outputs": [],
   "source": [
    "###paths###\n",
    "date_var = '180425' \n",
    "exp_dir = '/Users/djw/Documents/pCloud Synced/PhD/PROJECTS/2017_MADE/03_CODE/2017_MADE/Analysis/hDDM' #make sure this is correct\n",
    "data_dir = os.path.join(exp_dir, 'Data/CSV_data/')\n",
    "analysis_dir = os.path.join(exp_dir,'Analysis','HDDM')\n",
    "date_analysis_dir = os.path.join(analysis_dir,date_var)\n",
    "if os.path.isdir(date_analysis_dir) == False:\n",
    "    os.mkdir(date_analysis_dir)\n",
    "group_analysis_dir = os.path.join(date_analysis_dir,'Group')\n",
    "if os.path.isdir(group_analysis_dir) == False:\n",
    "    os.mkdir(group_analysis_dir)\n",
    "group_made_reg_3_analysis_dir = os.path.join(group_analysis_dir,'NEW_made_reg_v3.2')  # Use this to make new folders for models\n",
    "if os.path.isdir(group_made_reg_3_analysis_dir) == False:\n",
    "    os.mkdir(group_made_reg_3_analysis_dir)\n",
    "group_made_reg_3_posterior_analysis_dir = os.path.join(group_made_reg_3_analysis_dir,'Posteriors')\n",
    "if os.path.isdir(group_made_reg_3_posterior_analysis_dir) == False:\n",
    "    os.mkdir(group_made_reg_3_posterior_analysis_dir)"
   ]
  },
  {
   "cell_type": "markdown",
   "metadata": {},
   "source": [
    "# Group Model"
   ]
  },
  {
   "cell_type": "markdown",
   "metadata": {},
   "source": [
    "## Load Data"
   ]
  },
  {
   "cell_type": "markdown",
   "metadata": {
    "heading_collapsed": true
   },
   "source": [
    "### V2"
   ]
  },
  {
   "cell_type": "code",
   "execution_count": 7,
   "metadata": {
    "ExecuteTime": {
     "end_time": "2017-09-15T11:39:54.517673Z",
     "start_time": "2017-09-15T11:39:54.426746Z"
    },
    "collapsed": true,
    "hidden": true
   },
   "outputs": [],
   "source": [
    "###group model###\n",
    "num_samples = 4400     # 11000\n",
    "num_reg_samples = 4400 # 11000\n",
    "num_burn = 400       # 1000\n",
    "num_subs = 23     # full sample\n",
    "#group_csv = 'foodother_Xsub_n' + str(num_subs) + '_hddm.csv'\n",
    "group_csv = 's_m.csv'\n",
    "group_csv_path = os.path.join(data_dir,group_csv)\n",
    "group_data = hddm.load_csv(group_csv_path)\n",
    "\n",
    "# check num_subs later on\n",
    "# change group_csv name"
   ]
  },
  {
   "cell_type": "code",
   "execution_count": 8,
   "metadata": {
    "ExecuteTime": {
     "end_time": "2017-09-15T11:39:56.709617Z",
     "start_time": "2017-09-15T11:39:55.621558Z"
    },
    "hidden": true
   },
   "outputs": [
    {
     "name": "stderr",
     "output_type": "stream",
     "text": [
      "/Users/djw/anaconda/lib/python2.7/site-packages/ipykernel/__main__.py:6: SettingWithCopyWarning: \n",
      "A value is trying to be set on a copy of a slice from a DataFrame\n",
      "\n",
      "See the caveats in the documentation: http://pandas.pydata.org/pandas-docs/stable/indexing.html#indexing-view-versus-copy\n"
     ]
    }
   ],
   "source": [
    "# Make subjects sequential\n",
    "subjects = np.unique(group_data['subject'])\n",
    "\n",
    "i=1\n",
    "for subject in subjects:\n",
    "    group_data['subject'][group_data['subject'] == subject] = i\n",
    "    i+=1"
   ]
  },
  {
   "cell_type": "code",
   "execution_count": 9,
   "metadata": {
    "hidden": true
   },
   "outputs": [
    {
     "data": {
      "text/html": [
       "<div>\n",
       "<style scoped>\n",
       "    .dataframe tbody tr th:only-of-type {\n",
       "        vertical-align: middle;\n",
       "    }\n",
       "\n",
       "    .dataframe tbody tr th {\n",
       "        vertical-align: top;\n",
       "    }\n",
       "\n",
       "    .dataframe thead th {\n",
       "        text-align: right;\n",
       "    }\n",
       "</style>\n",
       "<table border=\"1\" class=\"dataframe\">\n",
       "  <thead>\n",
       "    <tr style=\"text-align: right;\">\n",
       "      <th></th>\n",
       "      <th>Unnamed: 0</th>\n",
       "      <th>Trial</th>\n",
       "      <th>correct</th>\n",
       "      <th>faceVal</th>\n",
       "      <th>houseVal</th>\n",
       "      <th>mult1House</th>\n",
       "      <th>mult2Face</th>\n",
       "      <th>summedVal</th>\n",
       "      <th>earnings</th>\n",
       "      <th>imageList</th>\n",
       "      <th>...</th>\n",
       "      <th>4_fixation</th>\n",
       "      <th>5_fixation</th>\n",
       "      <th>6_fixation</th>\n",
       "      <th>7_fixation</th>\n",
       "      <th>8_fixation</th>\n",
       "      <th>9_fixation</th>\n",
       "      <th>10_fixation</th>\n",
       "      <th>11_fixation</th>\n",
       "      <th>12_fixation</th>\n",
       "      <th>13_fixation</th>\n",
       "    </tr>\n",
       "  </thead>\n",
       "  <tbody>\n",
       "    <tr>\n",
       "      <th>0</th>\n",
       "      <td>1</td>\n",
       "      <td>1</td>\n",
       "      <td>1</td>\n",
       "      <td>0.66</td>\n",
       "      <td>0.86</td>\n",
       "      <td>2</td>\n",
       "      <td>2</td>\n",
       "      <td>3.04</td>\n",
       "      <td>39.60</td>\n",
       "      <td>[1, 0, 1, 0, 1, 0]</td>\n",
       "      <td>...</td>\n",
       "      <td>0.433219</td>\n",
       "      <td>1.233326</td>\n",
       "      <td>2.699835</td>\n",
       "      <td>NaN</td>\n",
       "      <td>NaN</td>\n",
       "      <td>NaN</td>\n",
       "      <td>NaN</td>\n",
       "      <td>NaN</td>\n",
       "      <td>NaN</td>\n",
       "      <td>NaN</td>\n",
       "    </tr>\n",
       "    <tr>\n",
       "      <th>1</th>\n",
       "      <td>2</td>\n",
       "      <td>2</td>\n",
       "      <td>0</td>\n",
       "      <td>0.38</td>\n",
       "      <td>-0.52</td>\n",
       "      <td>1</td>\n",
       "      <td>1</td>\n",
       "      <td>-0.14</td>\n",
       "      <td>39.46</td>\n",
       "      <td>[0, 1, 0]</td>\n",
       "      <td>...</td>\n",
       "      <td>NaN</td>\n",
       "      <td>NaN</td>\n",
       "      <td>NaN</td>\n",
       "      <td>NaN</td>\n",
       "      <td>NaN</td>\n",
       "      <td>NaN</td>\n",
       "      <td>NaN</td>\n",
       "      <td>NaN</td>\n",
       "      <td>NaN</td>\n",
       "      <td>NaN</td>\n",
       "    </tr>\n",
       "    <tr>\n",
       "      <th>2</th>\n",
       "      <td>3</td>\n",
       "      <td>3</td>\n",
       "      <td>1</td>\n",
       "      <td>0.32</td>\n",
       "      <td>-0.68</td>\n",
       "      <td>1</td>\n",
       "      <td>3</td>\n",
       "      <td>0.28</td>\n",
       "      <td>39.74</td>\n",
       "      <td>[0, 1, 0]</td>\n",
       "      <td>...</td>\n",
       "      <td>NaN</td>\n",
       "      <td>NaN</td>\n",
       "      <td>NaN</td>\n",
       "      <td>NaN</td>\n",
       "      <td>NaN</td>\n",
       "      <td>NaN</td>\n",
       "      <td>NaN</td>\n",
       "      <td>NaN</td>\n",
       "      <td>NaN</td>\n",
       "      <td>NaN</td>\n",
       "    </tr>\n",
       "    <tr>\n",
       "      <th>3</th>\n",
       "      <td>4</td>\n",
       "      <td>4</td>\n",
       "      <td>1</td>\n",
       "      <td>-0.94</td>\n",
       "      <td>0.42</td>\n",
       "      <td>1</td>\n",
       "      <td>1</td>\n",
       "      <td>-0.52</td>\n",
       "      <td>39.74</td>\n",
       "      <td>[1, 0, 1, 0, 1]</td>\n",
       "      <td>...</td>\n",
       "      <td>0.383193</td>\n",
       "      <td>1.133462</td>\n",
       "      <td>NaN</td>\n",
       "      <td>NaN</td>\n",
       "      <td>NaN</td>\n",
       "      <td>NaN</td>\n",
       "      <td>NaN</td>\n",
       "      <td>NaN</td>\n",
       "      <td>NaN</td>\n",
       "      <td>NaN</td>\n",
       "    </tr>\n",
       "    <tr>\n",
       "      <th>4</th>\n",
       "      <td>5</td>\n",
       "      <td>5</td>\n",
       "      <td>1</td>\n",
       "      <td>-0.24</td>\n",
       "      <td>0.28</td>\n",
       "      <td>1</td>\n",
       "      <td>1</td>\n",
       "      <td>0.04</td>\n",
       "      <td>39.78</td>\n",
       "      <td>[0, 1]</td>\n",
       "      <td>...</td>\n",
       "      <td>NaN</td>\n",
       "      <td>NaN</td>\n",
       "      <td>NaN</td>\n",
       "      <td>NaN</td>\n",
       "      <td>NaN</td>\n",
       "      <td>NaN</td>\n",
       "      <td>NaN</td>\n",
       "      <td>NaN</td>\n",
       "      <td>NaN</td>\n",
       "      <td>NaN</td>\n",
       "    </tr>\n",
       "  </tbody>\n",
       "</table>\n",
       "<p>5 rows × 57 columns</p>\n",
       "</div>"
      ],
      "text/plain": [
       "   Unnamed: 0  Trial  correct  faceVal  houseVal  mult1House  mult2Face  \\\n",
       "0           1      1        1     0.66      0.86           2          2   \n",
       "1           2      2        0     0.38     -0.52           1          1   \n",
       "2           3      3        1     0.32     -0.68           1          3   \n",
       "3           4      4        1    -0.94      0.42           1          1   \n",
       "4           5      5        1    -0.24      0.28           1          1   \n",
       "\n",
       "   summedVal  earnings           imageList     ...       4_fixation  \\\n",
       "0       3.04     39.60  [1, 0, 1, 0, 1, 0]     ...         0.433219   \n",
       "1      -0.14     39.46           [0, 1, 0]     ...              NaN   \n",
       "2       0.28     39.74           [0, 1, 0]     ...              NaN   \n",
       "3      -0.52     39.74     [1, 0, 1, 0, 1]     ...         0.383193   \n",
       "4       0.04     39.78              [0, 1]     ...              NaN   \n",
       "\n",
       "   5_fixation  6_fixation  7_fixation  8_fixation 9_fixation  10_fixation  \\\n",
       "0    1.233326    2.699835         NaN         NaN        NaN          NaN   \n",
       "1         NaN         NaN         NaN         NaN        NaN          NaN   \n",
       "2         NaN         NaN         NaN         NaN        NaN          NaN   \n",
       "3    1.133462         NaN         NaN         NaN        NaN          NaN   \n",
       "4         NaN         NaN         NaN         NaN        NaN          NaN   \n",
       "\n",
       "   11_fixation  12_fixation  13_fixation  \n",
       "0          NaN          NaN          NaN  \n",
       "1          NaN          NaN          NaN  \n",
       "2          NaN          NaN          NaN  \n",
       "3          NaN          NaN          NaN  \n",
       "4          NaN          NaN          NaN  \n",
       "\n",
       "[5 rows x 57 columns]"
      ]
     },
     "execution_count": 9,
     "metadata": {},
     "output_type": "execute_result"
    }
   ],
   "source": [
    "group_data.head()"
   ]
  },
  {
   "cell_type": "markdown",
   "metadata": {
    "heading_collapsed": true
   },
   "source": [
    "### V3"
   ]
  },
  {
   "cell_type": "code",
   "execution_count": 120,
   "metadata": {
    "collapsed": true,
    "hidden": true
   },
   "outputs": [],
   "source": [
    "###group model###\n",
    "num_samples = 4400     # 11000\n",
    "num_reg_samples = 4400 # 11000\n",
    "num_burn = 400       # 1000\n",
    "\n",
    "#group_csv = 'foodother_Xsub_n' + str(num_subs) + '_hddm.csv'\n",
    "group_csv = 'v3_clean.csv'\n",
    "group_csv_path = os.path.join(data_dir,group_csv)\n",
    "group_data = hddm.load_csv(group_csv_path)\n",
    "\n",
    "num_subs = len(np.unique(group_data.participant))     # full sample\n",
    "\n",
    "# check num_subs later on\n",
    "# change group_csv name"
   ]
  },
  {
   "cell_type": "code",
   "execution_count": 121,
   "metadata": {
    "hidden": true,
    "scrolled": true
   },
   "outputs": [
    {
     "name": "stderr",
     "output_type": "stream",
     "text": [
      "/Users/djw/anaconda/lib/python2.7/site-packages/ipykernel/__main__.py:6: SettingWithCopyWarning: \n",
      "A value is trying to be set on a copy of a slice from a DataFrame\n",
      "\n",
      "See the caveats in the documentation: http://pandas.pydata.org/pandas-docs/stable/indexing.html#indexing-view-versus-copy\n"
     ]
    }
   ],
   "source": [
    "# Make subjects sequential\n",
    "subjects = np.unique(group_data.participant)\n",
    "\n",
    "i=1\n",
    "for subject in subjects:\n",
    "    group_data['participant'][group_data.participant == subject] = i\n",
    "    i+=1"
   ]
  },
  {
   "cell_type": "code",
   "execution_count": 98,
   "metadata": {
    "hidden": true
   },
   "outputs": [
    {
     "data": {
      "text/html": [
       "<div>\n",
       "<style scoped>\n",
       "    .dataframe tbody tr th:only-of-type {\n",
       "        vertical-align: middle;\n",
       "    }\n",
       "\n",
       "    .dataframe tbody tr th {\n",
       "        vertical-align: top;\n",
       "    }\n",
       "\n",
       "    .dataframe thead th {\n",
       "        text-align: right;\n",
       "    }\n",
       "</style>\n",
       "<table border=\"1\" class=\"dataframe\">\n",
       "  <thead>\n",
       "    <tr style=\"text-align: right;\">\n",
       "      <th></th>\n",
       "      <th>Unnamed: 0</th>\n",
       "      <th>choice</th>\n",
       "      <th>correct</th>\n",
       "      <th>earnings</th>\n",
       "      <th>face_mult</th>\n",
       "      <th>face_val_base</th>\n",
       "      <th>first_image</th>\n",
       "      <th>house_mult</th>\n",
       "      <th>house_val_base</th>\n",
       "      <th>image_list</th>\n",
       "      <th>...</th>\n",
       "      <th>44_fixation</th>\n",
       "      <th>45_fixation</th>\n",
       "      <th>46_fixation</th>\n",
       "      <th>47_fixation</th>\n",
       "      <th>48_fixation</th>\n",
       "      <th>49_fixation</th>\n",
       "      <th>50_fixation</th>\n",
       "      <th>51_fixation</th>\n",
       "      <th>52_fixation</th>\n",
       "      <th>53_fixation</th>\n",
       "    </tr>\n",
       "  </thead>\n",
       "  <tbody>\n",
       "    <tr>\n",
       "      <th>0</th>\n",
       "      <td>10</td>\n",
       "      <td>0.0</td>\n",
       "      <td>1</td>\n",
       "      <td>-10.600</td>\n",
       "      <td>2.0</td>\n",
       "      <td>-0.38</td>\n",
       "      <td>1</td>\n",
       "      <td>0.5</td>\n",
       "      <td>-0.72</td>\n",
       "      <td>[1, 0, 1]</td>\n",
       "      <td>...</td>\n",
       "      <td>NaN</td>\n",
       "      <td>NaN</td>\n",
       "      <td>NaN</td>\n",
       "      <td>NaN</td>\n",
       "      <td>NaN</td>\n",
       "      <td>NaN</td>\n",
       "      <td>NaN</td>\n",
       "      <td>NaN</td>\n",
       "      <td>NaN</td>\n",
       "      <td>NaN</td>\n",
       "    </tr>\n",
       "    <tr>\n",
       "      <th>1</th>\n",
       "      <td>11</td>\n",
       "      <td>1.0</td>\n",
       "      <td>1</td>\n",
       "      <td>-10.306</td>\n",
       "      <td>0.5</td>\n",
       "      <td>0.50</td>\n",
       "      <td>0</td>\n",
       "      <td>0.1</td>\n",
       "      <td>0.44</td>\n",
       "      <td>[0, 1]</td>\n",
       "      <td>...</td>\n",
       "      <td>NaN</td>\n",
       "      <td>NaN</td>\n",
       "      <td>NaN</td>\n",
       "      <td>NaN</td>\n",
       "      <td>NaN</td>\n",
       "      <td>NaN</td>\n",
       "      <td>NaN</td>\n",
       "      <td>NaN</td>\n",
       "      <td>NaN</td>\n",
       "      <td>NaN</td>\n",
       "    </tr>\n",
       "    <tr>\n",
       "      <th>2</th>\n",
       "      <td>13</td>\n",
       "      <td>0.0</td>\n",
       "      <td>1</td>\n",
       "      <td>-10.646</td>\n",
       "      <td>1.0</td>\n",
       "      <td>-0.40</td>\n",
       "      <td>0</td>\n",
       "      <td>1.0</td>\n",
       "      <td>-0.78</td>\n",
       "      <td>[0, 1, 0, 1]</td>\n",
       "      <td>...</td>\n",
       "      <td>NaN</td>\n",
       "      <td>NaN</td>\n",
       "      <td>NaN</td>\n",
       "      <td>NaN</td>\n",
       "      <td>NaN</td>\n",
       "      <td>NaN</td>\n",
       "      <td>NaN</td>\n",
       "      <td>NaN</td>\n",
       "      <td>NaN</td>\n",
       "      <td>NaN</td>\n",
       "    </tr>\n",
       "    <tr>\n",
       "      <th>3</th>\n",
       "      <td>14</td>\n",
       "      <td>0.0</td>\n",
       "      <td>1</td>\n",
       "      <td>-10.646</td>\n",
       "      <td>2.0</td>\n",
       "      <td>-0.88</td>\n",
       "      <td>0</td>\n",
       "      <td>0.5</td>\n",
       "      <td>-0.36</td>\n",
       "      <td>[0, 1, 0, 1, 0]</td>\n",
       "      <td>...</td>\n",
       "      <td>NaN</td>\n",
       "      <td>NaN</td>\n",
       "      <td>NaN</td>\n",
       "      <td>NaN</td>\n",
       "      <td>NaN</td>\n",
       "      <td>NaN</td>\n",
       "      <td>NaN</td>\n",
       "      <td>NaN</td>\n",
       "      <td>NaN</td>\n",
       "      <td>NaN</td>\n",
       "    </tr>\n",
       "    <tr>\n",
       "      <th>4</th>\n",
       "      <td>15</td>\n",
       "      <td>0.0</td>\n",
       "      <td>1</td>\n",
       "      <td>-10.646</td>\n",
       "      <td>0.5</td>\n",
       "      <td>-1.00</td>\n",
       "      <td>0</td>\n",
       "      <td>0.1</td>\n",
       "      <td>-0.22</td>\n",
       "      <td>[0, 1, 0, 1, 0, 1, 0, 1, 0]</td>\n",
       "      <td>...</td>\n",
       "      <td>NaN</td>\n",
       "      <td>NaN</td>\n",
       "      <td>NaN</td>\n",
       "      <td>NaN</td>\n",
       "      <td>NaN</td>\n",
       "      <td>NaN</td>\n",
       "      <td>NaN</td>\n",
       "      <td>NaN</td>\n",
       "      <td>NaN</td>\n",
       "      <td>NaN</td>\n",
       "    </tr>\n",
       "  </tbody>\n",
       "</table>\n",
       "<p>5 rows × 83 columns</p>\n",
       "</div>"
      ],
      "text/plain": [
       "   Unnamed: 0  choice  correct  earnings  face_mult  face_val_base  \\\n",
       "0          10     0.0        1   -10.600        2.0          -0.38   \n",
       "1          11     1.0        1   -10.306        0.5           0.50   \n",
       "2          13     0.0        1   -10.646        1.0          -0.40   \n",
       "3          14     0.0        1   -10.646        2.0          -0.88   \n",
       "4          15     0.0        1   -10.646        0.5          -1.00   \n",
       "\n",
       "   first_image  house_mult  house_val_base                   image_list  \\\n",
       "0            1         0.5           -0.72                    [1, 0, 1]   \n",
       "1            0         0.1            0.44                       [0, 1]   \n",
       "2            0         1.0           -0.78                 [0, 1, 0, 1]   \n",
       "3            0         0.5           -0.36              [0, 1, 0, 1, 0]   \n",
       "4            0         0.1           -0.22  [0, 1, 0, 1, 0, 1, 0, 1, 0]   \n",
       "\n",
       "      ...      44_fixation  45_fixation  46_fixation  47_fixation  \\\n",
       "0     ...              NaN          NaN          NaN          NaN   \n",
       "1     ...              NaN          NaN          NaN          NaN   \n",
       "2     ...              NaN          NaN          NaN          NaN   \n",
       "3     ...              NaN          NaN          NaN          NaN   \n",
       "4     ...              NaN          NaN          NaN          NaN   \n",
       "\n",
       "   48_fixation  49_fixation 50_fixation  51_fixation  52_fixation  53_fixation  \n",
       "0          NaN          NaN         NaN          NaN          NaN          NaN  \n",
       "1          NaN          NaN         NaN          NaN          NaN          NaN  \n",
       "2          NaN          NaN         NaN          NaN          NaN          NaN  \n",
       "3          NaN          NaN         NaN          NaN          NaN          NaN  \n",
       "4          NaN          NaN         NaN          NaN          NaN          NaN  \n",
       "\n",
       "[5 rows x 83 columns]"
      ]
     },
     "execution_count": 98,
     "metadata": {},
     "output_type": "execute_result"
    }
   ],
   "source": [
    "group_data.head()"
   ]
  },
  {
   "cell_type": "markdown",
   "metadata": {},
   "source": [
    "### V4"
   ]
  },
  {
   "cell_type": "code",
   "execution_count": 26,
   "metadata": {
    "collapsed": true
   },
   "outputs": [],
   "source": [
    "###group model###\n",
    "num_samples = 4400     # 11000\n",
    "num_reg_samples = 4400 # 11000\n",
    "num_burn = 2000       # 1000\n",
    "\n",
    "#group_csv = 'foodother_Xsub_n' + str(num_subs) + '_hddm.csv'\n",
    "group_csv = 'v3_clean.csv'\n",
    "group_csv_path = os.path.join(data_dir,group_csv)\n",
    "group_data = hddm.load_csv(group_csv_path)\n",
    "\n",
    "num_subs = len(np.unique(group_data.participant))     # full sample\n",
    "\n",
    "# check num_subs later on\n",
    "# change group_csv name"
   ]
  },
  {
   "cell_type": "code",
   "execution_count": 27,
   "metadata": {},
   "outputs": [
    {
     "name": "stderr",
     "output_type": "stream",
     "text": [
      "/Users/djw/anaconda/lib/python2.7/site-packages/ipykernel/__main__.py:6: SettingWithCopyWarning: \n",
      "A value is trying to be set on a copy of a slice from a DataFrame\n",
      "\n",
      "See the caveats in the documentation: http://pandas.pydata.org/pandas-docs/stable/indexing.html#indexing-view-versus-copy\n"
     ]
    }
   ],
   "source": [
    "# Make subjects sequential\n",
    "subjects = np.unique(group_data.participant)\n",
    "\n",
    "i=1\n",
    "for subject in subjects:\n",
    "    group_data['participant'][group_data.participant == subject] = i\n",
    "    i+=1"
   ]
  },
  {
   "cell_type": "code",
   "execution_count": 28,
   "metadata": {
    "collapsed": true
   },
   "outputs": [],
   "source": [
    "# remove rows where choice is NaN\n",
    "group_data = group_data[np.isfinite(group_data.choice)]"
   ]
  },
  {
   "cell_type": "code",
   "execution_count": 29,
   "metadata": {},
   "outputs": [
    {
     "data": {
      "text/plain": [
       "array([ 0.,  1.])"
      ]
     },
     "execution_count": 29,
     "metadata": {},
     "output_type": "execute_result"
    }
   ],
   "source": [
    "np.unique(group_data.choice)"
   ]
  },
  {
   "cell_type": "code",
   "execution_count": 30,
   "metadata": {},
   "outputs": [
    {
     "data": {
      "text/plain": [
       "0"
      ]
     },
     "execution_count": 30,
     "metadata": {},
     "output_type": "execute_result"
    }
   ],
   "source": [
    "group_data.choice.isnull().values.any()\n",
    "group_data.choice.isnull().sum().sum()"
   ]
  },
  {
   "cell_type": "code",
   "execution_count": 31,
   "metadata": {
    "collapsed": true
   },
   "outputs": [],
   "source": [
    "group_data['choice'] = group_data['choice'].astype(int)"
   ]
  },
  {
   "cell_type": "code",
   "execution_count": 32,
   "metadata": {},
   "outputs": [
    {
     "data": {
      "text/html": [
       "<div>\n",
       "<style scoped>\n",
       "    .dataframe tbody tr th:only-of-type {\n",
       "        vertical-align: middle;\n",
       "    }\n",
       "\n",
       "    .dataframe tbody tr th {\n",
       "        vertical-align: top;\n",
       "    }\n",
       "\n",
       "    .dataframe thead th {\n",
       "        text-align: right;\n",
       "    }\n",
       "</style>\n",
       "<table border=\"1\" class=\"dataframe\">\n",
       "  <thead>\n",
       "    <tr style=\"text-align: right;\">\n",
       "      <th></th>\n",
       "      <th>Unnamed: 0</th>\n",
       "      <th>choice</th>\n",
       "      <th>correct</th>\n",
       "      <th>earnings</th>\n",
       "      <th>face_mult</th>\n",
       "      <th>face_val_base</th>\n",
       "      <th>first_image</th>\n",
       "      <th>house_mult</th>\n",
       "      <th>house_val_base</th>\n",
       "      <th>image_list</th>\n",
       "      <th>...</th>\n",
       "      <th>absSummedVal</th>\n",
       "      <th>swapAmount</th>\n",
       "      <th>firstMult</th>\n",
       "      <th>firstVal</th>\n",
       "      <th>secondMult</th>\n",
       "      <th>secondVal</th>\n",
       "      <th>faceTotal</th>\n",
       "      <th>houseTotal</th>\n",
       "      <th>total_0_face</th>\n",
       "      <th>total_1_house</th>\n",
       "    </tr>\n",
       "  </thead>\n",
       "  <tbody>\n",
       "    <tr>\n",
       "      <th>0</th>\n",
       "      <td>10</td>\n",
       "      <td>0</td>\n",
       "      <td>1</td>\n",
       "      <td>-10.600</td>\n",
       "      <td>2.0</td>\n",
       "      <td>-0.38</td>\n",
       "      <td>1</td>\n",
       "      <td>0.5</td>\n",
       "      <td>-0.72</td>\n",
       "      <td>[1, 0, 1]</td>\n",
       "      <td>...</td>\n",
       "      <td>1.120</td>\n",
       "      <td>3</td>\n",
       "      <td>0.5</td>\n",
       "      <td>-0.36</td>\n",
       "      <td>2.0</td>\n",
       "      <td>-0.760</td>\n",
       "      <td>-0.76</td>\n",
       "      <td>-0.360</td>\n",
       "      <td>1.666822</td>\n",
       "      <td>4.616794</td>\n",
       "    </tr>\n",
       "    <tr>\n",
       "      <th>1</th>\n",
       "      <td>11</td>\n",
       "      <td>1</td>\n",
       "      <td>1</td>\n",
       "      <td>-10.306</td>\n",
       "      <td>0.5</td>\n",
       "      <td>0.50</td>\n",
       "      <td>0</td>\n",
       "      <td>0.1</td>\n",
       "      <td>0.44</td>\n",
       "      <td>[0, 1]</td>\n",
       "      <td>...</td>\n",
       "      <td>0.294</td>\n",
       "      <td>2</td>\n",
       "      <td>0.5</td>\n",
       "      <td>0.25</td>\n",
       "      <td>0.1</td>\n",
       "      <td>0.044</td>\n",
       "      <td>0.25</td>\n",
       "      <td>0.044</td>\n",
       "      <td>0.966945</td>\n",
       "      <td>2.850013</td>\n",
       "    </tr>\n",
       "    <tr>\n",
       "      <th>2</th>\n",
       "      <td>13</td>\n",
       "      <td>0</td>\n",
       "      <td>1</td>\n",
       "      <td>-10.646</td>\n",
       "      <td>1.0</td>\n",
       "      <td>-0.40</td>\n",
       "      <td>0</td>\n",
       "      <td>1.0</td>\n",
       "      <td>-0.78</td>\n",
       "      <td>[0, 1, 0, 1]</td>\n",
       "      <td>...</td>\n",
       "      <td>1.180</td>\n",
       "      <td>4</td>\n",
       "      <td>1.0</td>\n",
       "      <td>-0.40</td>\n",
       "      <td>1.0</td>\n",
       "      <td>-0.780</td>\n",
       "      <td>-0.40</td>\n",
       "      <td>-0.780</td>\n",
       "      <td>0.916934</td>\n",
       "      <td>2.099861</td>\n",
       "    </tr>\n",
       "    <tr>\n",
       "      <th>3</th>\n",
       "      <td>14</td>\n",
       "      <td>0</td>\n",
       "      <td>1</td>\n",
       "      <td>-10.646</td>\n",
       "      <td>2.0</td>\n",
       "      <td>-0.88</td>\n",
       "      <td>0</td>\n",
       "      <td>0.5</td>\n",
       "      <td>-0.36</td>\n",
       "      <td>[0, 1, 0, 1, 0]</td>\n",
       "      <td>...</td>\n",
       "      <td>1.940</td>\n",
       "      <td>5</td>\n",
       "      <td>2.0</td>\n",
       "      <td>-1.76</td>\n",
       "      <td>0.5</td>\n",
       "      <td>-0.180</td>\n",
       "      <td>-1.76</td>\n",
       "      <td>-0.180</td>\n",
       "      <td>2.617180</td>\n",
       "      <td>1.316402</td>\n",
       "    </tr>\n",
       "    <tr>\n",
       "      <th>4</th>\n",
       "      <td>15</td>\n",
       "      <td>0</td>\n",
       "      <td>1</td>\n",
       "      <td>-10.646</td>\n",
       "      <td>0.5</td>\n",
       "      <td>-1.00</td>\n",
       "      <td>0</td>\n",
       "      <td>0.1</td>\n",
       "      <td>-0.22</td>\n",
       "      <td>[0, 1, 0, 1, 0, 1, 0, 1, 0]</td>\n",
       "      <td>...</td>\n",
       "      <td>0.522</td>\n",
       "      <td>9</td>\n",
       "      <td>0.5</td>\n",
       "      <td>-0.50</td>\n",
       "      <td>0.1</td>\n",
       "      <td>-0.022</td>\n",
       "      <td>-0.50</td>\n",
       "      <td>-0.022</td>\n",
       "      <td>3.183498</td>\n",
       "      <td>2.916783</td>\n",
       "    </tr>\n",
       "  </tbody>\n",
       "</table>\n",
       "<p>5 rows × 95 columns</p>\n",
       "</div>"
      ],
      "text/plain": [
       "   Unnamed: 0  choice  correct  earnings  face_mult  face_val_base  \\\n",
       "0          10       0        1   -10.600        2.0          -0.38   \n",
       "1          11       1        1   -10.306        0.5           0.50   \n",
       "2          13       0        1   -10.646        1.0          -0.40   \n",
       "3          14       0        1   -10.646        2.0          -0.88   \n",
       "4          15       0        1   -10.646        0.5          -1.00   \n",
       "\n",
       "   first_image  house_mult  house_val_base                   image_list  \\\n",
       "0            1         0.5           -0.72                    [1, 0, 1]   \n",
       "1            0         0.1            0.44                       [0, 1]   \n",
       "2            0         1.0           -0.78                 [0, 1, 0, 1]   \n",
       "3            0         0.5           -0.36              [0, 1, 0, 1, 0]   \n",
       "4            0         0.1           -0.22  [0, 1, 0, 1, 0, 1, 0, 1, 0]   \n",
       "\n",
       "       ...       absSummedVal  swapAmount  firstMult  firstVal  secondMult  \\\n",
       "0      ...              1.120           3        0.5     -0.36         2.0   \n",
       "1      ...              0.294           2        0.5      0.25         0.1   \n",
       "2      ...              1.180           4        1.0     -0.40         1.0   \n",
       "3      ...              1.940           5        2.0     -1.76         0.5   \n",
       "4      ...              0.522           9        0.5     -0.50         0.1   \n",
       "\n",
       "   secondVal faceTotal  houseTotal  total_0_face  total_1_house  \n",
       "0     -0.760     -0.76      -0.360      1.666822       4.616794  \n",
       "1      0.044      0.25       0.044      0.966945       2.850013  \n",
       "2     -0.780     -0.40      -0.780      0.916934       2.099861  \n",
       "3     -0.180     -1.76      -0.180      2.617180       1.316402  \n",
       "4     -0.022     -0.50      -0.022      3.183498       2.916783  \n",
       "\n",
       "[5 rows x 95 columns]"
      ]
     },
     "execution_count": 32,
     "metadata": {},
     "output_type": "execute_result"
    }
   ],
   "source": [
    "group_data.head()"
   ]
  },
  {
   "cell_type": "code",
   "execution_count": 62,
   "metadata": {
    "collapsed": true
   },
   "outputs": [
    {
     "data": {
      "text/plain": [
       "['Unnamed: 0',\n",
       " 'correct',\n",
       " 'earnings',\n",
       " 'trial',\n",
       " 'face_val',\n",
       " 'house_val',\n",
       " 'house_mult',\n",
       " 'face_mult',\n",
       " 'summed_val',\n",
       " 'image_list',\n",
       " 'key_entry_list',\n",
       " 'rt_list',\n",
       " 'participant',\n",
       " 'rt',\n",
       " 'total_fix_face_0',\n",
       " 'total_fix_house_1',\n",
       " 'first_image',\n",
       " 'last_image',\n",
       " 'final_earnings',\n",
       " 'abs_diff',\n",
       " 'fix_num',\n",
       " 'face_val_total',\n",
       " 'house_val_total',\n",
       " 'first_val',\n",
       " 'second_val',\n",
       " 'first_mult',\n",
       " 'second_mult',\n",
       " '1_fixation',\n",
       " '2_fixation',\n",
       " '3_fixation',\n",
       " '4_fixation',\n",
       " '5_fixation',\n",
       " '6_fixation',\n",
       " '7_fixation',\n",
       " '8_fixation',\n",
       " '9_fixation',\n",
       " '10_fixation',\n",
       " '11_fixation',\n",
       " '12_fixation',\n",
       " '13_fixation',\n",
       " '14_fixation',\n",
       " '15_fixation',\n",
       " 'mean_fix',\n",
       " 'choice']"
      ]
     },
     "execution_count": 62,
     "metadata": {},
     "output_type": "execute_result"
    }
   ],
   "source": [
    "list(group_data)"
   ]
  },
  {
   "cell_type": "code",
   "execution_count": 45,
   "metadata": {
    "collapsed": true
   },
   "outputs": [],
   "source": [
    "# Testing without fractional or 10x mults:\n",
    "\n",
    "group_data = group_data[group_data.face_mult != 0.1]"
   ]
  },
  {
   "cell_type": "code",
   "execution_count": 48,
   "metadata": {},
   "outputs": [
    {
     "data": {
      "text/plain": [
       "array([ 1.,  2.,  3.])"
      ]
     },
     "execution_count": 48,
     "metadata": {},
     "output_type": "execute_result"
    }
   ],
   "source": [
    "np.unique(group_data.house_mult)"
   ]
  },
  {
   "cell_type": "markdown",
   "metadata": {},
   "source": [
    "### Imported DF"
   ]
  },
  {
   "cell_type": "code",
   "execution_count": 49,
   "metadata": {
    "ExecuteTime": {
     "end_time": "2017-09-15T11:39:56.996821Z",
     "start_time": "2017-09-15T11:39:56.990882Z"
    },
    "collapsed": true
   },
   "outputs": [],
   "source": [
    "group_data = group_data.drop('Unnamed: 0', 1)"
   ]
  },
  {
   "cell_type": "code",
   "execution_count": 50,
   "metadata": {
    "ExecuteTime": {
     "end_time": "2017-09-15T11:39:58.203059Z",
     "start_time": "2017-09-15T11:39:58.192948Z"
    },
    "collapsed": true
   },
   "outputs": [],
   "source": [
    "group_data = group_data.rename(columns={'participant': 'subj_idx', 'choice': 'response' })"
   ]
  },
  {
   "cell_type": "code",
   "execution_count": 51,
   "metadata": {},
   "outputs": [
    {
     "data": {
      "text/html": [
       "<div>\n",
       "<style scoped>\n",
       "    .dataframe tbody tr th:only-of-type {\n",
       "        vertical-align: middle;\n",
       "    }\n",
       "\n",
       "    .dataframe tbody tr th {\n",
       "        vertical-align: top;\n",
       "    }\n",
       "\n",
       "    .dataframe thead th {\n",
       "        text-align: right;\n",
       "    }\n",
       "</style>\n",
       "<table border=\"1\" class=\"dataframe\">\n",
       "  <thead>\n",
       "    <tr style=\"text-align: right;\">\n",
       "      <th></th>\n",
       "      <th>response</th>\n",
       "      <th>correct</th>\n",
       "      <th>earnings</th>\n",
       "      <th>face_mult</th>\n",
       "      <th>face_val_base</th>\n",
       "      <th>first_image</th>\n",
       "      <th>house_mult</th>\n",
       "      <th>house_val_base</th>\n",
       "      <th>image_list</th>\n",
       "      <th>key_entry_list</th>\n",
       "      <th>...</th>\n",
       "      <th>absSummedVal</th>\n",
       "      <th>swapAmount</th>\n",
       "      <th>firstMult</th>\n",
       "      <th>firstVal</th>\n",
       "      <th>secondMult</th>\n",
       "      <th>secondVal</th>\n",
       "      <th>faceTotal</th>\n",
       "      <th>houseTotal</th>\n",
       "      <th>total_0_face</th>\n",
       "      <th>total_1_house</th>\n",
       "    </tr>\n",
       "  </thead>\n",
       "  <tbody>\n",
       "    <tr>\n",
       "      <th>2</th>\n",
       "      <td>0</td>\n",
       "      <td>1</td>\n",
       "      <td>-10.646</td>\n",
       "      <td>1.0</td>\n",
       "      <td>-0.40</td>\n",
       "      <td>0</td>\n",
       "      <td>1.0</td>\n",
       "      <td>-0.78</td>\n",
       "      <td>[0, 1, 0, 1]</td>\n",
       "      <td>['space', 'space', 'space', 'j']</td>\n",
       "      <td>...</td>\n",
       "      <td>1.18</td>\n",
       "      <td>4</td>\n",
       "      <td>1.0</td>\n",
       "      <td>-0.40</td>\n",
       "      <td>1.0</td>\n",
       "      <td>-0.78</td>\n",
       "      <td>-0.40</td>\n",
       "      <td>-0.78</td>\n",
       "      <td>0.916934</td>\n",
       "      <td>2.099861</td>\n",
       "    </tr>\n",
       "    <tr>\n",
       "      <th>5</th>\n",
       "      <td>1</td>\n",
       "      <td>1</td>\n",
       "      <td>-9.786</td>\n",
       "      <td>1.0</td>\n",
       "      <td>0.18</td>\n",
       "      <td>1</td>\n",
       "      <td>1.0</td>\n",
       "      <td>0.68</td>\n",
       "      <td>[1, 0]</td>\n",
       "      <td>['space', 'f']</td>\n",
       "      <td>...</td>\n",
       "      <td>0.86</td>\n",
       "      <td>2</td>\n",
       "      <td>1.0</td>\n",
       "      <td>0.68</td>\n",
       "      <td>1.0</td>\n",
       "      <td>0.18</td>\n",
       "      <td>0.18</td>\n",
       "      <td>0.68</td>\n",
       "      <td>1.533349</td>\n",
       "      <td>1.466911</td>\n",
       "    </tr>\n",
       "    <tr>\n",
       "      <th>6</th>\n",
       "      <td>0</td>\n",
       "      <td>1</td>\n",
       "      <td>-9.786</td>\n",
       "      <td>1.0</td>\n",
       "      <td>-0.14</td>\n",
       "      <td>1</td>\n",
       "      <td>1.0</td>\n",
       "      <td>-0.62</td>\n",
       "      <td>[1, 0, 1, 0, 1]</td>\n",
       "      <td>['space', 'space', 'space', 'space', 'j']</td>\n",
       "      <td>...</td>\n",
       "      <td>0.76</td>\n",
       "      <td>5</td>\n",
       "      <td>1.0</td>\n",
       "      <td>-0.62</td>\n",
       "      <td>1.0</td>\n",
       "      <td>-0.14</td>\n",
       "      <td>-0.14</td>\n",
       "      <td>-0.62</td>\n",
       "      <td>1.299840</td>\n",
       "      <td>3.150420</td>\n",
       "    </tr>\n",
       "    <tr>\n",
       "      <th>8</th>\n",
       "      <td>1</td>\n",
       "      <td>1</td>\n",
       "      <td>-8.448</td>\n",
       "      <td>1.0</td>\n",
       "      <td>0.42</td>\n",
       "      <td>0</td>\n",
       "      <td>1.0</td>\n",
       "      <td>0.54</td>\n",
       "      <td>[0, 1, 0]</td>\n",
       "      <td>['space', 'space', 'f']</td>\n",
       "      <td>...</td>\n",
       "      <td>0.96</td>\n",
       "      <td>3</td>\n",
       "      <td>1.0</td>\n",
       "      <td>0.42</td>\n",
       "      <td>1.0</td>\n",
       "      <td>0.54</td>\n",
       "      <td>0.42</td>\n",
       "      <td>0.54</td>\n",
       "      <td>1.583429</td>\n",
       "      <td>0.633473</td>\n",
       "    </tr>\n",
       "    <tr>\n",
       "      <th>14</th>\n",
       "      <td>0</td>\n",
       "      <td>1</td>\n",
       "      <td>-1.680</td>\n",
       "      <td>1.0</td>\n",
       "      <td>0.14</td>\n",
       "      <td>1</td>\n",
       "      <td>2.0</td>\n",
       "      <td>-0.14</td>\n",
       "      <td>[1, 0, 1, 0, 1, 0, 1]</td>\n",
       "      <td>['space', 'space', 'space', 'space', 'space', ...</td>\n",
       "      <td>...</td>\n",
       "      <td>0.14</td>\n",
       "      <td>7</td>\n",
       "      <td>2.0</td>\n",
       "      <td>-0.28</td>\n",
       "      <td>1.0</td>\n",
       "      <td>0.14</td>\n",
       "      <td>0.14</td>\n",
       "      <td>-0.28</td>\n",
       "      <td>3.283639</td>\n",
       "      <td>6.049981</td>\n",
       "    </tr>\n",
       "  </tbody>\n",
       "</table>\n",
       "<p>5 rows × 94 columns</p>\n",
       "</div>"
      ],
      "text/plain": [
       "    response  correct  earnings  face_mult  face_val_base  first_image  \\\n",
       "2          0        1   -10.646        1.0          -0.40            0   \n",
       "5          1        1    -9.786        1.0           0.18            1   \n",
       "6          0        1    -9.786        1.0          -0.14            1   \n",
       "8          1        1    -8.448        1.0           0.42            0   \n",
       "14         0        1    -1.680        1.0           0.14            1   \n",
       "\n",
       "    house_mult  house_val_base             image_list  \\\n",
       "2          1.0           -0.78           [0, 1, 0, 1]   \n",
       "5          1.0            0.68                 [1, 0]   \n",
       "6          1.0           -0.62        [1, 0, 1, 0, 1]   \n",
       "8          1.0            0.54              [0, 1, 0]   \n",
       "14         2.0           -0.14  [1, 0, 1, 0, 1, 0, 1]   \n",
       "\n",
       "                                       key_entry_list      ...        \\\n",
       "2                    ['space', 'space', 'space', 'j']      ...         \n",
       "5                                      ['space', 'f']      ...         \n",
       "6           ['space', 'space', 'space', 'space', 'j']      ...         \n",
       "8                             ['space', 'space', 'f']      ...         \n",
       "14  ['space', 'space', 'space', 'space', 'space', ...      ...         \n",
       "\n",
       "    absSummedVal  swapAmount  firstMult  firstVal  secondMult secondVal  \\\n",
       "2           1.18           4        1.0     -0.40         1.0     -0.78   \n",
       "5           0.86           2        1.0      0.68         1.0      0.18   \n",
       "6           0.76           5        1.0     -0.62         1.0     -0.14   \n",
       "8           0.96           3        1.0      0.42         1.0      0.54   \n",
       "14          0.14           7        2.0     -0.28         1.0      0.14   \n",
       "\n",
       "    faceTotal  houseTotal  total_0_face  total_1_house  \n",
       "2       -0.40       -0.78      0.916934       2.099861  \n",
       "5        0.18        0.68      1.533349       1.466911  \n",
       "6       -0.14       -0.62      1.299840       3.150420  \n",
       "8        0.42        0.54      1.583429       0.633473  \n",
       "14       0.14       -0.28      3.283639       6.049981  \n",
       "\n",
       "[5 rows x 94 columns]"
      ]
     },
     "execution_count": 51,
     "metadata": {},
     "output_type": "execute_result"
    }
   ],
   "source": [
    "group_data.head()"
   ]
  },
  {
   "cell_type": "code",
   "execution_count": 52,
   "metadata": {},
   "outputs": [
    {
     "data": {
      "text/plain": [
       "163"
      ]
     },
     "execution_count": 52,
     "metadata": {},
     "output_type": "execute_result"
    }
   ],
   "source": [
    "len(group_data.trial[group_data.subj_idx == 9])"
   ]
  },
  {
   "cell_type": "markdown",
   "metadata": {},
   "source": [
    "## Create Regressor Columns"
   ]
  },
  {
   "cell_type": "code",
   "execution_count": 9,
   "metadata": {
    "ExecuteTime": {
     "end_time": "2017-09-15T11:39:59.640655Z",
     "start_time": "2017-09-15T11:39:59.637170Z"
    },
    "collapsed": true
   },
   "outputs": [],
   "source": [
    "# group_data['type'] = 0\n",
    "# group_data['type'][group_data['multNum'] == 0] = 1\n",
    "# group_data['type'][group_data['multNum'] == 1] = 2\n",
    "# group_data['type'][group_data['multNum'] == 2] = 3"
   ]
  },
  {
   "cell_type": "markdown",
   "metadata": {},
   "source": [
    "## Separate Regressors"
   ]
  },
  {
   "cell_type": "markdown",
   "metadata": {
    "heading_collapsed": true
   },
   "source": [
    "### v2"
   ]
  },
  {
   "cell_type": "code",
   "execution_count": 112,
   "metadata": {
    "ExecuteTime": {
     "end_time": "2017-09-15T11:40:00.626671Z",
     "start_time": "2017-09-15T11:40:00.080128Z"
    },
    "collapsed": true,
    "hidden": true
   },
   "outputs": [
    {
     "name": "stderr",
     "output_type": "stream",
     "text": [
      "/Users/djw/anaconda/lib/python2.7/site-packages/ipykernel/__main__.py:17: SettingWithCopyWarning: \n",
      "A value is trying to be set on a copy of a slice from a DataFrame\n",
      "\n",
      "See the caveats in the documentation: http://pandas.pydata.org/pandas-docs/stable/indexing.html#indexing-view-versus-copy\n",
      "/Users/djw/anaconda/lib/python2.7/site-packages/ipykernel/__main__.py:18: SettingWithCopyWarning: \n",
      "A value is trying to be set on a copy of a slice from a DataFrame\n",
      "\n",
      "See the caveats in the documentation: http://pandas.pydata.org/pandas-docs/stable/indexing.html#indexing-view-versus-copy\n",
      "/Users/djw/anaconda/lib/python2.7/site-packages/ipykernel/__main__.py:19: SettingWithCopyWarning: \n",
      "A value is trying to be set on a copy of a slice from a DataFrame\n",
      "\n",
      "See the caveats in the documentation: http://pandas.pydata.org/pandas-docs/stable/indexing.html#indexing-view-versus-copy\n",
      "/Users/djw/anaconda/lib/python2.7/site-packages/ipykernel/__main__.py:20: SettingWithCopyWarning: \n",
      "A value is trying to be set on a copy of a slice from a DataFrame\n",
      "\n",
      "See the caveats in the documentation: http://pandas.pydata.org/pandas-docs/stable/indexing.html#indexing-view-versus-copy\n",
      "/Users/djw/anaconda/lib/python2.7/site-packages/ipykernel/__main__.py:21: SettingWithCopyWarning: \n",
      "A value is trying to be set on a copy of a slice from a DataFrame\n",
      "\n",
      "See the caveats in the documentation: http://pandas.pydata.org/pandas-docs/stable/indexing.html#indexing-view-versus-copy\n",
      "/Users/djw/anaconda/lib/python2.7/site-packages/ipykernel/__main__.py:22: SettingWithCopyWarning: \n",
      "A value is trying to be set on a copy of a slice from a DataFrame\n",
      "\n",
      "See the caveats in the documentation: http://pandas.pydata.org/pandas-docs/stable/indexing.html#indexing-view-versus-copy\n"
     ]
    }
   ],
   "source": [
    "##separate regressors for rating on trial type##\n",
    "# Values\n",
    "# Taste = Face\n",
    "# Health = House\n",
    "\n",
    "# Conditions\n",
    "# Self = mult0\n",
    "# Sim = mult1\n",
    "# Diff = mult2\n",
    "\n",
    "group_data['face_mult_1'] = 0\n",
    "group_data['face_mult_2'] = 0\n",
    "group_data['face_mult_3'] = 0\n",
    "group_data['house_mult_1'] = 0\n",
    "group_data['house_mult_2'] = 0\n",
    "group_data['house_mult_3'] = 0\n",
    "group_data['face_mult_1'][group_data['mult2Face'] == 1] = group_data['faceVal']\n",
    "group_data['face_mult_2'][group_data['mult2Face'] == 2] = group_data['faceVal']\n",
    "group_data['face_mult_3'][group_data['mult2Face'] == 3] = group_data['faceVal']\n",
    "group_data['house_mult_1'][group_data['mult1House'] == 1] = group_data['houseVal']\n",
    "group_data['house_mult_2'][group_data['mult1House'] == 2] = group_data['houseVal']\n",
    "group_data['house_mult_3'][group_data['mult1House'] == 3] = group_data['houseVal']\n",
    "\n",
    "# group_data.loc[mult_0_index,'face_mult_1'] = group_data.loc[mult_0_index,'faceVal']\n",
    "# group_data.loc[mult_0_index,'house_mult_1'] = group_data.loc[mult_0_index,'houseVal']\n",
    "# group_data.loc[mult_1_index,'face_mult_2'] = group_data.loc[mult_1_index,'faceVal']\n",
    "# group_data.loc[mult_1_index,'house_mult_2'] = group_data.loc[mult_1_index,'houseVal']\n",
    "# group_data.loc[mult_2_index,'face_mult_3'] = group_data.loc[mult_2_index,'faceVal']\n",
    "# group_data.loc[mult_2_index,'house_mult_3'] = group_data.loc[mult_2_index,'houseVal']"
   ]
  },
  {
   "cell_type": "code",
   "execution_count": 119,
   "metadata": {
    "hidden": true
   },
   "outputs": [
    {
     "data": {
      "text/html": [
       "<div>\n",
       "<style scoped>\n",
       "    .dataframe tbody tr th:only-of-type {\n",
       "        vertical-align: middle;\n",
       "    }\n",
       "\n",
       "    .dataframe tbody tr th {\n",
       "        vertical-align: top;\n",
       "    }\n",
       "\n",
       "    .dataframe thead th {\n",
       "        text-align: right;\n",
       "    }\n",
       "</style>\n",
       "<table border=\"1\" class=\"dataframe\">\n",
       "  <thead>\n",
       "    <tr style=\"text-align: right;\">\n",
       "      <th></th>\n",
       "      <th>Trial</th>\n",
       "      <th>correct</th>\n",
       "      <th>faceVal</th>\n",
       "      <th>houseVal</th>\n",
       "      <th>mult1House</th>\n",
       "      <th>mult2Face</th>\n",
       "      <th>summedVal</th>\n",
       "      <th>earnings</th>\n",
       "      <th>imageList</th>\n",
       "      <th>flip</th>\n",
       "      <th>...</th>\n",
       "      <th>10_fixation</th>\n",
       "      <th>11_fixation</th>\n",
       "      <th>12_fixation</th>\n",
       "      <th>13_fixation</th>\n",
       "      <th>face_mult_1</th>\n",
       "      <th>face_mult_2</th>\n",
       "      <th>face_mult_3</th>\n",
       "      <th>house_mult_1</th>\n",
       "      <th>house_mult_2</th>\n",
       "      <th>house_mult_3</th>\n",
       "    </tr>\n",
       "  </thead>\n",
       "  <tbody>\n",
       "    <tr>\n",
       "      <th>0</th>\n",
       "      <td>1</td>\n",
       "      <td>1</td>\n",
       "      <td>0.66</td>\n",
       "      <td>0.86</td>\n",
       "      <td>2</td>\n",
       "      <td>2</td>\n",
       "      <td>3.04</td>\n",
       "      <td>39.60</td>\n",
       "      <td>[1, 0, 1, 0, 1, 0]</td>\n",
       "      <td>2</td>\n",
       "      <td>...</td>\n",
       "      <td>NaN</td>\n",
       "      <td>NaN</td>\n",
       "      <td>NaN</td>\n",
       "      <td>NaN</td>\n",
       "      <td>0.00</td>\n",
       "      <td>0.66</td>\n",
       "      <td>0.00</td>\n",
       "      <td>0.00</td>\n",
       "      <td>0.86</td>\n",
       "      <td>0.00</td>\n",
       "    </tr>\n",
       "    <tr>\n",
       "      <th>1</th>\n",
       "      <td>2</td>\n",
       "      <td>0</td>\n",
       "      <td>0.38</td>\n",
       "      <td>-0.52</td>\n",
       "      <td>1</td>\n",
       "      <td>1</td>\n",
       "      <td>-0.14</td>\n",
       "      <td>39.46</td>\n",
       "      <td>[0, 1, 0]</td>\n",
       "      <td>2</td>\n",
       "      <td>...</td>\n",
       "      <td>NaN</td>\n",
       "      <td>NaN</td>\n",
       "      <td>NaN</td>\n",
       "      <td>NaN</td>\n",
       "      <td>0.38</td>\n",
       "      <td>0.00</td>\n",
       "      <td>0.00</td>\n",
       "      <td>-0.52</td>\n",
       "      <td>0.00</td>\n",
       "      <td>0.00</td>\n",
       "    </tr>\n",
       "    <tr>\n",
       "      <th>2</th>\n",
       "      <td>3</td>\n",
       "      <td>1</td>\n",
       "      <td>0.32</td>\n",
       "      <td>-0.68</td>\n",
       "      <td>1</td>\n",
       "      <td>3</td>\n",
       "      <td>0.28</td>\n",
       "      <td>39.74</td>\n",
       "      <td>[0, 1, 0]</td>\n",
       "      <td>1</td>\n",
       "      <td>...</td>\n",
       "      <td>NaN</td>\n",
       "      <td>NaN</td>\n",
       "      <td>NaN</td>\n",
       "      <td>NaN</td>\n",
       "      <td>0.00</td>\n",
       "      <td>0.00</td>\n",
       "      <td>0.32</td>\n",
       "      <td>-0.68</td>\n",
       "      <td>0.00</td>\n",
       "      <td>0.00</td>\n",
       "    </tr>\n",
       "    <tr>\n",
       "      <th>3</th>\n",
       "      <td>4</td>\n",
       "      <td>1</td>\n",
       "      <td>-0.94</td>\n",
       "      <td>0.42</td>\n",
       "      <td>1</td>\n",
       "      <td>1</td>\n",
       "      <td>-0.52</td>\n",
       "      <td>39.74</td>\n",
       "      <td>[1, 0, 1, 0, 1]</td>\n",
       "      <td>2</td>\n",
       "      <td>...</td>\n",
       "      <td>NaN</td>\n",
       "      <td>NaN</td>\n",
       "      <td>NaN</td>\n",
       "      <td>NaN</td>\n",
       "      <td>-0.94</td>\n",
       "      <td>0.00</td>\n",
       "      <td>0.00</td>\n",
       "      <td>0.42</td>\n",
       "      <td>0.00</td>\n",
       "      <td>0.00</td>\n",
       "    </tr>\n",
       "    <tr>\n",
       "      <th>4</th>\n",
       "      <td>5</td>\n",
       "      <td>1</td>\n",
       "      <td>-0.24</td>\n",
       "      <td>0.28</td>\n",
       "      <td>1</td>\n",
       "      <td>1</td>\n",
       "      <td>0.04</td>\n",
       "      <td>39.78</td>\n",
       "      <td>[0, 1]</td>\n",
       "      <td>2</td>\n",
       "      <td>...</td>\n",
       "      <td>NaN</td>\n",
       "      <td>NaN</td>\n",
       "      <td>NaN</td>\n",
       "      <td>NaN</td>\n",
       "      <td>-0.24</td>\n",
       "      <td>0.00</td>\n",
       "      <td>0.00</td>\n",
       "      <td>0.28</td>\n",
       "      <td>0.00</td>\n",
       "      <td>0.00</td>\n",
       "    </tr>\n",
       "    <tr>\n",
       "      <th>5</th>\n",
       "      <td>6</td>\n",
       "      <td>1</td>\n",
       "      <td>-0.96</td>\n",
       "      <td>0.76</td>\n",
       "      <td>2</td>\n",
       "      <td>1</td>\n",
       "      <td>0.56</td>\n",
       "      <td>40.34</td>\n",
       "      <td>[1, 0, 1]</td>\n",
       "      <td>1</td>\n",
       "      <td>...</td>\n",
       "      <td>NaN</td>\n",
       "      <td>NaN</td>\n",
       "      <td>NaN</td>\n",
       "      <td>NaN</td>\n",
       "      <td>-0.96</td>\n",
       "      <td>0.00</td>\n",
       "      <td>0.00</td>\n",
       "      <td>0.00</td>\n",
       "      <td>0.76</td>\n",
       "      <td>0.00</td>\n",
       "    </tr>\n",
       "    <tr>\n",
       "      <th>6</th>\n",
       "      <td>7</td>\n",
       "      <td>1</td>\n",
       "      <td>0.14</td>\n",
       "      <td>0.12</td>\n",
       "      <td>3</td>\n",
       "      <td>3</td>\n",
       "      <td>0.78</td>\n",
       "      <td>41.12</td>\n",
       "      <td>[1, 0, 1, 0]</td>\n",
       "      <td>2</td>\n",
       "      <td>...</td>\n",
       "      <td>NaN</td>\n",
       "      <td>NaN</td>\n",
       "      <td>NaN</td>\n",
       "      <td>NaN</td>\n",
       "      <td>0.00</td>\n",
       "      <td>0.00</td>\n",
       "      <td>0.14</td>\n",
       "      <td>0.00</td>\n",
       "      <td>0.00</td>\n",
       "      <td>0.12</td>\n",
       "    </tr>\n",
       "    <tr>\n",
       "      <th>7</th>\n",
       "      <td>9</td>\n",
       "      <td>1</td>\n",
       "      <td>-0.86</td>\n",
       "      <td>-0.94</td>\n",
       "      <td>1</td>\n",
       "      <td>1</td>\n",
       "      <td>-1.80</td>\n",
       "      <td>40.38</td>\n",
       "      <td>[1, 0]</td>\n",
       "      <td>2</td>\n",
       "      <td>...</td>\n",
       "      <td>NaN</td>\n",
       "      <td>NaN</td>\n",
       "      <td>NaN</td>\n",
       "      <td>NaN</td>\n",
       "      <td>-0.86</td>\n",
       "      <td>0.00</td>\n",
       "      <td>0.00</td>\n",
       "      <td>-0.94</td>\n",
       "      <td>0.00</td>\n",
       "      <td>0.00</td>\n",
       "    </tr>\n",
       "    <tr>\n",
       "      <th>8</th>\n",
       "      <td>10</td>\n",
       "      <td>0</td>\n",
       "      <td>0.22</td>\n",
       "      <td>-0.38</td>\n",
       "      <td>1</td>\n",
       "      <td>1</td>\n",
       "      <td>-0.16</td>\n",
       "      <td>40.22</td>\n",
       "      <td>[1, 0]</td>\n",
       "      <td>2</td>\n",
       "      <td>...</td>\n",
       "      <td>NaN</td>\n",
       "      <td>NaN</td>\n",
       "      <td>NaN</td>\n",
       "      <td>NaN</td>\n",
       "      <td>0.22</td>\n",
       "      <td>0.00</td>\n",
       "      <td>0.00</td>\n",
       "      <td>-0.38</td>\n",
       "      <td>0.00</td>\n",
       "      <td>0.00</td>\n",
       "    </tr>\n",
       "    <tr>\n",
       "      <th>9</th>\n",
       "      <td>11</td>\n",
       "      <td>1</td>\n",
       "      <td>-0.56</td>\n",
       "      <td>0.40</td>\n",
       "      <td>1</td>\n",
       "      <td>1</td>\n",
       "      <td>-0.16</td>\n",
       "      <td>40.22</td>\n",
       "      <td>[0, 1, 0]</td>\n",
       "      <td>2</td>\n",
       "      <td>...</td>\n",
       "      <td>NaN</td>\n",
       "      <td>NaN</td>\n",
       "      <td>NaN</td>\n",
       "      <td>NaN</td>\n",
       "      <td>-0.56</td>\n",
       "      <td>0.00</td>\n",
       "      <td>0.00</td>\n",
       "      <td>0.40</td>\n",
       "      <td>0.00</td>\n",
       "      <td>0.00</td>\n",
       "    </tr>\n",
       "  </tbody>\n",
       "</table>\n",
       "<p>10 rows × 62 columns</p>\n",
       "</div>"
      ],
      "text/plain": [
       "   Trial  correct  faceVal  houseVal  mult1House  mult2Face  summedVal  \\\n",
       "0      1        1     0.66      0.86           2          2       3.04   \n",
       "1      2        0     0.38     -0.52           1          1      -0.14   \n",
       "2      3        1     0.32     -0.68           1          3       0.28   \n",
       "3      4        1    -0.94      0.42           1          1      -0.52   \n",
       "4      5        1    -0.24      0.28           1          1       0.04   \n",
       "5      6        1    -0.96      0.76           2          1       0.56   \n",
       "6      7        1     0.14      0.12           3          3       0.78   \n",
       "7      9        1    -0.86     -0.94           1          1      -1.80   \n",
       "8     10        0     0.22     -0.38           1          1      -0.16   \n",
       "9     11        1    -0.56      0.40           1          1      -0.16   \n",
       "\n",
       "   earnings           imageList  flip      ...       10_fixation  11_fixation  \\\n",
       "0     39.60  [1, 0, 1, 0, 1, 0]     2      ...               NaN          NaN   \n",
       "1     39.46           [0, 1, 0]     2      ...               NaN          NaN   \n",
       "2     39.74           [0, 1, 0]     1      ...               NaN          NaN   \n",
       "3     39.74     [1, 0, 1, 0, 1]     2      ...               NaN          NaN   \n",
       "4     39.78              [0, 1]     2      ...               NaN          NaN   \n",
       "5     40.34           [1, 0, 1]     1      ...               NaN          NaN   \n",
       "6     41.12        [1, 0, 1, 0]     2      ...               NaN          NaN   \n",
       "7     40.38              [1, 0]     2      ...               NaN          NaN   \n",
       "8     40.22              [1, 0]     2      ...               NaN          NaN   \n",
       "9     40.22           [0, 1, 0]     2      ...               NaN          NaN   \n",
       "\n",
       "   12_fixation  13_fixation face_mult_1  face_mult_2  face_mult_3  \\\n",
       "0          NaN          NaN        0.00         0.66         0.00   \n",
       "1          NaN          NaN        0.38         0.00         0.00   \n",
       "2          NaN          NaN        0.00         0.00         0.32   \n",
       "3          NaN          NaN       -0.94         0.00         0.00   \n",
       "4          NaN          NaN       -0.24         0.00         0.00   \n",
       "5          NaN          NaN       -0.96         0.00         0.00   \n",
       "6          NaN          NaN        0.00         0.00         0.14   \n",
       "7          NaN          NaN       -0.86         0.00         0.00   \n",
       "8          NaN          NaN        0.22         0.00         0.00   \n",
       "9          NaN          NaN       -0.56         0.00         0.00   \n",
       "\n",
       "   house_mult_1  house_mult_2  house_mult_3  \n",
       "0          0.00          0.86          0.00  \n",
       "1         -0.52          0.00          0.00  \n",
       "2         -0.68          0.00          0.00  \n",
       "3          0.42          0.00          0.00  \n",
       "4          0.28          0.00          0.00  \n",
       "5          0.00          0.76          0.00  \n",
       "6          0.00          0.00          0.12  \n",
       "7         -0.94          0.00          0.00  \n",
       "8         -0.38          0.00          0.00  \n",
       "9          0.40          0.00          0.00  \n",
       "\n",
       "[10 rows x 62 columns]"
      ]
     },
     "execution_count": 119,
     "metadata": {},
     "output_type": "execute_result"
    }
   ],
   "source": [
    "group_data.head(10)"
   ]
  },
  {
   "cell_type": "markdown",
   "metadata": {},
   "source": [
    "### v3"
   ]
  },
  {
   "cell_type": "code",
   "execution_count": 16,
   "metadata": {
    "collapsed": true
   },
   "outputs": [
    {
     "name": "stderr",
     "output_type": "stream",
     "text": [
      "/Users/djw/anaconda/lib/python2.7/site-packages/ipykernel/__main__.py:23: SettingWithCopyWarning: \n",
      "A value is trying to be set on a copy of a slice from a DataFrame\n",
      "\n",
      "See the caveats in the documentation: http://pandas.pydata.org/pandas-docs/stable/indexing.html#indexing-view-versus-copy\n",
      "/Users/djw/anaconda/lib/python2.7/site-packages/ipykernel/__main__.py:24: SettingWithCopyWarning: \n",
      "A value is trying to be set on a copy of a slice from a DataFrame\n",
      "\n",
      "See the caveats in the documentation: http://pandas.pydata.org/pandas-docs/stable/indexing.html#indexing-view-versus-copy\n",
      "/Users/djw/anaconda/lib/python2.7/site-packages/ipykernel/__main__.py:25: SettingWithCopyWarning: \n",
      "A value is trying to be set on a copy of a slice from a DataFrame\n",
      "\n",
      "See the caveats in the documentation: http://pandas.pydata.org/pandas-docs/stable/indexing.html#indexing-view-versus-copy\n",
      "/Users/djw/anaconda/lib/python2.7/site-packages/ipykernel/__main__.py:26: SettingWithCopyWarning: \n",
      "A value is trying to be set on a copy of a slice from a DataFrame\n",
      "\n",
      "See the caveats in the documentation: http://pandas.pydata.org/pandas-docs/stable/indexing.html#indexing-view-versus-copy\n",
      "/Users/djw/anaconda/lib/python2.7/site-packages/ipykernel/__main__.py:27: SettingWithCopyWarning: \n",
      "A value is trying to be set on a copy of a slice from a DataFrame\n",
      "\n",
      "See the caveats in the documentation: http://pandas.pydata.org/pandas-docs/stable/indexing.html#indexing-view-versus-copy\n",
      "/Users/djw/anaconda/lib/python2.7/site-packages/ipykernel/__main__.py:28: SettingWithCopyWarning: \n",
      "A value is trying to be set on a copy of a slice from a DataFrame\n",
      "\n",
      "See the caveats in the documentation: http://pandas.pydata.org/pandas-docs/stable/indexing.html#indexing-view-versus-copy\n",
      "/Users/djw/anaconda/lib/python2.7/site-packages/ipykernel/__main__.py:29: SettingWithCopyWarning: \n",
      "A value is trying to be set on a copy of a slice from a DataFrame\n",
      "\n",
      "See the caveats in the documentation: http://pandas.pydata.org/pandas-docs/stable/indexing.html#indexing-view-versus-copy\n",
      "/Users/djw/anaconda/lib/python2.7/site-packages/ipykernel/__main__.py:30: SettingWithCopyWarning: \n",
      "A value is trying to be set on a copy of a slice from a DataFrame\n",
      "\n",
      "See the caveats in the documentation: http://pandas.pydata.org/pandas-docs/stable/indexing.html#indexing-view-versus-copy\n",
      "/Users/djw/anaconda/lib/python2.7/site-packages/ipykernel/__main__.py:31: SettingWithCopyWarning: \n",
      "A value is trying to be set on a copy of a slice from a DataFrame\n",
      "\n",
      "See the caveats in the documentation: http://pandas.pydata.org/pandas-docs/stable/indexing.html#indexing-view-versus-copy\n",
      "/Users/djw/anaconda/lib/python2.7/site-packages/ipykernel/__main__.py:32: SettingWithCopyWarning: \n",
      "A value is trying to be set on a copy of a slice from a DataFrame\n",
      "\n",
      "See the caveats in the documentation: http://pandas.pydata.org/pandas-docs/stable/indexing.html#indexing-view-versus-copy\n",
      "/Users/djw/anaconda/lib/python2.7/site-packages/ipykernel/__main__.py:33: SettingWithCopyWarning: \n",
      "A value is trying to be set on a copy of a slice from a DataFrame\n",
      "\n",
      "See the caveats in the documentation: http://pandas.pydata.org/pandas-docs/stable/indexing.html#indexing-view-versus-copy\n",
      "/Users/djw/anaconda/lib/python2.7/site-packages/ipykernel/__main__.py:34: SettingWithCopyWarning: \n",
      "A value is trying to be set on a copy of a slice from a DataFrame\n",
      "\n",
      "See the caveats in the documentation: http://pandas.pydata.org/pandas-docs/stable/indexing.html#indexing-view-versus-copy\n"
     ]
    }
   ],
   "source": [
    "##separate regressors for rating on trial type##\n",
    "# Values\n",
    "# Taste = Face\n",
    "# Health = House\n",
    "\n",
    "# Conditions\n",
    "# Self = mult0\n",
    "# Sim = mult1\n",
    "# Diff = mult2\n",
    "\n",
    "group_data['face_mult_01'] = 0\n",
    "group_data['face_mult_05'] = 0\n",
    "group_data['face_mult_1'] = 0\n",
    "group_data['face_mult_2'] = 0\n",
    "group_data['face_mult_3'] = 0\n",
    "group_data['face_mult_10'] = 0\n",
    "group_data['house_mult_01'] = 0\n",
    "group_data['house_mult_05'] = 0\n",
    "group_data['house_mult_1'] = 0\n",
    "group_data['house_mult_2'] = 0\n",
    "group_data['house_mult_3'] = 0\n",
    "group_data['house_mult_10'] = 0\n",
    "group_data['face_mult_01'][group_data['face_mult'] == 0.1] = group_data['face_val_base']\n",
    "group_data['face_mult_05'][group_data['face_mult'] == 0.5] = group_data['face_val_base']\n",
    "group_data['face_mult_1'][group_data['face_mult'] == 1] = group_data['face_val_base']\n",
    "group_data['face_mult_2'][group_data['face_mult'] == 2] = group_data['face_val_base']\n",
    "group_data['face_mult_3'][group_data['face_mult'] == 3] = group_data['face_val_base']\n",
    "group_data['face_mult_10'][group_data['face_mult'] == 10] = group_data['face_val_base']\n",
    "group_data['house_mult_01'][group_data['house_mult'] == 0.1] = group_data['house_val_base']\n",
    "group_data['house_mult_05'][group_data['house_mult'] == 0.5] = group_data['house_val_base']\n",
    "group_data['house_mult_1'][group_data['house_mult'] == 1] = group_data['house_val_base']\n",
    "group_data['house_mult_2'][group_data['house_mult'] == 2] = group_data['house_val_base']\n",
    "group_data['house_mult_3'][group_data['house_mult'] == 3] = group_data['house_val_base']\n",
    "group_data['house_mult_10'][group_data['house_mult'] == 10] = group_data['house_val_base']\n",
    "\n",
    "# group_data.loc[mult_0_index,'face_mult_1'] = group_data.loc[mult_0_index,'faceVal']\n",
    "# group_data.loc[mult_0_index,'house_mult_1'] = group_data.loc[mult_0_index,'houseVal']\n",
    "# group_data.loc[mult_1_index,'face_mult_2'] = group_data.loc[mult_1_index,'faceVal']\n",
    "# group_data.loc[mult_1_index,'house_mult_2'] = group_data.loc[mult_1_index,'houseVal']\n",
    "# group_data.loc[mult_2_index,'face_mult_3'] = group_data.loc[mult_2_index,'faceVal']\n",
    "# group_data.loc[mult_2_index,'house_mult_3'] = group_data.loc[mult_2_index,'houseVal']"
   ]
  },
  {
   "cell_type": "code",
   "execution_count": 53,
   "metadata": {
    "collapsed": true
   },
   "outputs": [
    {
     "name": "stderr",
     "output_type": "stream",
     "text": [
      "/Users/djw/anaconda/lib/python2.7/site-packages/ipykernel/__main__.py:12: SettingWithCopyWarning: \n",
      "A value is trying to be set on a copy of a slice from a DataFrame\n",
      "\n",
      "See the caveats in the documentation: http://pandas.pydata.org/pandas-docs/stable/indexing.html#indexing-view-versus-copy\n",
      "/Users/djw/anaconda/lib/python2.7/site-packages/ipykernel/__main__.py:13: SettingWithCopyWarning: \n",
      "A value is trying to be set on a copy of a slice from a DataFrame\n",
      "\n",
      "See the caveats in the documentation: http://pandas.pydata.org/pandas-docs/stable/indexing.html#indexing-view-versus-copy\n",
      "/Users/djw/anaconda/lib/python2.7/site-packages/ipykernel/__main__.py:14: SettingWithCopyWarning: \n",
      "A value is trying to be set on a copy of a slice from a DataFrame\n",
      "\n",
      "See the caveats in the documentation: http://pandas.pydata.org/pandas-docs/stable/indexing.html#indexing-view-versus-copy\n",
      "/Users/djw/anaconda/lib/python2.7/site-packages/ipykernel/__main__.py:16: SettingWithCopyWarning: \n",
      "A value is trying to be set on a copy of a slice from a DataFrame\n",
      "\n",
      "See the caveats in the documentation: http://pandas.pydata.org/pandas-docs/stable/indexing.html#indexing-view-versus-copy\n",
      "/Users/djw/anaconda/lib/python2.7/site-packages/ipykernel/__main__.py:17: SettingWithCopyWarning: \n",
      "A value is trying to be set on a copy of a slice from a DataFrame\n",
      "\n",
      "See the caveats in the documentation: http://pandas.pydata.org/pandas-docs/stable/indexing.html#indexing-view-versus-copy\n",
      "/Users/djw/anaconda/lib/python2.7/site-packages/ipykernel/__main__.py:18: SettingWithCopyWarning: \n",
      "A value is trying to be set on a copy of a slice from a DataFrame\n",
      "\n",
      "See the caveats in the documentation: http://pandas.pydata.org/pandas-docs/stable/indexing.html#indexing-view-versus-copy\n"
     ]
    }
   ],
   "source": [
    "# for v3 with mults 0.5,0.1 and 10 removed\n",
    "\n",
    "\n",
    "group_data['face_mult_1'] = 0\n",
    "group_data['face_mult_2'] = 0\n",
    "group_data['face_mult_3'] = 0\n",
    "\n",
    "group_data['house_mult_1'] = 0\n",
    "group_data['house_mult_2'] = 0\n",
    "group_data['house_mult_3'] = 0\n",
    "\n",
    "group_data['face_mult_1'][group_data['face_mult'] == 1] = group_data['face_val_base']\n",
    "group_data['face_mult_2'][group_data['face_mult'] == 2] = group_data['face_val_base']\n",
    "group_data['face_mult_3'][group_data['face_mult'] == 3] = group_data['face_val_base']\n",
    "\n",
    "group_data['house_mult_1'][group_data['house_mult'] == 1] = group_data['house_val_base']\n",
    "group_data['house_mult_2'][group_data['house_mult'] == 2] = group_data['house_val_base']\n",
    "group_data['house_mult_3'][group_data['house_mult'] == 3] = group_data['house_val_base']"
   ]
  },
  {
   "cell_type": "code",
   "execution_count": 54,
   "metadata": {},
   "outputs": [
    {
     "data": {
      "text/plain": [
       "array([0, 1])"
      ]
     },
     "execution_count": 54,
     "metadata": {},
     "output_type": "execute_result"
    }
   ],
   "source": [
    "np.unique(group_data.response)"
   ]
  },
  {
   "cell_type": "code",
   "execution_count": 55,
   "metadata": {
    "collapsed": true
   },
   "outputs": [
    {
     "data": {
      "text/html": [
       "<div>\n",
       "<style scoped>\n",
       "    .dataframe tbody tr th:only-of-type {\n",
       "        vertical-align: middle;\n",
       "    }\n",
       "\n",
       "    .dataframe tbody tr th {\n",
       "        vertical-align: top;\n",
       "    }\n",
       "\n",
       "    .dataframe thead th {\n",
       "        text-align: right;\n",
       "    }\n",
       "</style>\n",
       "<table border=\"1\" class=\"dataframe\">\n",
       "  <thead>\n",
       "    <tr style=\"text-align: right;\">\n",
       "      <th></th>\n",
       "      <th>response</th>\n",
       "      <th>correct</th>\n",
       "      <th>earnings</th>\n",
       "      <th>face_mult</th>\n",
       "      <th>face_val_base</th>\n",
       "      <th>first_image</th>\n",
       "      <th>house_mult</th>\n",
       "      <th>house_val_base</th>\n",
       "      <th>image_list</th>\n",
       "      <th>key_entry_list</th>\n",
       "      <th>...</th>\n",
       "      <th>faceTotal</th>\n",
       "      <th>houseTotal</th>\n",
       "      <th>total_0_face</th>\n",
       "      <th>total_1_house</th>\n",
       "      <th>face_mult_1</th>\n",
       "      <th>face_mult_2</th>\n",
       "      <th>face_mult_3</th>\n",
       "      <th>house_mult_1</th>\n",
       "      <th>house_mult_2</th>\n",
       "      <th>house_mult_3</th>\n",
       "    </tr>\n",
       "  </thead>\n",
       "  <tbody>\n",
       "    <tr>\n",
       "      <th>2</th>\n",
       "      <td>0</td>\n",
       "      <td>1</td>\n",
       "      <td>-10.646</td>\n",
       "      <td>1.0</td>\n",
       "      <td>-0.40</td>\n",
       "      <td>0</td>\n",
       "      <td>1.0</td>\n",
       "      <td>-0.78</td>\n",
       "      <td>[0, 1, 0, 1]</td>\n",
       "      <td>['space', 'space', 'space', 'j']</td>\n",
       "      <td>...</td>\n",
       "      <td>-0.40</td>\n",
       "      <td>-0.78</td>\n",
       "      <td>0.916934</td>\n",
       "      <td>2.099861</td>\n",
       "      <td>-0.40</td>\n",
       "      <td>0.0</td>\n",
       "      <td>0.0</td>\n",
       "      <td>-0.78</td>\n",
       "      <td>0.00</td>\n",
       "      <td>0.0</td>\n",
       "    </tr>\n",
       "    <tr>\n",
       "      <th>5</th>\n",
       "      <td>1</td>\n",
       "      <td>1</td>\n",
       "      <td>-9.786</td>\n",
       "      <td>1.0</td>\n",
       "      <td>0.18</td>\n",
       "      <td>1</td>\n",
       "      <td>1.0</td>\n",
       "      <td>0.68</td>\n",
       "      <td>[1, 0]</td>\n",
       "      <td>['space', 'f']</td>\n",
       "      <td>...</td>\n",
       "      <td>0.18</td>\n",
       "      <td>0.68</td>\n",
       "      <td>1.533349</td>\n",
       "      <td>1.466911</td>\n",
       "      <td>0.18</td>\n",
       "      <td>0.0</td>\n",
       "      <td>0.0</td>\n",
       "      <td>0.68</td>\n",
       "      <td>0.00</td>\n",
       "      <td>0.0</td>\n",
       "    </tr>\n",
       "    <tr>\n",
       "      <th>6</th>\n",
       "      <td>0</td>\n",
       "      <td>1</td>\n",
       "      <td>-9.786</td>\n",
       "      <td>1.0</td>\n",
       "      <td>-0.14</td>\n",
       "      <td>1</td>\n",
       "      <td>1.0</td>\n",
       "      <td>-0.62</td>\n",
       "      <td>[1, 0, 1, 0, 1]</td>\n",
       "      <td>['space', 'space', 'space', 'space', 'j']</td>\n",
       "      <td>...</td>\n",
       "      <td>-0.14</td>\n",
       "      <td>-0.62</td>\n",
       "      <td>1.299840</td>\n",
       "      <td>3.150420</td>\n",
       "      <td>-0.14</td>\n",
       "      <td>0.0</td>\n",
       "      <td>0.0</td>\n",
       "      <td>-0.62</td>\n",
       "      <td>0.00</td>\n",
       "      <td>0.0</td>\n",
       "    </tr>\n",
       "    <tr>\n",
       "      <th>8</th>\n",
       "      <td>1</td>\n",
       "      <td>1</td>\n",
       "      <td>-8.448</td>\n",
       "      <td>1.0</td>\n",
       "      <td>0.42</td>\n",
       "      <td>0</td>\n",
       "      <td>1.0</td>\n",
       "      <td>0.54</td>\n",
       "      <td>[0, 1, 0]</td>\n",
       "      <td>['space', 'space', 'f']</td>\n",
       "      <td>...</td>\n",
       "      <td>0.42</td>\n",
       "      <td>0.54</td>\n",
       "      <td>1.583429</td>\n",
       "      <td>0.633473</td>\n",
       "      <td>0.42</td>\n",
       "      <td>0.0</td>\n",
       "      <td>0.0</td>\n",
       "      <td>0.54</td>\n",
       "      <td>0.00</td>\n",
       "      <td>0.0</td>\n",
       "    </tr>\n",
       "    <tr>\n",
       "      <th>14</th>\n",
       "      <td>0</td>\n",
       "      <td>1</td>\n",
       "      <td>-1.680</td>\n",
       "      <td>1.0</td>\n",
       "      <td>0.14</td>\n",
       "      <td>1</td>\n",
       "      <td>2.0</td>\n",
       "      <td>-0.14</td>\n",
       "      <td>[1, 0, 1, 0, 1, 0, 1]</td>\n",
       "      <td>['space', 'space', 'space', 'space', 'space', ...</td>\n",
       "      <td>...</td>\n",
       "      <td>0.14</td>\n",
       "      <td>-0.28</td>\n",
       "      <td>3.283639</td>\n",
       "      <td>6.049981</td>\n",
       "      <td>0.14</td>\n",
       "      <td>0.0</td>\n",
       "      <td>0.0</td>\n",
       "      <td>0.00</td>\n",
       "      <td>-0.14</td>\n",
       "      <td>0.0</td>\n",
       "    </tr>\n",
       "    <tr>\n",
       "      <th>19</th>\n",
       "      <td>1</td>\n",
       "      <td>1</td>\n",
       "      <td>3.310</td>\n",
       "      <td>1.0</td>\n",
       "      <td>-0.50</td>\n",
       "      <td>1</td>\n",
       "      <td>1.0</td>\n",
       "      <td>0.50</td>\n",
       "      <td>[1, 0, 1]</td>\n",
       "      <td>['space', 'space', 'f']</td>\n",
       "      <td>...</td>\n",
       "      <td>-0.50</td>\n",
       "      <td>0.50</td>\n",
       "      <td>0.866646</td>\n",
       "      <td>2.683488</td>\n",
       "      <td>-0.50</td>\n",
       "      <td>0.0</td>\n",
       "      <td>0.0</td>\n",
       "      <td>0.50</td>\n",
       "      <td>0.00</td>\n",
       "      <td>0.0</td>\n",
       "    </tr>\n",
       "    <tr>\n",
       "      <th>21</th>\n",
       "      <td>1</td>\n",
       "      <td>0</td>\n",
       "      <td>2.530</td>\n",
       "      <td>2.0</td>\n",
       "      <td>0.00</td>\n",
       "      <td>1</td>\n",
       "      <td>1.0</td>\n",
       "      <td>-0.78</td>\n",
       "      <td>[1, 0]</td>\n",
       "      <td>['space', 'f']</td>\n",
       "      <td>...</td>\n",
       "      <td>0.00</td>\n",
       "      <td>-0.78</td>\n",
       "      <td>2.216644</td>\n",
       "      <td>2.083658</td>\n",
       "      <td>0.00</td>\n",
       "      <td>0.0</td>\n",
       "      <td>0.0</td>\n",
       "      <td>-0.78</td>\n",
       "      <td>0.00</td>\n",
       "      <td>0.0</td>\n",
       "    </tr>\n",
       "    <tr>\n",
       "      <th>22</th>\n",
       "      <td>0</td>\n",
       "      <td>1</td>\n",
       "      <td>2.530</td>\n",
       "      <td>1.0</td>\n",
       "      <td>-0.44</td>\n",
       "      <td>0</td>\n",
       "      <td>1.0</td>\n",
       "      <td>-0.22</td>\n",
       "      <td>[0, 1, 0]</td>\n",
       "      <td>['space', 'space', 'j']</td>\n",
       "      <td>...</td>\n",
       "      <td>-0.44</td>\n",
       "      <td>-0.22</td>\n",
       "      <td>2.833614</td>\n",
       "      <td>0.866662</td>\n",
       "      <td>-0.44</td>\n",
       "      <td>0.0</td>\n",
       "      <td>0.0</td>\n",
       "      <td>-0.22</td>\n",
       "      <td>0.00</td>\n",
       "      <td>0.0</td>\n",
       "    </tr>\n",
       "    <tr>\n",
       "      <th>24</th>\n",
       "      <td>0</td>\n",
       "      <td>1</td>\n",
       "      <td>2.512</td>\n",
       "      <td>1.0</td>\n",
       "      <td>-0.96</td>\n",
       "      <td>0</td>\n",
       "      <td>2.0</td>\n",
       "      <td>-0.90</td>\n",
       "      <td>[0, 1, 0]</td>\n",
       "      <td>['space', 'space', 'j']</td>\n",
       "      <td>...</td>\n",
       "      <td>-0.96</td>\n",
       "      <td>-1.80</td>\n",
       "      <td>3.250133</td>\n",
       "      <td>0.766667</td>\n",
       "      <td>-0.96</td>\n",
       "      <td>0.0</td>\n",
       "      <td>0.0</td>\n",
       "      <td>0.00</td>\n",
       "      <td>-0.90</td>\n",
       "      <td>0.0</td>\n",
       "    </tr>\n",
       "    <tr>\n",
       "      <th>28</th>\n",
       "      <td>1</td>\n",
       "      <td>0</td>\n",
       "      <td>14.302</td>\n",
       "      <td>1.0</td>\n",
       "      <td>-0.76</td>\n",
       "      <td>0</td>\n",
       "      <td>1.0</td>\n",
       "      <td>-0.14</td>\n",
       "      <td>[0, 1, 0]</td>\n",
       "      <td>['space', 'space', 'f']</td>\n",
       "      <td>...</td>\n",
       "      <td>-0.76</td>\n",
       "      <td>-0.14</td>\n",
       "      <td>5.050291</td>\n",
       "      <td>1.166654</td>\n",
       "      <td>-0.76</td>\n",
       "      <td>0.0</td>\n",
       "      <td>0.0</td>\n",
       "      <td>-0.14</td>\n",
       "      <td>0.00</td>\n",
       "      <td>0.0</td>\n",
       "    </tr>\n",
       "  </tbody>\n",
       "</table>\n",
       "<p>10 rows × 100 columns</p>\n",
       "</div>"
      ],
      "text/plain": [
       "    response  correct  earnings  face_mult  face_val_base  first_image  \\\n",
       "2          0        1   -10.646        1.0          -0.40            0   \n",
       "5          1        1    -9.786        1.0           0.18            1   \n",
       "6          0        1    -9.786        1.0          -0.14            1   \n",
       "8          1        1    -8.448        1.0           0.42            0   \n",
       "14         0        1    -1.680        1.0           0.14            1   \n",
       "19         1        1     3.310        1.0          -0.50            1   \n",
       "21         1        0     2.530        2.0           0.00            1   \n",
       "22         0        1     2.530        1.0          -0.44            0   \n",
       "24         0        1     2.512        1.0          -0.96            0   \n",
       "28         1        0    14.302        1.0          -0.76            0   \n",
       "\n",
       "    house_mult  house_val_base             image_list  \\\n",
       "2          1.0           -0.78           [0, 1, 0, 1]   \n",
       "5          1.0            0.68                 [1, 0]   \n",
       "6          1.0           -0.62        [1, 0, 1, 0, 1]   \n",
       "8          1.0            0.54              [0, 1, 0]   \n",
       "14         2.0           -0.14  [1, 0, 1, 0, 1, 0, 1]   \n",
       "19         1.0            0.50              [1, 0, 1]   \n",
       "21         1.0           -0.78                 [1, 0]   \n",
       "22         1.0           -0.22              [0, 1, 0]   \n",
       "24         2.0           -0.90              [0, 1, 0]   \n",
       "28         1.0           -0.14              [0, 1, 0]   \n",
       "\n",
       "                                       key_entry_list      ...       \\\n",
       "2                    ['space', 'space', 'space', 'j']      ...        \n",
       "5                                      ['space', 'f']      ...        \n",
       "6           ['space', 'space', 'space', 'space', 'j']      ...        \n",
       "8                             ['space', 'space', 'f']      ...        \n",
       "14  ['space', 'space', 'space', 'space', 'space', ...      ...        \n",
       "19                            ['space', 'space', 'f']      ...        \n",
       "21                                     ['space', 'f']      ...        \n",
       "22                            ['space', 'space', 'j']      ...        \n",
       "24                            ['space', 'space', 'j']      ...        \n",
       "28                            ['space', 'space', 'f']      ...        \n",
       "\n",
       "    faceTotal  houseTotal  total_0_face  total_1_house  face_mult_1  \\\n",
       "2       -0.40       -0.78      0.916934       2.099861        -0.40   \n",
       "5        0.18        0.68      1.533349       1.466911         0.18   \n",
       "6       -0.14       -0.62      1.299840       3.150420        -0.14   \n",
       "8        0.42        0.54      1.583429       0.633473         0.42   \n",
       "14       0.14       -0.28      3.283639       6.049981         0.14   \n",
       "19      -0.50        0.50      0.866646       2.683488        -0.50   \n",
       "21       0.00       -0.78      2.216644       2.083658         0.00   \n",
       "22      -0.44       -0.22      2.833614       0.866662        -0.44   \n",
       "24      -0.96       -1.80      3.250133       0.766667        -0.96   \n",
       "28      -0.76       -0.14      5.050291       1.166654        -0.76   \n",
       "\n",
       "   face_mult_2  face_mult_3  house_mult_1  house_mult_2  house_mult_3  \n",
       "2          0.0          0.0         -0.78          0.00           0.0  \n",
       "5          0.0          0.0          0.68          0.00           0.0  \n",
       "6          0.0          0.0         -0.62          0.00           0.0  \n",
       "8          0.0          0.0          0.54          0.00           0.0  \n",
       "14         0.0          0.0          0.00         -0.14           0.0  \n",
       "19         0.0          0.0          0.50          0.00           0.0  \n",
       "21         0.0          0.0         -0.78          0.00           0.0  \n",
       "22         0.0          0.0         -0.22          0.00           0.0  \n",
       "24         0.0          0.0          0.00         -0.90           0.0  \n",
       "28         0.0          0.0         -0.14          0.00           0.0  \n",
       "\n",
       "[10 rows x 100 columns]"
      ]
     },
     "execution_count": 55,
     "metadata": {},
     "output_type": "execute_result"
    }
   ],
   "source": [
    "group_data.head(10)"
   ]
  },
  {
   "cell_type": "markdown",
   "metadata": {
    "heading_collapsed": true
   },
   "source": [
    "### v4"
   ]
  },
  {
   "cell_type": "code",
   "execution_count": 84,
   "metadata": {
    "hidden": true,
    "scrolled": true
   },
   "outputs": [
    {
     "name": "stderr",
     "output_type": "stream",
     "text": [
      "/Users/djw/anaconda/lib/python2.7/site-packages/ipykernel/__main__.py:17: SettingWithCopyWarning: \n",
      "A value is trying to be set on a copy of a slice from a DataFrame\n",
      "\n",
      "See the caveats in the documentation: http://pandas.pydata.org/pandas-docs/stable/indexing.html#indexing-view-versus-copy\n",
      "/Users/djw/anaconda/lib/python2.7/site-packages/ipykernel/__main__.py:18: SettingWithCopyWarning: \n",
      "A value is trying to be set on a copy of a slice from a DataFrame\n",
      "\n",
      "See the caveats in the documentation: http://pandas.pydata.org/pandas-docs/stable/indexing.html#indexing-view-versus-copy\n",
      "/Users/djw/anaconda/lib/python2.7/site-packages/ipykernel/__main__.py:19: SettingWithCopyWarning: \n",
      "A value is trying to be set on a copy of a slice from a DataFrame\n",
      "\n",
      "See the caveats in the documentation: http://pandas.pydata.org/pandas-docs/stable/indexing.html#indexing-view-versus-copy\n",
      "/Users/djw/anaconda/lib/python2.7/site-packages/ipykernel/__main__.py:20: SettingWithCopyWarning: \n",
      "A value is trying to be set on a copy of a slice from a DataFrame\n",
      "\n",
      "See the caveats in the documentation: http://pandas.pydata.org/pandas-docs/stable/indexing.html#indexing-view-versus-copy\n",
      "/Users/djw/anaconda/lib/python2.7/site-packages/ipykernel/__main__.py:21: SettingWithCopyWarning: \n",
      "A value is trying to be set on a copy of a slice from a DataFrame\n",
      "\n",
      "See the caveats in the documentation: http://pandas.pydata.org/pandas-docs/stable/indexing.html#indexing-view-versus-copy\n",
      "/Users/djw/anaconda/lib/python2.7/site-packages/ipykernel/__main__.py:22: SettingWithCopyWarning: \n",
      "A value is trying to be set on a copy of a slice from a DataFrame\n",
      "\n",
      "See the caveats in the documentation: http://pandas.pydata.org/pandas-docs/stable/indexing.html#indexing-view-versus-copy\n"
     ]
    }
   ],
   "source": [
    "##separate regressors for rating on trial type##\n",
    "# Values\n",
    "# Taste = Face\n",
    "# Health = House\n",
    "\n",
    "# Conditions\n",
    "# Self = mult0\n",
    "# Sim = mult1\n",
    "# Diff = mult2\n",
    "\n",
    "group_data['face_mult_1'] = 0\n",
    "group_data['face_mult_2'] = 0\n",
    "group_data['face_mult_3'] = 0\n",
    "group_data['house_mult_1'] = 0\n",
    "group_data['house_mult_2'] = 0\n",
    "group_data['house_mult_3'] = 0\n",
    "group_data['face_mult_1'][group_data['face_mult'] == 1] = group_data['face_val']\n",
    "group_data['face_mult_2'][group_data['face_mult'] == 2] = group_data['face_val']\n",
    "group_data['face_mult_3'][group_data['face_mult'] == 3] = group_data['face_val']\n",
    "group_data['house_mult_1'][group_data['house_mult'] == 1] = group_data['house_val']\n",
    "group_data['house_mult_2'][group_data['house_mult'] == 2] = group_data['house_val']\n",
    "group_data['house_mult_3'][group_data['house_mult'] == 3] = group_data['house_val']\n",
    "\n",
    "# group_data.loc[mult_0_index,'face_mult_1'] = group_data.loc[mult_0_index,'faceVal']\n",
    "# group_data.loc[mult_0_index,'house_mult_1'] = group_data.loc[mult_0_index,'houseVal']\n",
    "# group_data.loc[mult_1_index,'face_mult_2'] = group_data.loc[mult_1_index,'faceVal']\n",
    "# group_data.loc[mult_1_index,'house_mult_2'] = group_data.loc[mult_1_index,'houseVal']\n",
    "# group_data.loc[mult_2_index,'face_mult_3'] = group_data.loc[mult_2_index,'faceVal']\n",
    "# group_data.loc[mult_2_index,'house_mult_3'] = group_data.loc[mult_2_index,'houseVal']"
   ]
  },
  {
   "cell_type": "markdown",
   "metadata": {
    "heading_collapsed": true
   },
   "source": [
    "### New DF"
   ]
  },
  {
   "cell_type": "code",
   "execution_count": 39,
   "metadata": {
    "collapsed": true,
    "hidden": true
   },
   "outputs": [
    {
     "data": {
      "text/plain": [
       "['response',\n",
       " 'correct',\n",
       " 'earnings',\n",
       " 'face_mult',\n",
       " 'face_val_base',\n",
       " 'first_image',\n",
       " 'house_mult',\n",
       " 'house_val_base',\n",
       " 'image_list',\n",
       " 'key_entry_list',\n",
       " 'last_image',\n",
       " 'num_fixations',\n",
       " 'participant',\n",
       " 'round_num',\n",
       " 'rt',\n",
       " 'rt_list',\n",
       " 'summed_val',\n",
       " 'trial',\n",
       " 'face_val_total',\n",
       " 'house_val_total',\n",
       " 'total_fix_face_0',\n",
       " 'total_fix_house_1',\n",
       " 'final_earnings',\n",
       " 'abs_diff',\n",
       " 'fix_num',\n",
       " 'first_val',\n",
       " 'second_val',\n",
       " 'first_mult',\n",
       " 'second_mult',\n",
       " '1_fixation',\n",
       " '2_fixation',\n",
       " '3_fixation',\n",
       " '4_fixation',\n",
       " '5_fixation',\n",
       " '6_fixation',\n",
       " '7_fixation',\n",
       " '8_fixation',\n",
       " '9_fixation',\n",
       " '10_fixation',\n",
       " '11_fixation',\n",
       " '12_fixation',\n",
       " '13_fixation',\n",
       " '14_fixation',\n",
       " '15_fixation',\n",
       " '16_fixation',\n",
       " '17_fixation',\n",
       " '18_fixation',\n",
       " '19_fixation',\n",
       " '20_fixation',\n",
       " '21_fixation',\n",
       " '22_fixation',\n",
       " '23_fixation',\n",
       " '24_fixation',\n",
       " '25_fixation',\n",
       " '26_fixation',\n",
       " '27_fixation',\n",
       " '28_fixation',\n",
       " 'face_mult_01',\n",
       " 'face_mult_05',\n",
       " 'face_mult_1',\n",
       " 'face_mult_2',\n",
       " 'face_mult_3',\n",
       " 'face_mult_10',\n",
       " 'house_mult_01',\n",
       " 'house_mult_05',\n",
       " 'house_mult_1',\n",
       " 'house_mult_2',\n",
       " 'house_mult_3',\n",
       " 'house_mult_10']"
      ]
     },
     "execution_count": 39,
     "metadata": {},
     "output_type": "execute_result"
    }
   ],
   "source": [
    "list(group_data)"
   ]
  },
  {
   "cell_type": "code",
   "execution_count": 41,
   "metadata": {
    "hidden": true
   },
   "outputs": [
    {
     "data": {
      "text/plain": [
       "376"
      ]
     },
     "execution_count": 41,
     "metadata": {},
     "output_type": "execute_result"
    }
   ],
   "source": [
    "len(group_data.trial[group_data.participant==22])"
   ]
  },
  {
   "cell_type": "code",
   "execution_count": 85,
   "metadata": {
    "ExecuteTime": {
     "end_time": "2017-09-15T11:40:00.728074Z",
     "start_time": "2017-09-15T11:40:00.629772Z"
    },
    "hidden": true
   },
   "outputs": [
    {
     "data": {
      "text/html": [
       "<div>\n",
       "<style scoped>\n",
       "    .dataframe tbody tr th:only-of-type {\n",
       "        vertical-align: middle;\n",
       "    }\n",
       "\n",
       "    .dataframe tbody tr th {\n",
       "        vertical-align: top;\n",
       "    }\n",
       "\n",
       "    .dataframe thead th {\n",
       "        text-align: right;\n",
       "    }\n",
       "</style>\n",
       "<table border=\"1\" class=\"dataframe\">\n",
       "  <thead>\n",
       "    <tr style=\"text-align: right;\">\n",
       "      <th></th>\n",
       "      <th>correct</th>\n",
       "      <th>earnings</th>\n",
       "      <th>trial</th>\n",
       "      <th>face_val</th>\n",
       "      <th>house_val</th>\n",
       "      <th>house_mult</th>\n",
       "      <th>face_mult</th>\n",
       "      <th>summed_val</th>\n",
       "      <th>image_list</th>\n",
       "      <th>key_entry_list</th>\n",
       "      <th>...</th>\n",
       "      <th>14_fixation</th>\n",
       "      <th>15_fixation</th>\n",
       "      <th>mean_fix</th>\n",
       "      <th>response</th>\n",
       "      <th>face_mult_1</th>\n",
       "      <th>face_mult_2</th>\n",
       "      <th>face_mult_3</th>\n",
       "      <th>house_mult_1</th>\n",
       "      <th>house_mult_2</th>\n",
       "      <th>house_mult_3</th>\n",
       "    </tr>\n",
       "  </thead>\n",
       "  <tbody>\n",
       "    <tr>\n",
       "      <th>0</th>\n",
       "      <td>1</td>\n",
       "      <td>0.50</td>\n",
       "      <td>1</td>\n",
       "      <td>0.75</td>\n",
       "      <td>-0.25</td>\n",
       "      <td>1</td>\n",
       "      <td>1</td>\n",
       "      <td>0.50</td>\n",
       "      <td>[0, 1]</td>\n",
       "      <td>['space', 'f']</td>\n",
       "      <td>...</td>\n",
       "      <td>NaN</td>\n",
       "      <td>NaN</td>\n",
       "      <td>2.803509</td>\n",
       "      <td>1</td>\n",
       "      <td>0.75</td>\n",
       "      <td>0.00</td>\n",
       "      <td>0.00</td>\n",
       "      <td>-0.25</td>\n",
       "      <td>0.0</td>\n",
       "      <td>0.0</td>\n",
       "    </tr>\n",
       "    <tr>\n",
       "      <th>1</th>\n",
       "      <td>1</td>\n",
       "      <td>0.50</td>\n",
       "      <td>2</td>\n",
       "      <td>-0.75</td>\n",
       "      <td>-0.75</td>\n",
       "      <td>1</td>\n",
       "      <td>1</td>\n",
       "      <td>-1.50</td>\n",
       "      <td>[0, 1]</td>\n",
       "      <td>['space', 'j']</td>\n",
       "      <td>...</td>\n",
       "      <td>NaN</td>\n",
       "      <td>NaN</td>\n",
       "      <td>2.803509</td>\n",
       "      <td>0</td>\n",
       "      <td>-0.75</td>\n",
       "      <td>0.00</td>\n",
       "      <td>0.00</td>\n",
       "      <td>-0.75</td>\n",
       "      <td>0.0</td>\n",
       "      <td>0.0</td>\n",
       "    </tr>\n",
       "    <tr>\n",
       "      <th>2</th>\n",
       "      <td>1</td>\n",
       "      <td>2.50</td>\n",
       "      <td>3</td>\n",
       "      <td>0.75</td>\n",
       "      <td>-0.25</td>\n",
       "      <td>1</td>\n",
       "      <td>3</td>\n",
       "      <td>2.00</td>\n",
       "      <td>[1, 0]</td>\n",
       "      <td>['space', 'f']</td>\n",
       "      <td>...</td>\n",
       "      <td>NaN</td>\n",
       "      <td>NaN</td>\n",
       "      <td>2.803509</td>\n",
       "      <td>1</td>\n",
       "      <td>0.00</td>\n",
       "      <td>0.00</td>\n",
       "      <td>0.75</td>\n",
       "      <td>-0.25</td>\n",
       "      <td>0.0</td>\n",
       "      <td>0.0</td>\n",
       "    </tr>\n",
       "    <tr>\n",
       "      <th>3</th>\n",
       "      <td>1</td>\n",
       "      <td>2.50</td>\n",
       "      <td>4</td>\n",
       "      <td>-0.25</td>\n",
       "      <td>0.50</td>\n",
       "      <td>1</td>\n",
       "      <td>3</td>\n",
       "      <td>-0.25</td>\n",
       "      <td>[0, 1]</td>\n",
       "      <td>['space', 'j']</td>\n",
       "      <td>...</td>\n",
       "      <td>NaN</td>\n",
       "      <td>NaN</td>\n",
       "      <td>2.803509</td>\n",
       "      <td>0</td>\n",
       "      <td>0.00</td>\n",
       "      <td>0.00</td>\n",
       "      <td>-0.25</td>\n",
       "      <td>0.50</td>\n",
       "      <td>0.0</td>\n",
       "      <td>0.0</td>\n",
       "    </tr>\n",
       "    <tr>\n",
       "      <th>4</th>\n",
       "      <td>1</td>\n",
       "      <td>2.50</td>\n",
       "      <td>5</td>\n",
       "      <td>-0.75</td>\n",
       "      <td>0.00</td>\n",
       "      <td>1</td>\n",
       "      <td>3</td>\n",
       "      <td>-2.25</td>\n",
       "      <td>[1, 0]</td>\n",
       "      <td>['space', 'j']</td>\n",
       "      <td>...</td>\n",
       "      <td>NaN</td>\n",
       "      <td>NaN</td>\n",
       "      <td>2.803509</td>\n",
       "      <td>0</td>\n",
       "      <td>0.00</td>\n",
       "      <td>0.00</td>\n",
       "      <td>-0.75</td>\n",
       "      <td>0.00</td>\n",
       "      <td>0.0</td>\n",
       "      <td>0.0</td>\n",
       "    </tr>\n",
       "    <tr>\n",
       "      <th>5</th>\n",
       "      <td>1</td>\n",
       "      <td>4.25</td>\n",
       "      <td>6</td>\n",
       "      <td>0.75</td>\n",
       "      <td>-0.50</td>\n",
       "      <td>1</td>\n",
       "      <td>3</td>\n",
       "      <td>1.75</td>\n",
       "      <td>[1, 0]</td>\n",
       "      <td>['space', 'f']</td>\n",
       "      <td>...</td>\n",
       "      <td>NaN</td>\n",
       "      <td>NaN</td>\n",
       "      <td>2.803509</td>\n",
       "      <td>1</td>\n",
       "      <td>0.00</td>\n",
       "      <td>0.00</td>\n",
       "      <td>0.75</td>\n",
       "      <td>-0.50</td>\n",
       "      <td>0.0</td>\n",
       "      <td>0.0</td>\n",
       "    </tr>\n",
       "    <tr>\n",
       "      <th>6</th>\n",
       "      <td>1</td>\n",
       "      <td>4.25</td>\n",
       "      <td>7</td>\n",
       "      <td>0.25</td>\n",
       "      <td>-0.75</td>\n",
       "      <td>1</td>\n",
       "      <td>1</td>\n",
       "      <td>-0.50</td>\n",
       "      <td>[0, 1]</td>\n",
       "      <td>['space', 'j']</td>\n",
       "      <td>...</td>\n",
       "      <td>NaN</td>\n",
       "      <td>NaN</td>\n",
       "      <td>2.803509</td>\n",
       "      <td>0</td>\n",
       "      <td>0.25</td>\n",
       "      <td>0.00</td>\n",
       "      <td>0.00</td>\n",
       "      <td>-0.75</td>\n",
       "      <td>0.0</td>\n",
       "      <td>0.0</td>\n",
       "    </tr>\n",
       "    <tr>\n",
       "      <th>7</th>\n",
       "      <td>1</td>\n",
       "      <td>4.50</td>\n",
       "      <td>8</td>\n",
       "      <td>0.25</td>\n",
       "      <td>0.00</td>\n",
       "      <td>1</td>\n",
       "      <td>1</td>\n",
       "      <td>0.25</td>\n",
       "      <td>[0, 1]</td>\n",
       "      <td>['space', 'f']</td>\n",
       "      <td>...</td>\n",
       "      <td>NaN</td>\n",
       "      <td>NaN</td>\n",
       "      <td>2.803509</td>\n",
       "      <td>1</td>\n",
       "      <td>0.25</td>\n",
       "      <td>0.00</td>\n",
       "      <td>0.00</td>\n",
       "      <td>0.00</td>\n",
       "      <td>0.0</td>\n",
       "      <td>0.0</td>\n",
       "    </tr>\n",
       "    <tr>\n",
       "      <th>8</th>\n",
       "      <td>1</td>\n",
       "      <td>4.50</td>\n",
       "      <td>9</td>\n",
       "      <td>-0.75</td>\n",
       "      <td>0.25</td>\n",
       "      <td>1</td>\n",
       "      <td>1</td>\n",
       "      <td>-0.50</td>\n",
       "      <td>[0, 1]</td>\n",
       "      <td>['space', 'j']</td>\n",
       "      <td>...</td>\n",
       "      <td>NaN</td>\n",
       "      <td>NaN</td>\n",
       "      <td>2.803509</td>\n",
       "      <td>0</td>\n",
       "      <td>-0.75</td>\n",
       "      <td>0.00</td>\n",
       "      <td>0.00</td>\n",
       "      <td>0.25</td>\n",
       "      <td>0.0</td>\n",
       "      <td>0.0</td>\n",
       "    </tr>\n",
       "    <tr>\n",
       "      <th>9</th>\n",
       "      <td>1</td>\n",
       "      <td>5.50</td>\n",
       "      <td>10</td>\n",
       "      <td>0.25</td>\n",
       "      <td>0.25</td>\n",
       "      <td>1</td>\n",
       "      <td>3</td>\n",
       "      <td>1.00</td>\n",
       "      <td>[1, 0]</td>\n",
       "      <td>['space', 'f']</td>\n",
       "      <td>...</td>\n",
       "      <td>NaN</td>\n",
       "      <td>NaN</td>\n",
       "      <td>2.803509</td>\n",
       "      <td>1</td>\n",
       "      <td>0.00</td>\n",
       "      <td>0.00</td>\n",
       "      <td>0.25</td>\n",
       "      <td>0.25</td>\n",
       "      <td>0.0</td>\n",
       "      <td>0.0</td>\n",
       "    </tr>\n",
       "    <tr>\n",
       "      <th>10</th>\n",
       "      <td>1</td>\n",
       "      <td>8.25</td>\n",
       "      <td>11</td>\n",
       "      <td>1.00</td>\n",
       "      <td>0.75</td>\n",
       "      <td>1</td>\n",
       "      <td>2</td>\n",
       "      <td>2.75</td>\n",
       "      <td>[1, 0]</td>\n",
       "      <td>['space', 'f']</td>\n",
       "      <td>...</td>\n",
       "      <td>NaN</td>\n",
       "      <td>NaN</td>\n",
       "      <td>2.803509</td>\n",
       "      <td>1</td>\n",
       "      <td>0.00</td>\n",
       "      <td>1.00</td>\n",
       "      <td>0.00</td>\n",
       "      <td>0.75</td>\n",
       "      <td>0.0</td>\n",
       "      <td>0.0</td>\n",
       "    </tr>\n",
       "    <tr>\n",
       "      <th>11</th>\n",
       "      <td>1</td>\n",
       "      <td>8.25</td>\n",
       "      <td>12</td>\n",
       "      <td>0.25</td>\n",
       "      <td>-0.75</td>\n",
       "      <td>1</td>\n",
       "      <td>1</td>\n",
       "      <td>-0.50</td>\n",
       "      <td>[1, 0]</td>\n",
       "      <td>['space', 'j']</td>\n",
       "      <td>...</td>\n",
       "      <td>NaN</td>\n",
       "      <td>NaN</td>\n",
       "      <td>2.803509</td>\n",
       "      <td>0</td>\n",
       "      <td>0.25</td>\n",
       "      <td>0.00</td>\n",
       "      <td>0.00</td>\n",
       "      <td>-0.75</td>\n",
       "      <td>0.0</td>\n",
       "      <td>0.0</td>\n",
       "    </tr>\n",
       "    <tr>\n",
       "      <th>12</th>\n",
       "      <td>1</td>\n",
       "      <td>8.50</td>\n",
       "      <td>13</td>\n",
       "      <td>0.25</td>\n",
       "      <td>0.00</td>\n",
       "      <td>3</td>\n",
       "      <td>1</td>\n",
       "      <td>0.25</td>\n",
       "      <td>[1, 0]</td>\n",
       "      <td>['space', 'f']</td>\n",
       "      <td>...</td>\n",
       "      <td>NaN</td>\n",
       "      <td>NaN</td>\n",
       "      <td>2.803509</td>\n",
       "      <td>1</td>\n",
       "      <td>0.25</td>\n",
       "      <td>0.00</td>\n",
       "      <td>0.00</td>\n",
       "      <td>0.00</td>\n",
       "      <td>0.0</td>\n",
       "      <td>0.0</td>\n",
       "    </tr>\n",
       "    <tr>\n",
       "      <th>13</th>\n",
       "      <td>1</td>\n",
       "      <td>10.25</td>\n",
       "      <td>14</td>\n",
       "      <td>1.00</td>\n",
       "      <td>0.75</td>\n",
       "      <td>1</td>\n",
       "      <td>1</td>\n",
       "      <td>1.75</td>\n",
       "      <td>[1, 0]</td>\n",
       "      <td>['space', 'f']</td>\n",
       "      <td>...</td>\n",
       "      <td>NaN</td>\n",
       "      <td>NaN</td>\n",
       "      <td>2.803509</td>\n",
       "      <td>1</td>\n",
       "      <td>1.00</td>\n",
       "      <td>0.00</td>\n",
       "      <td>0.00</td>\n",
       "      <td>0.75</td>\n",
       "      <td>0.0</td>\n",
       "      <td>0.0</td>\n",
       "    </tr>\n",
       "    <tr>\n",
       "      <th>14</th>\n",
       "      <td>1</td>\n",
       "      <td>10.25</td>\n",
       "      <td>15</td>\n",
       "      <td>-1.00</td>\n",
       "      <td>0.00</td>\n",
       "      <td>2</td>\n",
       "      <td>2</td>\n",
       "      <td>-2.00</td>\n",
       "      <td>[0, 1, 0, 1]</td>\n",
       "      <td>['space', 'space', 'space', 'j']</td>\n",
       "      <td>...</td>\n",
       "      <td>NaN</td>\n",
       "      <td>NaN</td>\n",
       "      <td>2.803509</td>\n",
       "      <td>0</td>\n",
       "      <td>0.00</td>\n",
       "      <td>-1.00</td>\n",
       "      <td>0.00</td>\n",
       "      <td>0.00</td>\n",
       "      <td>0.0</td>\n",
       "      <td>0.0</td>\n",
       "    </tr>\n",
       "    <tr>\n",
       "      <th>15</th>\n",
       "      <td>1</td>\n",
       "      <td>10.25</td>\n",
       "      <td>16</td>\n",
       "      <td>0.00</td>\n",
       "      <td>0.00</td>\n",
       "      <td>1</td>\n",
       "      <td>1</td>\n",
       "      <td>0.00</td>\n",
       "      <td>[1, 0]</td>\n",
       "      <td>['space', 'f']</td>\n",
       "      <td>...</td>\n",
       "      <td>NaN</td>\n",
       "      <td>NaN</td>\n",
       "      <td>2.803509</td>\n",
       "      <td>1</td>\n",
       "      <td>0.00</td>\n",
       "      <td>0.00</td>\n",
       "      <td>0.00</td>\n",
       "      <td>0.00</td>\n",
       "      <td>0.0</td>\n",
       "      <td>0.0</td>\n",
       "    </tr>\n",
       "    <tr>\n",
       "      <th>16</th>\n",
       "      <td>1</td>\n",
       "      <td>10.25</td>\n",
       "      <td>17</td>\n",
       "      <td>0.75</td>\n",
       "      <td>-0.75</td>\n",
       "      <td>1</td>\n",
       "      <td>1</td>\n",
       "      <td>0.00</td>\n",
       "      <td>[1, 0, 1]</td>\n",
       "      <td>['space', 'space', 'f']</td>\n",
       "      <td>...</td>\n",
       "      <td>NaN</td>\n",
       "      <td>NaN</td>\n",
       "      <td>2.803509</td>\n",
       "      <td>1</td>\n",
       "      <td>0.75</td>\n",
       "      <td>0.00</td>\n",
       "      <td>0.00</td>\n",
       "      <td>-0.75</td>\n",
       "      <td>0.0</td>\n",
       "      <td>0.0</td>\n",
       "    </tr>\n",
       "    <tr>\n",
       "      <th>17</th>\n",
       "      <td>1</td>\n",
       "      <td>10.25</td>\n",
       "      <td>19</td>\n",
       "      <td>0.00</td>\n",
       "      <td>0.00</td>\n",
       "      <td>1</td>\n",
       "      <td>2</td>\n",
       "      <td>0.00</td>\n",
       "      <td>[0, 1]</td>\n",
       "      <td>['space', 'f']</td>\n",
       "      <td>...</td>\n",
       "      <td>NaN</td>\n",
       "      <td>NaN</td>\n",
       "      <td>2.803509</td>\n",
       "      <td>1</td>\n",
       "      <td>0.00</td>\n",
       "      <td>0.00</td>\n",
       "      <td>0.00</td>\n",
       "      <td>0.00</td>\n",
       "      <td>0.0</td>\n",
       "      <td>0.0</td>\n",
       "    </tr>\n",
       "    <tr>\n",
       "      <th>18</th>\n",
       "      <td>1</td>\n",
       "      <td>11.75</td>\n",
       "      <td>20</td>\n",
       "      <td>0.25</td>\n",
       "      <td>0.75</td>\n",
       "      <td>1</td>\n",
       "      <td>3</td>\n",
       "      <td>1.50</td>\n",
       "      <td>[1, 0]</td>\n",
       "      <td>['space', 'f']</td>\n",
       "      <td>...</td>\n",
       "      <td>NaN</td>\n",
       "      <td>NaN</td>\n",
       "      <td>2.803509</td>\n",
       "      <td>1</td>\n",
       "      <td>0.00</td>\n",
       "      <td>0.00</td>\n",
       "      <td>0.25</td>\n",
       "      <td>0.75</td>\n",
       "      <td>0.0</td>\n",
       "      <td>0.0</td>\n",
       "    </tr>\n",
       "    <tr>\n",
       "      <th>19</th>\n",
       "      <td>1</td>\n",
       "      <td>11.75</td>\n",
       "      <td>21</td>\n",
       "      <td>0.25</td>\n",
       "      <td>-0.75</td>\n",
       "      <td>1</td>\n",
       "      <td>2</td>\n",
       "      <td>-0.25</td>\n",
       "      <td>[1, 0]</td>\n",
       "      <td>['space', 'j']</td>\n",
       "      <td>...</td>\n",
       "      <td>NaN</td>\n",
       "      <td>NaN</td>\n",
       "      <td>2.803509</td>\n",
       "      <td>0</td>\n",
       "      <td>0.00</td>\n",
       "      <td>0.25</td>\n",
       "      <td>0.00</td>\n",
       "      <td>-0.75</td>\n",
       "      <td>0.0</td>\n",
       "      <td>0.0</td>\n",
       "    </tr>\n",
       "  </tbody>\n",
       "</table>\n",
       "<p>20 rows × 49 columns</p>\n",
       "</div>"
      ],
      "text/plain": [
       "    correct  earnings  trial  face_val  house_val  house_mult  face_mult  \\\n",
       "0         1      0.50      1      0.75      -0.25           1          1   \n",
       "1         1      0.50      2     -0.75      -0.75           1          1   \n",
       "2         1      2.50      3      0.75      -0.25           1          3   \n",
       "3         1      2.50      4     -0.25       0.50           1          3   \n",
       "4         1      2.50      5     -0.75       0.00           1          3   \n",
       "5         1      4.25      6      0.75      -0.50           1          3   \n",
       "6         1      4.25      7      0.25      -0.75           1          1   \n",
       "7         1      4.50      8      0.25       0.00           1          1   \n",
       "8         1      4.50      9     -0.75       0.25           1          1   \n",
       "9         1      5.50     10      0.25       0.25           1          3   \n",
       "10        1      8.25     11      1.00       0.75           1          2   \n",
       "11        1      8.25     12      0.25      -0.75           1          1   \n",
       "12        1      8.50     13      0.25       0.00           3          1   \n",
       "13        1     10.25     14      1.00       0.75           1          1   \n",
       "14        1     10.25     15     -1.00       0.00           2          2   \n",
       "15        1     10.25     16      0.00       0.00           1          1   \n",
       "16        1     10.25     17      0.75      -0.75           1          1   \n",
       "17        1     10.25     19      0.00       0.00           1          2   \n",
       "18        1     11.75     20      0.25       0.75           1          3   \n",
       "19        1     11.75     21      0.25      -0.75           1          2   \n",
       "\n",
       "    summed_val    image_list                    key_entry_list      ...       \\\n",
       "0         0.50        [0, 1]                    ['space', 'f']      ...        \n",
       "1        -1.50        [0, 1]                    ['space', 'j']      ...        \n",
       "2         2.00        [1, 0]                    ['space', 'f']      ...        \n",
       "3        -0.25        [0, 1]                    ['space', 'j']      ...        \n",
       "4        -2.25        [1, 0]                    ['space', 'j']      ...        \n",
       "5         1.75        [1, 0]                    ['space', 'f']      ...        \n",
       "6        -0.50        [0, 1]                    ['space', 'j']      ...        \n",
       "7         0.25        [0, 1]                    ['space', 'f']      ...        \n",
       "8        -0.50        [0, 1]                    ['space', 'j']      ...        \n",
       "9         1.00        [1, 0]                    ['space', 'f']      ...        \n",
       "10        2.75        [1, 0]                    ['space', 'f']      ...        \n",
       "11       -0.50        [1, 0]                    ['space', 'j']      ...        \n",
       "12        0.25        [1, 0]                    ['space', 'f']      ...        \n",
       "13        1.75        [1, 0]                    ['space', 'f']      ...        \n",
       "14       -2.00  [0, 1, 0, 1]  ['space', 'space', 'space', 'j']      ...        \n",
       "15        0.00        [1, 0]                    ['space', 'f']      ...        \n",
       "16        0.00     [1, 0, 1]           ['space', 'space', 'f']      ...        \n",
       "17        0.00        [0, 1]                    ['space', 'f']      ...        \n",
       "18        1.50        [1, 0]                    ['space', 'f']      ...        \n",
       "19       -0.25        [1, 0]                    ['space', 'j']      ...        \n",
       "\n",
       "   14_fixation  15_fixation  mean_fix  response  face_mult_1  face_mult_2  \\\n",
       "0          NaN          NaN  2.803509         1         0.75         0.00   \n",
       "1          NaN          NaN  2.803509         0        -0.75         0.00   \n",
       "2          NaN          NaN  2.803509         1         0.00         0.00   \n",
       "3          NaN          NaN  2.803509         0         0.00         0.00   \n",
       "4          NaN          NaN  2.803509         0         0.00         0.00   \n",
       "5          NaN          NaN  2.803509         1         0.00         0.00   \n",
       "6          NaN          NaN  2.803509         0         0.25         0.00   \n",
       "7          NaN          NaN  2.803509         1         0.25         0.00   \n",
       "8          NaN          NaN  2.803509         0        -0.75         0.00   \n",
       "9          NaN          NaN  2.803509         1         0.00         0.00   \n",
       "10         NaN          NaN  2.803509         1         0.00         1.00   \n",
       "11         NaN          NaN  2.803509         0         0.25         0.00   \n",
       "12         NaN          NaN  2.803509         1         0.25         0.00   \n",
       "13         NaN          NaN  2.803509         1         1.00         0.00   \n",
       "14         NaN          NaN  2.803509         0         0.00        -1.00   \n",
       "15         NaN          NaN  2.803509         1         0.00         0.00   \n",
       "16         NaN          NaN  2.803509         1         0.75         0.00   \n",
       "17         NaN          NaN  2.803509         1         0.00         0.00   \n",
       "18         NaN          NaN  2.803509         1         0.00         0.00   \n",
       "19         NaN          NaN  2.803509         0         0.00         0.25   \n",
       "\n",
       "    face_mult_3  house_mult_1  house_mult_2  house_mult_3  \n",
       "0          0.00         -0.25           0.0           0.0  \n",
       "1          0.00         -0.75           0.0           0.0  \n",
       "2          0.75         -0.25           0.0           0.0  \n",
       "3         -0.25          0.50           0.0           0.0  \n",
       "4         -0.75          0.00           0.0           0.0  \n",
       "5          0.75         -0.50           0.0           0.0  \n",
       "6          0.00         -0.75           0.0           0.0  \n",
       "7          0.00          0.00           0.0           0.0  \n",
       "8          0.00          0.25           0.0           0.0  \n",
       "9          0.25          0.25           0.0           0.0  \n",
       "10         0.00          0.75           0.0           0.0  \n",
       "11         0.00         -0.75           0.0           0.0  \n",
       "12         0.00          0.00           0.0           0.0  \n",
       "13         0.00          0.75           0.0           0.0  \n",
       "14         0.00          0.00           0.0           0.0  \n",
       "15         0.00          0.00           0.0           0.0  \n",
       "16         0.00         -0.75           0.0           0.0  \n",
       "17         0.00          0.00           0.0           0.0  \n",
       "18         0.25          0.75           0.0           0.0  \n",
       "19         0.00         -0.75           0.0           0.0  \n",
       "\n",
       "[20 rows x 49 columns]"
      ]
     },
     "execution_count": 85,
     "metadata": {},
     "output_type": "execute_result"
    }
   ],
   "source": [
    "group_data.head(20)"
   ]
  },
  {
   "cell_type": "markdown",
   "metadata": {},
   "source": [
    "## Convert Choices"
   ]
  },
  {
   "cell_type": "code",
   "execution_count": 12,
   "metadata": {
    "ExecuteTime": {
     "end_time": "2017-09-15T11:40:03.441368Z",
     "start_time": "2017-09-15T11:40:03.436806Z"
    },
    "collapsed": true
   },
   "outputs": [],
   "source": [
    "# # Do not think I need this\n",
    "\n",
    "# ##convert other choices to affect self choices##\n",
    "# group_data['SimOnSelf'] = group_data['SimRating'] - 2.5 #make negative for no choices\n",
    "# group_data['DiffOnSelf'] = group_data['SimRating'] - 2.5 #make negative for no choices\n",
    "# group_data.loc[sim_index,'SimOnSelf'] = 0 #make zero on all non-self trials\n",
    "# group_data.loc[diff_index,'SimOnSelf'] = 0 #make zero on all non-self trials\n",
    "# group_data.loc[sim_index,'DiffOnSelf'] = 0 #make zero on all non-self trials\n",
    "# group_data.loc[diff_index,'DiffOnSelf'] = 0 #make zero on all non-self trials"
   ]
  },
  {
   "cell_type": "markdown",
   "metadata": {},
   "source": [
    "## Confidence"
   ]
  },
  {
   "cell_type": "code",
   "execution_count": 13,
   "metadata": {
    "ExecuteTime": {
     "end_time": "2017-09-15T11:40:04.013669Z",
     "start_time": "2017-09-15T11:40:03.980378Z"
    },
    "collapsed": true
   },
   "outputs": [],
   "source": [
    "# # Do not think I need this\n",
    "\n",
    "# #confidence#\n",
    "# group_data['confidence'] = 0\n",
    "# yes_index = group_data.response == 4\n",
    "# no_index = group_data.response == 1 \n",
    "# group_data.loc[yes_index,'confidence'] = 1 #more likely to say yes\n",
    "# group_data.loc[no_index,'confidence'] = -1 #more likely to say no\n",
    "# group_data['confidenceSelf'] = 0\n",
    "# group_data['confidenceSim'] = 0\n",
    "# group_data['confidenceDiff'] = 0\n",
    "# group_data.loc[self_index,'confidenceSelf'] = group_data.loc[self_index,'confidence']\n",
    "# group_data.loc[sim_index,'confidenceSim'] = group_data.loc[sim_index,'confidence']\n",
    "# group_data.loc[diff_index,'confidenceDiff'] = group_data.loc[diff_index,'confidence']"
   ]
  },
  {
   "cell_type": "markdown",
   "metadata": {},
   "source": [
    "# Regressor"
   ]
  },
  {
   "cell_type": "markdown",
   "metadata": {},
   "source": [
    "## v2 Models"
   ]
  },
  {
   "cell_type": "markdown",
   "metadata": {
    "ExecuteTime": {
     "end_time": "2017-09-13T15:54:53.526064Z",
     "start_time": "2017-09-13T15:54:53.520337Z"
    }
   },
   "source": [
    "### v ~ abs(Net Value)\n",
    "---\n",
    "No Bias"
   ]
  },
  {
   "cell_type": "code",
   "execution_count": 58,
   "metadata": {
    "ExecuteTime": {
     "end_time": "2017-09-13T18:51:32.154613Z",
     "start_time": "2017-09-13T18:46:30.387090Z"
    }
   },
   "outputs": [
    {
     "name": "stdout",
     "output_type": "stream",
     "text": [
      "Adding these covariates:\n",
      "['v_Intercept', 'v_absSummedVal']\n",
      " [-----------------100%-----------------] 501 of 500 complete in 294.3 secWARNING: Will not save custom link functions.\n"
     ]
    }
   ],
   "source": [
    "# Set folder name at top\n",
    "reg_model_num = 0.1\n",
    "\n",
    "v_reg = 'v ~ absSummedVal'\n",
    "#a_reg = 'a ~ C(multNum)'\n",
    "reg = [v_reg]\n",
    "model_group_made_reg_3 = hddm.HDDMRegressor(group_data,reg,informative=False,keep_regressor_trace=True) #use patsy\n",
    "model_group_made_reg_3_traces = os.path.join(group_made_reg_3_analysis_dir,'traces_reg3.db')\n",
    "model_group_made_reg_3.sample(num_reg_samples,burn=num_burn,dbname=model_group_made_reg_3_traces,db='pickle')\n",
    "#print#\n",
    "model_group_made_reg_3_name = 'stats_print_all_model_group_n' + str(num_subs) + '_reg' + str(reg_model_num) + '.csv'\n",
    "model_group_made_reg_3_out_path = os.path.join(group_made_reg_3_analysis_dir,model_group_made_reg_3_name)\n",
    "model_group_made_reg_3.print_stats(fname=model_group_made_reg_3_out_path)\n",
    "#stats#\n",
    "model_group_made_reg_3_stats = model_group_made_reg_3.gen_stats()\n",
    "model_group_made_reg_3_stats_name = 'stats_all_group_n' + str(num_subs) + '_reg' + str(reg_model_num) + '_stats.csv'\n",
    "model_group_made_reg_3_stats_out_path = os.path.join(group_made_reg_3_analysis_dir,model_group_made_reg_3_stats_name)\n",
    "model_group_made_reg_3_stats.to_csv(model_group_made_reg_3_stats_out_path)\n",
    "dic_made_reg_3 = model_group_made_reg_3.dic\n",
    "#save reg5#\n",
    "model_group_made_reg_3_sname = 'model_group_reg' + str(reg_model_num) + '_n' + str(num_subs)\n",
    "model_group_made_reg_3_path = os.path.join(group_made_reg_3_analysis_dir,model_group_made_reg_3_sname)\n",
    "model_group_made_reg_3.save(model_group_made_reg_3_path)"
   ]
  },
  {
   "cell_type": "code",
   "execution_count": 59,
   "metadata": {
    "ExecuteTime": {
     "end_time": "2017-09-13T19:00:37.652893Z",
     "start_time": "2017-09-13T19:00:37.619806Z"
    }
   },
   "outputs": [
    {
     "data": {
      "text/plain": [
       "29723.384868890418"
      ]
     },
     "execution_count": 59,
     "metadata": {},
     "output_type": "execute_result"
    }
   ],
   "source": [
    "model_group_made_reg_3.dic"
   ]
  },
  {
   "cell_type": "markdown",
   "metadata": {},
   "source": [
    "### v ~ abs(Net Value) || a ~ abs(Net Value)\n",
    "___\n",
    "No Bias"
   ]
  },
  {
   "cell_type": "code",
   "execution_count": 60,
   "metadata": {
    "ExecuteTime": {
     "end_time": "2017-09-13T19:10:17.026864Z",
     "start_time": "2017-09-13T19:00:56.472011Z"
    },
    "scrolled": true
   },
   "outputs": [
    {
     "name": "stdout",
     "output_type": "stream",
     "text": [
      "Adding these covariates:\n",
      "['v_Intercept', 'v_absSummedVal']\n",
      "Adding these covariates:\n",
      "['a_Intercept', 'a_absSummedVal']\n",
      " [-----------------100%-----------------] 501 of 500 complete in 549.1 secWARNING: Will not save custom link functions.\n",
      "WARNING: Will not save custom link functions.\n"
     ]
    }
   ],
   "source": [
    "# Set folder name at top\n",
    "reg_model_num = 0.2\n",
    "\n",
    "v_reg = 'v ~ absSummedVal'\n",
    "a_reg = 'a ~ absSummedVal'\n",
    "\n",
    "reg = [v_reg, a_reg]\n",
    "model_group_made_reg_3 = hddm.HDDMRegressor(group_data,reg,informative=False,keep_regressor_trace=True) #use patsy\n",
    "model_group_made_reg_3_traces = os.path.join(group_made_reg_3_analysis_dir,'traces_reg3.db')\n",
    "model_group_made_reg_3.sample(num_reg_samples,burn=num_burn,dbname=model_group_made_reg_3_traces,db='pickle')\n",
    "#print#\n",
    "model_group_made_reg_3_name = 'stats_print_all_model_group_n' + str(num_subs) + '_reg' + str(reg_model_num) + '.csv'\n",
    "model_group_made_reg_3_out_path = os.path.join(group_made_reg_3_analysis_dir,model_group_made_reg_3_name)\n",
    "model_group_made_reg_3.print_stats(fname=model_group_made_reg_3_out_path)\n",
    "#stats#\n",
    "model_group_made_reg_3_stats = model_group_made_reg_3.gen_stats()\n",
    "model_group_made_reg_3_stats_name = 'stats_all_group_n' + str(num_subs) + '_reg' + str(reg_model_num) + '_stats.csv'\n",
    "model_group_made_reg_3_stats_out_path = os.path.join(group_made_reg_3_analysis_dir,model_group_made_reg_3_stats_name)\n",
    "model_group_made_reg_3_stats.to_csv(model_group_made_reg_3_stats_out_path)\n",
    "dic_made_reg_3 = model_group_made_reg_3.dic\n",
    "#save reg5#\n",
    "model_group_made_reg_3_sname = 'model_group_reg' + str(reg_model_num) + '_n' + str(num_subs)\n",
    "model_group_made_reg_3_path = os.path.join(group_made_reg_3_analysis_dir,model_group_made_reg_3_sname)\n",
    "model_group_made_reg_3.save(model_group_made_reg_3_path)"
   ]
  },
  {
   "cell_type": "code",
   "execution_count": 61,
   "metadata": {
    "ExecuteTime": {
     "end_time": "2017-09-13T19:11:40.923643Z",
     "start_time": "2017-09-13T19:11:40.863912Z"
    }
   },
   "outputs": [
    {
     "data": {
      "text/plain": [
       "29508.126214371154"
      ]
     },
     "execution_count": 61,
     "metadata": {},
     "output_type": "execute_result"
    }
   ],
   "source": [
    "model_group_made_reg_3.dic"
   ]
  },
  {
   "cell_type": "markdown",
   "metadata": {},
   "source": [
    "### v ~ abs(Net Value) || t ~ swapAmount\n",
    "----\n",
    "No Bias"
   ]
  },
  {
   "cell_type": "code",
   "execution_count": 62,
   "metadata": {
    "ExecuteTime": {
     "end_time": "2017-09-13T19:29:13.034611Z",
     "start_time": "2017-09-13T19:14:04.885218Z"
    }
   },
   "outputs": [
    {
     "name": "stdout",
     "output_type": "stream",
     "text": [
      "Adding these covariates:\n",
      "['v_Intercept', 'v_absSummedVal']\n",
      "Adding these covariates:\n",
      "['t_Intercept', 't_swapAmount']\n",
      " [-----------------100%-----------------] 501 of 500 complete in 896.4 secWARNING: Will not save custom link functions.\n",
      "WARNING: Will not save custom link functions.\n"
     ]
    }
   ],
   "source": [
    "# Set folder name at top\n",
    "reg_model_num = 0.3\n",
    "\n",
    "v_reg = 'v ~ absSummedVal'\n",
    "t_reg = 't ~ swapAmount'\n",
    "\n",
    "reg = [v_reg, t_reg]\n",
    "model_group_made_reg_3 = hddm.HDDMRegressor(group_data,reg,informative=False,keep_regressor_trace=True) #use patsy\n",
    "model_group_made_reg_3_traces = os.path.join(group_made_reg_3_analysis_dir,'traces_reg3.db')\n",
    "model_group_made_reg_3.sample(num_reg_samples,burn=num_burn,dbname=model_group_made_reg_3_traces,db='pickle')\n",
    "#print#\n",
    "model_group_made_reg_3_name = 'stats_print_all_model_group_n' + str(num_subs) + '_reg' + str(reg_model_num) + '.csv'\n",
    "model_group_made_reg_3_out_path = os.path.join(group_made_reg_3_analysis_dir,model_group_made_reg_3_name)\n",
    "model_group_made_reg_3.print_stats(fname=model_group_made_reg_3_out_path)\n",
    "#stats#\n",
    "model_group_made_reg_3_stats = model_group_made_reg_3.gen_stats()\n",
    "model_group_made_reg_3_stats_name = 'stats_all_group_n' + str(num_subs) + '_reg' + str(reg_model_num) + '_stats.csv'\n",
    "model_group_made_reg_3_stats_out_path = os.path.join(group_made_reg_3_analysis_dir,model_group_made_reg_3_stats_name)\n",
    "model_group_made_reg_3_stats.to_csv(model_group_made_reg_3_stats_out_path)\n",
    "dic_made_reg_3 = model_group_made_reg_3.dic\n",
    "#save reg5#\n",
    "model_group_made_reg_3_sname = 'model_group_reg' + str(reg_model_num) + '_n' + str(num_subs)\n",
    "model_group_made_reg_3_path = os.path.join(group_made_reg_3_analysis_dir,model_group_made_reg_3_sname)\n",
    "model_group_made_reg_3.save(model_group_made_reg_3_path)"
   ]
  },
  {
   "cell_type": "code",
   "execution_count": 63,
   "metadata": {
    "ExecuteTime": {
     "end_time": "2017-09-13T19:29:13.821189Z",
     "start_time": "2017-09-13T19:29:13.570621Z"
    }
   },
   "outputs": [
    {
     "data": {
      "text/plain": [
       "28296.28123111969"
      ]
     },
     "execution_count": 63,
     "metadata": {},
     "output_type": "execute_result"
    }
   ],
   "source": [
    "model_group_made_reg_3.dic"
   ]
  },
  {
   "cell_type": "markdown",
   "metadata": {},
   "source": [
    "### v ~ Net Value || a ~ multNum"
   ]
  },
  {
   "cell_type": "code",
   "execution_count": 64,
   "metadata": {
    "ExecuteTime": {
     "end_time": "2017-09-13T19:42:59.793468Z",
     "start_time": "2017-09-13T19:30:04.741912Z"
    }
   },
   "outputs": [
    {
     "name": "stdout",
     "output_type": "stream",
     "text": [
      "Adding these covariates:\n",
      "['v_Intercept', 'v_summedVal']\n",
      "Adding these covariates:\n",
      "['a_Intercept', 'a_C(multNum)[T.1]', 'a_C(multNum)[T.2]']\n",
      " [-----------------100%-----------------] 501 of 500 complete in 762.0 secWARNING: Will not save custom link functions.\n",
      "WARNING: Will not save custom link functions.\n"
     ]
    }
   ],
   "source": [
    "##reg5##\n",
    "reg_model_num = 1\n",
    "\n",
    "v_reg = 'v ~ summedVal'\n",
    "a_reg = 'a ~ C(multNum)'\n",
    "\n",
    "reg = [v_reg,a_reg]\n",
    "model_group_made_reg_1 = hddm.HDDMRegressor(group_data,reg,include='z',informative=False,keep_regressor_trace=True) #use patsy\n",
    "model_group_made_reg_1_traces = os.path.join(group_made_reg_3_analysis_dir,'traces_reg1.db')\n",
    "model_group_made_reg_1.sample(num_reg_samples,burn=num_burn,dbname=model_group_made_reg_1_traces,db='pickle')\n",
    "#print#\n",
    "model_group_made_reg_1_name = 'stats_print_all_model_group_n' + str(num_subs) + '_reg' + str(reg_model_num) + '.csv'\n",
    "model_group_made_reg_1_out_path = os.path.join(group_made_reg_3_analysis_dir,model_group_made_reg_1_name)\n",
    "model_group_made_reg_1.print_stats(fname=model_group_made_reg_3_out_path)\n",
    "#stats#\n",
    "model_group_made_reg_1_stats = model_group_made_reg_1.gen_stats()\n",
    "model_group_made_reg_1_stats_name = 'stats_all_group_n' + str(num_subs) + '_reg' + str(reg_model_num) + '_stats.csv'\n",
    "model_group_made_reg_1_stats_out_path = os.path.join(group_made_reg_3_analysis_dir,model_group_made_reg_1_stats_name)\n",
    "model_group_made_reg_1_stats.to_csv(model_group_made_reg_1_stats_out_path)\n",
    "dic_made_reg_1 = model_group_made_reg_1.dic\n",
    "#save reg5#\n",
    "model_group_made_reg_1_sname = 'model_group_reg' + str(reg_model_num) + '_n' + str(num_subs)\n",
    "model_group_made_reg_1_path = os.path.join(group_made_reg_3_analysis_dir,model_group_made_reg_1_sname)\n",
    "model_group_made_reg_1.save(model_group_made_reg_1_path)"
   ]
  },
  {
   "cell_type": "code",
   "execution_count": 66,
   "metadata": {
    "ExecuteTime": {
     "end_time": "2017-09-13T19:43:59.831444Z",
     "start_time": "2017-09-13T19:43:59.770582Z"
    }
   },
   "outputs": [
    {
     "data": {
      "text/plain": [
       "26333.790495520709"
      ]
     },
     "execution_count": 66,
     "metadata": {},
     "output_type": "execute_result"
    }
   ],
   "source": [
    "model_group_made_reg_1.dic"
   ]
  },
  {
   "cell_type": "markdown",
   "metadata": {},
   "source": [
    "### v ~ abs(Net Value) || a ~ multNum"
   ]
  },
  {
   "cell_type": "code",
   "execution_count": 67,
   "metadata": {
    "ExecuteTime": {
     "end_time": "2017-09-13T19:59:19.977829Z",
     "start_time": "2017-09-13T19:47:16.203765Z"
    },
    "scrolled": true
   },
   "outputs": [
    {
     "name": "stdout",
     "output_type": "stream",
     "text": [
      "Adding these covariates:\n",
      "['v_Intercept', 'v_absSummedVal']\n",
      "Adding these covariates:\n",
      "['a_Intercept', 'a_C(multNum)[T.1]', 'a_C(multNum)[T.2]']\n",
      " [-----------------100%-----------------] 501 of 500 complete in 710.0 secWARNING: Will not save custom link functions.\n",
      "WARNING: Will not save custom link functions.\n"
     ]
    }
   ],
   "source": [
    "# Set folder name at top\n",
    "reg_model_num = 1.1\n",
    "\n",
    "v_reg = 'v ~ absSummedVal'\n",
    "a_reg = 'a ~ C(multNum)'\n",
    "\n",
    "reg = [v_reg, a_reg]\n",
    "model_group_made_reg_3 = hddm.HDDMRegressor(group_data,reg,informative=False,keep_regressor_trace=True) #use patsy\n",
    "model_group_made_reg_3_traces = os.path.join(group_made_reg_3_analysis_dir,'traces_reg3.db')\n",
    "model_group_made_reg_3.sample(num_reg_samples,burn=num_burn,dbname=model_group_made_reg_3_traces,db='pickle')\n",
    "#print#\n",
    "model_group_made_reg_3_name = 'stats_print_all_model_group_n' + str(num_subs) + '_reg' + str(reg_model_num) + '.csv'\n",
    "model_group_made_reg_3_out_path = os.path.join(group_made_reg_3_analysis_dir,model_group_made_reg_3_name)\n",
    "model_group_made_reg_3.print_stats(fname=model_group_made_reg_3_out_path)\n",
    "#stats#\n",
    "model_group_made_reg_3_stats = model_group_made_reg_3.gen_stats()\n",
    "model_group_made_reg_3_stats_name = 'stats_all_group_n' + str(num_subs) + '_reg' + str(reg_model_num) + '_stats.csv'\n",
    "model_group_made_reg_3_stats_out_path = os.path.join(group_made_reg_3_analysis_dir,model_group_made_reg_3_stats_name)\n",
    "model_group_made_reg_3_stats.to_csv(model_group_made_reg_3_stats_out_path)\n",
    "dic_made_reg_3 = model_group_made_reg_3.dic\n",
    "#save reg5#\n",
    "model_group_made_reg_3_sname = 'model_group_reg' + str(reg_model_num) + '_n' + str(num_subs)\n",
    "model_group_made_reg_3_path = os.path.join(group_made_reg_3_analysis_dir,model_group_made_reg_3_sname)\n",
    "model_group_made_reg_3.save(model_group_made_reg_3_path)"
   ]
  },
  {
   "cell_type": "code",
   "execution_count": 68,
   "metadata": {
    "ExecuteTime": {
     "end_time": "2017-09-13T19:59:48.774328Z",
     "start_time": "2017-09-13T19:59:48.723677Z"
    }
   },
   "outputs": [
    {
     "data": {
      "text/plain": [
       "29691.928868082392"
      ]
     },
     "execution_count": 68,
     "metadata": {},
     "output_type": "execute_result"
    }
   ],
   "source": [
    "model_group_made_reg_3.dic"
   ]
  },
  {
   "cell_type": "markdown",
   "metadata": {},
   "source": [
    "### v ~ Net Value || a ~ multNum || t ~ swapAmount"
   ]
  },
  {
   "cell_type": "code",
   "execution_count": 69,
   "metadata": {
    "ExecuteTime": {
     "end_time": "2017-09-13T20:13:14.202868Z",
     "start_time": "2017-09-13T20:00:43.618405Z"
    }
   },
   "outputs": [
    {
     "name": "stdout",
     "output_type": "stream",
     "text": [
      "Adding these covariates:\n",
      "['v_Intercept', 'v_summedVal']\n",
      "Adding these covariates:\n",
      "['a_Intercept', 'a_C(multNum)[T.1]', 'a_C(multNum)[T.2]']\n",
      "Adding these covariates:\n",
      "['t_Intercept', 't_swapAmount']\n",
      " [-----------------100%-----------------] 501 of 500 complete in 734.7 secWARNING: Will not save custom link functions.\n",
      "WARNING: Will not save custom link functions.\n",
      "WARNING: Will not save custom link functions.\n"
     ]
    }
   ],
   "source": [
    "# Set folder name at top\n",
    "reg_model_num = 1.2\n",
    "\n",
    "v_reg = 'v ~ summedVal'\n",
    "a_reg = 'a ~ C(multNum)'\n",
    "t_reg = 't ~ swapAmount'\n",
    "\n",
    "reg = [v_reg, a_reg, t_reg]\n",
    "model_group_made_reg_3 = hddm.HDDMRegressor(group_data,reg,informative=False,keep_regressor_trace=True) #use patsy\n",
    "model_group_made_reg_3_traces = os.path.join(group_made_reg_3_analysis_dir,'traces_reg3.db')\n",
    "model_group_made_reg_3.sample(num_reg_samples,burn=num_burn,dbname=model_group_made_reg_3_traces,db='pickle')\n",
    "#print#\n",
    "model_group_made_reg_3_name = 'stats_print_all_model_group_n' + str(num_subs) + '_reg' + str(reg_model_num) + '.csv'\n",
    "model_group_made_reg_3_out_path = os.path.join(group_made_reg_3_analysis_dir,model_group_made_reg_3_name)\n",
    "model_group_made_reg_3.print_stats(fname=model_group_made_reg_3_out_path)\n",
    "#stats#\n",
    "model_group_made_reg_3_stats = model_group_made_reg_3.gen_stats()\n",
    "model_group_made_reg_3_stats_name = 'stats_all_group_n' + str(num_subs) + '_reg' + str(reg_model_num) + '_stats.csv'\n",
    "model_group_made_reg_3_stats_out_path = os.path.join(group_made_reg_3_analysis_dir,model_group_made_reg_3_stats_name)\n",
    "model_group_made_reg_3_stats.to_csv(model_group_made_reg_3_stats_out_path)\n",
    "dic_made_reg_3 = model_group_made_reg_3.dic\n",
    "#save reg5#\n",
    "model_group_made_reg_3_sname = 'model_group_reg' + str(reg_model_num) + '_n' + str(num_subs)\n",
    "model_group_made_reg_3_path = os.path.join(group_made_reg_3_analysis_dir,model_group_made_reg_3_sname)\n",
    "model_group_made_reg_3.save(model_group_made_reg_3_path)"
   ]
  },
  {
   "cell_type": "code",
   "execution_count": 70,
   "metadata": {
    "ExecuteTime": {
     "end_time": "2017-09-13T20:13:15.059077Z",
     "start_time": "2017-09-13T20:13:14.889398Z"
    }
   },
   "outputs": [
    {
     "data": {
      "text/plain": [
       "25000.247318687496"
      ]
     },
     "execution_count": 70,
     "metadata": {},
     "output_type": "execute_result"
    }
   ],
   "source": [
    "model_group_made_reg_3.dic"
   ]
  },
  {
   "cell_type": "markdown",
   "metadata": {},
   "source": [
    "### v ~ faceVal + houseVal || a ~ multNum"
   ]
  },
  {
   "cell_type": "code",
   "execution_count": 71,
   "metadata": {
    "ExecuteTime": {
     "end_time": "2017-09-13T20:26:43.596358Z",
     "start_time": "2017-09-13T20:13:57.267579Z"
    }
   },
   "outputs": [
    {
     "name": "stdout",
     "output_type": "stream",
     "text": [
      "Adding these covariates:\n",
      "['v_Intercept', 'v_total_0_face', 'v_total_1_house']\n",
      "Adding these covariates:\n",
      "['a_Intercept', 'a_C(multNum)[T.1]', 'a_C(multNum)[T.2]']\n",
      " [-----------------100%-----------------] 501 of 500 complete in 750.5 secWARNING: Will not save custom link functions.\n",
      "WARNING: Will not save custom link functions.\n"
     ]
    }
   ],
   "source": [
    "##reg5##\n",
    "reg_model_num = 2\n",
    "v_reg = 'v ~ total_0_face + total_1_house'\n",
    "a_reg = 'a ~ C(multNum)'\n",
    "reg = [v_reg,a_reg]\n",
    "model_group_made_reg_2 = hddm.HDDMRegressor(group_data,reg,include='z',informative=False,keep_regressor_trace=True) #use patsy\n",
    "model_group_made_reg_2_traces = os.path.join(group_made_reg_3_analysis_dir,'traces_reg2.db')\n",
    "model_group_made_reg_2.sample(num_reg_samples,burn=num_burn,dbname=model_group_made_reg_2_traces,db='pickle')\n",
    "#print#\n",
    "model_group_made_reg_2_name = 'stats_print_all_model_group_n' + str(num_subs) + '_reg' + str(reg_model_num) + '.csv'\n",
    "model_group_made_reg_2_out_path = os.path.join(group_made_reg_3_analysis_dir,model_group_made_reg_2_name)\n",
    "model_group_made_reg_2.print_stats(fname=model_group_made_reg_2_out_path)\n",
    "#stats#\n",
    "model_group_made_reg_2_stats = model_group_made_reg_3.gen_stats()\n",
    "model_group_made_reg_2_stats_name = 'stats_all_group_n' + str(num_subs) + '_reg' + str(reg_model_num) + '_stats.csv'\n",
    "model_group_made_reg_2_stats_out_path = os.path.join(group_made_reg_3_analysis_dir,model_group_made_reg_2_stats_name)\n",
    "model_group_made_reg_2_stats.to_csv(model_group_made_reg_2_stats_out_path)\n",
    "dic_made_reg_2 = model_group_made_reg_2.dic\n",
    "#save reg5#\n",
    "model_group_made_reg_2_sname = 'model_group_reg' + str(reg_model_num) + '_n' + str(num_subs)\n",
    "model_group_made_reg_2_path = os.path.join(group_made_reg_3_analysis_dir,model_group_made_reg_2_sname)\n",
    "model_group_made_reg_2.save(model_group_made_reg_2_path)"
   ]
  },
  {
   "cell_type": "code",
   "execution_count": 72,
   "metadata": {
    "ExecuteTime": {
     "end_time": "2017-09-13T20:26:46.106138Z",
     "start_time": "2017-09-13T20:26:46.032487Z"
    }
   },
   "outputs": [
    {
     "data": {
      "text/plain": [
       "29645.90472261278"
      ]
     },
     "execution_count": 72,
     "metadata": {},
     "output_type": "execute_result"
    }
   ],
   "source": [
    "model_group_made_reg_2.dic"
   ]
  },
  {
   "cell_type": "markdown",
   "metadata": {},
   "source": [
    "### v ~ face Value + house Value || a ~ multNum || t ~ swapAmount"
   ]
  },
  {
   "cell_type": "code",
   "execution_count": 73,
   "metadata": {
    "ExecuteTime": {
     "end_time": "2017-09-13T21:13:30.848365Z",
     "start_time": "2017-09-13T20:27:25.175160Z"
    }
   },
   "outputs": [
    {
     "name": "stdout",
     "output_type": "stream",
     "text": [
      "Adding these covariates:\n",
      "['v_Intercept', 'v_total_0_face', 'v_total_1_house']\n",
      "Adding these covariates:\n",
      "['a_Intercept', 'a_C(multNum)[T.1]', 'a_C(multNum)[T.2]']\n",
      "Adding these covariates:\n",
      "['t_Intercept', 't_swapAmount']\n",
      " [-----------------100%-----------------] 501 of 500 complete in 2746.4 secWARNING: Will not save custom link functions.\n",
      "WARNING: Will not save custom link functions.\n",
      "WARNING: Will not save custom link functions.\n"
     ]
    }
   ],
   "source": [
    "# Set folder name at top\n",
    "reg_model_num = 2.1\n",
    "\n",
    "v_reg = 'v ~ total_0_face + total_1_house' # check that this is value!\n",
    "a_reg = 'a ~ C(multNum)'\n",
    "t_reg = 't ~ swapAmount'\n",
    "\n",
    "reg = [v_reg, a_reg, t_reg]\n",
    "model_group_made_reg_3 = hddm.HDDMRegressor(group_data,reg,informative=False,keep_regressor_trace=True) #use patsy\n",
    "model_group_made_reg_3_traces = os.path.join(group_made_reg_3_analysis_dir,'traces_reg3.db')\n",
    "model_group_made_reg_3.sample(num_reg_samples,burn=num_burn,dbname=model_group_made_reg_3_traces,db='pickle')\n",
    "#print#\n",
    "model_group_made_reg_3_name = 'stats_print_all_model_group_n' + str(num_subs) + '_reg' + str(reg_model_num) + '.csv'\n",
    "model_group_made_reg_3_out_path = os.path.join(group_made_reg_3_analysis_dir,model_group_made_reg_3_name)\n",
    "model_group_made_reg_3.print_stats(fname=model_group_made_reg_3_out_path)\n",
    "#stats#\n",
    "model_group_made_reg_3_stats = model_group_made_reg_3.gen_stats()\n",
    "model_group_made_reg_3_stats_name = 'stats_all_group_n' + str(num_subs) + '_reg' + str(reg_model_num) + '_stats.csv'\n",
    "model_group_made_reg_3_stats_out_path = os.path.join(group_made_reg_3_analysis_dir,model_group_made_reg_3_stats_name)\n",
    "model_group_made_reg_3_stats.to_csv(model_group_made_reg_3_stats_out_path)\n",
    "dic_made_reg_3 = model_group_made_reg_3.dic\n",
    "#save reg5#\n",
    "model_group_made_reg_3_sname = 'model_group_reg' + str(reg_model_num) + '_n' + str(num_subs)\n",
    "model_group_made_reg_3_path = os.path.join(group_made_reg_3_analysis_dir,model_group_made_reg_3_sname)\n",
    "model_group_made_reg_3.save(model_group_made_reg_3_path)"
   ]
  },
  {
   "cell_type": "code",
   "execution_count": 77,
   "metadata": {
    "ExecuteTime": {
     "end_time": "2017-09-13T23:21:30.054214Z",
     "start_time": "2017-09-13T23:21:29.991110Z"
    }
   },
   "outputs": [
    {
     "data": {
      "text/plain": [
       "26270.038359468199"
      ]
     },
     "execution_count": 77,
     "metadata": {},
     "output_type": "execute_result"
    }
   ],
   "source": [
    "model_group_made_reg_3.dic"
   ]
  },
  {
   "cell_type": "markdown",
   "metadata": {},
   "source": [
    "### v ~ 6 Regressor || a ~ multNum\n",
    "____\n",
    "With Bias"
   ]
  },
  {
   "cell_type": "code",
   "execution_count": 75,
   "metadata": {
    "ExecuteTime": {
     "end_time": "2017-09-13T21:48:31.657792Z",
     "start_time": "2017-09-13T21:26:45.538485Z"
    }
   },
   "outputs": [
    {
     "name": "stdout",
     "output_type": "stream",
     "text": [
      "Adding these covariates:\n",
      "['v_Intercept', 'v_face_mult_1', 'v_house_mult_1', 'v_face_mult_2', 'v_house_mult_2', 'v_face_mult_3', 'v_house_mult_3']\n",
      "Adding these covariates:\n",
      "['a_Intercept', 'a_C(multNum)[T.1]', 'a_C(multNum)[T.2]']\n",
      " [-----------------100%-----------------] 501 of 500 complete in 1292.5 secWARNING: Will not save custom link functions.\n",
      "WARNING: Will not save custom link functions.\n"
     ]
    }
   ],
   "source": [
    "##reg5##\n",
    "reg_model_num = 3\n",
    "v_reg = 'v ~ face_mult_1 + house_mult_1 + face_mult_2 + house_mult_2 + face_mult_3 + house_mult_3'\n",
    "a_reg = 'a ~ C(multNum)'\n",
    "reg = [v_reg,a_reg]\n",
    "model_group_made_reg_3 = hddm.HDDMRegressor(group_data,reg,include='z',informative=False,keep_regressor_trace=True) #use patsy\n",
    "model_group_made_reg_3_traces = os.path.join(group_made_reg_3_analysis_dir,'traces_reg3.db')\n",
    "model_group_made_reg_3.sample(num_reg_samples,burn=num_burn,dbname=model_group_made_reg_3_traces,db='pickle')\n",
    "#print#\n",
    "model_group_made_reg_3_name = 'stats_print_all_model_group_n' + str(num_subs) + '_reg' + str(reg_model_num) + '.csv'\n",
    "model_group_made_reg_3_out_path = os.path.join(group_made_reg_3_analysis_dir,model_group_made_reg_3_name)\n",
    "model_group_made_reg_3.print_stats(fname=model_group_made_reg_3_out_path)\n",
    "#stats#\n",
    "model_group_made_reg_3_stats = model_group_made_reg_3.gen_stats()\n",
    "model_group_made_reg_3_stats_name = 'stats_all_group_n' + str(num_subs) + '_reg' + str(reg_model_num) + '_stats.csv'\n",
    "model_group_made_reg_3_stats_out_path = os.path.join(group_made_reg_3_analysis_dir,model_group_made_reg_3_stats_name)\n",
    "model_group_made_reg_3_stats.to_csv(model_group_made_reg_3_stats_out_path)\n",
    "dic_made_reg_3 = model_group_made_reg_3.dic\n",
    "#save reg5#\n",
    "model_group_made_reg_3_sname = 'model_group_reg' + str(reg_model_num) + '_n' + str(num_subs)\n",
    "model_group_made_reg_3_path = os.path.join(group_made_reg_3_analysis_dir,model_group_made_reg_3_sname)\n",
    "model_group_made_reg_3.save(model_group_made_reg_3_path)"
   ]
  },
  {
   "cell_type": "code",
   "execution_count": 78,
   "metadata": {
    "ExecuteTime": {
     "end_time": "2017-09-13T23:22:06.675038Z",
     "start_time": "2017-09-13T23:22:06.622700Z"
    }
   },
   "outputs": [
    {
     "data": {
      "text/plain": [
       "26270.038359468199"
      ]
     },
     "execution_count": 78,
     "metadata": {},
     "output_type": "execute_result"
    }
   ],
   "source": [
    "model_group_made_reg_3.dic"
   ]
  },
  {
   "cell_type": "markdown",
   "metadata": {},
   "source": [
    "### v ~ 6 regressor || a ~ multNum || t ~ swapAmount\n",
    "___\n",
    "Bias On"
   ]
  },
  {
   "cell_type": "code",
   "execution_count": null,
   "metadata": {
    "ExecuteTime": {
     "start_time": "2017-09-19T16:03:48.987Z"
    },
    "collapsed": true
   },
   "outputs": [],
   "source": [
    "python --version"
   ]
  },
  {
   "cell_type": "code",
   "execution_count": 79,
   "metadata": {
    "ExecuteTime": {
     "end_time": "2017-09-13T23:50:05.310986Z",
     "start_time": "2017-09-13T23:27:31.479795Z"
    }
   },
   "outputs": [
    {
     "name": "stdout",
     "output_type": "stream",
     "text": [
      "Adding these covariates:\n",
      "['v_Intercept', 'v_face_mult_1', 'v_house_mult_1', 'v_face_mult_2', 'v_house_mult_2', 'v_face_mult_3', 'v_house_mult_3']\n",
      "Adding these covariates:\n",
      "['a_Intercept', 'a_C(multNum)[T.1]', 'a_C(multNum)[T.2]']\n",
      "Adding these covariates:\n",
      "['t_Intercept', 't_swapAmount']\n",
      " [-----------------100%-----------------] 501 of 500 complete in 1336.3 secWARNING: Will not save custom link functions.\n",
      "WARNING: Will not save custom link functions.\n",
      "WARNING: Will not save custom link functions.\n"
     ]
    }
   ],
   "source": [
    "##reg5##\n",
    "reg_model_num = 3.1\n",
    "v_reg = 'v ~ face_mult_1 + house_mult_1 + face_mult_2 + house_mult_2 + face_mult_3 + house_mult_3'\n",
    "a_reg = 'a ~ C(multNum)'\n",
    "t_reg = 't ~ swapAmount'\n",
    "reg = [v_reg, a_reg, t_reg]\n",
    "\n",
    "model_group_made_reg_3 = hddm.HDDMRegressor(group_data,reg,include='z',informative=False,keep_regressor_trace=True) #use patsy\n",
    "model_group_made_reg_3_traces = os.path.join(group_made_reg_3_analysis_dir,'traces_reg3.db')\n",
    "model_group_made_reg_3.sample(num_reg_samples,burn=num_burn,dbname=model_group_made_reg_3_traces,db='pickle')\n",
    "#print#\n",
    "model_group_made_reg_3_name = 'stats_print_all_model_group_n' + str(num_subs) + '_reg' + str(reg_model_num) + '.csv'\n",
    "model_group_made_reg_3_out_path = os.path.join(group_made_reg_3_analysis_dir,model_group_made_reg_3_name)\n",
    "model_group_made_reg_3.print_stats(fname=model_group_made_reg_3_out_path)\n",
    "#stats#\n",
    "model_group_made_reg_3_stats = model_group_made_reg_3.gen_stats()\n",
    "model_group_made_reg_3_stats_name = 'stats_all_group_n' + str(num_subs) + '_reg' + str(reg_model_num) + '_stats.csv'\n",
    "model_group_made_reg_3_stats_out_path = os.path.join(group_made_reg_3_analysis_dir,model_group_made_reg_3_stats_name)\n",
    "model_group_made_reg_3_stats.to_csv(model_group_made_reg_3_stats_out_path)\n",
    "dic_made_reg_3 = model_group_made_reg_3.dic\n",
    "#save reg5#\n",
    "model_group_made_reg_3_sname = 'model_group_reg' + str(reg_model_num) + '_n' + str(num_subs)\n",
    "model_group_made_reg_3_path = os.path.join(group_made_reg_3_analysis_dir,model_group_made_reg_3_sname)\n",
    "model_group_made_reg_3.save(model_group_made_reg_3_path)"
   ]
  },
  {
   "cell_type": "code",
   "execution_count": 80,
   "metadata": {
    "ExecuteTime": {
     "end_time": "2017-09-13T23:52:29.541961Z",
     "start_time": "2017-09-13T23:52:29.476448Z"
    }
   },
   "outputs": [
    {
     "data": {
      "text/plain": [
       "24897.951311882563"
      ]
     },
     "execution_count": 80,
     "metadata": {},
     "output_type": "execute_result"
    }
   ],
   "source": [
    "model_group_made_reg_3.dic"
   ]
  },
  {
   "cell_type": "markdown",
   "metadata": {
    "collapsed": true
   },
   "source": []
  },
  {
   "cell_type": "code",
   "execution_count": 14,
   "metadata": {
    "ExecuteTime": {
     "end_time": "2017-09-15T16:07:57.072977Z",
     "start_time": "2017-09-15T11:42:13.593521Z"
    }
   },
   "outputs": [
    {
     "name": "stdout",
     "output_type": "stream",
     "text": [
      "Adding these covariates:\n",
      "['v_Intercept', 'v_face_mult_1', 'v_house_mult_1', 'v_face_mult_2', 'v_house_mult_2', 'v_face_mult_3', 'v_house_mult_3']\n",
      "Adding these covariates:\n",
      "['a_Intercept', 'a_summedVal']\n",
      "Adding these covariates:\n",
      "['t_Intercept', 't_swapAmount']\n"
     ]
    },
    {
     "name": "stderr",
     "output_type": "stream",
     "text": [
      "/Users/djw/anaconda/lib/python2.7/site-packages/pymc/Node.py:403: VisibleDeprecationWarning: using a non-integer number instead of an integer will result in an error in the future\n",
      "  self.__name__ = input['__name__']\n"
     ]
    },
    {
     "name": "stdout",
     "output_type": "stream",
     "text": [
      " [-----------------100%-----------------] 4401 of 4400 complete in 15839.1 secWARNING: Will not save custom link functions.\n",
      "WARNING: Will not save custom link functions.\n",
      "WARNING: Will not save custom link functions.\n"
     ]
    }
   ],
   "source": [
    "##reg5##\n",
    "reg_model_num = '3d'\n",
    "v_reg = 'v ~ face_mult_1 + house_mult_1 + face_mult_2 + house_mult_2 + face_mult_3 + house_mult_3'\n",
    "a_reg = 'a ~ summedVal'\n",
    "t_reg = 't ~ swapAmount'\n",
    "reg = [v_reg,a_reg, t_reg]\n",
    "\n",
    "model_group_made_reg_3d = hddm.HDDMRegressor(group_data,reg,include='z',informative=False,keep_regressor_trace=True) #use patsy\n",
    "model_group_made_reg_3d_traces = os.path.join(group_made_reg_3_analysis_dir,'traces_reg_3d.db')\n",
    "model_group_made_reg_3d.sample(num_reg_samples,burn=num_burn,dbname=model_group_made_reg_3d_traces,db='pickle')\n",
    "#print#\n",
    "model_group_made_reg_3d_name = 'stats_print_all_model_group_n' + str(num_subs) + '_reg' + str(reg_model_num) + '.csv'\n",
    "model_group_made_reg_3d_out_path = os.path.join(group_made_reg_3_analysis_dir,model_group_made_reg_3d_name)\n",
    "model_group_made_reg_3d.print_stats(fname=model_group_made_reg_3d_out_path)\n",
    "#stats#\n",
    "model_group_made_reg_3d_stats = model_group_made_reg_3d.gen_stats()\n",
    "model_group_made_reg_3d_stats_name = 'stats_all_group_n' + str(num_subs) + '_reg' + str(reg_model_num) + '_stats.csv'\n",
    "model_group_made_reg_3d_stats_out_path = os.path.join(group_made_reg_3_analysis_dir,model_group_made_reg_3d_stats_name)\n",
    "model_group_made_reg_3d_stats.to_csv(model_group_made_reg_3d_stats_out_path)\n",
    "dic_made_reg_3d = model_group_made_reg_3d.dic\n",
    "#save reg5#\n",
    "model_group_made_reg_3d_sname = 'model_group_reg' + str(reg_model_num) + '_n' + str(num_subs)\n",
    "model_group_made_reg_3d_path = os.path.join(group_made_reg_3_analysis_dir,model_group_made_reg_3d_sname)\n",
    "model_group_made_reg_3d.save(model_group_made_reg_3d_path)"
   ]
  },
  {
   "cell_type": "code",
   "execution_count": 15,
   "metadata": {
    "ExecuteTime": {
     "end_time": "2017-09-15T16:07:57.491195Z",
     "start_time": "2017-09-15T16:07:57.425207Z"
    }
   },
   "outputs": [
    {
     "data": {
      "text/plain": [
       "24946.855855176338"
      ]
     },
     "execution_count": 15,
     "metadata": {},
     "output_type": "execute_result"
    }
   ],
   "source": [
    "model_group_made_reg_3d.dic"
   ]
  },
  {
   "cell_type": "code",
   "execution_count": null,
   "metadata": {
    "collapsed": true
   },
   "outputs": [],
   "source": []
  },
  {
   "cell_type": "code",
   "execution_count": 137,
   "metadata": {
    "ExecuteTime": {
     "end_time": "2017-09-14T00:36:26.005577Z",
     "start_time": "2017-09-14T00:36:25.163714Z"
    }
   },
   "outputs": [
    {
     "data": {
      "image/png": "[encoded data removed]",
      "text/plain": [
       "<matplotlib.figure.Figure at 0x118f66790>"
      ]
     },
     "metadata": {},
     "output_type": "display_data"
    }
   ],
   "source": [
    "intercept, v_face_mult_1, v_house_mult_1, v_face_mult_2, v_house_mult_2, v_face_mult_3, v_house_mult_3= model_group_made_reg_3.nodes_db.ix[[\"v_Intercept\",\n",
    "                                                                               \"v_face_mult_1\",\n",
    "                                                                               \"v_house_mult_1\",\n",
    "                                                                              \"v_face_mult_2\",\n",
    "                                                                              \"v_house_mult_2\",\n",
    "                                                                              \"v_face_mult_3\",\n",
    "                                                                              \"v_house_mult_3\"], 'node']\n",
    "\n",
    "\n",
    "hddm.analyze.plot_posterior_nodes([intercept, v_face_mult_1, v_house_mult_1, v_face_mult_2, v_house_mult_2, v_face_mult_3, v_house_mult_3])\n",
    "plt.xlabel('drift-rate')\n",
    "plt.ylabel('Posterior probability')\n",
    "plt.title('Group mean posteriors of within-subject drift-rate effects.')\n",
    "plt.tick_params(\n",
    "    axis='both',          # changes apply to the x-axis\n",
    "    which='both',      # both major and minor ticks are affected\n",
    "    right='off',      # ticks along the bottom edge are off\n",
    "    top='off')         # ticks along the top edge are off\n",
    "plt.legend(loc = 1, fontsize = 7)\n",
    "\n",
    "plt.savefig('v ~ 6 regressor||a ~ multNum||t ~ swapAmount.png', dpi = 300)\n",
    "plt.show()\n",
    "\n",
    "plt.close('all')\n"
   ]
  },
  {
   "cell_type": "markdown",
   "metadata": {},
   "source": [
    "## v4 Models"
   ]
  },
  {
   "cell_type": "markdown",
   "metadata": {},
   "source": [
    "### v ~ abs(Net Value)\n",
    "---\n",
    "No Bias"
   ]
  },
  {
   "cell_type": "code",
   "execution_count": 84,
   "metadata": {
    "collapsed": true
   },
   "outputs": [],
   "source": [
    "group_data['abs_summed_val'] = abs(group_data.summed_val)"
   ]
  },
  {
   "cell_type": "code",
   "execution_count": 86,
   "metadata": {},
   "outputs": [
    {
     "name": "stdout",
     "output_type": "stream",
     "text": [
      "Adding these covariates:\n",
      "['v_Intercept', 'v_abs_summed_val']\n",
      " [-----------------100%-----------------] 4400 of 4400 complete in 639.3 secWARNING: Will not save custom link functions.\n"
     ]
    }
   ],
   "source": [
    "# Set folder name at top\n",
    "reg_model_num = 0.1\n",
    "\n",
    "v_reg = 'v ~ abs_summed_val'\n",
    "#a_reg = 'a ~ C(multNum)'\n",
    "reg = [v_reg]\n",
    "model_group_made_reg_3 = hddm.HDDMRegressor(group_data,reg,informative=False,keep_regressor_trace=True) #use patsy\n",
    "model_group_made_reg_3_traces = os.path.join(group_made_reg_3_analysis_dir,'traces_reg3.db')\n",
    "model_group_made_reg_3.sample(num_reg_samples,burn=num_burn,dbname=model_group_made_reg_3_traces,db='pickle')\n",
    "#print#\n",
    "model_group_made_reg_3_name = 'stats_print_all_model_group_n' + str(num_subs) + '_reg' + str(reg_model_num) + '.csv'\n",
    "model_group_made_reg_3_out_path = os.path.join(group_made_reg_3_analysis_dir,model_group_made_reg_3_name)\n",
    "model_group_made_reg_3.print_stats(fname=model_group_made_reg_3_out_path)\n",
    "#stats#\n",
    "model_group_made_reg_3_stats = model_group_made_reg_3.gen_stats()\n",
    "model_group_made_reg_3_stats_name = 'stats_all_group_n' + str(num_subs) + '_reg' + str(reg_model_num) + '_stats.csv'\n",
    "model_group_made_reg_3_stats_out_path = os.path.join(group_made_reg_3_analysis_dir,model_group_made_reg_3_stats_name)\n",
    "model_group_made_reg_3_stats.to_csv(model_group_made_reg_3_stats_out_path)\n",
    "dic_made_reg_3 = model_group_made_reg_3.dic\n",
    "#save reg5#\n",
    "model_group_made_reg_3_sname = 'model_group_reg' + str(reg_model_num) + '_n' + str(num_subs)\n",
    "model_group_made_reg_3_path = os.path.join(group_made_reg_3_analysis_dir,model_group_made_reg_3_sname)\n",
    "model_group_made_reg_3.save(model_group_made_reg_3_path)"
   ]
  },
  {
   "cell_type": "code",
   "execution_count": 87,
   "metadata": {},
   "outputs": [
    {
     "data": {
      "text/plain": [
       "43612.863496160629"
      ]
     },
     "execution_count": 87,
     "metadata": {},
     "output_type": "execute_result"
    }
   ],
   "source": [
    "model_group_made_reg_3.dic"
   ]
  },
  {
   "cell_type": "markdown",
   "metadata": {},
   "source": [
    "### v ~ abs(Net Value) || a ~ abs(Net Value)\n",
    "___\n",
    "No Bias"
   ]
  },
  {
   "cell_type": "code",
   "execution_count": 88,
   "metadata": {},
   "outputs": [
    {
     "name": "stdout",
     "output_type": "stream",
     "text": [
      "Adding these covariates:\n",
      "['v_Intercept', 'v_abs_summed_val']\n",
      "Adding these covariates:\n",
      "['a_Intercept', 'a_abs_summed_val']\n",
      " [-----------------100%-----------------] 4401 of 4400 complete in 11960.9 secWARNING: Will not save custom link functions.\n",
      "WARNING: Will not save custom link functions.\n"
     ]
    }
   ],
   "source": [
    "# Set folder name at top\n",
    "reg_model_num = 0.2\n",
    "\n",
    "v_reg = 'v ~ abs_summed_val'\n",
    "a_reg = 'a ~ abs_summed_val'\n",
    "\n",
    "reg = [v_reg, a_reg]\n",
    "model_group_made_reg_3 = hddm.HDDMRegressor(group_data,reg,informative=False,keep_regressor_trace=True) #use patsy\n",
    "model_group_made_reg_3_traces = os.path.join(group_made_reg_3_analysis_dir,'traces_reg3.db')\n",
    "model_group_made_reg_3.sample(num_reg_samples,burn=num_burn,dbname=model_group_made_reg_3_traces,db='pickle')\n",
    "#print#\n",
    "model_group_made_reg_3_name = 'stats_print_all_model_group_n' + str(num_subs) + '_reg' + str(reg_model_num) + '.csv'\n",
    "model_group_made_reg_3_out_path = os.path.join(group_made_reg_3_analysis_dir,model_group_made_reg_3_name)\n",
    "model_group_made_reg_3.print_stats(fname=model_group_made_reg_3_out_path)\n",
    "#stats#\n",
    "model_group_made_reg_3_stats = model_group_made_reg_3.gen_stats()\n",
    "model_group_made_reg_3_stats_name = 'stats_all_group_n' + str(num_subs) + '_reg' + str(reg_model_num) + '_stats.csv'\n",
    "model_group_made_reg_3_stats_out_path = os.path.join(group_made_reg_3_analysis_dir,model_group_made_reg_3_stats_name)\n",
    "model_group_made_reg_3_stats.to_csv(model_group_made_reg_3_stats_out_path)\n",
    "dic_made_reg_3 = model_group_made_reg_3.dic\n",
    "#save reg5#\n",
    "model_group_made_reg_3_sname = 'model_group_reg' + str(reg_model_num) + '_n' + str(num_subs)\n",
    "model_group_made_reg_3_path = os.path.join(group_made_reg_3_analysis_dir,model_group_made_reg_3_sname)\n",
    "model_group_made_reg_3.save(model_group_made_reg_3_path)"
   ]
  },
  {
   "cell_type": "code",
   "execution_count": 89,
   "metadata": {},
   "outputs": [
    {
     "data": {
      "text/plain": [
       "43448.447600923151"
      ]
     },
     "execution_count": 89,
     "metadata": {},
     "output_type": "execute_result"
    }
   ],
   "source": [
    "model_group_made_reg_3.dic"
   ]
  },
  {
   "cell_type": "markdown",
   "metadata": {},
   "source": [
    "### v ~ abs(Net Value) || t ~ swapAmount\n",
    "----\n",
    "No Bias"
   ]
  },
  {
   "cell_type": "code",
   "execution_count": 90,
   "metadata": {},
   "outputs": [
    {
     "name": "stdout",
     "output_type": "stream",
     "text": [
      "Adding these covariates:\n",
      "['v_Intercept', 'v_abs_summed_val']\n",
      "Adding these covariates:\n",
      "['t_Intercept', 't_fix_num']\n",
      " [-----------------100%-----------------] 4401 of 4400 complete in 15933.4 secWARNING: Will not save custom link functions.\n",
      "WARNING: Will not save custom link functions.\n"
     ]
    }
   ],
   "source": [
    "# Set folder name at top\n",
    "reg_model_num = 0.3\n",
    "\n",
    "v_reg = 'v ~ abs_summed_val'\n",
    "t_reg = 't ~ fix_num'\n",
    "\n",
    "reg = [v_reg, t_reg]\n",
    "model_group_made_reg_3 = hddm.HDDMRegressor(group_data,reg,informative=False,keep_regressor_trace=True) #use patsy\n",
    "model_group_made_reg_3_traces = os.path.join(group_made_reg_3_analysis_dir,'traces_reg3.db')\n",
    "model_group_made_reg_3.sample(num_reg_samples,burn=num_burn,dbname=model_group_made_reg_3_traces,db='pickle')\n",
    "#print#\n",
    "model_group_made_reg_3_name = 'stats_print_all_model_group_n' + str(num_subs) + '_reg' + str(reg_model_num) + '.csv'\n",
    "model_group_made_reg_3_out_path = os.path.join(group_made_reg_3_analysis_dir,model_group_made_reg_3_name)\n",
    "model_group_made_reg_3.print_stats(fname=model_group_made_reg_3_out_path)\n",
    "#stats#\n",
    "model_group_made_reg_3_stats = model_group_made_reg_3.gen_stats()\n",
    "model_group_made_reg_3_stats_name = 'stats_all_group_n' + str(num_subs) + '_reg' + str(reg_model_num) + '_stats.csv'\n",
    "model_group_made_reg_3_stats_out_path = os.path.join(group_made_reg_3_analysis_dir,model_group_made_reg_3_stats_name)\n",
    "model_group_made_reg_3_stats.to_csv(model_group_made_reg_3_stats_out_path)\n",
    "dic_made_reg_3 = model_group_made_reg_3.dic\n",
    "#save reg5#\n",
    "model_group_made_reg_3_sname = 'model_group_reg' + str(reg_model_num) + '_n' + str(num_subs)\n",
    "model_group_made_reg_3_path = os.path.join(group_made_reg_3_analysis_dir,model_group_made_reg_3_sname)\n",
    "model_group_made_reg_3.save(model_group_made_reg_3_path)"
   ]
  },
  {
   "cell_type": "code",
   "execution_count": 91,
   "metadata": {},
   "outputs": [
    {
     "data": {
      "text/plain": [
       "42999.544094165896"
      ]
     },
     "execution_count": 91,
     "metadata": {},
     "output_type": "execute_result"
    }
   ],
   "source": [
    "model_group_made_reg_3.dic"
   ]
  },
  {
   "cell_type": "markdown",
   "metadata": {},
   "source": [
    "### v ~ Net Value || a ~ multNum || t ~ swapAmount"
   ]
  },
  {
   "cell_type": "code",
   "execution_count": 87,
   "metadata": {},
   "outputs": [
    {
     "name": "stderr",
     "output_type": "stream",
     "text": [
      "/Users/djw/anaconda/lib/python2.7/site-packages/ipykernel/__main__.py:2: SettingWithCopyWarning: \n",
      "A value is trying to be set on a copy of a slice from a DataFrame\n",
      "\n",
      "See the caveats in the documentation: http://pandas.pydata.org/pandas-docs/stable/indexing.html#indexing-view-versus-copy\n",
      "  from ipykernel import kernelapp as app\n",
      "/Users/djw/anaconda/lib/python2.7/site-packages/ipykernel/__main__.py:3: SettingWithCopyWarning: \n",
      "A value is trying to be set on a copy of a slice from a DataFrame\n",
      "\n",
      "See the caveats in the documentation: http://pandas.pydata.org/pandas-docs/stable/indexing.html#indexing-view-versus-copy\n",
      "  app.launch_new_instance()\n"
     ]
    }
   ],
   "source": [
    "group_data['mult_num'] = 0\n",
    "group_data.mult_num[(group_data.face_mult > 1) | (group_data.house_mult > 1)] = 1\n",
    "group_data.mult_num[(group_data.face_mult > 1) & (group_data.house_mult > 1)] = 2"
   ]
  },
  {
   "cell_type": "code",
   "execution_count": 103,
   "metadata": {},
   "outputs": [
    {
     "name": "stdout",
     "output_type": "stream",
     "text": [
      "Adding these covariates:\n",
      "['v_Intercept', 'v_summed_val']\n",
      "Adding these covariates:\n",
      "['a_Intercept', 'a_C(mult_num)[T.1]', 'a_C(mult_num)[T.2]']\n",
      "Adding these covariates:\n",
      "['t_Intercept', 't_fix_num']\n",
      " [-----------------100%-----------------] 4400 of 4400 complete in 1615.5 secWARNING: Will not save custom link functions.\n",
      "WARNING: Will not save custom link functions.\n",
      "WARNING: Will not save custom link functions.\n"
     ]
    }
   ],
   "source": [
    "# Set folder name at top\n",
    "reg_model_num = 1.2\n",
    "\n",
    "v_reg = 'v ~ summed_val'\n",
    "a_reg = 'a ~ C(mult_num)'\n",
    "t_reg = 't ~ fix_num'\n",
    "\n",
    "reg = [v_reg, a_reg, t_reg]\n",
    "model_group_made_reg_3 = hddm.HDDMRegressor(group_data,reg,informative=False,keep_regressor_trace=True) #use patsy\n",
    "model_group_made_reg_3_traces = os.path.join(group_made_reg_3_analysis_dir,'traces_reg3.db')\n",
    "model_group_made_reg_3.sample(num_reg_samples,burn=num_burn,dbname=model_group_made_reg_3_traces,db='pickle')\n",
    "#print#\n",
    "model_group_made_reg_3_name = 'stats_print_all_model_group_n' + str(num_subs) + '_reg' + str(reg_model_num) + '.csv'\n",
    "model_group_made_reg_3_out_path = os.path.join(group_made_reg_3_analysis_dir,model_group_made_reg_3_name)\n",
    "model_group_made_reg_3.print_stats(fname=model_group_made_reg_3_out_path)\n",
    "#stats#\n",
    "model_group_made_reg_3_stats = model_group_made_reg_3.gen_stats()\n",
    "model_group_made_reg_3_stats_name = 'stats_all_group_n' + str(num_subs) + '_reg' + str(reg_model_num) + '_stats.csv'\n",
    "model_group_made_reg_3_stats_out_path = os.path.join(group_made_reg_3_analysis_dir,model_group_made_reg_3_stats_name)\n",
    "model_group_made_reg_3_stats.to_csv(model_group_made_reg_3_stats_out_path)\n",
    "dic_made_reg_3 = model_group_made_reg_3.dic\n",
    "#save reg5#\n",
    "model_group_made_reg_3_sname = 'model_group_reg' + str(reg_model_num) + '_n' + str(num_subs)\n",
    "model_group_made_reg_3_path = os.path.join(group_made_reg_3_analysis_dir,model_group_made_reg_3_sname)\n",
    "model_group_made_reg_3.save(model_group_made_reg_3_path)"
   ]
  },
  {
   "cell_type": "code",
   "execution_count": 104,
   "metadata": {},
   "outputs": [
    {
     "data": {
      "text/plain": [
       "36773.764560898111"
      ]
     },
     "execution_count": 104,
     "metadata": {},
     "output_type": "execute_result"
    }
   ],
   "source": [
    "model_group_made_reg_3.dic"
   ]
  },
  {
   "cell_type": "markdown",
   "metadata": {},
   "source": [
    "### v ~ 6 regressor || t ~ fix_num\n",
    "___\n",
    "Bias On"
   ]
  },
  {
   "cell_type": "code",
   "execution_count": 101,
   "metadata": {
    "scrolled": true
   },
   "outputs": [
    {
     "name": "stdout",
     "output_type": "stream",
     "text": [
      "Adding these covariates:\n",
      "['v_Intercept', 'v_face_mult_1', 'v_house_mult_1', 'v_face_mult_2', 'v_house_mult_2', 'v_face_mult_3', 'v_house_mult_3']\n",
      "Adding these covariates:\n",
      "['t_Intercept', 't_fix_num']\n",
      " [-----------------100%-----------------] 4401 of 4400 complete in 1953.0 secWARNING: Will not save custom link functions.\n",
      "WARNING: Will not save custom link functions.\n"
     ]
    }
   ],
   "source": [
    "##reg5##\n",
    "reg_model_num = 0\n",
    "v_reg = 'v ~ face_mult_1 + house_mult_1 + face_mult_2 + house_mult_2 + face_mult_3 + house_mult_3'\n",
    "#a_reg = 'a ~ C(multNum)'\n",
    "t_reg = 't ~ fix_num'\n",
    "reg = [v_reg, t_reg]\n",
    "\n",
    "model_group_made_reg_3 = hddm.HDDMRegressor(group_data,reg,include='z',informative=False,keep_regressor_trace=True) #use patsy\n",
    "model_group_made_reg_3_traces = os.path.join(group_made_reg_3_analysis_dir,'traces_reg3.db')\n",
    "model_group_made_reg_3.sample(num_reg_samples,burn=num_burn,dbname=model_group_made_reg_3_traces,db='pickle')\n",
    "#print#\n",
    "model_group_made_reg_3_name = 'stats_print_all_model_group_n' + str(num_subs) + '_reg' + str(reg_model_num) + '.csv'\n",
    "model_group_made_reg_3_out_path = os.path.join(group_made_reg_3_analysis_dir,model_group_made_reg_3_name)\n",
    "model_group_made_reg_3.print_stats(fname=model_group_made_reg_3_out_path)\n",
    "#stats#\n",
    "model_group_made_reg_3_stats = model_group_made_reg_3.gen_stats()\n",
    "model_group_made_reg_3_stats_name = 'stats_all_group_n' + str(num_subs) + '_reg' + str(reg_model_num) + '_stats.csv'\n",
    "model_group_made_reg_3_stats_out_path = os.path.join(group_made_reg_3_analysis_dir,model_group_made_reg_3_stats_name)\n",
    "model_group_made_reg_3_stats.to_csv(model_group_made_reg_3_stats_out_path)\n",
    "dic_made_reg_3 = model_group_made_reg_3.dic\n",
    "#save reg5#\n",
    "model_group_made_reg_3_sname = 'model_group_reg' + str(reg_model_num) + '_n' + str(num_subs)\n",
    "model_group_made_reg_3_path = os.path.join(group_made_reg_3_analysis_dir,model_group_made_reg_3_sname)\n",
    "model_group_made_reg_3.save(model_group_made_reg_3_path)"
   ]
  },
  {
   "cell_type": "code",
   "execution_count": 102,
   "metadata": {},
   "outputs": [
    {
     "data": {
      "text/plain": [
       "36314.448871660061"
      ]
     },
     "execution_count": 102,
     "metadata": {},
     "output_type": "execute_result"
    }
   ],
   "source": [
    "model_group_made_reg_3.dic"
   ]
  },
  {
   "cell_type": "markdown",
   "metadata": {},
   "source": [
    "### v ~ 6 regressor || a ~ mult_num || t ~ fix_num\n",
    "___\n",
    "Bias On"
   ]
  },
  {
   "cell_type": "code",
   "execution_count": 89,
   "metadata": {},
   "outputs": [
    {
     "name": "stdout",
     "output_type": "stream",
     "text": [
      "Adding these covariates:\n",
      "['v_Intercept', 'v_face_mult_1', 'v_house_mult_1', 'v_face_mult_2', 'v_house_mult_2', 'v_face_mult_3', 'v_house_mult_3']\n",
      "Adding these covariates:\n",
      "['a_Intercept', 'a_C(mult_num)[T.1]', 'a_C(mult_num)[T.2]']\n",
      "Adding these covariates:\n",
      "['t_Intercept', 't_fix_num']\n",
      " [-----------------100%-----------------] 4401 of 4400 complete in 20249.5 secWARNING: Will not save custom link functions.\n",
      "WARNING: Will not save custom link functions.\n",
      "WARNING: Will not save custom link functions.\n"
     ]
    }
   ],
   "source": [
    "##reg5##\n",
    "reg_model_num = 4.5\n",
    "v_reg = 'v ~ face_mult_1 + house_mult_1 + face_mult_2 + house_mult_2 + face_mult_3 + house_mult_3'\n",
    "a_reg = 'a ~ C(mult_num)'\n",
    "t_reg = 't ~ fix_num'\n",
    "reg = [v_reg, a_reg, t_reg]\n",
    "\n",
    "model_group_made_reg_3 = hddm.HDDMRegressor(group_data,reg,include='z',informative=False,keep_regressor_trace=True) #use patsy\n",
    "model_group_made_reg_3_traces = os.path.join(group_made_reg_3_analysis_dir,'traces_reg3.db')\n",
    "model_group_made_reg_3.sample(num_reg_samples,burn=num_burn,dbname=model_group_made_reg_3_traces,db='pickle')\n",
    "#print#\n",
    "model_group_made_reg_3_name = 'stats_print_all_model_group_n' + str(num_subs) + '_reg' + str(reg_model_num) + '.csv'\n",
    "model_group_made_reg_3_out_path = os.path.join(group_made_reg_3_analysis_dir,model_group_made_reg_3_name)\n",
    "model_group_made_reg_3.print_stats(fname=model_group_made_reg_3_out_path)\n",
    "#stats#\n",
    "model_group_made_reg_3_stats = model_group_made_reg_3.gen_stats()\n",
    "model_group_made_reg_3_stats_name = 'stats_all_group_n' + str(num_subs) + '_reg' + str(reg_model_num) + '_stats.csv'\n",
    "model_group_made_reg_3_stats_out_path = os.path.join(group_made_reg_3_analysis_dir,model_group_made_reg_3_stats_name)\n",
    "model_group_made_reg_3_stats.to_csv(model_group_made_reg_3_stats_out_path)\n",
    "dic_made_reg_3 = model_group_made_reg_3.dic\n",
    "#save reg5#\n",
    "model_group_made_reg_3_sname = 'model_group_reg' + str(reg_model_num) + '_n' + str(num_subs)\n",
    "model_group_made_reg_3_path = os.path.join(group_made_reg_3_analysis_dir,model_group_made_reg_3_sname)\n",
    "model_group_made_reg_3.save(model_group_made_reg_3_path)"
   ]
  },
  {
   "cell_type": "code",
   "execution_count": 91,
   "metadata": {},
   "outputs": [
    {
     "data": {
      "text/plain": [
       "33956.506731223235"
      ]
     },
     "execution_count": 91,
     "metadata": {},
     "output_type": "execute_result"
    }
   ],
   "source": [
    "model_group_made_reg_3.dic"
   ]
  },
  {
   "cell_type": "code",
   "execution_count": null,
   "metadata": {
    "collapsed": true
   },
   "outputs": [],
   "source": []
  },
  {
   "cell_type": "markdown",
   "metadata": {},
   "source": [
    "## v3 Models"
   ]
  },
  {
   "cell_type": "markdown",
   "metadata": {},
   "source": [
    "### v ~ 6 regressor || a ~ mult_num || t ~ fix_num\n",
    "___\n",
    "Bias On"
   ]
  },
  {
   "cell_type": "code",
   "execution_count": 57,
   "metadata": {
    "collapsed": true
   },
   "outputs": [],
   "source": [
    "# Remove 1st 100 trials from everyone\n",
    "group_data = group_data[group_data.round_num>0]"
   ]
  },
  {
   "cell_type": "code",
   "execution_count": 58,
   "metadata": {},
   "outputs": [
    {
     "name": "stderr",
     "output_type": "stream",
     "text": [
      "/Users/djw/anaconda/lib/python2.7/site-packages/ipykernel/__main__.py:1: SettingWithCopyWarning: \n",
      "A value is trying to be set on a copy of a slice from a DataFrame.\n",
      "Try using .loc[row_indexer,col_indexer] = value instead\n",
      "\n",
      "See the caveats in the documentation: http://pandas.pydata.org/pandas-docs/stable/indexing.html#indexing-view-versus-copy\n",
      "  if __name__ == '__main__':\n"
     ]
    }
   ],
   "source": [
    "group_data['mult_num'] = 0"
   ]
  },
  {
   "cell_type": "code",
   "execution_count": 59,
   "metadata": {
    "collapsed": true
   },
   "outputs": [
    {
     "name": "stderr",
     "output_type": "stream",
     "text": [
      "/Users/djw/anaconda/lib/python2.7/site-packages/ipykernel/__main__.py:1: SettingWithCopyWarning: \n",
      "A value is trying to be set on a copy of a slice from a DataFrame\n",
      "\n",
      "See the caveats in the documentation: http://pandas.pydata.org/pandas-docs/stable/indexing.html#indexing-view-versus-copy\n",
      "  if __name__ == '__main__':\n",
      "/Users/djw/anaconda/lib/python2.7/site-packages/pandas/core/generic.py:5984: SettingWithCopyWarning: \n",
      "A value is trying to be set on a copy of a slice from a DataFrame\n",
      "\n",
      "See the caveats in the documentation: http://pandas.pydata.org/pandas-docs/stable/indexing.html#indexing-view-versus-copy\n",
      "  self._update_inplace(new_data)\n",
      "/Users/djw/anaconda/lib/python2.7/site-packages/IPython/core/interactiveshell.py:2881: SettingWithCopyWarning: \n",
      "A value is trying to be set on a copy of a slice from a DataFrame\n",
      "\n",
      "See the caveats in the documentation: http://pandas.pydata.org/pandas-docs/stable/indexing.html#indexing-view-versus-copy\n",
      "  exec(code_obj, self.user_global_ns, self.user_ns)\n",
      "/Users/djw/anaconda/lib/python2.7/site-packages/ipykernel/__main__.py:2: SettingWithCopyWarning: \n",
      "A value is trying to be set on a copy of a slice from a DataFrame\n",
      "\n",
      "See the caveats in the documentation: http://pandas.pydata.org/pandas-docs/stable/indexing.html#indexing-view-versus-copy\n",
      "  from ipykernel import kernelapp as app\n",
      "/Users/djw/anaconda/lib/python2.7/site-packages/ipykernel/__main__.py:3: SettingWithCopyWarning: \n",
      "A value is trying to be set on a copy of a slice from a DataFrame\n",
      "\n",
      "See the caveats in the documentation: http://pandas.pydata.org/pandas-docs/stable/indexing.html#indexing-view-versus-copy\n",
      "  app.launch_new_instance()\n"
     ]
    }
   ],
   "source": [
    "group_data['mult_num'][group_data.face_mult != 1] = 1\n",
    "group_data['mult_num'][group_data.house_mult != 1] = 1\n",
    "group_data['mult_num'][(group_data.face_mult != 1) & (group_data.house_mult !=1)] = 2"
   ]
  },
  {
   "cell_type": "code",
   "execution_count": 24,
   "metadata": {},
   "outputs": [
    {
     "name": "stdout",
     "output_type": "stream",
     "text": [
      "Adding these covariates:\n",
      "['v_Intercept', 'v_face_mult_01', 'v_house_mult_01', 'v_face_mult_05', 'v_house_mult_05', 'v_face_mult_1', 'v_house_mult_1', 'v_face_mult_2', 'v_house_mult_2', 'v_face_mult_3', 'v_house_mult_3', 'v_face_mult_10', 'v_house_mult_10']\n",
      "Adding these covariates:\n",
      "['a_Intercept', 'a_C(mult_num)[T.1]', 'a_C(mult_num)[T.2]']\n",
      "Adding these covariates:\n",
      "['t_Intercept', 't_fix_num']\n"
     ]
    },
    {
     "name": "stderr",
     "output_type": "stream",
     "text": [
      "/Users/djw/anaconda/lib/python2.7/site-packages/pymc/Node.py:403: VisibleDeprecationWarning: using a non-integer number instead of an integer will result in an error in the future\n",
      "  self.__name__ = input['__name__']\n"
     ]
    },
    {
     "name": "stdout",
     "output_type": "stream",
     "text": [
      " [-----------------100%-----------------] 4401 of 4400 complete in 27285.6 secWARNING: Will not save custom link functions.\n",
      "WARNING: Will not save custom link functions.\n",
      "WARNING: Will not save custom link functions.\n"
     ]
    }
   ],
   "source": [
    "##reg1##\n",
    "reg_model_num = 3.2\n",
    "v_reg = 'v ~ face_mult_01 + house_mult_01 + face_mult_05 + house_mult_05 + face_mult_1 + house_mult_1 +\\\n",
    "face_mult_2 + house_mult_2 + face_mult_3 + house_mult_3 + face_mult_10 + house_mult_10'\n",
    "a_reg = 'a ~ C(mult_num)'\n",
    "t_reg = 't ~ fix_num'\n",
    "reg = [v_reg, a_reg, t_reg]\n",
    "\n",
    "model_group_made_reg_3 = hddm.HDDMRegressor(group_data,reg,include='z',informative=False,keep_regressor_trace=True) #use patsy\n",
    "model_group_made_reg_3_traces = os.path.join(group_made_reg_3_analysis_dir,'traces_reg3.db')\n",
    "model_group_made_reg_3.sample(num_reg_samples,burn=num_burn,dbname=model_group_made_reg_3_traces,db='pickle')\n",
    "#print#\n",
    "model_group_made_reg_3_name = 'stats_print_all_model_group_n' + str(num_subs) + '_reg' + str(reg_model_num) + '.csv'\n",
    "model_group_made_reg_3_out_path = os.path.join(group_made_reg_3_analysis_dir,model_group_made_reg_3_name)\n",
    "model_group_made_reg_3.print_stats(fname=model_group_made_reg_3_out_path)\n",
    "#stats#\n",
    "model_group_made_reg_3_stats = model_group_made_reg_3.gen_stats()\n",
    "model_group_made_reg_3_stats_name = 'stats_all_group_n' + str(num_subs) + '_reg' + str(reg_model_num) + '_stats.csv'\n",
    "model_group_made_reg_3_stats_out_path = os.path.join(group_made_reg_3_analysis_dir,model_group_made_reg_3_stats_name)\n",
    "model_group_made_reg_3_stats.to_csv(model_group_made_reg_3_stats_out_path)\n",
    "dic_made_reg_3 = model_group_made_reg_3.dic\n",
    "#save reg5#\n",
    "model_group_made_reg_3_sname = 'model_group_reg' + str(reg_model_num) + '_n' + str(num_subs)\n",
    "model_group_made_reg_3_path = os.path.join(group_made_reg_3_analysis_dir,model_group_made_reg_3_sname)\n",
    "model_group_made_reg_3.save(model_group_made_reg_3_path)"
   ]
  },
  {
   "cell_type": "code",
   "execution_count": 25,
   "metadata": {
    "scrolled": true
   },
   "outputs": [
    {
     "data": {
      "text/plain": [
       "34279.926601057865"
      ]
     },
     "execution_count": 25,
     "metadata": {},
     "output_type": "execute_result"
    }
   ],
   "source": [
    "model_group_made_reg_3.dic"
   ]
  },
  {
   "cell_type": "code",
   "execution_count": 61,
   "metadata": {},
   "outputs": [
    {
     "name": "stdout",
     "output_type": "stream",
     "text": [
      "Adding these covariates:\n",
      "['v_Intercept', 'v_face_mult_1', 'v_house_mult_1', 'v_face_mult_2', 'v_house_mult_2', 'v_face_mult_3', 'v_house_mult_3']\n",
      "Adding these covariates:\n",
      "['a_Intercept', 'a_C(mult_num)[T.1]', 'a_C(mult_num)[T.2]']\n",
      "Adding these covariates:\n",
      "['t_Intercept', 't_fix_num']\n",
      " [-----------------100%-----------------] 4401 of 4400 complete in 20395.3 secWARNING: Will not save custom link functions.\n",
      "WARNING: Will not save custom link functions.\n",
      "WARNING: Will not save custom link functions.\n"
     ]
    }
   ],
   "source": [
    "##Only looking at mults of 1,2 and 3\n",
    "reg_model_num = 3.3\n",
    "v_reg = 'v ~ face_mult_1 + house_mult_1 + face_mult_2 + house_mult_2 + face_mult_3 + house_mult_3'\n",
    "a_reg = 'a ~ C(mult_num)'\n",
    "t_reg = 't ~ fix_num'\n",
    "reg = [v_reg, a_reg, t_reg]\n",
    "\n",
    "model_group_made_reg_3 = hddm.HDDMRegressor(group_data,reg,include='z',informative=False,keep_regressor_trace=True) #use patsy\n",
    "model_group_made_reg_3_traces = os.path.join(group_made_reg_3_analysis_dir,'traces_reg3.db')\n",
    "model_group_made_reg_3.sample(num_reg_samples,burn=num_burn,dbname=model_group_made_reg_3_traces,db='pickle')\n",
    "#print#\n",
    "model_group_made_reg_3_name = 'stats_print_all_model_group_n' + str(num_subs) + '_reg' + str(reg_model_num) + '.csv'\n",
    "model_group_made_reg_3_out_path = os.path.join(group_made_reg_3_analysis_dir,model_group_made_reg_3_name)\n",
    "model_group_made_reg_3.print_stats(fname=model_group_made_reg_3_out_path)\n",
    "#stats#\n",
    "model_group_made_reg_3_stats = model_group_made_reg_3.gen_stats()\n",
    "model_group_made_reg_3_stats_name = 'stats_all_group_n' + str(num_subs) + '_reg' + str(reg_model_num) + '_stats.csv'\n",
    "model_group_made_reg_3_stats_out_path = os.path.join(group_made_reg_3_analysis_dir,model_group_made_reg_3_stats_name)\n",
    "model_group_made_reg_3_stats.to_csv(model_group_made_reg_3_stats_out_path)\n",
    "dic_made_reg_3 = model_group_made_reg_3.dic\n",
    "#save reg5#\n",
    "model_group_made_reg_3_sname = 'model_group_reg' + str(reg_model_num) + '_n' + str(num_subs)\n",
    "model_group_made_reg_3_path = os.path.join(group_made_reg_3_analysis_dir,model_group_made_reg_3_sname)\n",
    "model_group_made_reg_3.save(model_group_made_reg_3_path)"
   ]
  },
  {
   "cell_type": "code",
   "execution_count": 62,
   "metadata": {},
   "outputs": [
    {
     "data": {
      "text/plain": [
       "15378.57399198981"
      ]
     },
     "execution_count": 62,
     "metadata": {},
     "output_type": "execute_result"
    }
   ],
   "source": [
    "model_group_made_reg_3.dic"
   ]
  },
  {
   "cell_type": "markdown",
   "metadata": {},
   "source": [
    "## PPC"
   ]
  },
  {
   "cell_type": "code",
   "execution_count": 150,
   "metadata": {
    "ExecuteTime": {
     "end_time": "2017-09-14T01:37:31.291050Z",
     "start_time": "2017-09-14T01:21:28.837115Z"
    }
   },
   "outputs": [
    {
     "name": "stdout",
     "output_type": "stream",
     "text": [
      " [-------------------113%-------------------] 26 of 23 complete in 962.4 sec"
     ]
    }
   ],
   "source": [
    "ppc_data = hddm.utils.post_pred_gen(model_group_made_reg_3, samples = 20)"
   ]
  },
  {
   "cell_type": "code",
   "execution_count": 153,
   "metadata": {
    "ExecuteTime": {
     "end_time": "2017-09-14T01:46:50.988466Z",
     "start_time": "2017-09-14T01:46:49.793244Z"
    },
    "collapsed": true
   },
   "outputs": [],
   "source": [
    "ppc_compare = hddm.utils.post_pred_stats(group_data, ppc_data)"
   ]
  },
  {
   "cell_type": "code",
   "execution_count": 154,
   "metadata": {
    "ExecuteTime": {
     "end_time": "2017-09-14T01:47:00.859968Z",
     "start_time": "2017-09-14T01:47:00.837595Z"
    }
   },
   "outputs": [
    {
     "name": "stdout",
     "output_type": "stream",
     "text": [
      "          observed      mean       std       SEM       MSE credible  \\\n",
      "stat                                                                  \n",
      "accuracy  0.518417  0.525062  0.065250  0.000044  0.004302     True   \n",
      "mean_ub   2.880131  3.183047  1.015711  0.091758  1.123429     True   \n",
      "std_ub    1.741846  1.800158  0.664005  0.003400  0.444303     True   \n",
      "10q_ub    1.233530  1.591500  0.520418  0.128142  0.398977     True   \n",
      "30q_ub    1.766821  2.078779  0.653953  0.097318  0.524972     True   \n",
      "50q_ub    2.350191  2.647712  0.829162  0.088519  0.776028     True   \n",
      "70q_ub    3.269506  3.513968  1.109184  0.059762  1.290051     True   \n",
      "90q_ub    5.205359  5.451346  1.844742  0.060509  3.463584     True   \n",
      "mean_lb  -3.080777 -3.202831  0.990052  0.014897  0.995100     True   \n",
      "std_lb    1.865840  1.816723  0.655621  0.002412  0.432252     True   \n",
      "10q_lb    1.300211  1.593297  0.517798  0.085899  0.354015     True   \n",
      "30q_lb    1.883483  2.089149  0.644249  0.042298  0.457355     True   \n",
      "50q_lb    2.533503  2.653347  0.808296  0.014363  0.667705     True   \n",
      "70q_lb    3.470450  3.535649  1.083123  0.004251  1.177405     True   \n",
      "90q_lb    5.716863  5.514136  1.820014  0.041098  3.353550     True   \n",
      "\n",
      "           quantile  mahalanobis  \n",
      "stat                              \n",
      "accuracy  43.913044     0.101827  \n",
      "mean_ub   46.739132     0.298231  \n",
      "std_ub    53.260868     0.087818  \n",
      "10q_ub    28.478260     0.687851  \n",
      "30q_ub    37.608696     0.477034  \n",
      "50q_ub    43.478260     0.358822  \n",
      "70q_ub    49.347828     0.220398  \n",
      "90q_ub    52.826088     0.133345  \n",
      "mean_lb   47.173912     0.123280  \n",
      "std_lb    60.000000     0.074917  \n",
      "10q_lb    33.260868     0.566023  \n",
      "30q_lb    41.739132     0.319234  \n",
      "50q_lb    49.782608     0.148267  \n",
      "70q_lb    54.565216     0.060195  \n",
      "90q_lb    61.086956     0.111388  \n"
     ]
    }
   ],
   "source": [
    "print(ppc_compare)"
   ]
  },
  {
   "cell_type": "markdown",
   "metadata": {},
   "source": [
    "## Save Posterior Plots"
   ]
  },
  {
   "cell_type": "code",
   "execution_count": 85,
   "metadata": {
    "ExecuteTime": {
     "end_time": "2017-09-09T20:07:03.252752Z",
     "start_time": "2017-09-09T20:06:54.122233Z"
    }
   },
   "outputs": [
    {
     "name": "stdout",
     "output_type": "stream",
     "text": [
      "Plotting t\n",
      "Plotting t_std\n",
      "Plotting z\n",
      "Plotting z_std\n",
      "Plotting v_Intercept\n",
      "Plotting v_Intercept_std\n",
      "Plotting v_summedVal\n",
      "Plotting a_Intercept\n",
      "Plotting a_Intercept_std\n",
      "Plotting a_C(multNum)[T.1]\n",
      "Plotting a_C(multNum)[T.2]\n"
     ]
    }
   ],
   "source": [
    "##save posterior plots for reg5##\n",
    "model_group_made_reg_1.plot_posteriors(save=True,path=group_reg5_posterior_analysis_dir)\n",
    "plt.close('all')"
   ]
  },
  {
   "cell_type": "code",
   "execution_count": 40,
   "metadata": {
    "ExecuteTime": {
     "end_time": "2017-09-13T17:30:11.942185Z",
     "start_time": "2017-09-13T17:30:03.200350Z"
    }
   },
   "outputs": [
    {
     "name": "stdout",
     "output_type": "stream",
     "text": [
      "Plotting t\n",
      "Plotting t_std\n",
      "Plotting z\n",
      "Plotting z_std\n",
      "Plotting v_Intercept\n",
      "Plotting v_Intercept_std\n",
      "Plotting v_face_mult_1\n",
      "Plotting v_house_mult_1\n",
      "Plotting v_face_mult_2\n",
      "Plotting v_house_mult_2\n",
      "Plotting v_face_mult_3\n",
      "Plotting v_house_mult_3\n",
      "Plotting a_Intercept\n",
      "Plotting a_Intercept_std\n",
      "Plotting a_C(multNum)[T.1]\n",
      "Plotting a_C(multNum)[T.2]\n"
     ]
    }
   ],
   "source": [
    "##save posterior plots for reg5##\n",
    "model_group_made_reg_3.plot_posteriors(save=True,path=group_made_reg_3_analysis_dir)\n",
    "plt.close('all')"
   ]
  },
  {
   "cell_type": "markdown",
   "metadata": {},
   "source": [
    "# PLOT"
   ]
  },
  {
   "cell_type": "markdown",
   "metadata": {},
   "source": [
    "## Drift Rates"
   ]
  },
  {
   "cell_type": "code",
   "execution_count": 145,
   "metadata": {
    "ExecuteTime": {
     "end_time": "2017-09-14T01:00:38.977379Z",
     "start_time": "2017-09-14T01:00:38.078243Z"
    }
   },
   "outputs": [
    {
     "data": {
      "image/png": "[encoded data removed]",
      "text/plain": [
       "<matplotlib.figure.Figure at 0x117727590>"
      ]
     },
     "metadata": {},
     "output_type": "display_data"
    }
   ],
   "source": [
    "intercept, v_face_mult_1, v_house_mult_1, v_face_mult_2, v_house_mult_2, v_face_mult_3, v_house_mult_3= model_group_made_reg_3.nodes_db.ix[[\"v_Intercept\",\n",
    "                                                                               \"v_face_mult_1\",\n",
    "                                                                               \"v_house_mult_1\",\n",
    "                                                                              \"v_face_mult_2\",\n",
    "                                                                              \"v_house_mult_2\",\n",
    "                                                                              \"v_face_mult_3\",\n",
    "                                                                              \"v_house_mult_3\"], 'node']\n",
    "\n",
    "\n",
    "hddm.analyze.plot_posterior_nodes([intercept, v_face_mult_1, v_house_mult_1, v_face_mult_2, v_house_mult_2, v_face_mult_3, v_house_mult_3])\n",
    "plt.xlabel('drift-rate')\n",
    "plt.ylabel('Posterior probability')\n",
    "plt.title('Group mean posteriors of within-subject drift-rate effects.')\n",
    "plt.tick_params(\n",
    "    axis='both',          # changes apply to the x-axis\n",
    "    which='both',      # both major and minor ticks are affected\n",
    "    right='off',      # ticks along the bottom edge are off\n",
    "    top='off')         # ticks along the top edge are off\n",
    "plt.legend(loc = 1, fontsize = 7)\n",
    "\n",
    "plt.savefig('v ~ 6 regressor||a ~ multNum||t ~ swapAmount.png', dpi = 300)\n",
    "plt.show()\n",
    "\n",
    "plt.close('all')\n"
   ]
  },
  {
   "cell_type": "markdown",
   "metadata": {
    "collapsed": true
   },
   "source": [
    "# Hypothesis Testing"
   ]
  },
  {
   "cell_type": "markdown",
   "metadata": {},
   "source": [
    "## Difference in v"
   ]
  },
  {
   "cell_type": "code",
   "execution_count": null,
   "metadata": {
    "collapsed": true
   },
   "outputs": [],
   "source": [
    "m = hddm.load(\"Analysis/HDDM/170906/Group/made_reg_3/model_group_reg3_n23\")"
   ]
  },
  {
   "cell_type": "code",
   "execution_count": 140,
   "metadata": {
    "ExecuteTime": {
     "end_time": "2017-09-14T00:58:05.453332Z",
     "start_time": "2017-09-14T00:58:05.445208Z"
    }
   },
   "outputs": [
    {
     "name": "stdout",
     "output_type": "stream",
     "text": [
      "P_v(Face 1 > House 1) =  1.0\n"
     ]
    }
   ],
   "source": [
    "v_face_mult_1, v_house_mult_1= model_group_made_reg_3.nodes_db.node[['v_face_mult_1', 'v_house_mult_1']]\n",
    "print(\"P_v(Face 1 > House 1) = \", (v_face_mult_1.trace() > v_house_mult_1.trace()).mean())"
   ]
  },
  {
   "cell_type": "code",
   "execution_count": 141,
   "metadata": {
    "ExecuteTime": {
     "end_time": "2017-09-14T00:58:42.615791Z",
     "start_time": "2017-09-14T00:58:42.609806Z"
    }
   },
   "outputs": [
    {
     "name": "stdout",
     "output_type": "stream",
     "text": [
      "P_v(Face 2 > House 2) =  0.822222222222\n"
     ]
    }
   ],
   "source": [
    "v_face_mult_2, v_house_mult_2= model_group_made_reg_3.nodes_db.node[['v_face_mult_2', 'v_house_mult_2']]\n",
    "print(\"P_v(Face 2 > House 2) = \", (v_face_mult_2.trace() > v_house_mult_2.trace()).mean())"
   ]
  },
  {
   "cell_type": "code",
   "execution_count": 144,
   "metadata": {
    "ExecuteTime": {
     "end_time": "2017-09-14T00:59:54.238169Z",
     "start_time": "2017-09-14T00:59:54.231820Z"
    }
   },
   "outputs": [
    {
     "name": "stdout",
     "output_type": "stream",
     "text": [
      "P_v(Face 3 > House 3) =  0.942222222222\n"
     ]
    }
   ],
   "source": [
    "v_face_mult_3, v_house_mult_3= model_group_made_reg_3.nodes_db.node[['v_face_mult_3', 'v_house_mult_3']]\n",
    "print(\"P_v(Face 3 > House 3) = \", (v_face_mult_3.trace() > v_house_mult_3.trace()).mean())"
   ]
  },
  {
   "cell_type": "code",
   "execution_count": null,
   "metadata": {
    "collapsed": true
   },
   "outputs": [],
   "source": []
  },
  {
   "cell_type": "code",
   "execution_count": null,
   "metadata": {
    "collapsed": true
   },
   "outputs": [],
   "source": [
    "intercept, v_face_mult_1, v_house_mult_1, v_face_mult_2, v_house_mult_2, v_face_mult_3, v_house_mult_3= model_group_made_reg_3.nodes_db.ix[[\"v_Intercept\",\n",
    "                                                                               \"v_face_mult_1\",\n",
    "                                                                               \"v_house_mult_1\",\n",
    "                                                                              \"v_face_mult_2\",\n",
    "                                                                              \"v_house_mult_2\",\n",
    "                                                                              \"v_face_mult_3\",\n",
    "                                                                              \"v_house_mult_3\"], 'node']"
   ]
  }
 ],
 "metadata": {
  "anaconda-cloud": {},
  "kernelspec": {
   "display_name": "Python [conda root]",
   "language": "python",
   "name": "conda-root-py"
  },
  "language_info": {
   "codemirror_mode": {
    "name": "ipython",
    "version": 2
   },
   "file_extension": ".py",
   "mimetype": "text/x-python",
   "name": "python",
   "nbconvert_exporter": "python",
   "pygments_lexer": "ipython2",
   "version": "2.7.12"
  },
  "toc": {
   "nav_menu": {
    "height": "210px",
    "width": "252px"
   },
   "number_sections": true,
   "sideBar": true,
   "skip_h1_title": false,
   "title_cell": "Table of Contents",
   "title_sidebar": "Contents",
   "toc_cell": true,
   "toc_position": {},
   "toc_section_display": "block",
   "toc_window_display": true
  },
  "varInspector": {
   "cols": {
    "lenName": 16,
    "lenType": 16,
    "lenVar": 40
   },
   "kernels_config": {
    "python": {
     "delete_cmd_postfix": "",
     "delete_cmd_prefix": "del ",
     "library": "var_list.py",
     "varRefreshCmd": "print(var_dic_list())"
    },
    "r": {
     "delete_cmd_postfix": ") ",
     "delete_cmd_prefix": "rm(",
     "library": "var_list.r",
     "varRefreshCmd": "cat(var_dic_list()) "
    }
   },
   "oldHeight": 122,
   "position": {
    "height": "40px",
    "left": "1165px",
    "right": "20px",
    "top": "120px",
    "width": "250px"
   },
   "types_to_exclude": [
    "module",
    "function",
    "builtin_function_or_method",
    "instance",
    "_Feature"
   ],
   "varInspector_section_display": "none",
   "window_display": true
  }
 },
 "nbformat": 4,
 "nbformat_minor": 1
}
