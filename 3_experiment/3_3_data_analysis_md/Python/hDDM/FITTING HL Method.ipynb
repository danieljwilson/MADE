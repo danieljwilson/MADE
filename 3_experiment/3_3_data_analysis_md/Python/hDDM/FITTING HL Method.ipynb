{
 "cells": [
  {
   "cell_type": "markdown",
   "metadata": {
    "toc": "true"
   },
   "source": [
    "# Table of Contents\n",
    " <p><div class=\"lev1 toc-item\"><a href=\"#Imports\" data-toc-modified-id=\"Imports-1\"><span class=\"toc-item-num\">1&nbsp;&nbsp;</span>Imports</a></div>"
   ]
  },
  {
   "cell_type": "markdown",
   "metadata": {},
   "source": [
    "# Imports"
   ]
  },
  {
   "cell_type": "code",
   "execution_count": null,
   "metadata": {
    "collapsed": true
   },
   "outputs": [],
   "source": [
    "import pandas as pd\n",
    "import numpy as np\n",
    "import matplotlib.pyplot as plt\n",
    "\n",
    "import pandas as pd\n",
    "import numpy as np\n",
    "import matplotlib.pyplot as plt\n",
    "import os\n",
    "import hddm"
   ]
  },
  {
   "cell_type": "code",
   "execution_count": null,
   "metadata": {
    "collapsed": true
   },
   "outputs": [],
   "source": []
  },
  {
   "cell_type": "code",
   "execution_count": null,
   "metadata": {
    "collapsed": true
   },
   "outputs": [],
   "source": [
    "# change settings\n",
    "# col width 15, don't wrap dataframe across pages\n",
    "pd.set_option('display.max_colwidth', 40, 'display.expand_frame_repr', False, 'display.max_rows', 20)\n",
    "\n",
    "# set directory\n",
    "os.chdir('/Users/djw/Dropbox/PROGRAMMING/*NEURO/hDDM_Clithero/Code/Analysis/HDDM/170906/Group/made_reg_3')\n",
    "# load actual data\n",
    "data = pd.read_csv('.csv')\n",
    "\n",
    "# set directory\n",
    "os.chdir('/Users/djw/Dropbox/PROGRAMMING/*NEURO/hDDM_Clithero/Code/Analysis/HDDM/170906/Group/made_reg_3')\n",
    "# load models\n",
    "m_basic = hddm.load('model_group_reg3_n23')"
   ]
  },
  {
   "cell_type": "code",
   "execution_count": null,
   "metadata": {
    "collapsed": true
   },
   "outputs": [],
   "source": []
  },
  {
   "cell_type": "code",
   "execution_count": null,
   "metadata": {
    "collapsed": true
   },
   "outputs": [],
   "source": [
    "#### extract parameters for each person ####\n",
    "pnos = data.subj_idx.unique()\n",
    "pno = pnos[1]\n",
    "\n",
    "# get participant actual data\n",
    "data_subj = data[data.subj_idx == pno]\n",
    "pnoregex = '_subj.' + str(pno) + '$'\n",
    "\n",
    "stats.index.str.contains('_subj.2$')\n",
    "stats.index.str.contains(pnoregex)\n",
    "stats.loc[stats.index.str.contains('^[avtz]_subj.3$'), 'mean']\n",
    "stats.loc[stats.index.str.contains(pnoregex), 'mean']\n",
    "\n",
    "# extract parameters\n",
    "stats_subj = stats.loc[stats.index.str.contains(pnoregex), 'mean']\n",
    "a = stats_subj.loc[stats_subj.index.str.startswith('a')]\n",
    "v = stats_subj.loc[stats_subj.index.str.startswith('v')]\n",
    "t = stats_subj.loc[stats_subj.index.str.startswith('t')]\n",
    "z = stats_subj.loc[stats_subj.index.str.startswith('z')]\n",
    "\n",
    "# simulate participant data\n",
    "simdata, simparams = hddm.generate.gen_rand_data({'v': v, 'a': a, 't': t, 'z': z}, size=1000, subjs=1)\n",
    "simdata\n",
    "simparams\n",
    "\n",
    "# compare simulated mean rt and choice for this person\n",
    "np.nanmean(data_subj.rt.abs())\n",
    "np.nanmean(simdata.rt.abs())\n",
    "\n",
    "data_subj.response.mean()\n",
    "simdata.response.mean()\n",
    "\n",
    "# empty dataframe to store actual data and simulated data\n",
    "simdatadf = pd.DataFrame({'A': [np.nan]}, index=range(len(pnos)),\n",
    "                         columns=['subj_idx', 'rt', 'simrt', 'rtYes', 'simrtYes', 'rtNo', 'simrtNo',\n",
    "                                  'response', 'simresponse', 'responseYes', 'simresponseYes', 'responseNo',\n",
    "                                  'simresponseNo',\n",
    "                                  'a', 'v', 't', 'z'])\n",
    "simdatadf.loc[:, 'subj_idx'] = pnos"
   ]
  },
  {
   "cell_type": "code",
   "execution_count": null,
   "metadata": {
    "collapsed": true
   },
   "outputs": [],
   "source": [
    "# for loop to simulate and store data for each person\n",
    "# pno = pnos[0]\n",
    "for pno in pnos:\n",
    "    # print(pno)\n",
    "    # get participant actual data\n",
    "    data_subj = data[data.subj_idx == pno]\n",
    "    pnoregex = '_subj.' + str(pno) + '$'\n",
    "    data_subj_yes = data_subj[data_subj.response == 1]\n",
    "    data_subj_no = data_subj[data_subj.response == 0]\n",
    "\n",
    "    # extract parameters\n",
    "    stats_subj = stats.loc[stats.index.str.contains(pnoregex), 'mean']\n",
    "    a = stats_subj.loc[stats_subj.index.str.startswith('a')]\n",
    "    v = stats_subj.loc[stats_subj.index.str.startswith('v')]\n",
    "    t = stats_subj.loc[stats_subj.index.str.startswith('t')]\n",
    "    z = stats_subj.loc[stats_subj.index.str.startswith('z')]\n",
    "\n",
    "    # simulate participant data\n",
    "    simdata, simparams = hddm.generate.gen_rand_data({'v': v, 'a': a, 't': t, 'z': z}, size=1000, subjs=1)\n",
    "    simdataYes = simdata[simdata.response == 1]\n",
    "    simdataNo = simdata[simdata.response == 0]\n",
    "\n",
    "    # store simulated mean rt and choice\n",
    "    simdatadf.loc[simdatadf.subj_idx == pno, 'rt'] = np.nanmean(data_subj.rt.abs())\n",
    "    simdatadf.loc[simdatadf.subj_idx == pno, 'simrt'] = np.nanmean(simdata.rt.abs())\n",
    "    simdatadf.loc[simdatadf.subj_idx == pno, 'response'] = np.nanmean(data_subj.response)\n",
    "    simdatadf.loc[simdatadf.subj_idx == pno, 'simresponse'] = np.nanmean(simdata.response)\n",
    "\n",
    "    simdatadf.loc[simdatadf.subj_idx == pno, 'rtYes'] = np.nanmean(data_subj_yes.rt.abs())\n",
    "    simdatadf.loc[simdatadf.subj_idx == pno, 'simrtYes'] = np.nanmean(simdataYes.rt.abs())\n",
    "    simdatadf.loc[simdatadf.subj_idx == pno, 'responseYes'] = np.nanmean(data_subj_yes.response)\n",
    "    simdatadf.loc[simdatadf.subj_idx == pno, 'simresponseYes'] = np.nanmean(simdataYes.response)\n",
    "\n",
    "    simdatadf.loc[simdatadf.subj_idx == pno, 'rtNo'] = np.nanmean(data_subj_no.rt.abs())\n",
    "    simdatadf.loc[simdatadf.subj_idx == pno, 'simrtNo'] = np.nanmean(simdataNo.rt.abs())\n",
    "    simdatadf.loc[simdatadf.subj_idx == pno, 'responseNo'] = np.nanmean(data_subj_no.response)\n",
    "    simdatadf.loc[simdatadf.subj_idx == pno, 'simresponseNo'] = np.nanmean(simdataNo.response)\n",
    "\n",
    "    # store parameters\n",
    "    simdatadf.loc[simdatadf.subj_idx == pno, 'a'] = a.values\n",
    "    simdatadf.loc[simdatadf.subj_idx == pno, 'v'] = v.values\n",
    "    simdatadf.loc[simdatadf.subj_idx == pno, 't'] = t.values\n",
    "    simdatadf.loc[simdatadf.subj_idx == pno, 'z'] = z.values\n",
    "\n",
    "simdatadf"
   ]
  },
  {
   "cell_type": "code",
   "execution_count": null,
   "metadata": {
    "collapsed": true
   },
   "outputs": [],
   "source": [
    "#### histogram of parameters ####\n",
    "fig2 = plt.figure(2)\n",
    "fig2.clf()\n",
    "\n",
    "plt.subplot(2, 2, 1)\n",
    "plt.hist(simdatadf.a, color='#1e6b9e', bins=20)\n",
    "\n",
    "ax = plt.gca()\n",
    "ax.set_facecolor('white')\n",
    "ax.spines['left'].set_visible(True)\n",
    "ax.spines['bottom'].set_visible(True)\n",
    "\n",
    "plt.xlabel('a (threshold)')\n",
    "plt.ylabel('Frequency')\n",
    "\n",
    "plt.subplot(2, 2, 2)\n",
    "plt.hist(simdatadf.v, color='#1e6b9e', bins=20)\n",
    "\n",
    "ax = plt.gca()\n",
    "ax.set_facecolor('white')\n",
    "ax.spines['left'].set_visible(True)\n",
    "ax.spines['bottom'].set_visible(True)\n",
    "\n",
    "plt.xlabel('v (drift)')\n",
    "plt.ylabel('Frequency')\n",
    "\n",
    "plt.subplot(2, 2, 3)\n",
    "plt.hist(simdatadf.t, color='#1e6b9e', bins=20)\n",
    "\n",
    "ax = plt.gca()\n",
    "ax.set_facecolor('white')\n",
    "ax.spines['left'].set_visible(True)\n",
    "ax.spines['bottom'].set_visible(True)\n",
    "\n",
    "plt.xlabel('t (non-decision time)')\n",
    "plt.ylabel('Frequency')\n",
    "\n",
    "plt.subplot(2, 2, 4)\n",
    "plt.hist(simdatadf.z, color='#1e6b9e', bins=20)\n",
    "\n",
    "ax = plt.gca()\n",
    "ax.set_facecolor('white')\n",
    "ax.spines['left'].set_visible(True)\n",
    "ax.spines['bottom'].set_visible(True)\n",
    "\n",
    "plt.xlabel('z (bias)')\n",
    "plt.ylabel('Frequency')\n",
    "\n",
    "plt.tight_layout()"
   ]
  },
  {
   "cell_type": "code",
   "execution_count": null,
   "metadata": {
    "collapsed": true
   },
   "outputs": [],
   "source": [
    "fig2.savefig('./Figures/mbasic_parameterhist.jpeg', dpi=300)"
   ]
  },
  {
   "cell_type": "code",
   "execution_count": null,
   "metadata": {
    "collapsed": true
   },
   "outputs": [],
   "source": [
    "#### compare actual and simulated data ####\n",
    "from scipy.stats.stats import pearsonr\n",
    "\n",
    "pearsonr(simdatadf.rt, simdatadf.simrt)\n",
    "pearsonr(simdatadf.response, simdatadf.simresponse)\n",
    "pearsonr(simdatadf.rtYes, simdatadf.simrtYes)\n",
    "pearsonr(simdatadf.rtNo, simdatadf.simrtNo)"
   ]
  },
  {
   "cell_type": "code",
   "execution_count": null,
   "metadata": {
    "collapsed": true
   },
   "outputs": [],
   "source": [
    "fig1 = plt.figure(1)\n",
    "fig1.clf()\n",
    "\n",
    "plt.subplot(2, 2, 1)\n",
    "plt.scatter(simdatadf.simrt, simdatadf.rt, color='#893A3A', s=40)\n",
    "plt.plot([0.6, 2.5], [0.6, 2.5], 'k-', ls='--')\n",
    "plt.xlim(0.6, 2.40)\n",
    "plt.ylim(0.6, 2.40)\n",
    "plt.xticks(np.arange(0.6, 2.5, 0.2))\n",
    "plt.yticks(np.arange(0.6, 2.5, 0.2))\n",
    "\n",
    "ax = plt.gca()\n",
    "ax.set_facecolor('white')\n",
    "ax.spines['left'].set_visible(True)\n",
    "ax.spines['bottom'].set_visible(True)\n",
    "\n",
    "plt.title('Overall Reaction Time (s)', fontweight='bold')\n",
    "plt.xlabel('Model-predicted RT')\n",
    "plt.ylabel('Observed RT')\n",
    "\n",
    "plt.subplot(2, 2, 2)\n",
    "plt.scatter(simdatadf.simresponse, simdatadf.response, color='#893A3A', s=40)\n",
    "plt.plot([0, 1], [0, 1], 'k-', ls='--')\n",
    "plt.xlim(0, 1)\n",
    "plt.ylim(0, 1)\n",
    "plt.xticks(np.arange(0, 1.1, .2))\n",
    "plt.yticks(np.arange(0, 1.1, .2))\n",
    "\n",
    "ax = plt.gca()\n",
    "ax.set_facecolor('white')\n",
    "ax.spines['left'].set_visible(True)\n",
    "ax.spines['bottom'].set_visible(True)\n",
    "ax.axis('on')\n",
    "\n",
    "plt.title('Overall Acceptance Rate', fontweight='bold')\n",
    "plt.xlabel('Model-predicted acceptance')\n",
    "plt.ylabel('Observed acceptance')\n",
    "\n",
    "plt.subplot(2, 2, 3)\n",
    "plt.scatter(simdatadf.simrtYes, simdatadf.rtYes, color='#893A3A', s=40)\n",
    "plt.plot([0.6, 2.5], [0.6, 2.5], 'k-', ls='--')\n",
    "plt.xlim(0.6, 2.40)\n",
    "plt.ylim(0.6, 2.40)\n",
    "plt.xticks(np.arange(0.6, 2.5, 0.2))\n",
    "plt.yticks(np.arange(0.6, 2.5, 0.2))\n",
    "\n",
    "ax = plt.gca()\n",
    "ax.set_facecolor('white')\n",
    "ax.spines['left'].set_visible(True)\n",
    "ax.spines['bottom'].set_visible(True)\n",
    "\n",
    "plt.title('Yes Response Reaction Time(s)', fontweight='bold')\n",
    "plt.xlabel('Model-predicted RT')\n",
    "plt.ylabel('Observed RT')\n",
    "\n",
    "plt.subplot(2, 2, 4)\n",
    "plt.scatter(simdatadf.simrtNo, simdatadf.rtNo, color='#893A3A', s=40)\n",
    "plt.plot([0.6, 2.5], [0.6, 2.5], 'k-', ls='--')\n",
    "plt.xlim(0.6, 2.40)\n",
    "plt.ylim(0.6, 2.40)\n",
    "plt.xticks(np.arange(0.6, 2.5, 0.2))\n",
    "plt.yticks(np.arange(0.6, 2.5, 0.2))\n",
    "\n",
    "ax = plt.gca()\n",
    "ax.set_facecolor('white')\n",
    "ax.spines['left'].set_visible(True)\n",
    "ax.spines['bottom'].set_visible(True)\n",
    "\n",
    "plt.title('No Response Reaction Time(s)', fontweight='bold')\n",
    "plt.xlabel('Model-predicted RT')\n",
    "plt.ylabel('Observed RT')\n",
    "\n",
    "plt.tight_layout()\n",
    "plt.show()"
   ]
  },
  {
   "cell_type": "code",
   "execution_count": null,
   "metadata": {
    "collapsed": true
   },
   "outputs": [],
   "source": [
    "fig1.savefig('./Figures/mbasic_modelfit.jpeg', dpi=300)"
   ]
  },
  {
   "cell_type": "code",
   "execution_count": null,
   "metadata": {
    "collapsed": true
   },
   "outputs": [],
   "source": []
  }
 ],
 "metadata": {
  "anaconda-cloud": {},
  "kernelspec": {
   "display_name": "Python [default]",
   "language": "python",
   "name": "python2"
  },
  "language_info": {
   "codemirror_mode": {
    "name": "ipython",
    "version": 2
   },
   "file_extension": ".py",
   "mimetype": "text/x-python",
   "name": "python",
   "nbconvert_exporter": "python",
   "pygments_lexer": "ipython2",
   "version": "2.7.12"
  },
  "toc": {
   "colors": {
    "hover_highlight": "#DAA520",
    "navigate_num": "#000000",
    "navigate_text": "#333333",
    "running_highlight": "#FF0000",
    "selected_highlight": "#FFD700",
    "sidebar_border": "#EEEEEE",
    "wrapper_background": "#FFFFFF"
   },
   "moveMenuLeft": true,
   "nav_menu": {
    "height": "30px",
    "width": "252px"
   },
   "navigate_menu": true,
   "number_sections": true,
   "sideBar": true,
   "threshold": 4,
   "toc_cell": true,
   "toc_section_display": "block",
   "toc_window_display": true,
   "widenNotebook": false
  },
  "varInspector": {
   "cols": {
    "lenName": 16,
    "lenType": 16,
    "lenVar": 40
   },
   "kernels_config": {
    "python": {
     "delete_cmd_postfix": "",
     "delete_cmd_prefix": "del ",
     "library": "var_list.py",
     "varRefreshCmd": "print(var_dic_list())"
    },
    "r": {
     "delete_cmd_postfix": ") ",
     "delete_cmd_prefix": "rm(",
     "library": "var_list.r",
     "varRefreshCmd": "cat(var_dic_list()) "
    }
   },
   "types_to_exclude": [
    "module",
    "function",
    "builtin_function_or_method",
    "instance",
    "_Feature"
   ],
   "window_display": false
  }
 },
 "nbformat": 4,
 "nbformat_minor": 1
}
