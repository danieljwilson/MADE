{
 "cells": [
  {
   "cell_type": "markdown",
   "metadata": {
    "toc": "true"
   },
   "source": [
    "# Table of Contents\n",
    " <p><div class=\"lev1 toc-item\"><a href=\"#Import-Libraries\" data-toc-modified-id=\"Import-Libraries-1\"><span class=\"toc-item-num\">1&nbsp;&nbsp;</span>Import Libraries</a></div><div class=\"lev1 toc-item\"><a href=\"#Define-Arguments\" data-toc-modified-id=\"Define-Arguments-2\"><span class=\"toc-item-num\">2&nbsp;&nbsp;</span>Define Arguments</a></div><div class=\"lev1 toc-item\"><a href=\"#Check-Data\" data-toc-modified-id=\"Check-Data-3\"><span class=\"toc-item-num\">3&nbsp;&nbsp;</span>Check Data</a></div><div class=\"lev1 toc-item\"><a href=\"#Function\" data-toc-modified-id=\"Function-4\"><span class=\"toc-item-num\">4&nbsp;&nbsp;</span>Function</a></div><div class=\"lev1 toc-item\"><a href=\"#TESTING\" data-toc-modified-id=\"TESTING-5\"><span class=\"toc-item-num\">5&nbsp;&nbsp;</span>TESTING</a></div><div class=\"lev1 toc-item\"><a href=\"#Plot\" data-toc-modified-id=\"Plot-6\"><span class=\"toc-item-num\">6&nbsp;&nbsp;</span>Plot</a></div><div class=\"lev2 toc-item\"><a href=\"#Function:-Generate-Choice-Curves\" data-toc-modified-id=\"Function:-Generate-Choice-Curves-61\"><span class=\"toc-item-num\">6.1&nbsp;&nbsp;</span>Function: Generate Choice Curves</a></div><div class=\"lev2 toc-item\"><a href=\"#Function:-takeClosest\" data-toc-modified-id=\"Function:-takeClosest-62\"><span class=\"toc-item-num\">6.2&nbsp;&nbsp;</span>Function: takeClosest</a></div>"
   ]
  },
  {
   "cell_type": "markdown",
   "metadata": {},
   "source": [
    "# Import Libraries"
   ]
  },
  {
   "cell_type": "code",
   "execution_count": 2,
   "metadata": {
    "ExecuteTime": {
     "end_time": "2017-11-09T18:59:55.077169Z",
     "start_time": "2017-11-09T18:59:53.086366Z"
    },
    "collapsed": true
   },
   "outputs": [],
   "source": [
    "\"\"\"\n",
    "addm_mle.py\n",
    "Author: Gabriela Tavares, gtavares@caltech.edu\n",
    "\n",
    "Maximum likelihood estimation procedure for the attentional drift-diffusion\n",
    "model (aDDM), using a grid search over the 3 free parameters of the model. Data\n",
    "from all subjects is pooled such that a single set of optimal parameters is\n",
    "estimated (or from a subset of subjects, when provided).\n",
    "\n",
    "aDDM simulations are generated for the model with maximum estimated likelihood.\n",
    "\"\"\"\n",
    "\n",
    "import argparse\n",
    "import numpy as np\n",
    "import itertools\n",
    "import pandas as pd\n",
    "\n",
    "from datetime import datetime\n",
    "from matplotlib.backends.backend_pdf import PdfPages\n",
    "from bisect import bisect_left\n",
    "import matplotlib.cm as cm\n",
    "import matplotlib.pyplot as plt\n",
    "\n",
    "from addm import aDDM\n",
    "from util import (load_data_from_csv, get_empirical_distributions,\n",
    "                  save_simulations_to_csv, generate_choice_curves,\n",
    "                  generate_rt_curves, convert_item_values)"
   ]
  },
  {
   "cell_type": "markdown",
   "metadata": {},
   "source": [
    "# Define Arguments"
   ]
  },
  {
   "cell_type": "code",
   "execution_count": 3,
   "metadata": {
    "ExecuteTime": {
     "end_time": "2017-11-09T18:59:57.131658Z",
     "start_time": "2017-11-09T18:59:57.106378Z"
    },
    "collapsed": true
   },
   "outputs": [],
   "source": [
    "class arguments:\n",
    "    \n",
    "    # \"--subject-ids\", nargs=\"+\", type=str, default=[],\n",
    "    # help= List of subject ids. If not provided, all\n",
    "    # existing subjects will be used.\n",
    "    subject_ids = []\n",
    "        \n",
    "    # \"--num-threads\", type=int, default=9,\n",
    "    # help= Size of the thread pool.\n",
    "    num_threads = 3\n",
    "    \n",
    "    # \"--trials-per-subject\", type=int, default=100,\n",
    "    # help= Number of trials from each subject to be used\n",
    "    # in the analysis; if smaller than 1, all trials are used.\n",
    "    trials_per_subject = None  # None to use all trials?\n",
    "    \n",
    "    # --simulations-per-condition\", type=int, default=800,\n",
    "    # help= Number of artificial data trials to be\n",
    "    # generated per trial condition.\n",
    "    simulations_per_condition = 100\n",
    "    \n",
    "    # \"--range-d\", nargs=\"+\", type=float, default=[0.005, 0.006, 0.007],\n",
    "    # help= Search range for parameter d.\n",
    "    range_d = [0.001, 0.003, 0.006]\n",
    "    \n",
    "    # \"--range-sigma\", nargs=\"+\", type=float, default=[0.065, 0.08, 0.095],\n",
    "    # help= Search range for parameter sigma.\n",
    "    range_sigma = [0.03, 0.06, 0.09]\n",
    "    \n",
    "    # \"--range-theta\", nargs=\"+\", type=float, default=[0.4, 0.5, 0.6],\n",
    "    # help= Search range for parameter theta.\n",
    "    range_theta = [0.1, 0.3, 0.5]\n",
    "    \n",
    "    # \"--expdata-file-name\", type=str, default=\"expdata.csv\",\n",
    "    # help= Name of experimental data file.\n",
    "    expdata_file_name = \"made_data/expdata.csv\"\n",
    "    \n",
    "    # \"--fixations-file-name\", type=str, default=\"fixations.csv\",\n",
    "    # help= Name of fixations file.\n",
    "    fixations_file_name = \"made_data/fixations.csv\"\n",
    "    \n",
    "    # \"--save-simulations\", default=False, action=\"store_true\", \n",
    "    # help= Save simulations to CSV.\n",
    "    save_simulations = True\n",
    "    \n",
    "    # \"--save-figures\", default=False, action=\"store_true\", \n",
    "    # help= Save figures comparing choice and RT curves for data and simulations.\n",
    "    save_figures = True\n",
    "    \n",
    "    # \"--verbose\", default=False, action=\"store_true\",\n",
    "    # help= Increase output verbosity.\n",
    "    verbose = True\n",
    "\n",
    "args = arguments()"
   ]
  },
  {
   "cell_type": "markdown",
   "metadata": {},
   "source": [
    "# Check Data"
   ]
  },
  {
   "cell_type": "code",
   "execution_count": 4,
   "metadata": {
    "ExecuteTime": {
     "end_time": "2017-11-09T19:00:02.491784Z",
     "start_time": "2017-11-09T19:00:02.458149Z"
    },
    "collapsed": true
   },
   "outputs": [],
   "source": [
    "expdata = pd.DataFrame.from_csv(args.expdata_file_name, header=0, sep=\",\",\n",
    "                                   index_col=None)\n",
    "    \n",
    "left_binned_val = np.unique(expdata.item_left_val)\n",
    "right_binned_val = np.unique(expdata.item_right_val)\n",
    "\n",
    "c = list(itertools.product(left_binned_val, right_binned_val))\n",
    "trialConditions = np.around(c,decimals=2)   # currently produces 81 combos"
   ]
  },
  {
   "cell_type": "code",
   "execution_count": 5,
   "metadata": {
    "ExecuteTime": {
     "end_time": "2017-11-09T19:00:03.100307Z",
     "start_time": "2017-11-09T19:00:03.079942Z"
    }
   },
   "outputs": [
    {
     "data": {
      "text/plain": [
       "array([[-1.61, -1.65],\n",
       "       [-1.61, -0.89],\n",
       "       [-1.61, -0.66],\n",
       "       [-1.61, -0.39],\n",
       "       [-1.61,  0.02],\n",
       "       [-1.61,  0.42],\n",
       "       [-1.61,  0.68],\n",
       "       [-1.61,  0.92],\n",
       "       [-1.61,  1.69],\n",
       "       [-0.89, -1.65],\n",
       "       [-0.89, -0.89],\n",
       "       [-0.89, -0.66],\n",
       "       [-0.89, -0.39],\n",
       "       [-0.89,  0.02],\n",
       "       [-0.89,  0.42],\n",
       "       [-0.89,  0.68],\n",
       "       [-0.89,  0.92],\n",
       "       [-0.89,  1.69],\n",
       "       [-0.65, -1.65],\n",
       "       [-0.65, -0.89],\n",
       "       [-0.65, -0.66],\n",
       "       [-0.65, -0.39],\n",
       "       [-0.65,  0.02],\n",
       "       [-0.65,  0.42],\n",
       "       [-0.65,  0.68],\n",
       "       [-0.65,  0.92],\n",
       "       [-0.65,  1.69],\n",
       "       [-0.37, -1.65],\n",
       "       [-0.37, -0.89],\n",
       "       [-0.37, -0.66],\n",
       "       [-0.37, -0.39],\n",
       "       [-0.37,  0.02],\n",
       "       [-0.37,  0.42],\n",
       "       [-0.37,  0.68],\n",
       "       [-0.37,  0.92],\n",
       "       [-0.37,  1.69],\n",
       "       [ 0.03, -1.65],\n",
       "       [ 0.03, -0.89],\n",
       "       [ 0.03, -0.66],\n",
       "       [ 0.03, -0.39],\n",
       "       [ 0.03,  0.02],\n",
       "       [ 0.03,  0.42],\n",
       "       [ 0.03,  0.68],\n",
       "       [ 0.03,  0.92],\n",
       "       [ 0.03,  1.69],\n",
       "       [ 0.41, -1.65],\n",
       "       [ 0.41, -0.89],\n",
       "       [ 0.41, -0.66],\n",
       "       [ 0.41, -0.39],\n",
       "       [ 0.41,  0.02],\n",
       "       [ 0.41,  0.42],\n",
       "       [ 0.41,  0.68],\n",
       "       [ 0.41,  0.92],\n",
       "       [ 0.41,  1.69],\n",
       "       [ 0.66, -1.65],\n",
       "       [ 0.66, -0.89],\n",
       "       [ 0.66, -0.66],\n",
       "       [ 0.66, -0.39],\n",
       "       [ 0.66,  0.02],\n",
       "       [ 0.66,  0.42],\n",
       "       [ 0.66,  0.68],\n",
       "       [ 0.66,  0.92],\n",
       "       [ 0.66,  1.69],\n",
       "       [ 0.89, -1.65],\n",
       "       [ 0.89, -0.89],\n",
       "       [ 0.89, -0.66],\n",
       "       [ 0.89, -0.39],\n",
       "       [ 0.89,  0.02],\n",
       "       [ 0.89,  0.42],\n",
       "       [ 0.89,  0.68],\n",
       "       [ 0.89,  0.92],\n",
       "       [ 0.89,  1.69],\n",
       "       [ 1.63, -1.65],\n",
       "       [ 1.63, -0.89],\n",
       "       [ 1.63, -0.66],\n",
       "       [ 1.63, -0.39],\n",
       "       [ 1.63,  0.02],\n",
       "       [ 1.63,  0.42],\n",
       "       [ 1.63,  0.68],\n",
       "       [ 1.63,  0.92],\n",
       "       [ 1.63,  1.69]])"
      ]
     },
     "execution_count": 5,
     "metadata": {},
     "output_type": "execute_result"
    }
   ],
   "source": [
    "trialConditions"
   ]
  },
  {
   "cell_type": "code",
   "execution_count": 6,
   "metadata": {
    "ExecuteTime": {
     "end_time": "2017-11-09T19:00:06.271077Z",
     "start_time": "2017-11-09T19:00:06.246891Z"
    }
   },
   "outputs": [
    {
     "data": {
      "text/html": [
       "<div>\n",
       "<table border=\"1\" class=\"dataframe\">\n",
       "  <thead>\n",
       "    <tr style=\"text-align: right;\">\n",
       "      <th></th>\n",
       "      <th>parcode</th>\n",
       "      <th>trial</th>\n",
       "      <th>rt</th>\n",
       "      <th>choice</th>\n",
       "      <th>item_left</th>\n",
       "      <th>item_right</th>\n",
       "      <th>item_left_val</th>\n",
       "      <th>item_right_val</th>\n",
       "    </tr>\n",
       "  </thead>\n",
       "  <tbody>\n",
       "    <tr>\n",
       "      <th>0</th>\n",
       "      <td>1</td>\n",
       "      <td>1</td>\n",
       "      <td>8883.308377</td>\n",
       "      <td>1</td>\n",
       "      <td>1.32</td>\n",
       "      <td>1.72</td>\n",
       "      <td>1.63</td>\n",
       "      <td>1.69</td>\n",
       "    </tr>\n",
       "    <tr>\n",
       "      <th>1</th>\n",
       "      <td>1</td>\n",
       "      <td>2</td>\n",
       "      <td>4550.171639</td>\n",
       "      <td>1</td>\n",
       "      <td>0.38</td>\n",
       "      <td>-0.52</td>\n",
       "      <td>0.41</td>\n",
       "      <td>-0.39</td>\n",
       "    </tr>\n",
       "    <tr>\n",
       "      <th>2</th>\n",
       "      <td>1</td>\n",
       "      <td>3</td>\n",
       "      <td>3716.686491</td>\n",
       "      <td>1</td>\n",
       "      <td>0.96</td>\n",
       "      <td>-0.68</td>\n",
       "      <td>0.89</td>\n",
       "      <td>-0.66</td>\n",
       "    </tr>\n",
       "    <tr>\n",
       "      <th>3</th>\n",
       "      <td>1</td>\n",
       "      <td>4</td>\n",
       "      <td>4516.825782</td>\n",
       "      <td>-1</td>\n",
       "      <td>-0.94</td>\n",
       "      <td>0.42</td>\n",
       "      <td>-0.89</td>\n",
       "      <td>0.42</td>\n",
       "    </tr>\n",
       "    <tr>\n",
       "      <th>4</th>\n",
       "      <td>1</td>\n",
       "      <td>5</td>\n",
       "      <td>2966.836687</td>\n",
       "      <td>1</td>\n",
       "      <td>-0.24</td>\n",
       "      <td>0.28</td>\n",
       "      <td>-0.37</td>\n",
       "      <td>0.42</td>\n",
       "    </tr>\n",
       "  </tbody>\n",
       "</table>\n",
       "</div>"
      ],
      "text/plain": [
       "   parcode  trial           rt  choice  item_left  item_right  item_left_val  \\\n",
       "0        1      1  8883.308377       1       1.32        1.72           1.63   \n",
       "1        1      2  4550.171639       1       0.38       -0.52           0.41   \n",
       "2        1      3  3716.686491       1       0.96       -0.68           0.89   \n",
       "3        1      4  4516.825782      -1      -0.94        0.42          -0.89   \n",
       "4        1      5  2966.836687       1      -0.24        0.28          -0.37   \n",
       "\n",
       "   item_right_val  \n",
       "0            1.69  \n",
       "1           -0.39  \n",
       "2           -0.66  \n",
       "3            0.42  \n",
       "4            0.42  "
      ]
     },
     "execution_count": 6,
     "metadata": {},
     "output_type": "execute_result"
    }
   ],
   "source": [
    "expdata.head()"
   ]
  },
  {
   "cell_type": "code",
   "execution_count": 7,
   "metadata": {
    "ExecuteTime": {
     "end_time": "2017-11-09T19:00:08.105952Z",
     "start_time": "2017-11-09T19:00:08.098220Z"
    }
   },
   "outputs": [
    {
     "data": {
      "text/plain": [
       "9"
      ]
     },
     "execution_count": 7,
     "metadata": {},
     "output_type": "execute_result"
    }
   ],
   "source": [
    "len(np.unique(expdata.item_right_val))"
   ]
  },
  {
   "cell_type": "code",
   "execution_count": 8,
   "metadata": {
    "ExecuteTime": {
     "end_time": "2017-11-09T19:00:09.744229Z",
     "start_time": "2017-11-09T19:00:09.737716Z"
    },
    "collapsed": true
   },
   "outputs": [],
   "source": [
    "summed_vals = []\n",
    "for right in right_binned_val:\n",
    "    for left in left_binned_val:\n",
    "        summed_vals = summed_vals + [right + left]\n",
    "\n",
    "unique_summed_vals = np.unique(summed_vals)"
   ]
  },
  {
   "cell_type": "code",
   "execution_count": 9,
   "metadata": {
    "ExecuteTime": {
     "end_time": "2017-11-09T19:00:10.603271Z",
     "start_time": "2017-11-09T19:00:10.596845Z"
    }
   },
   "outputs": [
    {
     "data": {
      "text/plain": [
       "array([-3.26, -2.54, -2.5 , -2.3 , -2.27, -2.02, -2.  , -1.78, -1.62,\n",
       "       -1.59, -1.55, -1.54, -1.31, -1.28, -1.26, -1.24, -1.19, -1.04,\n",
       "       -1.03, -0.99, -0.93, -0.87, -0.86, -0.76, -0.76, -0.69, -0.63,\n",
       "       -0.48, -0.47, -0.36, -0.35, -0.25, -0.23, -0.23, -0.21, -0.02,\n",
       "        0.  ,  0.02,  0.03,  0.05,  0.05,  0.08,  0.23,  0.27,  0.31,\n",
       "        0.43,  0.45,  0.5 ,  0.55,  0.68,  0.71,  0.74,  0.8 ,  0.83,\n",
       "        0.91,  0.95,  0.97,  1.04,  1.08,  1.09,  1.24,  1.31,  1.32,\n",
       "        1.33,  1.34,  1.57,  1.58,  1.65,  1.72,  1.81,  2.05,  2.1 ,\n",
       "        2.31,  2.35,  2.55,  2.58,  3.32])"
      ]
     },
     "execution_count": 9,
     "metadata": {},
     "output_type": "execute_result"
    }
   ],
   "source": [
    "unique_summed_vals"
   ]
  },
  {
   "cell_type": "markdown",
   "metadata": {},
   "source": [
    "# Function"
   ]
  },
  {
   "cell_type": "code",
   "execution_count": 10,
   "metadata": {
    "ExecuteTime": {
     "end_time": "2017-11-09T19:00:27.462529Z",
     "start_time": "2017-11-09T19:00:27.223036Z"
    },
    "collapsed": true,
    "scrolled": false
   },
   "outputs": [],
   "source": [
    "def main():\n",
    "\n",
    "    # Load experimental data from CSV file.\n",
    "    if args.verbose:\n",
    "        print(\"Loading experimental data...\")\n",
    "    data = load_data_from_csv(\n",
    "        args.expdata_file_name, args.fixations_file_name,\n",
    "        convertItemValues=None)\n",
    "\n",
    "    # Trial conditions with format (valueLeft, valueRight). Change this\n",
    "    # according to the experiment.\n",
    "    expdata = pd.DataFrame.from_csv(args.expdata_file_name, header=0, sep=\",\",\n",
    "                                   index_col=None)\n",
    "    \n",
    "    left_binned_val = np.unique(expdata.item_left_val)\n",
    "    right_binned_val = np.unique(expdata.item_right_val)\n",
    "\n",
    "    c = list(itertools.product(left_binned_val, right_binned_val))\n",
    "    trialConditions = np.around(c,decimals=2)   # currently produces 81 combos\n",
    "\n",
    "    # create list of all unique summed values to be used for idx in util\n",
    "    summed_vals = []\n",
    "    for right in right_binned_val:\n",
    "        for left in left_binned_val:\n",
    "            summed_vals = summed_vals + [right + left]\n",
    "\n",
    "    unique_summed_vals = np.unique(summed_vals)\n",
    "    unique_summed_vals = np.ndarray.tolist(unique_summed_vals)\n",
    "    \n",
    "    # Begin maximum likelihood estimation using odd trials only.\n",
    "    # Get correct subset of trials.\n",
    "    dataTrials = list()\n",
    "    subjectIds = args.subject_ids if args.subject_ids else data.keys()\n",
    "    for subjectId in subjectIds:\n",
    "        maxNumTrials = len(data[subjectId]) / 2\n",
    "        numTrials = (args.trials_per_subject\n",
    "                     if 1 <= args.trials_per_subject <= maxNumTrials\n",
    "                     else maxNumTrials)\n",
    "        trialSet = np.random.choice(\n",
    "            [trialId for trialId in range(len(data[subjectId]))\n",
    "             if trialId % 2],\n",
    "            numTrials, replace=False)\n",
    "        dataTrials.extend([data[subjectId][t] for t in trialSet])\n",
    "\n",
    "    # Create all models to be used in the grid search.\n",
    "    models = list()\n",
    "    for d in args.range_d:\n",
    "        for sigma in args.range_sigma:\n",
    "            for theta in args.range_theta:\n",
    "                models.append(aDDM(d, sigma, theta))\n",
    "\n",
    "    # Get likelihoods for all models.\n",
    "    if args.verbose:\n",
    "        print(\"Starting grid search...\")\n",
    "    likelihoods = dict()\n",
    "    for model in models:\n",
    "        if args.verbose:\n",
    "            print(\"Computing likelihoods for model \" +\n",
    "                  str(model.params) + \"...\")\n",
    "        try:\n",
    "            likelihoods[model.params] = model.parallel_get_likelihoods(\n",
    "                dataTrials, numThreads=args.num_threads)\n",
    "        except:\n",
    "            print(\"An exception occurred during the likelihood \" +\n",
    "                  \"computations for model \" + str(model.params) + \".\")\n",
    "            raise\n",
    "\n",
    "    # Get negative log likelihoods and optimal parameters.\n",
    "    NLL = dict()\n",
    "    for model in models:\n",
    "        NLL[model.params] = - np.sum(np.log(likelihoods[model.params]))\n",
    "    optimalParams = min(NLL, key=NLL.get)\n",
    "\n",
    "    if args.verbose:\n",
    "        print(\"Finished grid search!\")\n",
    "        print(\"Optimal d: \" + str(optimalParams[0]))\n",
    "        print(\"Optimal sigma: \" + str(optimalParams[1]))\n",
    "        print(\"Optimal theta: \" + str(optimalParams[2]))\n",
    "        print(\"Min NLL: \" + str(min(NLL.values())))\n",
    "\n",
    "    # Get fixation distributions from even trials.\n",
    "    if args.verbose:\n",
    "        print(\"Getting fixation distributions from even trials...\")\n",
    "    fixationData = get_empirical_distributions(\n",
    "        data, subjectIds=subjectIds, useOddTrials=False, useEvenTrials=True)\n",
    "    \n",
    "    # Remove this...just want to see the middle fixations\n",
    "    # ...not using a different timing for first fixation and last fixation?\n",
    "    \n",
    "\n",
    "    # Generate simulations using the even trials fixation distributions and the\n",
    "    # estimated parameters.\n",
    "    if args.verbose:\n",
    "        print(\"Generating model simulations...\")\n",
    "    model = aDDM(*optimalParams)\n",
    "    simulTrials = list()\n",
    "    for (valueLeft, valueRight) in trialConditions:\n",
    "        for s in xrange(args.simulations_per_condition):\n",
    "            try:\n",
    "                simulTrials.append(\n",
    "                    model.simulate_trial(valueLeft, valueRight, fixationData))\n",
    "            except:\n",
    "                print(\"An exception occurred while generating artificial \" +\n",
    "                      \"trial \" + str(s) + \" for condition (\" + str(valueLeft) +\n",
    "                      \", \" + str(valueRight) + \").\")\n",
    "                raise\n",
    "\n",
    "    currTime = datetime.now().strftime(\"%Y-%m-%d_%H:%M:%S\")\n",
    "\n",
    "    if args.save_simulations:\n",
    "        save_simulations_to_csv(simulTrials,\n",
    "                                \"outputs/simul_expdata_\" + currTime + \".csv\",\n",
    "                                \"outputs/simul_fixations_\" + currTime + \".csv\")\n",
    "    # added this to test the plotting of figures\n",
    "    return dataTrials, simulTrials, fixationData\n",
    "\n",
    "    if args.save_figures:\n",
    "        pdfPages = PdfPages(\"outputs/addm_fit_\" + currTime + \".pdf\")\n",
    "        generate_choice_curves(dataTrials, simulTrials, pdfPages)\n",
    "        generate_rt_curves(dataTrials, simulTrials, pdfPages)\n",
    "        pdfPages.close()\n",
    "        \n",
    "        \n",
    "\n",
    "#if __name__ == \"__main__\":\n",
    "#    main()\n"
   ]
  },
  {
   "cell_type": "code",
   "execution_count": 11,
   "metadata": {
    "ExecuteTime": {
     "end_time": "2017-10-26T16:38:11.643326Z",
     "start_time": "2017-10-26T15:28:51.205241Z"
    }
   },
   "outputs": [
    {
     "name": "stdout",
     "output_type": "stream",
     "text": [
      "Loading experimental data...\n",
      "Starting grid search...\n",
      "Computing likelihoods for model (0.001, 0.03, 0.1)...\n",
      "Computing likelihoods for model (0.001, 0.03, 0.3)...\n",
      "Computing likelihoods for model (0.001, 0.03, 0.5)...\n",
      "Computing likelihoods for model (0.001, 0.06, 0.1)...\n",
      "Computing likelihoods for model (0.001, 0.06, 0.3)...\n",
      "Computing likelihoods for model (0.001, 0.06, 0.5)...\n",
      "Computing likelihoods for model (0.001, 0.09, 0.1)...\n",
      "Computing likelihoods for model (0.001, 0.09, 0.3)...\n",
      "Computing likelihoods for model (0.001, 0.09, 0.5)...\n",
      "Computing likelihoods for model (0.003, 0.03, 0.1)...\n",
      "Computing likelihoods for model (0.003, 0.03, 0.3)...\n",
      "Computing likelihoods for model (0.003, 0.03, 0.5)...\n",
      "Computing likelihoods for model (0.003, 0.06, 0.1)...\n",
      "Computing likelihoods for model (0.003, 0.06, 0.3)...\n",
      "Computing likelihoods for model (0.003, 0.06, 0.5)...\n",
      "Computing likelihoods for model (0.003, 0.09, 0.1)...\n",
      "Computing likelihoods for model (0.003, 0.09, 0.3)...\n",
      "Computing likelihoods for model (0.003, 0.09, 0.5)...\n",
      "Computing likelihoods for model (0.006, 0.03, 0.1)...\n",
      "Computing likelihoods for model (0.006, 0.03, 0.3)...\n",
      "Computing likelihoods for model (0.006, 0.03, 0.5)...\n",
      "Computing likelihoods for model (0.006, 0.06, 0.1)...\n",
      "Computing likelihoods for model (0.006, 0.06, 0.3)...\n",
      "Computing likelihoods for model (0.006, 0.06, 0.5)...\n",
      "Computing likelihoods for model (0.006, 0.09, 0.1)...\n",
      "Computing likelihoods for model (0.006, 0.09, 0.3)...\n",
      "Computing likelihoods for model (0.006, 0.09, 0.5)...\n",
      "Finished grid search!\n",
      "Optimal d: 0.001\n",
      "Optimal sigma: 0.06\n",
      "Optimal theta: 0.1\n",
      "Min NLL: 24115.6028156\n",
      "Getting fixation distributions from even trials...\n",
      "Generating model simulations...\n"
     ]
    }
   ],
   "source": [
    "dataTrials, simulTrials, fixationData = main()"
   ]
  },
  {
   "cell_type": "markdown",
   "metadata": {},
   "source": [
    "# TESTING"
   ]
  },
  {
   "cell_type": "code",
   "execution_count": 25,
   "metadata": {
    "ExecuteTime": {
     "end_time": "2017-10-26T17:16:27.801748Z",
     "start_time": "2017-10-26T17:16:01.674158Z"
    },
    "collapsed": true
   },
   "outputs": [],
   "source": [
    "data = load_data_from_csv(\n",
    "        args.expdata_file_name, args.fixations_file_name,\n",
    "        convertItemValues=None)"
   ]
  },
  {
   "cell_type": "code",
   "execution_count": 26,
   "metadata": {
    "ExecuteTime": {
     "end_time": "2017-10-26T17:17:00.961916Z",
     "start_time": "2017-10-26T17:17:00.958025Z"
    },
    "collapsed": true
   },
   "outputs": [],
   "source": [
    "subjectIds = args.subject_ids if args.subject_ids else data.keys()"
   ]
  },
  {
   "cell_type": "code",
   "execution_count": 32,
   "metadata": {
    "ExecuteTime": {
     "end_time": "2017-10-26T17:23:27.487364Z",
     "start_time": "2017-10-26T17:23:27.482916Z"
    },
    "collapsed": true
   },
   "outputs": [],
   "source": [
    "all_summed_vals = np.ndarray.tolist(unique_summed_vals)"
   ]
  },
  {
   "cell_type": "code",
   "execution_count": 33,
   "metadata": {
    "ExecuteTime": {
     "end_time": "2017-10-26T17:23:28.428072Z",
     "start_time": "2017-10-26T17:23:28.406618Z"
    },
    "collapsed": true
   },
   "outputs": [],
   "source": [
    "\"\"\"valuediffs: valueDiffs: list of integers. If fixDistType is 'difficulty' or\n",
    "        'fixation', valueDiffs is a range correspoding to the item values to\n",
    "        be used when indexing the fixation distributions.\"\"\" \n",
    "\n",
    "fixationData = get_empirical_distributions(\n",
    "        data, valueDiffs = all_summed_vals, subjectIds=subjectIds, useOddTrials=False, useEvenTrials=True)"
   ]
  },
  {
   "cell_type": "code",
   "execution_count": 46,
   "metadata": {
    "ExecuteTime": {
     "end_time": "2017-10-26T17:30:26.939440Z",
     "start_time": "2017-10-26T17:30:26.935038Z"
    },
    "collapsed": true
   },
   "outputs": [],
   "source": [
    "optimalParams = [0.001, 0.06, 0.1]"
   ]
  },
  {
   "cell_type": "code",
   "execution_count": 47,
   "metadata": {
    "ExecuteTime": {
     "end_time": "2017-10-26T17:30:33.204715Z",
     "start_time": "2017-10-26T17:30:28.935860Z"
    },
    "collapsed": true
   },
   "outputs": [
    {
     "name": "stdout",
     "output_type": "stream",
     "text": [
      "Left:  -1.61\n",
      "Right:  -1.65\n",
      "Left:  -1.61\n",
      "Right:  -0.89\n",
      "Left:  -1.61\n",
      "Right:  -0.66\n",
      "Left:  -1.61\n",
      "Right:  -0.39\n",
      "Left:  -1.61\n",
      "Right:  0.02\n",
      "Left:  -1.61\n",
      "Right:  0.42\n",
      "Left:  -1.61\n",
      "Right:  0.68\n",
      "Left:  -1.61\n",
      "Right:  0.92\n",
      "Left:  -1.61\n",
      "Right:  1.69\n",
      "Left:  -0.89\n",
      "Right:  -1.65\n",
      "Left:  -0.89\n",
      "Right:  -0.89\n",
      "Left:  -0.89\n",
      "Right:  -0.66\n",
      "Left:  -0.89\n",
      "Right:  -0.39\n",
      "Left:  -0.89\n",
      "Right:  0.02\n",
      "Left:  -0.89\n",
      "Right:  0.42\n",
      "Left:  -0.89\n",
      "Right:  0.68\n",
      "Left:  -0.89\n",
      "Right:  0.92\n",
      "Left:  -0.89\n",
      "Right:  1.69\n",
      "Left:  -0.65\n",
      "Right:  -1.65\n",
      "Left:  -0.65\n",
      "Right:  -0.89\n",
      "Left:  -0.65\n",
      "Right:  -0.66\n",
      "Left:  -0.65\n",
      "Right:  -0.39\n",
      "Left:  -0.65\n",
      "Right:  0.02\n",
      "Left:  -0.65\n",
      "Right:  0.42\n",
      "Left:  -0.65\n",
      "Right:  0.68\n",
      "Left:  -0.65\n",
      "Right:  0.92\n",
      "Left:  -0.65\n",
      "Right:  1.69\n",
      "Left:  -0.37\n",
      "Right:  -1.65\n",
      "Left:  -0.37\n",
      "Right:  -0.89\n",
      "Left:  -0.37\n",
      "Right:  -0.66\n",
      "Left:  -0.37\n",
      "Right:  -0.39\n",
      "Left:  -0.37\n",
      "Right:  0.02\n",
      "Left:  -0.37\n",
      "Right:  0.42\n",
      "Left:  -0.37\n",
      "Right:  0.68\n",
      "Left:  -0.37\n",
      "Right:  0.92\n",
      "Left:  -0.37\n",
      "Right:  1.69\n",
      "Left:  0.03\n",
      "Right:  -1.65\n",
      "Left:  0.03\n",
      "Right:  -0.89\n",
      "Left:  0.03\n",
      "Right:  -0.66\n",
      "Left:  0.03\n",
      "Right:  -0.39\n",
      "Left:  0.03\n",
      "Right:  0.02\n",
      "Left:  0.03\n",
      "Right:  0.42\n",
      "Left:  0.03\n",
      "Right:  0.68\n",
      "Left:  0.03\n",
      "Right:  0.92\n",
      "Left:  0.03\n",
      "Right:  1.69\n",
      "Left:  0.41\n",
      "Right:  -1.65\n",
      "Left:  0.41\n",
      "Right:  -0.89\n",
      "Left:  0.41\n",
      "Right:  -0.66\n",
      "Left:  0.41\n",
      "Right:  -0.39\n",
      "Left:  0.41\n",
      "Right:  0.02\n",
      "Left:  0.41\n",
      "Right:  0.42\n",
      "Left:  0.41\n",
      "Right:  0.68\n",
      "Left:  0.41\n",
      "Right:  0.92\n",
      "Left:  0.41\n",
      "Right:  1.69\n",
      "Left:  0.66\n",
      "Right:  -1.65\n",
      "Left:  0.66\n",
      "Right:  -0.89\n",
      "Left:  0.66\n",
      "Right:  -0.66\n",
      "Left:  0.66\n",
      "Right:  -0.39\n",
      "Left:  0.66\n",
      "Right:  0.02\n",
      "Left:  0.66\n",
      "Right:  0.42\n",
      "Left:  0.66\n",
      "Right:  0.68\n",
      "Left:  0.66\n",
      "Right:  0.92\n",
      "Left:  0.66\n",
      "Right:  1.69\n",
      "Left:  0.89\n",
      "Right:  -1.65\n",
      "Left:  0.89\n",
      "Right:  -0.89\n",
      "Left:  0.89\n",
      "Right:  -0.66\n",
      "Left:  0.89\n",
      "Right:  -0.39\n",
      "Left:  0.89\n",
      "Right:  0.02\n",
      "Left:  0.89\n",
      "Right:  0.42\n",
      "Left:  0.89\n",
      "Right:  0.68\n",
      "Left:  0.89\n",
      "Right:  0.92\n",
      "Left:  0.89\n",
      "Right:  1.69\n",
      "Left:  1.63\n",
      "Right:  -1.65\n",
      "Left:  1.63\n",
      "Right:  -0.89\n",
      "Left:  1.63\n",
      "Right:  -0.66\n",
      "Left:  1.63\n",
      "Right:  -0.39\n",
      "Left:  1.63\n",
      "Right:  0.02\n",
      "Left:  1.63\n",
      "Right:  0.42\n",
      "Left:  1.63\n",
      "Right:  0.68\n",
      "Left:  1.63\n",
      "Right:  0.92\n",
      "Left:  1.63\n",
      "Right:  1.69\n"
     ]
    }
   ],
   "source": [
    "model = aDDM(*optimalParams)\n",
    "simulTrials = list()\n",
    "for (valueLeft, valueRight) in trialConditions:\n",
    "    for s in xrange(args.simulations_per_condition):\n",
    "        try:\n",
    "            simulTrials.append(\n",
    "                model.simulate_trial(valueLeft, valueRight, fixationData))\n",
    "        except:\n",
    "            print(\"An exception occurred while generating artificial \" +\n",
    "                  \"trial \" + str(s) + \" for condition (\" + str(valueLeft) +\n",
    "                  \", \" + str(valueRight) + \").\")\n",
    "            raise"
   ]
  },
  {
   "cell_type": "code",
   "execution_count": 48,
   "metadata": {
    "ExecuteTime": {
     "end_time": "2017-10-26T17:33:46.454313Z",
     "start_time": "2017-10-26T17:31:51.669282Z"
    },
    "collapsed": true
   },
   "outputs": [],
   "source": [
    "currTime = datetime.now().strftime(\"%Y-%m-%d_%H:%M:%S\")\n",
    "\n",
    "save_simulations_to_csv(simulTrials,\n",
    "                        \"outputs/simul_expdata_\" + currTime + \".csv\",\n",
    "                        \"outputs/simul_fixations_\" + currTime + \".csv\")"
   ]
  },
  {
   "cell_type": "markdown",
   "metadata": {},
   "source": [
    "# Plot"
   ]
  },
  {
   "cell_type": "code",
   "execution_count": 11,
   "metadata": {
    "ExecuteTime": {
     "end_time": "2017-11-09T19:00:47.679521Z",
     "start_time": "2017-11-09T19:00:47.385925Z"
    }
   },
   "outputs": [
    {
     "ename": "NameError",
     "evalue": "name 'dataTrials' is not defined",
     "output_type": "error",
     "traceback": [
      "\u001b[0;31m---------------------------------------------------------------------------\u001b[0m",
      "\u001b[0;31mNameError\u001b[0m                                 Traceback (most recent call last)",
      "\u001b[0;32m<ipython-input-11-c5e2a0a2ec0c>\u001b[0m in \u001b[0;36m<module>\u001b[0;34m()\u001b[0m\n\u001b[0;32m----> 1\u001b[0;31m \u001b[0mdataTrials\u001b[0m\u001b[0;34m[\u001b[0m\u001b[0;36m0\u001b[0m\u001b[0;34m]\u001b[0m\u001b[0;34m.\u001b[0m\u001b[0mvalueLeft\u001b[0m\u001b[0;34m\u001b[0m\u001b[0m\n\u001b[0m",
      "\u001b[0;31mNameError\u001b[0m: name 'dataTrials' is not defined"
     ]
    }
   ],
   "source": [
    "dataTrials[0].valueLeft"
   ]
  },
  {
   "cell_type": "code",
   "execution_count": 13,
   "metadata": {
    "ExecuteTime": {
     "end_time": "2017-10-26T17:00:21.349069Z",
     "start_time": "2017-10-26T17:00:21.338172Z"
    }
   },
   "outputs": [
    {
     "data": {
      "text/plain": [
       "-0.65000000000000002"
      ]
     },
     "execution_count": 13,
     "metadata": {},
     "output_type": "execute_result"
    }
   ],
   "source": [
    "simulTrials[2000].valueLeft"
   ]
  },
  {
   "cell_type": "code",
   "execution_count": 49,
   "metadata": {
    "ExecuteTime": {
     "end_time": "2017-10-26T17:49:07.204096Z",
     "start_time": "2017-10-26T17:49:07.197519Z"
    },
    "collapsed": true
   },
   "outputs": [],
   "source": [
    "currTime = datetime.now().strftime(\"%Y-%m-%d_%H:%M:%S\")\n",
    "pdfPages = PdfPages(\"outputs/addm_fit_\" + currTime + \".pdf\")"
   ]
  },
  {
   "cell_type": "code",
   "execution_count": 50,
   "metadata": {
    "ExecuteTime": {
     "end_time": "2017-10-26T17:49:08.730642Z",
     "start_time": "2017-10-26T17:49:08.233485Z"
    },
    "collapsed": true
   },
   "outputs": [],
   "source": [
    "generate_choice_curves(dataTrials, simulTrials, pdfPages)"
   ]
  },
  {
   "cell_type": "code",
   "execution_count": null,
   "metadata": {
    "collapsed": true
   },
   "outputs": [],
   "source": [
    "generate_rt_curves(dataTrials, simulTrials, pdfPages)\n",
    "pdfPages.close()"
   ]
  },
  {
   "cell_type": "markdown",
   "metadata": {},
   "source": [
    "## Function: Generate Choice Curves"
   ]
  },
  {
   "cell_type": "code",
   "execution_count": 1,
   "metadata": {
    "ExecuteTime": {
     "end_time": "2017-11-09T18:59:45.798911Z",
     "start_time": "2017-11-09T18:59:45.723243Z"
    },
    "collapsed": true
   },
   "outputs": [],
   "source": [
    "def generate_choice_curves(dataTrials, simulTrials, pdfPages):\n",
    "    \"\"\"\n",
    "    Plots the psychometric choice curves for data and simulations.\n",
    "    Args:\n",
    "      dataTrials: a list of aDDMTrial objects corresponding to the experimental\n",
    "          data.\n",
    "      simulTrials: a list of aDDMTrial objects corresponding to the\n",
    "          simulations.\n",
    "      pdfPages: matplotlib.backends.backend_pdf.PdfPages object.\n",
    "    \"\"\"\n",
    "\n",
    "    # i think this is the number of bins and should be reduced as is currently 77\n",
    "    # e.g. binNum = 9\n",
    "    all_summed_vals = np.ndarray.tolist(unique_summed_vals)\n",
    "    countTotal = np.zeros(len(all_summed_vals)) \n",
    "    countLeftChosen = np.zeros(len(all_summed_vals))\n",
    "\n",
    "    for trial in dataTrials:\n",
    "        # changed to ADDITION \n",
    "        # using custom helper function takeClosest(sorted_list_of_numbers, number_to_match_to_list)\n",
    "        valueDiff = takeClosest(left_binned_val, trial.valueLeft) + takeClosest(right_binned_val, trial.valueRight) \n",
    "        # maybe create a list of 10-20 valueDiff ranges...could use mean of the left/right values (9 of each)\n",
    "        idx = all_summed_vals.index(valueDiff)\n",
    "        if trial.choice == -1:  # Choice was left REJECT.\n",
    "            countLeftChosen[idx] +=1\n",
    "            countTotal[idx] += 1\n",
    "        elif trial.choice == 1:  # Choice was right ACCEPT.\n",
    "            countTotal[idx] += 1\n",
    "\n",
    "    stdProbLeftChosen = np.zeros(len(all_summed_vals))\n",
    "    probLeftChosen = np.zeros(len(all_summed_vals))\n",
    "    for i in xrange(0,len(all_summed_vals)):\n",
    "        probLeftChosen[i] = countLeftChosen[i] / countTotal[i]\n",
    "        stdProbLeftChosen[i] = np.sqrt(\n",
    "            (probLeftChosen[i] * (1 - probLeftChosen[i])) / countTotal[i])\n",
    "\n",
    "    colors = cm.rainbow(np.linspace(0, 1, 9))\n",
    "    fig = plt.figure()\n",
    "    plt.errorbar(all_summed_vals, probLeftChosen, yerr=stdProbLeftChosen,\n",
    "                 color=colors[0], label=\"Data\")\n",
    "\n",
    "    countTotal = np.zeros(len(all_summed_vals))\n",
    "    countLeftChosen = np.zeros(len(all_summed_vals))\n",
    "\n",
    "    for trial in simulTrials:\n",
    "        valueDiff = trial.valueLeft + trial.valueRight # changed to ADDITION\n",
    "        idx = all_summed_vals.index(valueDiff)\n",
    "        if trial.choice == -1:  # Choice was REJECT.\n",
    "            countLeftChosen[idx] +=1\n",
    "            countTotal[idx] += 1\n",
    "        elif trial.choice == 1:  # Choice was ACCEPT.\n",
    "            countTotal[idx] += 1\n",
    "\n",
    "    stdProbLeftChosen = np.zeros(len(all_summed_vals))\n",
    "    probLeftChosen = np.zeros(len(all_summed_vals))\n",
    "    for i in xrange(0,len(all_summed_vals)):\n",
    "        probLeftChosen[i] = countLeftChosen[i] / countTotal[i]\n",
    "        stdProbLeftChosen[i] = np.sqrt(\n",
    "            (probLeftChosen[i] * (1 - probLeftChosen[i])) / countTotal[i])\n",
    "\n",
    "    plt.errorbar(all_summed_vals, probLeftChosen, yerr=stdProbLeftChosen,\n",
    "                 color=colors[5], label=\"Simulations\")\n",
    "    plt.xlabel(\"Value difference\")\n",
    "    plt.ylabel(\"P(Reject)\")  # changed from chose Left\n",
    "    plt.legend()\n",
    "\n",
    "    pdfPages.savefig(fig)\n",
    "    plt.close(fig)"
   ]
  },
  {
   "cell_type": "markdown",
   "metadata": {},
   "source": [
    "## Function: takeClosest"
   ]
  },
  {
   "cell_type": "code",
   "execution_count": 18,
   "metadata": {
    "ExecuteTime": {
     "end_time": "2017-10-26T17:06:01.171892Z",
     "start_time": "2017-10-26T17:06:01.161225Z"
    },
    "collapsed": true
   },
   "outputs": [],
   "source": [
    "def takeClosest(myList, myNumber):\n",
    "    \"\"\"\n",
    "    Assumes myList is sorted. Returns closest value to myNumber.\n",
    "\n",
    "    If two numbers are equally close, return the smallest number.\n",
    "    \"\"\"\n",
    "    pos = bisect_left(myList, myNumber)\n",
    "    if pos == 0:\n",
    "        return myList[0]\n",
    "    if pos == len(myList):\n",
    "        return myList[-1]\n",
    "    before = myList[pos - 1]\n",
    "    after = myList[pos]\n",
    "    if after - myNumber < myNumber - before:\n",
    "       return after\n",
    "    else:\n",
    "       return before"
   ]
  },
  {
   "cell_type": "code",
   "execution_count": null,
   "metadata": {
    "collapsed": true
   },
   "outputs": [],
   "source": []
  },
  {
   "cell_type": "code",
   "execution_count": 56,
   "metadata": {
    "ExecuteTime": {
     "end_time": "2017-10-26T18:03:35.790882Z",
     "start_time": "2017-10-26T18:03:35.785823Z"
    },
    "collapsed": true
   },
   "outputs": [],
   "source": [
    "class arguments:\n",
    "    mean = 0.05\n",
    "    sigma = 0.25\n",
    "    barrier_size = 1\n",
    "    barrier_decay = 0\n",
    "    state_step = 0.1\n",
    "    max_time = 200\n",
    "    display_figures = True\n",
    "\n",
    "args = arguments()"
   ]
  },
  {
   "cell_type": "code",
   "execution_count": 57,
   "metadata": {
    "ExecuteTime": {
     "end_time": "2017-10-26T18:03:37.535193Z",
     "start_time": "2017-10-26T18:03:36.314094Z"
    }
   },
   "outputs": [
    {
     "data": {
      "image/png": "[encoded data removed]",
      "text/plain": [
       "<matplotlib.figure.Figure at 0x10f2df910>"
      ]
     },
     "metadata": {},
     "output_type": "display_data"
    }
   ],
   "source": [
    "#!/usr/bin/python\n",
    "\n",
    "\"\"\"\n",
    "demo.py\n",
    "Author: Gabriela Tavares, gtavares@caltech.edu\n",
    "\n",
    "Demo of the attentional drift-diffusion model (aDDM), as described by Krajbich\n",
    "set al. (2010).\n",
    "\"\"\"\n",
    "\n",
    "import argparse\n",
    "import matplotlib.pyplot as plt\n",
    "import numpy as np\n",
    "\n",
    "from scipy.stats import norm\n",
    "\n",
    "\n",
    "def main():\n",
    "\n",
    "    initialBarrierUp = args.barrier_size\n",
    "    initialBarrierDown = -args.barrier_size\n",
    "\n",
    "    # The values of the barriers can change over time.\n",
    "    barrierUp = initialBarrierUp * np.ones(args.max_time)\n",
    "    barrierDown = initialBarrierDown * np.ones(args.max_time)\n",
    "    for t in xrange(1, args.max_time):\n",
    "        barrierUp[t] = initialBarrierUp / (1 + args.barrier_decay * (t + 1))\n",
    "        barrierDown[t] = (initialBarrierDown /\n",
    "                          (1 + args.barrier_decay * (t + 1)))\n",
    "\n",
    "    # Obtain correct state step.\n",
    "    approxStateStep = args.state_step\n",
    "    halfNumStateBins = np.ceil(args.barrier_size / float(approxStateStep))\n",
    "    stateStep = args.barrier_size / float(halfNumStateBins + 0.5)\n",
    "\n",
    "    # The vertical axis is divided into states.\n",
    "    states = np.arange(initialBarrierDown + (stateStep / 2.),\n",
    "                       initialBarrierUp - (stateStep / 2.) + stateStep,\n",
    "                       stateStep)\n",
    "\n",
    "    # Initial probability for all states is zero, except the zero state, for\n",
    "    # which the initial probability is one.\n",
    "    prStates = np.zeros((states.size, args.max_time))\n",
    "    prStates[np.where(states==0)[0], 0] = 1\n",
    "\n",
    "    probUpCrossing = np.zeros(args.max_time)\n",
    "    probDownCrossing = np.zeros(args.max_time)\n",
    "\n",
    "    for t in xrange(1, args.max_time):\n",
    "        prStatesNew = np.zeros(states.size)\n",
    "        \n",
    "        # Update the probability of the states that remain inside the barriers.\n",
    "        for s in xrange(0,states.size):\n",
    "            currState = states[s]\n",
    "            if currState > barrierDown[t] and currState < barrierUp[t]:\n",
    "                change = (currState * np.ones(states.size)) - states\n",
    "                # The probability of being in state B is the sum, over all\n",
    "                # states A, of the probability of being in A at the previous\n",
    "                # time step times the probability of changing from A to B. We\n",
    "                # multiply the probability by the state step to ensure that the\n",
    "                # area under the curve for the probability distributions\n",
    "                # probUpCrossing and probDownCrossing each add up to 1.\n",
    "                prStatesNew[s] = (args.state_step * np.sum(\n",
    "                    np.multiply(prStates[:,t-1],\n",
    "                    norm.pdf(change, args.mean, args.sigma))))\n",
    "\n",
    "        # Calculate the probabilities of crossing the up barrier and the down\n",
    "        # barrier. This is given by the sum, over all states A, of the\n",
    "        # probability of being in A at the previous timestep times the\n",
    "        # probability of crossing the barrier if A is the previous state.\n",
    "        changeUp = (barrierUp[t] * np.ones(states.size)) - states\n",
    "        tempUpCross = np.sum(\n",
    "            np.multiply(prStates[:,t-1],\n",
    "            1 - norm.cdf(changeUp, args.mean, args.sigma)))\n",
    "        changeDown = (barrierDown[t] * np.ones(states.size)) - states\n",
    "        tempDownCross = np.sum(\n",
    "            np.multiply(prStates[:,t-1],\n",
    "                        norm.cdf(changeDown, args.mean, args.sigma)))\n",
    "\n",
    "        # Renormalize to cope with numerical approximation.\n",
    "        sumIn = np.sum(prStates[:,t-1])\n",
    "        sumCurrent = np.sum(prStatesNew) + tempUpCross + tempDownCross\n",
    "        prStatesNew = prStatesNew * sumIn / sumCurrent\n",
    "        tempUpCross = tempUpCross * sumIn / sumCurrent\n",
    "        tempDownCross = tempDownCross * sumIn / sumCurrent\n",
    "\n",
    "        # Update the probabilities of each state and the probabilities of\n",
    "        # crossing each barrier at this timestep. Note that the probabilities\n",
    "        # at each time step DO NOT add up to 1. These probabilities account\n",
    "        # only for the probability of the signal staying inside the barriers or\n",
    "        # crossing a barrier at this time step, but not the probability of\n",
    "        # already having crossed a barrier at an earlier time.\n",
    "        prStates[:,t] = prStatesNew\n",
    "        probUpCrossing[t] = tempUpCross\n",
    "        probDownCrossing[t] = tempDownCross\n",
    "\n",
    "    if args.display_figures:\n",
    "        # Choose a suitable normalization constant.\n",
    "        maxProb = max(prStates[:,3])\n",
    "\n",
    "        plt.subplot(4, 1, 1)\n",
    "        plt.imshow(prStates[::-1,:], extent=[1, args.max_time,\n",
    "                                            -args.barrier_size,\n",
    "                                             args.barrier_size],\n",
    "                   aspect=\"auto\", vmin=0, vmax=maxProb)\n",
    "        plt.title(\"Mu = %.3f, sigma = %.3f\" % (args.mean, args.sigma))\n",
    "\n",
    "        plt.subplot(4, 1, 2)\n",
    "        plt.plot(range(1, args.max_time + 1), probUpCrossing, label=\"up\",\n",
    "                 color=\"red\")\n",
    "        plt.plot(range(1, args.max_time + 1), probDownCrossing, label=\"down\",\n",
    "                 color=\"green\")\n",
    "        plt.xlabel(\"Time\")\n",
    "        plt.ylabel(\"P(crossing)\")\n",
    "        plt.legend()\n",
    "\n",
    "        plt.subplot(4, 1, 3)\n",
    "        probInner = np.sum(prStates, 0)\n",
    "        probUp = np.cumsum(probUpCrossing)\n",
    "        probDown = np.cumsum(probDownCrossing)\n",
    "        probTotal = probInner + probUp + probDown\n",
    "        plt.plot(range(1, args.max_time + 1), probUp, color=\"red\",\n",
    "                 label=\"up\")\n",
    "        plt.plot(range(1, args.max_time + 1), probDown, color=\"green\",\n",
    "                 label=\"down\")\n",
    "        plt.plot(range(1, args.max_time + 1), probInner, color=\"yellow\",\n",
    "                 label=\"in\")\n",
    "        plt.plot(range(1, args.max_time + 1), probTotal, color=\"blue\",\n",
    "                 label=\"total\")\n",
    "        plt.axis([1, args.max_time, 0, 1.1])\n",
    "        plt.xlabel(\"Time\")\n",
    "        plt.ylabel(\"Cumulative probability\")\n",
    "        plt.legend()\n",
    "\n",
    "        plt.subplot(4, 1, 4)\n",
    "        plt.plot(range(1, args.max_time + 1), probTotal - 1)\n",
    "        plt.xlabel(\"Time\")\n",
    "        plt.ylabel(\"Numerical error\")\n",
    "        \n",
    "        plt.show(block=True)\n",
    "\n",
    "\n",
    "if __name__ == \"__main__\":\n",
    "    main()\n"
   ]
  },
  {
   "cell_type": "code",
   "execution_count": null,
   "metadata": {
    "collapsed": true
   },
   "outputs": [],
   "source": []
  }
 ],
 "metadata": {
  "anaconda-cloud": {},
  "kernelspec": {
   "display_name": "Python [conda root]",
   "language": "python",
   "name": "conda-root-py"
  },
  "language_info": {
   "codemirror_mode": {
    "name": "ipython",
    "version": 2
   },
   "file_extension": ".py",
   "mimetype": "text/x-python",
   "name": "python",
   "nbconvert_exporter": "python",
   "pygments_lexer": "ipython2",
   "version": "2.7.12"
  },
  "toc": {
   "colors": {
    "hover_highlight": "#DAA520",
    "navigate_num": "#000000",
    "navigate_text": "#333333",
    "running_highlight": "#FF0000",
    "selected_highlight": "#FFD700",
    "sidebar_border": "#EEEEEE",
    "wrapper_background": "#FFFFFF"
   },
   "moveMenuLeft": true,
   "nav_menu": {
    "height": "66px",
    "width": "252px"
   },
   "navigate_menu": true,
   "number_sections": true,
   "sideBar": true,
   "threshold": 4,
   "toc_cell": true,
   "toc_section_display": "block",
   "toc_window_display": true,
   "widenNotebook": false
  },
  "varInspector": {
   "cols": {
    "lenName": 16,
    "lenType": 16,
    "lenVar": 40
   },
   "kernels_config": {
    "python": {
     "delete_cmd_postfix": "",
     "delete_cmd_prefix": "del ",
     "library": "var_list.py",
     "varRefreshCmd": "print(var_dic_list())"
    },
    "r": {
     "delete_cmd_postfix": ") ",
     "delete_cmd_prefix": "rm(",
     "library": "var_list.r",
     "varRefreshCmd": "cat(var_dic_list()) "
    }
   },
   "types_to_exclude": [
    "module",
    "function",
    "builtin_function_or_method",
    "instance",
    "_Feature"
   ],
   "window_display": false
  }
 },
 "nbformat": 4,
 "nbformat_minor": 1
}
