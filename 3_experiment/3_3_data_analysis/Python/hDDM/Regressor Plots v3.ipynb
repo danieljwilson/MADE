{
 "cells": [
  {
   "cell_type": "markdown",
   "metadata": {
    "toc": "true"
   },
   "source": [
    "<h1>Table of Contents<span class=\"tocSkip\"></span></h1>\n",
    "<div class=\"toc\"><ul class=\"toc-item\"><li><span><a href=\"#Table-of-Contents\" data-toc-modified-id=\"Table-of-Contents-1\"><span class=\"toc-item-num\">1&nbsp;&nbsp;</span>Table of Contents</a></span></li><li><span><a href=\"#Imports\" data-toc-modified-id=\"Imports-2\"><span class=\"toc-item-num\">2&nbsp;&nbsp;</span>Imports</a></span></li><li><span><a href=\"#Plots\" data-toc-modified-id=\"Plots-3\"><span class=\"toc-item-num\">3&nbsp;&nbsp;</span>Plots</a></span><ul class=\"toc-item\"><li><span><a href=\"#Drift:-Measured-vs-Ideal\" data-toc-modified-id=\"Drift:-Measured-vs-Ideal-3.1\"><span class=\"toc-item-num\">3.1&nbsp;&nbsp;</span>Drift: Measured vs Ideal</a></span><ul class=\"toc-item\"><li><span><a href=\"#v3\" data-toc-modified-id=\"v3-3.1.1\"><span class=\"toc-item-num\">3.1.1&nbsp;&nbsp;</span>v3</a></span></li><li><span><a href=\"#Calculate-ideal-means-and-SD-at-mult-2-and-3\" data-toc-modified-id=\"Calculate-ideal-means-and-SD-at-mult-2-and-3-3.1.2\"><span class=\"toc-item-num\">3.1.2&nbsp;&nbsp;</span>Calculate ideal means and SD at mult 2 and 3</a></span></li><li><span><a href=\"#Plot-Drift-with-SD-error-bars\" data-toc-modified-id=\"Plot-Drift-with-SD-error-bars-3.1.3\"><span class=\"toc-item-num\">3.1.3&nbsp;&nbsp;</span>Plot Drift with SD error bars</a></span></li></ul></li></ul></li></ul></div>"
   ]
  },
  {
   "cell_type": "markdown",
   "metadata": {},
   "source": [
    "# Imports"
   ]
  },
  {
   "cell_type": "code",
   "execution_count": 1,
   "metadata": {
    "ExecuteTime": {
     "end_time": "2017-10-05T09:47:18.503802Z",
     "start_time": "2017-10-05T09:47:15.721968Z"
    }
   },
   "outputs": [
    {
     "name": "stderr",
     "output_type": "stream",
     "text": [
      "/Users/djw/anaconda/lib/python2.7/site-packages/IPython/parallel.py:13: ShimWarning: The `IPython.parallel` package has been deprecated. You should import from ipyparallel instead.\n",
      "  \"You should import from ipyparallel instead.\", ShimWarning)\n"
     ]
    }
   ],
   "source": [
    "### UPDATED by Daniel J Wilson\n",
    "\n",
    "import hddm\n",
    "import pandas as pd\n",
    "import numpy as np\n",
    "import os,sys\n",
    "import matplotlib.pyplot as plt\n",
    "import pylab\n",
    "from scipy.stats import norm\n",
    "import seaborn as sns\n",
    "import scipy as sp"
   ]
  },
  {
   "cell_type": "markdown",
   "metadata": {},
   "source": [
    "# Plots"
   ]
  },
  {
   "cell_type": "markdown",
   "metadata": {},
   "source": [
    "## Drift: Measured vs Ideal "
   ]
  },
  {
   "cell_type": "markdown",
   "metadata": {},
   "source": [
    "### v3"
   ]
  },
  {
   "cell_type": "code",
   "execution_count": 2,
   "metadata": {
    "collapsed": true
   },
   "outputs": [],
   "source": [
    "# Load data\n",
    "data = pd.read_csv(\"/Users/djw/Documents/pCloud Synced/PhD/PROJECTS/2017_MADE/03_CODE/2017_MADE/Analysis/hDDM/Analysis/HDDM/180425/Group/NEW_made_reg_v3.2/stats_all_group_n31_reg3.2_stats.csv\", index_col=0)\n",
    "\n",
    "# Note that this is actually the 3b model - DIC 24939.89...need to rerun the correct model..."
   ]
  },
  {
   "cell_type": "code",
   "execution_count": 3,
   "metadata": {
    "ExecuteTime": {
     "end_time": "2017-10-05T09:47:19.401817Z",
     "start_time": "2017-10-05T09:47:19.321475Z"
    },
    "scrolled": false
   },
   "outputs": [
    {
     "data": {
      "text/html": [
       "<div>\n",
       "<style scoped>\n",
       "    .dataframe tbody tr th:only-of-type {\n",
       "        vertical-align: middle;\n",
       "    }\n",
       "\n",
       "    .dataframe tbody tr th {\n",
       "        vertical-align: top;\n",
       "    }\n",
       "\n",
       "    .dataframe thead th {\n",
       "        text-align: right;\n",
       "    }\n",
       "</style>\n",
       "<table border=\"1\" class=\"dataframe\">\n",
       "  <thead>\n",
       "    <tr style=\"text-align: right;\">\n",
       "      <th></th>\n",
       "      <th>mean</th>\n",
       "      <th>std</th>\n",
       "      <th>2.5q</th>\n",
       "      <th>25q</th>\n",
       "      <th>50q</th>\n",
       "      <th>75q</th>\n",
       "      <th>97.5q</th>\n",
       "      <th>mc err</th>\n",
       "    </tr>\n",
       "  </thead>\n",
       "  <tbody>\n",
       "    <tr>\n",
       "      <th>z</th>\n",
       "      <td>0.503714</td>\n",
       "      <td>0.007054</td>\n",
       "      <td>0.489369</td>\n",
       "      <td>0.499082</td>\n",
       "      <td>0.503672</td>\n",
       "      <td>0.508463</td>\n",
       "      <td>0.517806</td>\n",
       "      <td>0.000211</td>\n",
       "    </tr>\n",
       "    <tr>\n",
       "      <th>z_std</th>\n",
       "      <td>0.134176</td>\n",
       "      <td>0.024801</td>\n",
       "      <td>0.091938</td>\n",
       "      <td>0.116205</td>\n",
       "      <td>0.131848</td>\n",
       "      <td>0.149809</td>\n",
       "      <td>0.187966</td>\n",
       "      <td>0.000943</td>\n",
       "    </tr>\n",
       "    <tr>\n",
       "      <th>z_subj.1</th>\n",
       "      <td>0.534326</td>\n",
       "      <td>0.017435</td>\n",
       "      <td>0.500875</td>\n",
       "      <td>0.522699</td>\n",
       "      <td>0.534174</td>\n",
       "      <td>0.546167</td>\n",
       "      <td>0.568975</td>\n",
       "      <td>0.000505</td>\n",
       "    </tr>\n",
       "    <tr>\n",
       "      <th>z_subj.2</th>\n",
       "      <td>0.516232</td>\n",
       "      <td>0.016985</td>\n",
       "      <td>0.481509</td>\n",
       "      <td>0.504837</td>\n",
       "      <td>0.516667</td>\n",
       "      <td>0.527855</td>\n",
       "      <td>0.548700</td>\n",
       "      <td>0.000474</td>\n",
       "    </tr>\n",
       "    <tr>\n",
       "      <th>z_subj.3</th>\n",
       "      <td>0.551329</td>\n",
       "      <td>0.018941</td>\n",
       "      <td>0.514261</td>\n",
       "      <td>0.538456</td>\n",
       "      <td>0.551288</td>\n",
       "      <td>0.563799</td>\n",
       "      <td>0.588835</td>\n",
       "      <td>0.000693</td>\n",
       "    </tr>\n",
       "    <tr>\n",
       "      <th>z_subj.4</th>\n",
       "      <td>0.467589</td>\n",
       "      <td>0.018096</td>\n",
       "      <td>0.431675</td>\n",
       "      <td>0.455437</td>\n",
       "      <td>0.467288</td>\n",
       "      <td>0.479875</td>\n",
       "      <td>0.503030</td>\n",
       "      <td>0.000536</td>\n",
       "    </tr>\n",
       "    <tr>\n",
       "      <th>z_subj.5</th>\n",
       "      <td>0.472944</td>\n",
       "      <td>0.017647</td>\n",
       "      <td>0.437420</td>\n",
       "      <td>0.461463</td>\n",
       "      <td>0.472995</td>\n",
       "      <td>0.484479</td>\n",
       "      <td>0.509247</td>\n",
       "      <td>0.000507</td>\n",
       "    </tr>\n",
       "    <tr>\n",
       "      <th>z_subj.6</th>\n",
       "      <td>0.560193</td>\n",
       "      <td>0.018674</td>\n",
       "      <td>0.524101</td>\n",
       "      <td>0.547762</td>\n",
       "      <td>0.560048</td>\n",
       "      <td>0.572062</td>\n",
       "      <td>0.597767</td>\n",
       "      <td>0.000604</td>\n",
       "    </tr>\n",
       "    <tr>\n",
       "      <th>z_subj.7</th>\n",
       "      <td>0.503801</td>\n",
       "      <td>0.016810</td>\n",
       "      <td>0.469707</td>\n",
       "      <td>0.493053</td>\n",
       "      <td>0.504421</td>\n",
       "      <td>0.514936</td>\n",
       "      <td>0.536600</td>\n",
       "      <td>0.000432</td>\n",
       "    </tr>\n",
       "    <tr>\n",
       "      <th>z_subj.8</th>\n",
       "      <td>0.494144</td>\n",
       "      <td>0.016805</td>\n",
       "      <td>0.461174</td>\n",
       "      <td>0.483133</td>\n",
       "      <td>0.494190</td>\n",
       "      <td>0.505601</td>\n",
       "      <td>0.526783</td>\n",
       "      <td>0.000470</td>\n",
       "    </tr>\n",
       "    <tr>\n",
       "      <th>z_subj.9</th>\n",
       "      <td>0.510861</td>\n",
       "      <td>0.016766</td>\n",
       "      <td>0.478574</td>\n",
       "      <td>0.499402</td>\n",
       "      <td>0.510579</td>\n",
       "      <td>0.522760</td>\n",
       "      <td>0.542759</td>\n",
       "      <td>0.000507</td>\n",
       "    </tr>\n",
       "    <tr>\n",
       "      <th>z_subj.10</th>\n",
       "      <td>0.503661</td>\n",
       "      <td>0.016636</td>\n",
       "      <td>0.470876</td>\n",
       "      <td>0.492834</td>\n",
       "      <td>0.503671</td>\n",
       "      <td>0.514695</td>\n",
       "      <td>0.536623</td>\n",
       "      <td>0.000377</td>\n",
       "    </tr>\n",
       "    <tr>\n",
       "      <th>z_subj.11</th>\n",
       "      <td>0.471568</td>\n",
       "      <td>0.017734</td>\n",
       "      <td>0.436911</td>\n",
       "      <td>0.459683</td>\n",
       "      <td>0.471832</td>\n",
       "      <td>0.483587</td>\n",
       "      <td>0.505317</td>\n",
       "      <td>0.000558</td>\n",
       "    </tr>\n",
       "    <tr>\n",
       "      <th>z_subj.12</th>\n",
       "      <td>0.481951</td>\n",
       "      <td>0.017262</td>\n",
       "      <td>0.446147</td>\n",
       "      <td>0.470888</td>\n",
       "      <td>0.482080</td>\n",
       "      <td>0.493759</td>\n",
       "      <td>0.513805</td>\n",
       "      <td>0.000505</td>\n",
       "    </tr>\n",
       "    <tr>\n",
       "      <th>z_subj.13</th>\n",
       "      <td>0.481638</td>\n",
       "      <td>0.016795</td>\n",
       "      <td>0.448474</td>\n",
       "      <td>0.470767</td>\n",
       "      <td>0.481336</td>\n",
       "      <td>0.492909</td>\n",
       "      <td>0.514683</td>\n",
       "      <td>0.000470</td>\n",
       "    </tr>\n",
       "    <tr>\n",
       "      <th>z_subj.14</th>\n",
       "      <td>0.513988</td>\n",
       "      <td>0.016442</td>\n",
       "      <td>0.481899</td>\n",
       "      <td>0.502854</td>\n",
       "      <td>0.514139</td>\n",
       "      <td>0.524549</td>\n",
       "      <td>0.547268</td>\n",
       "      <td>0.000463</td>\n",
       "    </tr>\n",
       "    <tr>\n",
       "      <th>z_subj.15</th>\n",
       "      <td>0.505439</td>\n",
       "      <td>0.017349</td>\n",
       "      <td>0.470347</td>\n",
       "      <td>0.494212</td>\n",
       "      <td>0.505017</td>\n",
       "      <td>0.516973</td>\n",
       "      <td>0.539893</td>\n",
       "      <td>0.000524</td>\n",
       "    </tr>\n",
       "    <tr>\n",
       "      <th>z_subj.16</th>\n",
       "      <td>0.506776</td>\n",
       "      <td>0.017586</td>\n",
       "      <td>0.472533</td>\n",
       "      <td>0.495275</td>\n",
       "      <td>0.507056</td>\n",
       "      <td>0.518465</td>\n",
       "      <td>0.541513</td>\n",
       "      <td>0.000560</td>\n",
       "    </tr>\n",
       "    <tr>\n",
       "      <th>z_subj.17</th>\n",
       "      <td>0.562254</td>\n",
       "      <td>0.017504</td>\n",
       "      <td>0.528808</td>\n",
       "      <td>0.550301</td>\n",
       "      <td>0.562337</td>\n",
       "      <td>0.574257</td>\n",
       "      <td>0.597202</td>\n",
       "      <td>0.000521</td>\n",
       "    </tr>\n",
       "    <tr>\n",
       "      <th>z_subj.18</th>\n",
       "      <td>0.486526</td>\n",
       "      <td>0.017823</td>\n",
       "      <td>0.452685</td>\n",
       "      <td>0.474367</td>\n",
       "      <td>0.486451</td>\n",
       "      <td>0.498796</td>\n",
       "      <td>0.521273</td>\n",
       "      <td>0.000466</td>\n",
       "    </tr>\n",
       "  </tbody>\n",
       "</table>\n",
       "</div>"
      ],
      "text/plain": [
       "               mean       std      2.5q       25q       50q       75q  \\\n",
       "z          0.503714  0.007054  0.489369  0.499082  0.503672  0.508463   \n",
       "z_std      0.134176  0.024801  0.091938  0.116205  0.131848  0.149809   \n",
       "z_subj.1   0.534326  0.017435  0.500875  0.522699  0.534174  0.546167   \n",
       "z_subj.2   0.516232  0.016985  0.481509  0.504837  0.516667  0.527855   \n",
       "z_subj.3   0.551329  0.018941  0.514261  0.538456  0.551288  0.563799   \n",
       "z_subj.4   0.467589  0.018096  0.431675  0.455437  0.467288  0.479875   \n",
       "z_subj.5   0.472944  0.017647  0.437420  0.461463  0.472995  0.484479   \n",
       "z_subj.6   0.560193  0.018674  0.524101  0.547762  0.560048  0.572062   \n",
       "z_subj.7   0.503801  0.016810  0.469707  0.493053  0.504421  0.514936   \n",
       "z_subj.8   0.494144  0.016805  0.461174  0.483133  0.494190  0.505601   \n",
       "z_subj.9   0.510861  0.016766  0.478574  0.499402  0.510579  0.522760   \n",
       "z_subj.10  0.503661  0.016636  0.470876  0.492834  0.503671  0.514695   \n",
       "z_subj.11  0.471568  0.017734  0.436911  0.459683  0.471832  0.483587   \n",
       "z_subj.12  0.481951  0.017262  0.446147  0.470888  0.482080  0.493759   \n",
       "z_subj.13  0.481638  0.016795  0.448474  0.470767  0.481336  0.492909   \n",
       "z_subj.14  0.513988  0.016442  0.481899  0.502854  0.514139  0.524549   \n",
       "z_subj.15  0.505439  0.017349  0.470347  0.494212  0.505017  0.516973   \n",
       "z_subj.16  0.506776  0.017586  0.472533  0.495275  0.507056  0.518465   \n",
       "z_subj.17  0.562254  0.017504  0.528808  0.550301  0.562337  0.574257   \n",
       "z_subj.18  0.486526  0.017823  0.452685  0.474367  0.486451  0.498796   \n",
       "\n",
       "              97.5q    mc err  \n",
       "z          0.517806  0.000211  \n",
       "z_std      0.187966  0.000943  \n",
       "z_subj.1   0.568975  0.000505  \n",
       "z_subj.2   0.548700  0.000474  \n",
       "z_subj.3   0.588835  0.000693  \n",
       "z_subj.4   0.503030  0.000536  \n",
       "z_subj.5   0.509247  0.000507  \n",
       "z_subj.6   0.597767  0.000604  \n",
       "z_subj.7   0.536600  0.000432  \n",
       "z_subj.8   0.526783  0.000470  \n",
       "z_subj.9   0.542759  0.000507  \n",
       "z_subj.10  0.536623  0.000377  \n",
       "z_subj.11  0.505317  0.000558  \n",
       "z_subj.12  0.513805  0.000505  \n",
       "z_subj.13  0.514683  0.000470  \n",
       "z_subj.14  0.547268  0.000463  \n",
       "z_subj.15  0.539893  0.000524  \n",
       "z_subj.16  0.541513  0.000560  \n",
       "z_subj.17  0.597202  0.000521  \n",
       "z_subj.18  0.521273  0.000466  "
      ]
     },
     "execution_count": 3,
     "metadata": {},
     "output_type": "execute_result"
    }
   ],
   "source": [
    "data.head(20)"
   ]
  },
  {
   "cell_type": "code",
   "execution_count": 4,
   "metadata": {
    "ExecuteTime": {
     "end_time": "2017-10-05T09:47:19.693443Z",
     "start_time": "2017-10-05T09:47:19.679163Z"
    }
   },
   "outputs": [
    {
     "data": {
      "text/plain": [
       "0.023862561026463291"
      ]
     },
     "execution_count": 4,
     "metadata": {},
     "output_type": "execute_result"
    }
   ],
   "source": [
    "# Should be adding v intercept to v values?\n",
    "\n",
    "v_int = data.loc['v_Intercept', 'mean']\n",
    "v_int"
   ]
  },
  {
   "cell_type": "markdown",
   "metadata": {},
   "source": [
    "### Calculate ideal means and SD at mult 2 and 3"
   ]
  },
  {
   "cell_type": "code",
   "execution_count": 5,
   "metadata": {
    "ExecuteTime": {
     "end_time": "2017-10-05T09:47:20.081011Z",
     "start_time": "2017-10-05T09:47:20.016470Z"
    }
   },
   "outputs": [
    {
     "data": {
      "text/html": [
       "<div>\n",
       "<style scoped>\n",
       "    .dataframe tbody tr th:only-of-type {\n",
       "        vertical-align: middle;\n",
       "    }\n",
       "\n",
       "    .dataframe tbody tr th {\n",
       "        vertical-align: top;\n",
       "    }\n",
       "\n",
       "    .dataframe thead th {\n",
       "        text-align: right;\n",
       "    }\n",
       "</style>\n",
       "<table border=\"1\" class=\"dataframe\">\n",
       "  <thead>\n",
       "    <tr style=\"text-align: right;\">\n",
       "      <th></th>\n",
       "      <th>meanFace</th>\n",
       "      <th>sdFace</th>\n",
       "      <th>meanHouse</th>\n",
       "      <th>sdHouse</th>\n",
       "    </tr>\n",
       "  </thead>\n",
       "  <tbody>\n",
       "    <tr>\n",
       "      <th>1</th>\n",
       "      <td>0</td>\n",
       "      <td>0</td>\n",
       "      <td>0</td>\n",
       "      <td>0</td>\n",
       "    </tr>\n",
       "    <tr>\n",
       "      <th>2</th>\n",
       "      <td>0</td>\n",
       "      <td>0</td>\n",
       "      <td>0</td>\n",
       "      <td>0</td>\n",
       "    </tr>\n",
       "    <tr>\n",
       "      <th>3</th>\n",
       "      <td>0</td>\n",
       "      <td>0</td>\n",
       "      <td>0</td>\n",
       "      <td>0</td>\n",
       "    </tr>\n",
       "    <tr>\n",
       "      <th>4</th>\n",
       "      <td>0</td>\n",
       "      <td>0</td>\n",
       "      <td>0</td>\n",
       "      <td>0</td>\n",
       "    </tr>\n",
       "    <tr>\n",
       "      <th>5</th>\n",
       "      <td>0</td>\n",
       "      <td>0</td>\n",
       "      <td>0</td>\n",
       "      <td>0</td>\n",
       "    </tr>\n",
       "    <tr>\n",
       "      <th>6</th>\n",
       "      <td>0</td>\n",
       "      <td>0</td>\n",
       "      <td>0</td>\n",
       "      <td>0</td>\n",
       "    </tr>\n",
       "  </tbody>\n",
       "</table>\n",
       "</div>"
      ],
      "text/plain": [
       "   meanFace  sdFace  meanHouse  sdHouse\n",
       "1         0       0          0        0\n",
       "2         0       0          0        0\n",
       "3         0       0          0        0\n",
       "4         0       0          0        0\n",
       "5         0       0          0        0\n",
       "6         0       0          0        0"
      ]
     },
     "execution_count": 5,
     "metadata": {},
     "output_type": "execute_result"
    }
   ],
   "source": [
    "columns = ['meanFace', 'sdFace', 'meanHouse', 'sdHouse']\n",
    "index = [1,2,3,4,5,6]\n",
    "df = pd.DataFrame(index=index, columns=columns)\n",
    "df = df.fillna(0) # with 0s rather than NaNs\n",
    "df"
   ]
  },
  {
   "cell_type": "code",
   "execution_count": 6,
   "metadata": {
    "ExecuteTime": {
     "end_time": "2017-10-05T09:47:20.836557Z",
     "start_time": "2017-10-05T09:47:20.730253Z"
    },
    "scrolled": true
   },
   "outputs": [
    {
     "data": {
      "text/html": [
       "<div>\n",
       "<style scoped>\n",
       "    .dataframe tbody tr th:only-of-type {\n",
       "        vertical-align: middle;\n",
       "    }\n",
       "\n",
       "    .dataframe tbody tr th {\n",
       "        vertical-align: top;\n",
       "    }\n",
       "\n",
       "    .dataframe thead th {\n",
       "        text-align: right;\n",
       "    }\n",
       "</style>\n",
       "<table border=\"1\" class=\"dataframe\">\n",
       "  <thead>\n",
       "    <tr style=\"text-align: right;\">\n",
       "      <th></th>\n",
       "      <th>meanFace</th>\n",
       "      <th>sdFace</th>\n",
       "      <th>meanHouse</th>\n",
       "      <th>sdHouse</th>\n",
       "    </tr>\n",
       "  </thead>\n",
       "  <tbody>\n",
       "    <tr>\n",
       "      <th>1</th>\n",
       "      <td>0.108208</td>\n",
       "      <td>0.002043</td>\n",
       "      <td>0.098477</td>\n",
       "      <td>0.002098</td>\n",
       "    </tr>\n",
       "    <tr>\n",
       "      <th>2</th>\n",
       "      <td>0.445591</td>\n",
       "      <td>0.010217</td>\n",
       "      <td>0.396937</td>\n",
       "      <td>0.010492</td>\n",
       "    </tr>\n",
       "    <tr>\n",
       "      <th>3</th>\n",
       "      <td>0.867320</td>\n",
       "      <td>0.020434</td>\n",
       "      <td>0.770012</td>\n",
       "      <td>0.020983</td>\n",
       "    </tr>\n",
       "    <tr>\n",
       "      <th>4</th>\n",
       "      <td>1.710778</td>\n",
       "      <td>0.040868</td>\n",
       "      <td>1.516161</td>\n",
       "      <td>0.041966</td>\n",
       "    </tr>\n",
       "    <tr>\n",
       "      <th>5</th>\n",
       "      <td>2.554235</td>\n",
       "      <td>0.061302</td>\n",
       "      <td>2.262310</td>\n",
       "      <td>0.062949</td>\n",
       "    </tr>\n",
       "    <tr>\n",
       "      <th>6</th>\n",
       "      <td>8.458438</td>\n",
       "      <td>0.204339</td>\n",
       "      <td>7.485354</td>\n",
       "      <td>0.209831</td>\n",
       "    </tr>\n",
       "  </tbody>\n",
       "</table>\n",
       "</div>"
      ],
      "text/plain": [
       "   meanFace    sdFace  meanHouse   sdHouse\n",
       "1  0.108208  0.002043   0.098477  0.002098\n",
       "2  0.445591  0.010217   0.396937  0.010492\n",
       "3  0.867320  0.020434   0.770012  0.020983\n",
       "4  1.710778  0.040868   1.516161  0.041966\n",
       "5  2.554235  0.061302   2.262310  0.062949\n",
       "6  8.458438  0.204339   7.485354  0.209831"
      ]
     },
     "execution_count": 6,
     "metadata": {},
     "output_type": "execute_result"
    }
   ],
   "source": [
    "df.iloc[0,0] = data.loc['v_face_mult_1', 'mean'] * 0.1 + v_int\n",
    "df.iloc[0,1] = data.loc['v_face_mult_1', 'std'] * 0.1\n",
    "df.iloc[0,2] = data.loc['v_house_mult_1', 'mean'] * 0.1 + v_int\n",
    "df.iloc[0,3] = data.loc['v_house_mult_1', 'std'] * 0.1\n",
    "\n",
    "df.iloc[1,0] = data.loc['v_face_mult_1', 'mean'] * 0.5+ v_int\n",
    "df.iloc[1,1] = data.loc['v_face_mult_1', 'std'] * 0.5\n",
    "df.iloc[1,2] = data.loc['v_house_mult_1', 'mean'] * 0.5+ v_int\n",
    "df.iloc[1,3] = data.loc['v_house_mult_1', 'std'] * 0.5\n",
    "\n",
    "df.iloc[2,0] = data.loc['v_face_mult_1', 'mean'] * 1+ v_int\n",
    "df.iloc[2,1] = data.loc['v_face_mult_1', 'std'] * 1\n",
    "df.iloc[2,2] = data.loc['v_house_mult_1', 'mean'] * 1+ v_int\n",
    "df.iloc[2,3] = data.loc['v_house_mult_1', 'std'] *1\n",
    "\n",
    "df.iloc[3,0] = data.loc['v_face_mult_1', 'mean'] * 2+ v_int\n",
    "df.iloc[3,1] = data.loc['v_face_mult_1', 'std'] * 2\n",
    "df.iloc[3,2] = data.loc['v_house_mult_1', 'mean'] * 2+ v_int\n",
    "df.iloc[3,3] = data.loc['v_house_mult_1', 'std'] *2\n",
    "\n",
    "df.iloc[4,0] = data.loc['v_face_mult_1', 'mean'] * 3+ v_int\n",
    "df.iloc[4,1] = data.loc['v_face_mult_1', 'std'] * 3\n",
    "df.iloc[4,2] = data.loc['v_house_mult_1', 'mean'] * 3+ v_int\n",
    "df.iloc[4,3] = data.loc['v_house_mult_1', 'std'] *3\n",
    "\n",
    "df.iloc[5,0] = data.loc['v_face_mult_1', 'mean'] * 10 + v_int\n",
    "df.iloc[5,1] = data.loc['v_face_mult_1', 'std'] * 10\n",
    "df.iloc[5,2] = data.loc['v_house_mult_1', 'mean'] * 10+ v_int\n",
    "df.iloc[5,3] = data.loc['v_house_mult_1', 'std'] *10\n",
    "\n",
    "df"
   ]
  },
  {
   "cell_type": "code",
   "execution_count": 7,
   "metadata": {
    "ExecuteTime": {
     "end_time": "2017-10-05T09:47:21.281683Z",
     "start_time": "2017-10-05T09:47:21.270188Z"
    },
    "scrolled": true
   },
   "outputs": [
    {
     "data": {
      "text/plain": [
       "0.038921018133055887"
      ]
     },
     "execution_count": 7,
     "metadata": {},
     "output_type": "execute_result"
    }
   ],
   "source": [
    "data.loc['v_face_mult_2', 'std']"
   ]
  },
  {
   "cell_type": "code",
   "execution_count": 17,
   "metadata": {
    "ExecuteTime": {
     "end_time": "2017-10-05T09:47:21.950226Z",
     "start_time": "2017-10-05T09:47:21.902667Z"
    }
   },
   "outputs": [
    {
     "data": {
      "text/plain": [
       "Ttest_indResult(statistic=63.40593827549408, pvalue=6.8904623804920703e-45)"
      ]
     },
     "execution_count": 17,
     "metadata": {},
     "output_type": "execute_result"
    }
   ],
   "source": [
    "# scipy.stats.ttest_ind_from_stats(mean1(measured), std1, nobs1, mean2(ideal), std2, nobs2, equal_var=True)\n",
    "\n",
    "# Face Mult = 2\n",
    "sp.stats.ttest_ind_from_stats(data.loc['v_face_mult_2', 'mean'], data.loc['v_face_mult_2', 'std'], 23,\n",
    "                             df.iloc[1,0], df.iloc[1,1], 23)"
   ]
  },
  {
   "cell_type": "code",
   "execution_count": 18,
   "metadata": {
    "ExecuteTime": {
     "end_time": "2017-10-05T09:47:22.369656Z",
     "start_time": "2017-10-05T09:47:22.353750Z"
    }
   },
   "outputs": [
    {
     "data": {
      "text/plain": [
       "Ttest_indResult(statistic=52.736933485677589, pvalue=2.060325058788134e-41)"
      ]
     },
     "execution_count": 18,
     "metadata": {},
     "output_type": "execute_result"
    }
   ],
   "source": [
    "# House Mult = 2\n",
    "sp.stats.ttest_ind_from_stats(data.loc['v_house_mult_2', 'mean'], data.loc['v_house_mult_2', 'std'], 23,\n",
    "                             df.iloc[1,2], df.iloc[1,3], 23)"
   ]
  },
  {
   "cell_type": "code",
   "execution_count": 19,
   "metadata": {
    "ExecuteTime": {
     "end_time": "2017-10-05T09:47:22.740987Z",
     "start_time": "2017-10-05T09:47:22.700778Z"
    }
   },
   "outputs": [
    {
     "data": {
      "text/plain": [
       "Ttest_indResult(statistic=22.860471027253002, pvalue=4.7683005601008307e-26)"
      ]
     },
     "execution_count": 19,
     "metadata": {},
     "output_type": "execute_result"
    }
   ],
   "source": [
    "# Face Mult = 3\n",
    "sp.stats.ttest_ind_from_stats(data.loc['v_face_mult_3', 'mean'], data.loc['v_face_mult_3', 'std'], 23,\n",
    "                             df.iloc[2,0], df.iloc[2,1], 23)"
   ]
  },
  {
   "cell_type": "code",
   "execution_count": 20,
   "metadata": {
    "ExecuteTime": {
     "end_time": "2017-10-05T09:47:23.221494Z",
     "start_time": "2017-10-05T09:47:23.184231Z"
    }
   },
   "outputs": [
    {
     "data": {
      "text/plain": [
       "Ttest_indResult(statistic=31.792911504305248, pvalue=5.4063316386732911e-32)"
      ]
     },
     "execution_count": 20,
     "metadata": {},
     "output_type": "execute_result"
    }
   ],
   "source": [
    "# House Mult = 3\n",
    "sp.stats.ttest_ind_from_stats(data.loc['v_house_mult_3', 'mean'], data.loc['v_house_mult_3', 'std'], 23,\n",
    "                             df.iloc[2,2], df.iloc[2,3], 23)"
   ]
  },
  {
   "cell_type": "markdown",
   "metadata": {},
   "source": [
    "### Plot Drift with SD error bars"
   ]
  },
  {
   "cell_type": "code",
   "execution_count": 21,
   "metadata": {
    "ExecuteTime": {
     "end_time": "2017-10-05T10:00:54.788990Z",
     "start_time": "2017-10-05T10:00:54.783201Z"
    }
   },
   "outputs": [
    {
     "name": "stdout",
     "output_type": "stream",
     "text": [
      "[u'seaborn-darkgrid', u'seaborn-notebook', u'classic', u'seaborn-ticks', u'grayscale', u'bmh', u'seaborn-talk', u'dark_background', u'ggplot', u'fivethirtyeight', u'seaborn-colorblind', u'seaborn-deep', u'seaborn-whitegrid', u'seaborn-bright', u'seaborn-poster', u'seaborn-muted', u'seaborn-paper', u'seaborn-white', u'seaborn-pastel', u'seaborn-dark', u'seaborn-dark-palette']\n"
     ]
    }
   ],
   "source": [
    "print(plt.style.available)"
   ]
  },
  {
   "cell_type": "code",
   "execution_count": 8,
   "metadata": {
    "ExecuteTime": {
     "end_time": "2017-10-05T10:12:30.106284Z",
     "start_time": "2017-10-05T10:12:29.536354Z"
    },
    "scrolled": false
   },
   "outputs": [
    {
     "data": {
      "image/png": "[encoded data removed]",
      "text/plain": [
       "<matplotlib.figure.Figure at 0x1114ea7d0>"
      ]
     },
     "metadata": {},
     "output_type": "display_data"
    }
   ],
   "source": [
    "#plt.rcParams['axes.facecolor'] = 'white'\n",
    "plt.style.use('seaborn-whitegrid')\n",
    "\n",
    "initValFace = data.loc['v_face_mult_1', 'mean'] + v_int\n",
    "initValHouse = data.loc['v_house_mult_1', 'mean'] + v_int\n",
    "x = np.linspace(0,11,1000)\n",
    "\n",
    "# Ideal Values\n",
    "yFace = x*initValFace\n",
    "yHouse = x*initValHouse\n",
    "\n",
    "# Actual Values\n",
    "xMult = np.array([0.1,0.5,1,2,3,10]) \n",
    "yFaceActual = np.array([data.loc['v_face_mult_01', 'mean'] + v_int,\n",
    "                        data.loc['v_face_mult_05', 'mean'] + v_int,\n",
    "                        data.loc['v_face_mult_1', 'mean'] + v_int, \n",
    "                        data.loc['v_face_mult_2', 'mean'] + v_int,\n",
    "                        data.loc['v_face_mult_3', 'mean'] + v_int,\n",
    "                        data.loc['v_face_mult_10', 'mean'] + v_int])\n",
    "yHouseActual = np.array([data.loc['v_house_mult_01', 'mean'] + v_int,\n",
    "                         data.loc['v_house_mult_05', 'mean'] + v_int,\n",
    "                         data.loc['v_house_mult_1', 'mean'] + v_int,\n",
    "                         data.loc['v_house_mult_2', 'mean'] + v_int,\n",
    "                         data.loc['v_house_mult_3', 'mean'] + v_int,\n",
    "                         data.loc['v_house_mult_10', 'mean'] + v_int])\n",
    "\n",
    "# SD\n",
    "eFace = np.array([data.loc['v_face_mult_01', 'std'],\n",
    "                  data.loc['v_face_mult_05', 'std'],\n",
    "                  data.loc['v_face_mult_1', 'std'],\n",
    "                  data.loc['v_face_mult_2', 'std'],\n",
    "                  data.loc['v_face_mult_3', 'std'],\n",
    "                  data.loc['v_face_mult_10', 'std']])\n",
    "eHouse = np.array([data.loc['v_house_mult_01', 'std'],\n",
    "                   data.loc['v_house_mult_05', 'std'],\n",
    "                   data.loc['v_house_mult_1', 'std'],\n",
    "                   data.loc['v_house_mult_2', 'std'],\n",
    "                   data.loc['v_house_mult_3', 'std'],\n",
    "                   data.loc['v_house_mult_10', 'std']])\n",
    "\n",
    "# PLOT\n",
    "\n",
    "# Idealized weighting\n",
    "#ideal_line1, = plt.plot(x,yFace, linestyle='--', label = \"Ideal Face Re-weighting\")\n",
    "#ideal_line2, = plt.plot(x,yHouse, linestyle= '--', label = \"Ideal House Re-weighting\")\n",
    "ideal_line3, = plt.plot(x,(yHouse + yFace)/2, linestyle= '--', label = \"Ideal Attribute Re-weighting\", linewidth = \"1.5\")\n",
    "\n",
    "# Starting dots\n",
    "# plt.plot(1,data.loc['v_face_mult_1', 'mean'] + v_int, marker='o', label = \"Face Weight: Mult = 1\")\n",
    "# plt.plot(1,data.loc['v_house_mult_1', 'mean'] + v_int, marker='o', label = \"House Weight: House = 1\")\n",
    "\n",
    "# Actual weighting\n",
    "plt.errorbar(xMult, yFaceActual, eFace, linestyle='-', fmt='o', label = \"Actual Face Re-weighting\")\n",
    "plt.errorbar(xMult, yHouseActual, eHouse, linestyle='-', fmt='o', label = \"Actual House Re-weighting\")\n",
    "\n",
    "plt.xlabel(\"Multiplier Value\", fontsize = 24)\n",
    "plt.ylabel(\"Weighting\", fontsize = 24)\n",
    "plt.xticks(np.arange(1, 11, 1))\n",
    "plt.tick_params(\n",
    "    axis='both',          # changes apply to the x-axis\n",
    "    which='both',      # both major and minor ticks are affected\n",
    "    right='off',      # ticks along the bottom edge are off\n",
    "    top='off')         # ticks along the top edge are off\n",
    "\n",
    "plt.legend(loc = 4)\n",
    "plt.show()\n",
    "plt.close()\n",
    "#plt.savefig('/Users/djw/Desktop/weighting.pdf', bbox_inches='tight')\n",
    "\n",
    "# savefig('plt.png', facecolor=fig.get_facecolor(), transparent=True)"
   ]
  },
  {
   "cell_type": "code",
   "execution_count": null,
   "metadata": {
    "collapsed": true
   },
   "outputs": [],
   "source": []
  },
  {
   "cell_type": "code",
   "execution_count": 14,
   "metadata": {
    "ExecuteTime": {
     "end_time": "2017-09-13T17:22:31.982189Z",
     "start_time": "2017-09-13T17:22:31.975375Z"
    },
    "collapsed": true
   },
   "outputs": [],
   "source": [
    "mean = data.loc['v_face_mult_1', 'mean']\n",
    "sd = data.loc['v_face_mult_1', 'std']"
   ]
  },
  {
   "cell_type": "code",
   "execution_count": 19,
   "metadata": {
    "ExecuteTime": {
     "end_time": "2017-09-13T17:25:02.398998Z",
     "start_time": "2017-09-13T17:25:02.214889Z"
    }
   },
   "outputs": [
    {
     "data": {
      "image/png": "[encoded data removed]",
      "text/plain": [
       "<matplotlib.figure.Figure at 0x113d97a10>"
      ]
     },
     "metadata": {},
     "output_type": "display_data"
    }
   ],
   "source": [
    "x = np.linspace(0,2,1000)\n",
    "mean = data.loc['v_face_mult_1', 'mean']\n",
    "sd = data.loc['v_face_mult_1', 'std']\n",
    "y1 = norm.pdf(x, loc=mean, scale=sd)    # mean = loc, sd = scale\n",
    "mean = data.loc['v_house_mult_1', 'mean']\n",
    "sd = data.loc['v_house_mult_1', 'std']\n",
    "y2 = norm.pdf(x, loc=mean, scale=sd)    # mean = loc, sd = scale\n",
    "pylab.plot(x,y1)\n",
    "pylab.plot(x,y2)\n",
    "pylab.show()"
   ]
  },
  {
   "cell_type": "code",
   "execution_count": null,
   "metadata": {
    "collapsed": true
   },
   "outputs": [],
   "source": []
  }
 ],
 "metadata": {
  "anaconda-cloud": {},
  "kernelspec": {
   "display_name": "Python [default]",
   "language": "python",
   "name": "python2"
  },
  "language_info": {
   "codemirror_mode": {
    "name": "ipython",
    "version": 2
   },
   "file_extension": ".py",
   "mimetype": "text/x-python",
   "name": "python",
   "nbconvert_exporter": "python",
   "pygments_lexer": "ipython2",
   "version": "2.7.12"
  },
  "toc": {
   "nav_menu": {
    "height": "66px",
    "width": "252px"
   },
   "number_sections": true,
   "sideBar": true,
   "skip_h1_title": false,
   "title_cell": "Table of Contents",
   "title_sidebar": "Contents",
   "toc_cell": true,
   "toc_position": {},
   "toc_section_display": "block",
   "toc_window_display": true
  },
  "varInspector": {
   "cols": {
    "lenName": 16,
    "lenType": 16,
    "lenVar": 40
   },
   "kernels_config": {
    "python": {
     "delete_cmd_postfix": "",
     "delete_cmd_prefix": "del ",
     "library": "var_list.py",
     "varRefreshCmd": "print(var_dic_list())"
    },
    "r": {
     "delete_cmd_postfix": ") ",
     "delete_cmd_prefix": "rm(",
     "library": "var_list.r",
     "varRefreshCmd": "cat(var_dic_list()) "
    }
   },
   "types_to_exclude": [
    "module",
    "function",
    "builtin_function_or_method",
    "instance",
    "_Feature"
   ],
   "window_display": false
  }
 },
 "nbformat": 4,
 "nbformat_minor": 1
}
