{
 "cells": [
  {
   "cell_type": "markdown",
   "metadata": {
    "toc": "true"
   },
   "source": [
    "<h1>Table of Contents<span class=\"tocSkip\"></span></h1>\n",
    "<div class=\"toc\"><ul class=\"toc-item\"><li><span><a href=\"#Table-of-Contents\" data-toc-modified-id=\"Table-of-Contents-1\"><span class=\"toc-item-num\">1&nbsp;&nbsp;</span>Table of Contents</a></span></li><li><span><a href=\"#Imports\" data-toc-modified-id=\"Imports-2\"><span class=\"toc-item-num\">2&nbsp;&nbsp;</span>Imports</a></span></li><li><span><a href=\"#Plots\" data-toc-modified-id=\"Plots-3\"><span class=\"toc-item-num\">3&nbsp;&nbsp;</span>Plots</a></span><ul class=\"toc-item\"><li><span><a href=\"#Drift:-Measured-vs-Ideal\" data-toc-modified-id=\"Drift:-Measured-vs-Ideal-3.1\"><span class=\"toc-item-num\">3.1&nbsp;&nbsp;</span>Drift: Measured vs Ideal</a></span><ul class=\"toc-item\"><li><span><a href=\"#v2\" data-toc-modified-id=\"v2-3.1.1\"><span class=\"toc-item-num\">3.1.1&nbsp;&nbsp;</span>v2</a></span></li><li><span><a href=\"#v4\" data-toc-modified-id=\"v4-3.1.2\"><span class=\"toc-item-num\">3.1.2&nbsp;&nbsp;</span>v4</a></span></li><li><span><a href=\"#Calculate-ideal-means-and-SD-at-mult-2-and-3\" data-toc-modified-id=\"Calculate-ideal-means-and-SD-at-mult-2-and-3-3.1.3\"><span class=\"toc-item-num\">3.1.3&nbsp;&nbsp;</span>Calculate ideal means and SD at mult 2 and 3</a></span></li><li><span><a href=\"#Plot-Drift-with-SD-error-bars\" data-toc-modified-id=\"Plot-Drift-with-SD-error-bars-3.1.4\"><span class=\"toc-item-num\">3.1.4&nbsp;&nbsp;</span>Plot Drift with SD error bars</a></span></li></ul></li></ul></li></ul></div>"
   ]
  },
  {
   "cell_type": "markdown",
   "metadata": {},
   "source": [
    "# Imports"
   ]
  },
  {
   "cell_type": "code",
   "execution_count": 1,
   "metadata": {
    "ExecuteTime": {
     "end_time": "2017-10-05T09:47:18.503802Z",
     "start_time": "2017-10-05T09:47:15.721968Z"
    }
   },
   "outputs": [
    {
     "name": "stderr",
     "output_type": "stream",
     "text": [
      "/Users/djw/anaconda/lib/python2.7/site-packages/IPython/parallel.py:13: ShimWarning: The `IPython.parallel` package has been deprecated. You should import from ipyparallel instead.\n",
      "  \"You should import from ipyparallel instead.\", ShimWarning)\n"
     ]
    }
   ],
   "source": [
    "### UPDATED by Daniel J Wilson\n",
    "\n",
    "import hddm\n",
    "import pandas as pd\n",
    "import numpy as np\n",
    "import os,sys\n",
    "import matplotlib.pyplot as plt\n",
    "import pylab\n",
    "from scipy.stats import norm\n",
    "import seaborn as sns\n",
    "import scipy as sp"
   ]
  },
  {
   "cell_type": "markdown",
   "metadata": {},
   "source": [
    "# Plots"
   ]
  },
  {
   "cell_type": "markdown",
   "metadata": {},
   "source": [
    "## Drift: Measured vs Ideal "
   ]
  },
  {
   "cell_type": "markdown",
   "metadata": {},
   "source": [
    "### v2"
   ]
  },
  {
   "cell_type": "code",
   "execution_count": 2,
   "metadata": {
    "ExecuteTime": {
     "end_time": "2017-10-05T09:47:18.954520Z",
     "start_time": "2017-10-05T09:47:18.898212Z"
    },
    "collapsed": true
   },
   "outputs": [],
   "source": [
    "# Load data\n",
    "data = pd.read_csv(\"Analysis/HDDM/170913/Group/Desktop/stats_all_group_n23_reg3b_stats.csv\", index_col=0)\n",
    "\n",
    "# Note that this is actually the 3b model - DIC 24939.89...need to rerun the correct model..."
   ]
  },
  {
   "cell_type": "markdown",
   "metadata": {},
   "source": [
    "### v4"
   ]
  },
  {
   "cell_type": "code",
   "execution_count": 31,
   "metadata": {
    "collapsed": true
   },
   "outputs": [],
   "source": [
    "# Load data\n",
    "data = pd.read_csv(\"Analysis/HDDM/180208_test/Group/TEST_made_reg_v4.1/stats_all_group_n27_reg4.5_stats.csv\", index_col=0)"
   ]
  },
  {
   "cell_type": "code",
   "execution_count": 32,
   "metadata": {
    "ExecuteTime": {
     "end_time": "2017-10-05T09:47:19.401817Z",
     "start_time": "2017-10-05T09:47:19.321475Z"
    },
    "scrolled": false
   },
   "outputs": [
    {
     "data": {
      "text/html": [
       "<div>\n",
       "<style scoped>\n",
       "    .dataframe tbody tr th:only-of-type {\n",
       "        vertical-align: middle;\n",
       "    }\n",
       "\n",
       "    .dataframe tbody tr th {\n",
       "        vertical-align: top;\n",
       "    }\n",
       "\n",
       "    .dataframe thead th {\n",
       "        text-align: right;\n",
       "    }\n",
       "</style>\n",
       "<table border=\"1\" class=\"dataframe\">\n",
       "  <thead>\n",
       "    <tr style=\"text-align: right;\">\n",
       "      <th></th>\n",
       "      <th>mean</th>\n",
       "      <th>std</th>\n",
       "      <th>2.5q</th>\n",
       "      <th>25q</th>\n",
       "      <th>50q</th>\n",
       "      <th>75q</th>\n",
       "      <th>97.5q</th>\n",
       "      <th>mc err</th>\n",
       "    </tr>\n",
       "  </thead>\n",
       "  <tbody>\n",
       "    <tr>\n",
       "      <th>z</th>\n",
       "      <td>0.498494</td>\n",
       "      <td>0.006683</td>\n",
       "      <td>0.485318</td>\n",
       "      <td>0.494103</td>\n",
       "      <td>0.498351</td>\n",
       "      <td>0.502877</td>\n",
       "      <td>0.511975</td>\n",
       "      <td>0.000152</td>\n",
       "    </tr>\n",
       "    <tr>\n",
       "      <th>z_std</th>\n",
       "      <td>0.108943</td>\n",
       "      <td>0.023165</td>\n",
       "      <td>0.068772</td>\n",
       "      <td>0.093036</td>\n",
       "      <td>0.107121</td>\n",
       "      <td>0.123114</td>\n",
       "      <td>0.159826</td>\n",
       "      <td>0.000736</td>\n",
       "    </tr>\n",
       "    <tr>\n",
       "      <th>z_subj.1</th>\n",
       "      <td>0.526260</td>\n",
       "      <td>0.015506</td>\n",
       "      <td>0.495648</td>\n",
       "      <td>0.515824</td>\n",
       "      <td>0.526388</td>\n",
       "      <td>0.537131</td>\n",
       "      <td>0.556486</td>\n",
       "      <td>0.000366</td>\n",
       "    </tr>\n",
       "    <tr>\n",
       "      <th>z_subj.2</th>\n",
       "      <td>0.508915</td>\n",
       "      <td>0.015153</td>\n",
       "      <td>0.479337</td>\n",
       "      <td>0.498901</td>\n",
       "      <td>0.508787</td>\n",
       "      <td>0.519413</td>\n",
       "      <td>0.537842</td>\n",
       "      <td>0.000338</td>\n",
       "    </tr>\n",
       "    <tr>\n",
       "      <th>z_subj.3</th>\n",
       "      <td>0.472588</td>\n",
       "      <td>0.015200</td>\n",
       "      <td>0.441091</td>\n",
       "      <td>0.462719</td>\n",
       "      <td>0.472741</td>\n",
       "      <td>0.482756</td>\n",
       "      <td>0.501715</td>\n",
       "      <td>0.000382</td>\n",
       "    </tr>\n",
       "  </tbody>\n",
       "</table>\n",
       "</div>"
      ],
      "text/plain": [
       "              mean       std      2.5q       25q       50q       75q  \\\n",
       "z         0.498494  0.006683  0.485318  0.494103  0.498351  0.502877   \n",
       "z_std     0.108943  0.023165  0.068772  0.093036  0.107121  0.123114   \n",
       "z_subj.1  0.526260  0.015506  0.495648  0.515824  0.526388  0.537131   \n",
       "z_subj.2  0.508915  0.015153  0.479337  0.498901  0.508787  0.519413   \n",
       "z_subj.3  0.472588  0.015200  0.441091  0.462719  0.472741  0.482756   \n",
       "\n",
       "             97.5q    mc err  \n",
       "z         0.511975  0.000152  \n",
       "z_std     0.159826  0.000736  \n",
       "z_subj.1  0.556486  0.000366  \n",
       "z_subj.2  0.537842  0.000338  \n",
       "z_subj.3  0.501715  0.000382  "
      ]
     },
     "execution_count": 32,
     "metadata": {},
     "output_type": "execute_result"
    }
   ],
   "source": [
    "data.head()"
   ]
  },
  {
   "cell_type": "code",
   "execution_count": 3,
   "metadata": {
    "ExecuteTime": {
     "end_time": "2017-10-05T09:47:19.693443Z",
     "start_time": "2017-10-05T09:47:19.679163Z"
    }
   },
   "outputs": [
    {
     "data": {
      "text/plain": [
       "0.060427272606129102"
      ]
     },
     "execution_count": 3,
     "metadata": {},
     "output_type": "execute_result"
    }
   ],
   "source": [
    "# Should be adding v intercept to v values?\n",
    "\n",
    "v_int = data.loc['v_Intercept', 'mean']\n",
    "v_int"
   ]
  },
  {
   "cell_type": "markdown",
   "metadata": {},
   "source": [
    "### Calculate ideal means and SD at mult 2 and 3"
   ]
  },
  {
   "cell_type": "code",
   "execution_count": 4,
   "metadata": {
    "ExecuteTime": {
     "end_time": "2017-10-05T09:47:20.081011Z",
     "start_time": "2017-10-05T09:47:20.016470Z"
    }
   },
   "outputs": [
    {
     "data": {
      "text/html": [
       "<div>\n",
       "<style scoped>\n",
       "    .dataframe tbody tr th:only-of-type {\n",
       "        vertical-align: middle;\n",
       "    }\n",
       "\n",
       "    .dataframe tbody tr th {\n",
       "        vertical-align: top;\n",
       "    }\n",
       "\n",
       "    .dataframe thead th {\n",
       "        text-align: right;\n",
       "    }\n",
       "</style>\n",
       "<table border=\"1\" class=\"dataframe\">\n",
       "  <thead>\n",
       "    <tr style=\"text-align: right;\">\n",
       "      <th></th>\n",
       "      <th>meanFace</th>\n",
       "      <th>sdFace</th>\n",
       "      <th>meanHouse</th>\n",
       "      <th>sdHouse</th>\n",
       "    </tr>\n",
       "  </thead>\n",
       "  <tbody>\n",
       "    <tr>\n",
       "      <th>1</th>\n",
       "      <td>0</td>\n",
       "      <td>0</td>\n",
       "      <td>0</td>\n",
       "      <td>0</td>\n",
       "    </tr>\n",
       "    <tr>\n",
       "      <th>2</th>\n",
       "      <td>0</td>\n",
       "      <td>0</td>\n",
       "      <td>0</td>\n",
       "      <td>0</td>\n",
       "    </tr>\n",
       "    <tr>\n",
       "      <th>3</th>\n",
       "      <td>0</td>\n",
       "      <td>0</td>\n",
       "      <td>0</td>\n",
       "      <td>0</td>\n",
       "    </tr>\n",
       "  </tbody>\n",
       "</table>\n",
       "</div>"
      ],
      "text/plain": [
       "   meanFace  sdFace  meanHouse  sdHouse\n",
       "1         0       0          0        0\n",
       "2         0       0          0        0\n",
       "3         0       0          0        0"
      ]
     },
     "execution_count": 4,
     "metadata": {},
     "output_type": "execute_result"
    }
   ],
   "source": [
    "columns = ['meanFace', 'sdFace', 'meanHouse', 'sdHouse']\n",
    "index = [1,2,3]\n",
    "df = pd.DataFrame(index=index, columns=columns)\n",
    "df = df.fillna(0) # with 0s rather than NaNs\n",
    "df"
   ]
  },
  {
   "cell_type": "code",
   "execution_count": 5,
   "metadata": {
    "ExecuteTime": {
     "end_time": "2017-10-05T09:47:20.836557Z",
     "start_time": "2017-10-05T09:47:20.730253Z"
    },
    "scrolled": true
   },
   "outputs": [
    {
     "data": {
      "text/html": [
       "<div>\n",
       "<style scoped>\n",
       "    .dataframe tbody tr th:only-of-type {\n",
       "        vertical-align: middle;\n",
       "    }\n",
       "\n",
       "    .dataframe tbody tr th {\n",
       "        vertical-align: top;\n",
       "    }\n",
       "\n",
       "    .dataframe thead th {\n",
       "        text-align: right;\n",
       "    }\n",
       "</style>\n",
       "<table border=\"1\" class=\"dataframe\">\n",
       "  <thead>\n",
       "    <tr style=\"text-align: right;\">\n",
       "      <th></th>\n",
       "      <th>meanFace</th>\n",
       "      <th>sdFace</th>\n",
       "      <th>meanHouse</th>\n",
       "      <th>sdHouse</th>\n",
       "    </tr>\n",
       "  </thead>\n",
       "  <tbody>\n",
       "    <tr>\n",
       "      <th>1</th>\n",
       "      <td>0.555877</td>\n",
       "      <td>0.020777</td>\n",
       "      <td>0.447811</td>\n",
       "      <td>0.021005</td>\n",
       "    </tr>\n",
       "    <tr>\n",
       "      <th>2</th>\n",
       "      <td>1.051328</td>\n",
       "      <td>0.041553</td>\n",
       "      <td>0.835195</td>\n",
       "      <td>0.042010</td>\n",
       "    </tr>\n",
       "    <tr>\n",
       "      <th>3</th>\n",
       "      <td>1.546778</td>\n",
       "      <td>0.062330</td>\n",
       "      <td>1.222579</td>\n",
       "      <td>0.063015</td>\n",
       "    </tr>\n",
       "  </tbody>\n",
       "</table>\n",
       "</div>"
      ],
      "text/plain": [
       "   meanFace    sdFace  meanHouse   sdHouse\n",
       "1  0.555877  0.020777   0.447811  0.021005\n",
       "2  1.051328  0.041553   0.835195  0.042010\n",
       "3  1.546778  0.062330   1.222579  0.063015"
      ]
     },
     "execution_count": 5,
     "metadata": {},
     "output_type": "execute_result"
    }
   ],
   "source": [
    "df.iloc[0,0] = data.loc['v_face_mult_1', 'mean'] + v_int\n",
    "df.iloc[0,1] = data.loc['v_face_mult_1', 'std']\n",
    "df.iloc[0,2] = data.loc['v_house_mult_1', 'mean']+ v_int\n",
    "df.iloc[0,3] = data.loc['v_house_mult_1', 'std']\n",
    "\n",
    "df.iloc[1,0] = data.loc['v_face_mult_1', 'mean'] * 2+ v_int\n",
    "df.iloc[1,1] = data.loc['v_face_mult_1', 'std'] * 2\n",
    "df.iloc[1,2] = data.loc['v_house_mult_1', 'mean'] * 2+ v_int\n",
    "df.iloc[1,3] = data.loc['v_house_mult_1', 'std'] * 2\n",
    "\n",
    "df.iloc[2,0] = data.loc['v_face_mult_1', 'mean'] * 3+ v_int\n",
    "df.iloc[2,1] = data.loc['v_face_mult_1', 'std'] * 3\n",
    "df.iloc[2,2] = data.loc['v_house_mult_1', 'mean'] * 3+ v_int\n",
    "df.iloc[2,3] = data.loc['v_house_mult_1', 'std'] *3\n",
    "\n",
    "df"
   ]
  },
  {
   "cell_type": "code",
   "execution_count": 6,
   "metadata": {
    "ExecuteTime": {
     "end_time": "2017-10-05T09:47:21.281683Z",
     "start_time": "2017-10-05T09:47:21.270188Z"
    }
   },
   "outputs": [
    {
     "data": {
      "text/plain": [
       "0.038247432859623454"
      ]
     },
     "execution_count": 6,
     "metadata": {},
     "output_type": "execute_result"
    }
   ],
   "source": [
    "data.loc['v_face_mult_2', 'std']"
   ]
  },
  {
   "cell_type": "code",
   "execution_count": 37,
   "metadata": {
    "ExecuteTime": {
     "end_time": "2017-10-05T09:47:21.950226Z",
     "start_time": "2017-10-05T09:47:21.902667Z"
    }
   },
   "outputs": [
    {
     "data": {
      "text/plain": [
       "Ttest_indResult(statistic=-58.041934796317598, pvalue=3.219407888174668e-43)"
      ]
     },
     "execution_count": 37,
     "metadata": {},
     "output_type": "execute_result"
    }
   ],
   "source": [
    "# scipy.stats.ttest_ind_from_stats(mean1(measured), std1, nobs1, mean2(ideal), std2, nobs2, equal_var=True)\n",
    "\n",
    "# Face Mult = 2\n",
    "sp.stats.ttest_ind_from_stats(data.loc['v_face_mult_2', 'mean'], data.loc['v_face_mult_2', 'std'], 23,\n",
    "                             df.iloc[1,0], df.iloc[1,1], 23)"
   ]
  },
  {
   "cell_type": "code",
   "execution_count": 38,
   "metadata": {
    "ExecuteTime": {
     "end_time": "2017-10-05T09:47:22.369656Z",
     "start_time": "2017-10-05T09:47:22.353750Z"
    }
   },
   "outputs": [
    {
     "data": {
      "text/plain": [
       "Ttest_indResult(statistic=-62.447524047610095, pvalue=1.3371074050845327e-44)"
      ]
     },
     "execution_count": 38,
     "metadata": {},
     "output_type": "execute_result"
    }
   ],
   "source": [
    "# House Mult = 2\n",
    "sp.stats.ttest_ind_from_stats(data.loc['v_house_mult_2', 'mean'], data.loc['v_house_mult_2', 'std'], 23,\n",
    "                             df.iloc[1,2], df.iloc[1,3], 23)"
   ]
  },
  {
   "cell_type": "code",
   "execution_count": 39,
   "metadata": {
    "ExecuteTime": {
     "end_time": "2017-10-05T09:47:22.740987Z",
     "start_time": "2017-10-05T09:47:22.700778Z"
    }
   },
   "outputs": [
    {
     "data": {
      "text/plain": [
       "Ttest_indResult(statistic=-88.852846967006371, pvalue=2.7556138156910534e-51)"
      ]
     },
     "execution_count": 39,
     "metadata": {},
     "output_type": "execute_result"
    }
   ],
   "source": [
    "# Face Mult = 3\n",
    "sp.stats.ttest_ind_from_stats(data.loc['v_face_mult_3', 'mean'], data.loc['v_face_mult_3', 'std'], 23,\n",
    "                             df.iloc[2,0], df.iloc[2,1], 23)"
   ]
  },
  {
   "cell_type": "code",
   "execution_count": 40,
   "metadata": {
    "ExecuteTime": {
     "end_time": "2017-10-05T09:47:23.221494Z",
     "start_time": "2017-10-05T09:47:23.184231Z"
    }
   },
   "outputs": [
    {
     "data": {
      "text/plain": [
       "Ttest_indResult(statistic=-89.472374363104734, pvalue=2.0330976910858714e-51)"
      ]
     },
     "execution_count": 40,
     "metadata": {},
     "output_type": "execute_result"
    }
   ],
   "source": [
    "# House Mult = 3\n",
    "sp.stats.ttest_ind_from_stats(data.loc['v_house_mult_3', 'mean'], data.loc['v_house_mult_3', 'std'], 23,\n",
    "                             df.iloc[2,2], df.iloc[2,3], 23)"
   ]
  },
  {
   "cell_type": "markdown",
   "metadata": {},
   "source": [
    "### Plot Drift with SD error bars"
   ]
  },
  {
   "cell_type": "code",
   "execution_count": 41,
   "metadata": {
    "ExecuteTime": {
     "end_time": "2017-10-05T10:00:54.788990Z",
     "start_time": "2017-10-05T10:00:54.783201Z"
    }
   },
   "outputs": [
    {
     "name": "stdout",
     "output_type": "stream",
     "text": [
      "[u'seaborn-darkgrid', u'seaborn-notebook', u'classic', u'seaborn-ticks', u'grayscale', u'bmh', u'seaborn-talk', u'dark_background', u'ggplot', u'fivethirtyeight', u'seaborn-colorblind', u'seaborn-deep', u'seaborn-whitegrid', u'seaborn-bright', u'seaborn-poster', u'seaborn-muted', u'seaborn-paper', u'seaborn-white', u'seaborn-pastel', u'seaborn-dark', u'seaborn-dark-palette']\n"
     ]
    }
   ],
   "source": [
    "print(plt.style.available)"
   ]
  },
  {
   "cell_type": "code",
   "execution_count": 8,
   "metadata": {
    "ExecuteTime": {
     "end_time": "2017-10-05T10:12:30.106284Z",
     "start_time": "2017-10-05T10:12:29.536354Z"
    },
    "scrolled": false
   },
   "outputs": [
    {
     "data": {
      "image/png": "[encoded data removed]",
      "text/plain": [
       "<matplotlib.figure.Figure at 0x1147685d0>"
      ]
     },
     "metadata": {},
     "output_type": "display_data"
    }
   ],
   "source": [
    "#plt.rcParams['axes.facecolor'] = 'white'\n",
    "plt.style.use('seaborn-whitegrid')\n",
    "\n",
    "initValFace = data.loc['v_face_mult_1', 'mean'] + v_int\n",
    "initValHouse = data.loc['v_house_mult_1', 'mean'] + v_int\n",
    "x = np.linspace(0.5,3.5,1000)\n",
    "\n",
    "# Ideal Values\n",
    "yFace = x*initValFace\n",
    "yHouse = x*initValHouse\n",
    "\n",
    "# Actual Values\n",
    "xMult = np.array([1,2,3]) \n",
    "yFaceActual = np.array([data.loc['v_face_mult_1', 'mean'] + v_int, \n",
    "                        data.loc['v_face_mult_2', 'mean'] + v_int,\n",
    "                        data.loc['v_face_mult_3', 'mean'] + v_int])\n",
    "yHouseActual = np.array([data.loc['v_house_mult_1', 'mean'] + v_int,\n",
    "                         data.loc['v_house_mult_2', 'mean'] + v_int,\n",
    "                         data.loc['v_house_mult_3', 'mean'] + v_int])\n",
    "\n",
    "# SD\n",
    "eFace = np.array([data.loc['v_face_mult_1', 'std'], data.loc['v_face_mult_2', 'std'], data.loc['v_face_mult_3', 'std']])\n",
    "eHouse = np.array([data.loc['v_house_mult_1', 'std'], data.loc['v_house_mult_2', 'std'], data.loc['v_house_mult_3', 'std']])\n",
    "\n",
    "# PLOT\n",
    "\n",
    "# Idealized weighting\n",
    "#ideal_line1, = plt.plot(x,yFace, linestyle='--', label = \"Ideal Face Re-weighting\")\n",
    "#ideal_line2, = plt.plot(x,yHouse, linestyle= '--', label = \"Ideal House Re-weighting\")\n",
    "ideal_line3, = plt.plot(x,(yHouse + yFace)/2, linestyle= '--', label = \"Ideal Attribute Re-weighting\", linewidth = \"1.5\")\n",
    "\n",
    "# Starting dots\n",
    "# plt.plot(1,data.loc['v_face_mult_1', 'mean'] + v_int, marker='o', label = \"Face Weight: Mult = 1\")\n",
    "# plt.plot(1,data.loc['v_house_mult_1', 'mean'] + v_int, marker='o', label = \"House Weight: House = 1\")\n",
    "\n",
    "# Actual weighting\n",
    "plt.errorbar(xMult, yFaceActual, eFace, linestyle='-', fmt='o', label = \"Actual Face Re-weighting\")\n",
    "plt.errorbar(xMult, yHouseActual, eHouse, linestyle='-', fmt='o', label = \"Actual House Re-weighting\")\n",
    "\n",
    "plt.xlabel(\"Multiplier Value\", fontsize = 24)\n",
    "plt.ylabel(\"Weighting\", fontsize = 24)\n",
    "plt.xticks(np.arange(1, 4, 1))\n",
    "plt.tick_params(\n",
    "    axis='both',          # changes apply to the x-axis\n",
    "    which='both',      # both major and minor ticks are affected\n",
    "    right='off',      # ticks along the bottom edge are off\n",
    "    top='off')         # ticks along the top edge are off\n",
    "\n",
    "plt.legend(loc = 4)\n",
    "plt.show()\n",
    "plt.close()\n",
    "#plt.savefig('/Users/djw/Desktop/weighting.pdf', bbox_inches='tight')\n",
    "\n",
    "# savefig('plt.png', facecolor=fig.get_facecolor(), transparent=True)"
   ]
  },
  {
   "cell_type": "code",
   "execution_count": 14,
   "metadata": {
    "ExecuteTime": {
     "end_time": "2017-09-13T17:22:31.982189Z",
     "start_time": "2017-09-13T17:22:31.975375Z"
    },
    "collapsed": true
   },
   "outputs": [],
   "source": [
    "mean = data.loc['v_face_mult_1', 'mean']\n",
    "sd = data.loc['v_face_mult_1', 'std']"
   ]
  },
  {
   "cell_type": "code",
   "execution_count": 19,
   "metadata": {
    "ExecuteTime": {
     "end_time": "2017-09-13T17:25:02.398998Z",
     "start_time": "2017-09-13T17:25:02.214889Z"
    }
   },
   "outputs": [
    {
     "data": {
      "image/png": "[encoded data removed]",
      "text/plain": [
       "<matplotlib.figure.Figure at 0x113d97a10>"
      ]
     },
     "metadata": {},
     "output_type": "display_data"
    }
   ],
   "source": [
    "x = np.linspace(0,2,1000)\n",
    "mean = data.loc['v_face_mult_1', 'mean']\n",
    "sd = data.loc['v_face_mult_1', 'std']\n",
    "y1 = norm.pdf(x, loc=mean, scale=sd)    # mean = loc, sd = scale\n",
    "mean = data.loc['v_house_mult_1', 'mean']\n",
    "sd = data.loc['v_house_mult_1', 'std']\n",
    "y2 = norm.pdf(x, loc=mean, scale=sd)    # mean = loc, sd = scale\n",
    "pylab.plot(x,y1)\n",
    "pylab.plot(x,y2)\n",
    "pylab.show()"
   ]
  },
  {
   "cell_type": "code",
   "execution_count": null,
   "metadata": {
    "collapsed": true
   },
   "outputs": [],
   "source": []
  }
 ],
 "metadata": {
  "anaconda-cloud": {},
  "kernelspec": {
   "display_name": "Python [default]",
   "language": "python",
   "name": "python2"
  },
  "language_info": {
   "codemirror_mode": {
    "name": "ipython",
    "version": 2
   },
   "file_extension": ".py",
   "mimetype": "text/x-python",
   "name": "python",
   "nbconvert_exporter": "python",
   "pygments_lexer": "ipython2",
   "version": "2.7.12"
  },
  "toc": {
   "nav_menu": {
    "height": "66px",
    "width": "252px"
   },
   "number_sections": true,
   "sideBar": true,
   "skip_h1_title": false,
   "title_cell": "Table of Contents",
   "title_sidebar": "Contents",
   "toc_cell": true,
   "toc_position": {},
   "toc_section_display": "block",
   "toc_window_display": true
  },
  "varInspector": {
   "cols": {
    "lenName": 16,
    "lenType": 16,
    "lenVar": 40
   },
   "kernels_config": {
    "python": {
     "delete_cmd_postfix": "",
     "delete_cmd_prefix": "del ",
     "library": "var_list.py",
     "varRefreshCmd": "print(var_dic_list())"
    },
    "r": {
     "delete_cmd_postfix": ") ",
     "delete_cmd_prefix": "rm(",
     "library": "var_list.r",
     "varRefreshCmd": "cat(var_dic_list()) "
    }
   },
   "types_to_exclude": [
    "module",
    "function",
    "builtin_function_or_method",
    "instance",
    "_Feature"
   ],
   "window_display": false
  }
 },
 "nbformat": 4,
 "nbformat_minor": 1
}
