{
 "cells": [
  {
   "cell_type": "markdown",
   "metadata": {
    "toc": true
   },
   "source": [
    "<h1>Table of Contents<span class=\"tocSkip\"></span></h1>\n",
    "<div class=\"toc\"><ul class=\"toc-item\"><li><span><a href=\"#Import-Data-Files\" data-toc-modified-id=\"Import-Data-Files-1\"><span class=\"toc-item-num\">1&nbsp;&nbsp;</span>Import Data Files</a></span><ul class=\"toc-item\"><li><span><a href=\"#v3:-Main-Experiment\" data-toc-modified-id=\"v3:-Main-Experiment-1.1\"><span class=\"toc-item-num\">1.1&nbsp;&nbsp;</span>v3: Main Experiment</a></span><ul class=\"toc-item\"><li><span><a href=\"#Import-Subjects\" data-toc-modified-id=\"Import-Subjects-1.1.1\"><span class=\"toc-item-num\">1.1.1&nbsp;&nbsp;</span>Import Subjects</a></span></li><li><span><a href=\"#Combine-subjects-in-DF\" data-toc-modified-id=\"Combine-subjects-in-DF-1.1.2\"><span class=\"toc-item-num\">1.1.2&nbsp;&nbsp;</span>Combine subjects in DF</a></span></li></ul></li><li><span><a href=\"#v3-Accuracy\" data-toc-modified-id=\"v3-Accuracy-1.2\"><span class=\"toc-item-num\">1.2&nbsp;&nbsp;</span>v3 Accuracy</a></span></li><li><span><a href=\"#v4\" data-toc-modified-id=\"v4-1.3\"><span class=\"toc-item-num\">1.3&nbsp;&nbsp;</span>v4</a></span><ul class=\"toc-item\"><li><span><a href=\"#LEARNING-TRIALS\" data-toc-modified-id=\"LEARNING-TRIALS-1.3.1\"><span class=\"toc-item-num\">1.3.1&nbsp;&nbsp;</span>LEARNING TRIALS</a></span></li><li><span><a href=\"#TRIALS\" data-toc-modified-id=\"TRIALS-1.3.2\"><span class=\"toc-item-num\">1.3.2&nbsp;&nbsp;</span>TRIALS</a></span></li></ul></li></ul></li></ul></div>"
   ]
  },
  {
   "cell_type": "code",
   "execution_count": 1,
   "metadata": {
    "collapsed": true
   },
   "outputs": [],
   "source": [
    "from psychopy.misc import fromFile\n",
    "\n",
    "import numpy as np\n",
    "import pandas as pd\n",
    "\n",
    "import feather                # for saving to R"
   ]
  },
  {
   "cell_type": "markdown",
   "metadata": {},
   "source": [
    "# Import Data Files\n",
    "\n",
    "---\n",
    "Find more efficient way"
   ]
  },
  {
   "cell_type": "markdown",
   "metadata": {},
   "source": [
    "## v3: Main Experiment"
   ]
  },
  {
   "cell_type": "markdown",
   "metadata": {},
   "source": [
    "Create list of subjects who completed trials"
   ]
  },
  {
   "cell_type": "code",
   "execution_count": 2,
   "metadata": {
    "collapsed": true
   },
   "outputs": [
    {
     "data": {
      "text/plain": [
       "[124,\n",
       " 125,\n",
       " 126,\n",
       " 127,\n",
       " 128,\n",
       " 130,\n",
       " 131,\n",
       " 132,\n",
       " 133,\n",
       " 134,\n",
       " 135,\n",
       " 136,\n",
       " 137,\n",
       " 138,\n",
       " 139,\n",
       " 140,\n",
       " 141,\n",
       " 142,\n",
       " 143,\n",
       " 144,\n",
       " 145,\n",
       " 146,\n",
       " 147,\n",
       " 148,\n",
       " 149,\n",
       " 150,\n",
       " 151,\n",
       " 152,\n",
       " 153,\n",
       " 154,\n",
       " 156,\n",
       " 157,\n",
       " 158,\n",
       " 159,\n",
       " 160,\n",
       " 161,\n",
       " 162,\n",
       " 163,\n",
       " 164,\n",
       " 165,\n",
       " 166,\n",
       " 167]"
      ]
     },
     "execution_count": 2,
     "metadata": {},
     "output_type": "execute_result"
    }
   ],
   "source": [
    "file_list = range(124,168)\n",
    "file_list.remove(129) # remove participant who didn't get past learning phase\n",
    "file_list.remove(155) # remove participant who didn't get past learning phase\n",
    "file_list"
   ]
  },
  {
   "cell_type": "markdown",
   "metadata": {},
   "source": [
    "### Import Subjects"
   ]
  },
  {
   "cell_type": "markdown",
   "metadata": {},
   "source": [
    "Create dictionary of all subjects"
   ]
  },
  {
   "cell_type": "code",
   "execution_count": 3,
   "metadata": {
    "collapsed": true
   },
   "outputs": [],
   "source": [
    "dict_key = 1\n",
    "dat_files = {}\n",
    "for i in file_list:\n",
    "    dat_files[dict_key] = fromFile('/Users/djw/Documents/pCloud Synced/LabSharedFolder/MADE01/CODE/v3_FractionalWeights/data/trials/' + str(i) + '.psydat')\n",
    "    dict_key +=1"
   ]
  },
  {
   "cell_type": "markdown",
   "metadata": {},
   "source": [
    "This is what the first entry (there are 10 learning trials) looks like:"
   ]
  },
  {
   "cell_type": "code",
   "execution_count": 4,
   "metadata": {},
   "outputs": [
    {
     "data": {
      "text/plain": [
       "{'Trial': 1,\n",
       " 'correct': 1,\n",
       " 'date': u'2017_Nov_23_1001',\n",
       " 'earnings': 0,\n",
       " 'expName': 'test02_TestSegment',\n",
       " 'faceVal': -0.16,\n",
       " 'frameRate': 60.000175950633391,\n",
       " 'houseVal': -0.71999999999999997,\n",
       " 'imageList': [1],\n",
       " 'mult1House': 10.0,\n",
       " 'mult2Face': 0.5,\n",
       " 'numberEntry_4.keys': ['j'],\n",
       " 'numberEntry_4.rt': [5.916768447801587],\n",
       " u'participant': u'124',\n",
       " u'session': u'001',\n",
       " 'summedVal': -7.2799999999999994,\n",
       " 'trial_blocks.thisIndex': 0,\n",
       " 'trial_blocks.thisN': 0,\n",
       " 'trial_blocks.thisRepN': 0,\n",
       " 'trial_blocks.thisTrialN': 0,\n",
       " 'trials_2.thisIndex': 0,\n",
       " 'trials_2.thisN': 0,\n",
       " 'trials_2.thisRepN': 0,\n",
       " 'trials_2.thisTrialN': 0}"
      ]
     },
     "execution_count": 4,
     "metadata": {},
     "output_type": "execute_result"
    }
   ],
   "source": [
    "dat_files[1].entries[10]"
   ]
  },
  {
   "cell_type": "markdown",
   "metadata": {},
   "source": [
    "### Combine subjects in DF"
   ]
  },
  {
   "cell_type": "markdown",
   "metadata": {},
   "source": [
    "Initialize arrays"
   ]
  },
  {
   "cell_type": "code",
   "execution_count": 5,
   "metadata": {
    "collapsed": true
   },
   "outputs": [],
   "source": [
    "trial = np.array([])\n",
    "round_num = np.array([])\n",
    "\n",
    "face_val_base = np.array([])\n",
    "house_val_base = np.array([])\n",
    "face_mult = np.array([])\n",
    "house_mult = np.array([])\n",
    "summed_val = np.array([])\n",
    "\n",
    "image_list = []\n",
    "first_image = np.array([])\n",
    "last_image = np.array([])\n",
    "key_entry_list = []\n",
    "choice = np.array([])\n",
    "num_fixations = np.array([])\n",
    "rt_list = []\n",
    "rt = np.array([])\n",
    "\n",
    "correct = np.array([])\n",
    "earnings = np.array([])\n",
    "participant = np.array([])"
   ]
  },
  {
   "cell_type": "markdown",
   "metadata": {},
   "source": [
    "Create dataframe"
   ]
  },
  {
   "cell_type": "code",
   "execution_count": 6,
   "metadata": {
    "collapsed": true
   },
   "outputs": [],
   "source": [
    "for item in dat_files:\n",
    "    datFile = dat_files[item]\n",
    "    \n",
    "    for i in range(len(datFile.entries)):\n",
    "        if datFile.entries[i].has_key('numberEntry_4.keys') == True:\n",
    "            trial = np.append(trial, datFile.entries[i]['Trial'])\n",
    "            round_num = np.append(round_num, datFile.entries[i]['trial_blocks.thisN'])\n",
    "\n",
    "            face_val_base = np.append(face_val_base, datFile.entries[i]['faceVal'])\n",
    "            house_val_base = np.append(house_val_base, datFile.entries[i]['houseVal'])\n",
    "            face_mult = np.append(face_mult, datFile.entries[i]['mult2Face'])\n",
    "            house_mult = np.append(house_mult, datFile.entries[i]['mult1House'])\n",
    "            summed_val = np.append(summed_val, datFile.entries[i]['summedVal'])\n",
    "\n",
    "            image_list = image_list + [datFile.entries[i]['imageList']]  # LIST of LISTS\n",
    "            first_image = np.append(first_image, datFile.entries[i]['imageList'][0])\n",
    "            last_image = np.append(last_image, datFile.entries[i]['imageList'][-1])\n",
    "            key_entry_list = key_entry_list + [datFile.entries[i]['numberEntry_4.keys']]  # LIST of LISTS\n",
    "            choice = np.append(choice, datFile.entries[i]['numberEntry_4.keys'][-1]) # last key press\n",
    "            num_fixations = np.append(num_fixations, len(datFile.entries[i]['numberEntry_4.keys']))\n",
    "            rt_list = rt_list + [datFile.entries[i]['numberEntry_4.rt']]   # LIST of LISTS\n",
    "            rt = np.append(rt, datFile.entries[i]['numberEntry_4.rt'][-1])    # this is a list so taking the last element\n",
    "\n",
    "            correct = np.append(correct, datFile.entries[i]['correct'])\n",
    "            earnings = np.append(earnings,datFile.entries[i]['earnings'])\n",
    "            participant = np.append(participant,datFile.entries[i]['participant'])\n",
    "            \n",
    "d = {'trial': trial, 'round_num': round_num, 'face_val_base': face_val_base, 'house_val_base': house_val_base,\n",
    "     'face_mult': face_mult, 'house_mult': house_mult, 'summed_val': summed_val,\n",
    "     'image_list': image_list, 'first_image': first_image, 'last_image': last_image,\n",
    "     'key_entry_list': key_entry_list, 'choice': choice, 'num_fixations': num_fixations,\n",
    "     'rt_list': rt_list, 'rt': rt,\n",
    "     'correct': correct, 'earnings': earnings, 'participant': participant,\n",
    "     } \n",
    "\n",
    "df = pd.DataFrame(data = d)"
   ]
  },
  {
   "cell_type": "markdown",
   "metadata": {},
   "source": [
    "Make the dataframe 'better'"
   ]
  },
  {
   "cell_type": "code",
   "execution_count": 10,
   "metadata": {},
   "outputs": [
    {
     "ename": "TypeError",
     "evalue": "cannot convert the series to <type 'int'>",
     "output_type": "error",
     "traceback": [
      "\u001b[0;31m---------------------------------------------------------------------------\u001b[0m",
      "\u001b[0;31mTypeError\u001b[0m                                 Traceback (most recent call last)",
      "\u001b[0;32m<ipython-input-10-0fd84a3d6315>\u001b[0m in \u001b[0;36m<module>\u001b[0;34m()\u001b[0m\n\u001b[1;32m      1\u001b[0m \u001b[0;31m# Convert choice to integers\u001b[0m\u001b[0;34m\u001b[0m\u001b[0;34m\u001b[0m\u001b[0m\n\u001b[0;32m----> 2\u001b[0;31m \u001b[0mdf\u001b[0m\u001b[0;34m.\u001b[0m\u001b[0mchoice\u001b[0m \u001b[0;34m=\u001b[0m \u001b[0mint\u001b[0m\u001b[0;34m(\u001b[0m\u001b[0mdf\u001b[0m\u001b[0;34m.\u001b[0m\u001b[0mchoice\u001b[0m\u001b[0;34m)\u001b[0m\u001b[0;34m\u001b[0m\u001b[0m\n\u001b[0m\u001b[1;32m      3\u001b[0m \u001b[0;34m\u001b[0m\u001b[0m\n\u001b[1;32m      4\u001b[0m \u001b[0;31m# Create face and house total val columns\u001b[0m\u001b[0;34m\u001b[0m\u001b[0;34m\u001b[0m\u001b[0m\n\u001b[1;32m      5\u001b[0m \u001b[0mdf\u001b[0m\u001b[0;34m[\u001b[0m\u001b[0;34m'face_val_total'\u001b[0m\u001b[0;34m]\u001b[0m \u001b[0;34m=\u001b[0m \u001b[0mdf\u001b[0m\u001b[0;34m.\u001b[0m\u001b[0mface_mult\u001b[0m \u001b[0;34m*\u001b[0m \u001b[0mdf\u001b[0m\u001b[0;34m.\u001b[0m\u001b[0mface_val_base\u001b[0m\u001b[0;34m\u001b[0m\u001b[0m\n",
      "\u001b[0;32m/Users/djw/anaconda/lib/python2.7/site-packages/pandas/core/series.pyc\u001b[0m in \u001b[0;36mwrapper\u001b[0;34m(self)\u001b[0m\n\u001b[1;32m    110\u001b[0m             \u001b[0;32mreturn\u001b[0m \u001b[0mconverter\u001b[0m\u001b[0;34m(\u001b[0m\u001b[0mself\u001b[0m\u001b[0;34m.\u001b[0m\u001b[0miloc\u001b[0m\u001b[0;34m[\u001b[0m\u001b[0;36m0\u001b[0m\u001b[0;34m]\u001b[0m\u001b[0;34m)\u001b[0m\u001b[0;34m\u001b[0m\u001b[0m\n\u001b[1;32m    111\u001b[0m         raise TypeError(\"cannot convert the series to \"\n\u001b[0;32m--> 112\u001b[0;31m                         \"{0}\".format(str(converter)))\n\u001b[0m\u001b[1;32m    113\u001b[0m \u001b[0;34m\u001b[0m\u001b[0m\n\u001b[1;32m    114\u001b[0m     \u001b[0;32mreturn\u001b[0m \u001b[0mwrapper\u001b[0m\u001b[0;34m\u001b[0m\u001b[0m\n",
      "\u001b[0;31mTypeError\u001b[0m: cannot convert the series to <type 'int'>"
     ]
    }
   ],
   "source": [
    "# Map choices from letters to integers\n",
    "choice_map = {'j': 0, 'f': 1}\n",
    "df.choice = df.choice.map(choice_map)\n",
    "\n",
    "# Create face and house total val columns\n",
    "df['face_val_total'] = df.face_mult * df.face_val_base\n",
    "df['house_val_total'] = df.house_mult * df.house_val_base\n",
    "\n",
    "# Create summed_val column\n",
    "df['summed_val'] = df.face_val_total + df.house_val_total"
   ]
  },
  {
   "cell_type": "code",
   "execution_count": 8,
   "metadata": {},
   "outputs": [
    {
     "data": {
      "text/html": [
       "<div>\n",
       "<style scoped>\n",
       "    .dataframe tbody tr th:only-of-type {\n",
       "        vertical-align: middle;\n",
       "    }\n",
       "\n",
       "    .dataframe tbody tr th {\n",
       "        vertical-align: top;\n",
       "    }\n",
       "\n",
       "    .dataframe thead th {\n",
       "        text-align: right;\n",
       "    }\n",
       "</style>\n",
       "<table border=\"1\" class=\"dataframe\">\n",
       "  <thead>\n",
       "    <tr style=\"text-align: right;\">\n",
       "      <th></th>\n",
       "      <th>choice</th>\n",
       "      <th>correct</th>\n",
       "      <th>earnings</th>\n",
       "      <th>face_mult</th>\n",
       "      <th>face_val_base</th>\n",
       "      <th>first_image</th>\n",
       "      <th>house_mult</th>\n",
       "      <th>house_val_base</th>\n",
       "      <th>image_list</th>\n",
       "      <th>key_entry_list</th>\n",
       "      <th>last_image</th>\n",
       "      <th>num_fixations</th>\n",
       "      <th>participant</th>\n",
       "      <th>round_num</th>\n",
       "      <th>rt</th>\n",
       "      <th>rt_list</th>\n",
       "      <th>summed_val</th>\n",
       "      <th>trial</th>\n",
       "      <th>face_val_total</th>\n",
       "      <th>house_val_total</th>\n",
       "    </tr>\n",
       "  </thead>\n",
       "  <tbody>\n",
       "    <tr>\n",
       "      <th>0</th>\n",
       "      <td>0.0</td>\n",
       "      <td>1.0</td>\n",
       "      <td>0.00</td>\n",
       "      <td>0.5</td>\n",
       "      <td>-0.16</td>\n",
       "      <td>1.0</td>\n",
       "      <td>10.0</td>\n",
       "      <td>-0.72</td>\n",
       "      <td>[1]</td>\n",
       "      <td>[j]</td>\n",
       "      <td>1.0</td>\n",
       "      <td>1.0</td>\n",
       "      <td>124</td>\n",
       "      <td>0.0</td>\n",
       "      <td>5.916768</td>\n",
       "      <td>[5.9167684478]</td>\n",
       "      <td>-7.28</td>\n",
       "      <td>1.0</td>\n",
       "      <td>-0.08</td>\n",
       "      <td>-7.20</td>\n",
       "    </tr>\n",
       "    <tr>\n",
       "      <th>1</th>\n",
       "      <td>1.0</td>\n",
       "      <td>0.0</td>\n",
       "      <td>-0.44</td>\n",
       "      <td>1.0</td>\n",
       "      <td>0.06</td>\n",
       "      <td>0.0</td>\n",
       "      <td>1.0</td>\n",
       "      <td>-0.50</td>\n",
       "      <td>[0]</td>\n",
       "      <td>[f]</td>\n",
       "      <td>0.0</td>\n",
       "      <td>1.0</td>\n",
       "      <td>124</td>\n",
       "      <td>0.0</td>\n",
       "      <td>4.250125</td>\n",
       "      <td>[4.25012462995]</td>\n",
       "      <td>-0.44</td>\n",
       "      <td>2.0</td>\n",
       "      <td>0.06</td>\n",
       "      <td>-0.50</td>\n",
       "    </tr>\n",
       "    <tr>\n",
       "      <th>2</th>\n",
       "      <td>0.0</td>\n",
       "      <td>1.0</td>\n",
       "      <td>-0.44</td>\n",
       "      <td>10.0</td>\n",
       "      <td>0.10</td>\n",
       "      <td>1.0</td>\n",
       "      <td>3.0</td>\n",
       "      <td>-0.44</td>\n",
       "      <td>[1]</td>\n",
       "      <td>[j]</td>\n",
       "      <td>1.0</td>\n",
       "      <td>1.0</td>\n",
       "      <td>124</td>\n",
       "      <td>0.0</td>\n",
       "      <td>2.666767</td>\n",
       "      <td>[2.666766615]</td>\n",
       "      <td>-0.32</td>\n",
       "      <td>3.0</td>\n",
       "      <td>1.00</td>\n",
       "      <td>-1.32</td>\n",
       "    </tr>\n",
       "    <tr>\n",
       "      <th>3</th>\n",
       "      <td>0.0</td>\n",
       "      <td>0.0</td>\n",
       "      <td>-0.69</td>\n",
       "      <td>0.5</td>\n",
       "      <td>-0.20</td>\n",
       "      <td>0.0</td>\n",
       "      <td>0.5</td>\n",
       "      <td>0.70</td>\n",
       "      <td>[0]</td>\n",
       "      <td>[j]</td>\n",
       "      <td>0.0</td>\n",
       "      <td>1.0</td>\n",
       "      <td>124</td>\n",
       "      <td>0.0</td>\n",
       "      <td>7.283628</td>\n",
       "      <td>[7.28362846197]</td>\n",
       "      <td>0.25</td>\n",
       "      <td>4.0</td>\n",
       "      <td>-0.10</td>\n",
       "      <td>0.35</td>\n",
       "    </tr>\n",
       "    <tr>\n",
       "      <th>4</th>\n",
       "      <td>0.0</td>\n",
       "      <td>0.0</td>\n",
       "      <td>-9.87</td>\n",
       "      <td>1.0</td>\n",
       "      <td>0.58</td>\n",
       "      <td>1.0</td>\n",
       "      <td>10.0</td>\n",
       "      <td>0.86</td>\n",
       "      <td>[1, 0, 1, 0, 1, 0, 1, 0, 1, 0, 1]</td>\n",
       "      <td>[space, space, space, space, space, space, spa...</td>\n",
       "      <td>1.0</td>\n",
       "      <td>11.0</td>\n",
       "      <td>124</td>\n",
       "      <td>0.0</td>\n",
       "      <td>37.650283</td>\n",
       "      <td>[8.98363022145, 9.43348315809, 9.90027147338, ...</td>\n",
       "      <td>9.18</td>\n",
       "      <td>5.0</td>\n",
       "      <td>0.58</td>\n",
       "      <td>8.60</td>\n",
       "    </tr>\n",
       "  </tbody>\n",
       "</table>\n",
       "</div>"
      ],
      "text/plain": [
       "   choice  correct  earnings  face_mult  face_val_base  first_image  \\\n",
       "0     0.0      1.0      0.00        0.5          -0.16          1.0   \n",
       "1     1.0      0.0     -0.44        1.0           0.06          0.0   \n",
       "2     0.0      1.0     -0.44       10.0           0.10          1.0   \n",
       "3     0.0      0.0     -0.69        0.5          -0.20          0.0   \n",
       "4     0.0      0.0     -9.87        1.0           0.58          1.0   \n",
       "\n",
       "   house_mult  house_val_base                         image_list  \\\n",
       "0        10.0           -0.72                                [1]   \n",
       "1         1.0           -0.50                                [0]   \n",
       "2         3.0           -0.44                                [1]   \n",
       "3         0.5            0.70                                [0]   \n",
       "4        10.0            0.86  [1, 0, 1, 0, 1, 0, 1, 0, 1, 0, 1]   \n",
       "\n",
       "                                      key_entry_list  last_image  \\\n",
       "0                                                [j]         1.0   \n",
       "1                                                [f]         0.0   \n",
       "2                                                [j]         1.0   \n",
       "3                                                [j]         0.0   \n",
       "4  [space, space, space, space, space, space, spa...         1.0   \n",
       "\n",
       "   num_fixations participant  round_num         rt  \\\n",
       "0            1.0         124        0.0   5.916768   \n",
       "1            1.0         124        0.0   4.250125   \n",
       "2            1.0         124        0.0   2.666767   \n",
       "3            1.0         124        0.0   7.283628   \n",
       "4           11.0         124        0.0  37.650283   \n",
       "\n",
       "                                             rt_list  summed_val  trial  \\\n",
       "0                                     [5.9167684478]       -7.28    1.0   \n",
       "1                                    [4.25012462995]       -0.44    2.0   \n",
       "2                                      [2.666766615]       -0.32    3.0   \n",
       "3                                    [7.28362846197]        0.25    4.0   \n",
       "4  [8.98363022145, 9.43348315809, 9.90027147338, ...        9.18    5.0   \n",
       "\n",
       "   face_val_total  house_val_total  \n",
       "0           -0.08            -7.20  \n",
       "1            0.06            -0.50  \n",
       "2            1.00            -1.32  \n",
       "3           -0.10             0.35  \n",
       "4            0.58             8.60  "
      ]
     },
     "execution_count": 8,
     "metadata": {},
     "output_type": "execute_result"
    }
   ],
   "source": [
    "df.head()"
   ]
  },
  {
   "cell_type": "code",
   "execution_count": 9,
   "metadata": {
    "collapsed": true
   },
   "outputs": [],
   "source": [
    "df.to_csv('/Users/djw/Dropbox/PROGRAMMING/_NEURO/2017_MADE/Analysis/Data/v3_trials.csv')"
   ]
  },
  {
   "cell_type": "markdown",
   "metadata": {},
   "source": [
    "## v3 Accuracy"
   ]
  },
  {
   "cell_type": "code",
   "execution_count": 3,
   "metadata": {
    "collapsed": true
   },
   "outputs": [],
   "source": [
    "accuracy_subjects = [161, 163, 165, 166, 167]"
   ]
  },
  {
   "cell_type": "code",
   "execution_count": 4,
   "metadata": {
    "collapsed": true
   },
   "outputs": [],
   "source": [
    "dict_key = 1\n",
    "dat_files = {}\n",
    "for i in accuracy_subjects:\n",
    "    dat_files[dict_key] = fromFile('/Users/djw/Documents/pCloud Synced/LabSharedFolder/MADE01/CODE/v3_FractionalWeights/data/accuracy_check/' + str(i) + '.psydat')\n",
    "    dict_key +=1"
   ]
  },
  {
   "cell_type": "code",
   "execution_count": 63,
   "metadata": {},
   "outputs": [
    {
     "data": {
      "text/plain": [
       "{'date': u'2018_Jan_31_1555',\n",
       " 'error': 1.24,\n",
       " 'expName': 'test02',\n",
       " 'faceImage': u'images/morphs/faceMorph86.jpg',\n",
       " 'faceValue': -0.71999999999999997,\n",
       " 'face_value': -0.38,\n",
       " 'frameRate': 60.082860655762289,\n",
       " 'houseImage': u'images/morphs/House05.png',\n",
       " 'houseValue': 0.25,\n",
       " 'house_value': 0.23999999999999999,\n",
       " 'inputText': '-1.00',\n",
       " 'morph': 86,\n",
       " 'numberEntry.keys': ['minus', '1', 'period', '0', '0', 'return'],\n",
       " 'numberEntry.rt': [1.3842256662610453,\n",
       "  1.9356080477300566,\n",
       "  2.352593351068208,\n",
       "  2.6197974786628038,\n",
       "  2.7695852645265404,\n",
       "  2.902742048201617],\n",
       " 'numberEntry_2.keys': ['minus', '1', 'period', '0', '0', 'return'],\n",
       " 'numberEntry_2.rt': [1.5353556021291297,\n",
       "  1.9692038619541563,\n",
       "  2.536165939847706,\n",
       "  2.8201161453907844,\n",
       "  2.9697879541199654,\n",
       "  3.119762625428848],\n",
       " 'participant': u'164',\n",
       " 'percent': 8.5999999999999996,\n",
       " 'session': u'20180131',\n",
       " 'test_faceValue.thisIndex': 8,\n",
       " 'test_faceValue.thisN': 15,\n",
       " 'test_faceValue.thisRepN': 1,\n",
       " 'test_faceValue.thisTrialN': 5,\n",
       " 'word': u'Enter the value of the face:'}"
      ]
     },
     "execution_count": 63,
     "metadata": {},
     "output_type": "execute_result"
    }
   ],
   "source": [
    "dat_files[3].entries[15]"
   ]
  },
  {
   "cell_type": "code",
   "execution_count": 79,
   "metadata": {},
   "outputs": [
    {
     "data": {
      "text/plain": [
       "17"
      ]
     },
     "execution_count": 79,
     "metadata": {},
     "output_type": "execute_result"
    }
   ],
   "source": [
    "len(dat_files[5].entries)"
   ]
  },
  {
   "cell_type": "code",
   "execution_count": 88,
   "metadata": {
    "collapsed": true
   },
   "outputs": [],
   "source": [
    "trial = np.array([])\n",
    "\n",
    "face_value_actual = np.array([])\n",
    "house_value_actual = np.array([])\n",
    "\n",
    "face_value_guess = np.array([])\n",
    "face_guess_rt = np.array([])\n",
    "house_value_guess = np.array([])\n",
    "house_guess_rt = np.array([])\n",
    "\n",
    "participant = np.array([])"
   ]
  },
  {
   "cell_type": "code",
   "execution_count": 89,
   "metadata": {
    "collapsed": true
   },
   "outputs": [],
   "source": [
    "for item in dat_files:\n",
    "    datFile = dat_files[item]\n",
    "    \n",
    "    for i in range(len(datFile.entries)):\n",
    "        \n",
    "        trial = np.append(trial, i)\n",
    "\n",
    "        face_value_actual = np.append(face_value_actual, datFile.entries[i]['face_value'])\n",
    "        #face_value_guess = np.append(face_value_guess, datFile.entries[i]['numberEntry.keys'])\n",
    "        face_guess_rt = np.append(face_guess_rt, datFile.entries[i]['numberEntry.rt'][-1])\n",
    "        \n",
    "        house_value_actual = np.append(house_value_actual, datFile.entries[i]['house_value'])\n",
    "        house_value_guess = np.append(house_value_guess, datFile.entries[i]['inputText'])\n",
    "        house_guess_rt = np.append(house_guess_rt, datFile.entries[i]['numberEntry_2.rt'][-1])\n",
    "\n",
    "        participant = np.append(participant,datFile.entries[i]['participant'])\n",
    "            \n",
    "d = {'trial': trial,\n",
    "     'face_value_actual': face_value_actual,\n",
    "     #'face_value_guess': face_value_guess,\n",
    "     'face_guess_rt': face_guess_rt,\n",
    "     'house_value_actual': house_value_actual,\n",
    "     'house_value_guess': house_value_guess,\n",
    "     'house_guess_rt': house_guess_rt,\n",
    "     'participant': participant\n",
    "     } \n",
    "\n",
    "df = pd.DataFrame(data = d)"
   ]
  },
  {
   "cell_type": "code",
   "execution_count": 90,
   "metadata": {
    "scrolled": true
   },
   "outputs": [
    {
     "data": {
      "text/html": [
       "<div>\n",
       "<style scoped>\n",
       "    .dataframe tbody tr th:only-of-type {\n",
       "        vertical-align: middle;\n",
       "    }\n",
       "\n",
       "    .dataframe tbody tr th {\n",
       "        vertical-align: top;\n",
       "    }\n",
       "\n",
       "    .dataframe thead th {\n",
       "        text-align: right;\n",
       "    }\n",
       "</style>\n",
       "<table border=\"1\" class=\"dataframe\">\n",
       "  <thead>\n",
       "    <tr style=\"text-align: right;\">\n",
       "      <th></th>\n",
       "      <th>face_guess_rt</th>\n",
       "      <th>face_value_actual</th>\n",
       "      <th>house_guess_rt</th>\n",
       "      <th>house_value_actual</th>\n",
       "      <th>house_value_guess</th>\n",
       "      <th>participant</th>\n",
       "      <th>trial</th>\n",
       "    </tr>\n",
       "  </thead>\n",
       "  <tbody>\n",
       "    <tr>\n",
       "      <th>0</th>\n",
       "      <td>5.323453</td>\n",
       "      <td>-0.20</td>\n",
       "      <td>5.138691</td>\n",
       "      <td>-0.36</td>\n",
       "      <td>-0.77</td>\n",
       "      <td>161</td>\n",
       "      <td>0.0</td>\n",
       "    </tr>\n",
       "    <tr>\n",
       "      <th>1</th>\n",
       "      <td>2.986005</td>\n",
       "      <td>-0.64</td>\n",
       "      <td>5.706787</td>\n",
       "      <td>-0.62</td>\n",
       "      <td>-0.88</td>\n",
       "      <td>161</td>\n",
       "      <td>1.0</td>\n",
       "    </tr>\n",
       "    <tr>\n",
       "      <th>2</th>\n",
       "      <td>6.473532</td>\n",
       "      <td>0.38</td>\n",
       "      <td>5.823562</td>\n",
       "      <td>-0.58</td>\n",
       "      <td>-0.87</td>\n",
       "      <td>161</td>\n",
       "      <td>2.0</td>\n",
       "    </tr>\n",
       "    <tr>\n",
       "      <th>3</th>\n",
       "      <td>5.639253</td>\n",
       "      <td>-0.34</td>\n",
       "      <td>3.887371</td>\n",
       "      <td>0.26</td>\n",
       "      <td>-0.65</td>\n",
       "      <td>161</td>\n",
       "      <td>3.0</td>\n",
       "    </tr>\n",
       "    <tr>\n",
       "      <th>4</th>\n",
       "      <td>5.706063</td>\n",
       "      <td>0.14</td>\n",
       "      <td>2.886535</td>\n",
       "      <td>-0.06</td>\n",
       "      <td>-0.54</td>\n",
       "      <td>161</td>\n",
       "      <td>4.0</td>\n",
       "    </tr>\n",
       "  </tbody>\n",
       "</table>\n",
       "</div>"
      ],
      "text/plain": [
       "   face_guess_rt  face_value_actual  house_guess_rt  house_value_actual  \\\n",
       "0       5.323453              -0.20        5.138691               -0.36   \n",
       "1       2.986005              -0.64        5.706787               -0.62   \n",
       "2       6.473532               0.38        5.823562               -0.58   \n",
       "3       5.639253              -0.34        3.887371                0.26   \n",
       "4       5.706063               0.14        2.886535               -0.06   \n",
       "\n",
       "  house_value_guess participant  trial  \n",
       "0             -0.77         161    0.0  \n",
       "1             -0.88         161    1.0  \n",
       "2             -0.87         161    2.0  \n",
       "3             -0.65         161    3.0  \n",
       "4             -0.54         161    4.0  "
      ]
     },
     "execution_count": 90,
     "metadata": {},
     "output_type": "execute_result"
    }
   ],
   "source": [
    "df.head()"
   ]
  },
  {
   "cell_type": "code",
   "execution_count": 91,
   "metadata": {
    "collapsed": true
   },
   "outputs": [],
   "source": [
    "# had to edit this csv by hand because only had keystrokes for face value entry (ugh)\n",
    "df.to_csv('/Users/djw/Documents/pCloud Synced/PhD/PROJECTS/2017_MADE/03_CODE/2017_MADE/Analysis/Data/v3_accuracy.csv')"
   ]
  },
  {
   "cell_type": "markdown",
   "metadata": {
    "heading_collapsed": true
   },
   "source": [
    "## v4"
   ]
  },
  {
   "cell_type": "code",
   "execution_count": 2,
   "metadata": {
    "collapsed": true,
    "hidden": true
   },
   "outputs": [],
   "source": [
    "datFile_116 = fromFile('/Users/djw/Dropbox/PHD/CENDRI/Project/Code/LabSharedFolder/MADE01/CODE/v4_Episodic_Fractional/data/_full_data_files/116_test02_TestSegment_2017_Nov_22_1350.psydat')\n",
    "datFile_117 = fromFile('/Users/djw/Dropbox/PHD/CENDRI/Project/Code/LabSharedFolder/MADE01/CODE/v4_Episodic_Fractional/data/_full_data_files/117_test02_TestSegment_2017_Nov_22_1403.psydat')\n",
    "datFile_118 = fromFile('/Users/djw/Dropbox/PHD/CENDRI/Project/Code/LabSharedFolder/MADE01/CODE/v4_Episodic_Fractional/data/_full_data_files/118_test02_TestSegment_2017_Nov_22_1405.psydat')\n",
    "datFile_119 = fromFile('/Users/djw/Dropbox/PHD/CENDRI/Project/Code/LabSharedFolder/MADE01/CODE/v4_Episodic_Fractional/data/_full_data_files/119_test02_TestSegment_2017_Nov_22_1412.psydat')\n",
    "#datFile_120 = fromFile('/Users/djw/Dropbox/PHD/CENDRI/Project/Code/LabSharedFolder/MADE01/CODE/v4_Episodic_Fractional/data/_full_data_files/120_test02_TestSegment_2017_Nov_22_1546.psydat')\n",
    "datFile_121 = fromFile('/Users/djw/Dropbox/PHD/CENDRI/Project/Code/LabSharedFolder/MADE01/CODE/v4_Episodic_Fractional/data/_full_data_files/121_test02_TestSegment_2017_Nov_22_1601.psydat')\n",
    "datFile_122 = fromFile('/Users/djw/Dropbox/PHD/CENDRI/Project/Code/LabSharedFolder/MADE01/CODE/v4_Episodic_Fractional/data/_full_data_files/122_test02_TestSegment_2017_Nov_22_1605.psydat')\n",
    "datFile_123 = fromFile('/Users/djw/Dropbox/PHD/CENDRI/Project/Code/LabSharedFolder/MADE01/CODE/v4_Episodic_Fractional/data/_full_data_files/123_test02_TestSegment_2017_Nov_22_1630.psydat')"
   ]
  },
  {
   "cell_type": "code",
   "execution_count": 3,
   "metadata": {
    "collapsed": true,
    "hidden": true
   },
   "outputs": [],
   "source": [
    "datFiles = {'1': datFile_116, '2': datFile_117, '3': datFile_118, '4': datFile_119,\n",
    "            '5': datFile_121, '6': datFile_122, '7': datFile_123}"
   ]
  },
  {
   "cell_type": "code",
   "execution_count": 22,
   "metadata": {
    "collapsed": true,
    "hidden": true
   },
   "outputs": [
    {
     "data": {
      "text/plain": [
       "['__class__',\n",
       " '__del__',\n",
       " '__delattr__',\n",
       " '__dict__',\n",
       " '__doc__',\n",
       " '__format__',\n",
       " '__getattribute__',\n",
       " '__hash__',\n",
       " '__init__',\n",
       " '__module__',\n",
       " '__new__',\n",
       " '__reduce__',\n",
       " '__reduce_ex__',\n",
       " '__repr__',\n",
       " '__setattr__',\n",
       " '__sizeof__',\n",
       " '__str__',\n",
       " '__subclasshook__',\n",
       " '__weakref__',\n",
       " '_getAllParamNames',\n",
       " '_getExtraInfo',\n",
       " '_getLoopInfo',\n",
       " '_paramNamesSoFar',\n",
       " 'abort',\n",
       " 'addData',\n",
       " 'addLoop',\n",
       " 'autoLog',\n",
       " 'dataFileName',\n",
       " 'dataNames',\n",
       " 'entries',\n",
       " 'extraInfo',\n",
       " 'loopEnded',\n",
       " 'loops',\n",
       " 'loopsUnfinished',\n",
       " 'name',\n",
       " 'nextEntry',\n",
       " 'originPath',\n",
       " 'runtimeInfo',\n",
       " 'saveAsPickle',\n",
       " 'saveAsWideText',\n",
       " 'savePickle',\n",
       " 'saveWideText',\n",
       " 'thisEntry',\n",
       " 'version']"
      ]
     },
     "execution_count": 22,
     "metadata": {},
     "output_type": "execute_result"
    }
   ],
   "source": [
    "dir(datFile)"
   ]
  },
  {
   "cell_type": "code",
   "execution_count": 96,
   "metadata": {
    "collapsed": true,
    "hidden": true
   },
   "outputs": [
    {
     "data": {
      "text/plain": [
       "{'actFaceVal': 0.5,\n",
       " 'correct': 1,\n",
       " 'date': u'2017_Nov_22_1630',\n",
       " 'earnings': 3.0,\n",
       " 'exitKeys_9.keys': ['0', 'period', '5', '0', 'return'],\n",
       " 'exitKeys_9.rt': [32.848591981670324,\n",
       "  34.098394318440114,\n",
       "  34.98189012600051,\n",
       "  35.48177191294235,\n",
       "  39.21538455898917],\n",
       " 'expName': 'test02_TestSegment',\n",
       " 'face_learn_loop.thisIndex': 0,\n",
       " 'face_learn_loop.thisN': 0,\n",
       " 'face_learn_loop.thisRepN': 0,\n",
       " 'face_learn_loop.thisTrialN': 0,\n",
       " 'frameRate': 59.999538147157125,\n",
       " 'guessFaceVal': '0.50',\n",
       " 'image': 'images/exemplars/faces/CFD-WM-208-068-N.jpg',\n",
       " 'key_resp_3.keys': ['f'],\n",
       " 'key_resp_3.rt': [6.5503365864824445],\n",
       " 'learn_faces.thisIndex': 0,\n",
       " 'learn_faces.thisN': 0,\n",
       " 'learn_faces.thisRepN': 0,\n",
       " 'learn_faces.thisTrialN': 0,\n",
       " 'left_image_val': -0.5,\n",
       " 'min_correct': 7,\n",
       " u'participant': u'123',\n",
       " 'right_image_val': -1.0,\n",
       " 'round': 1,\n",
       " 'selected_image': -0.5,\n",
       " u'session': u'20171122',\n",
       " 'total_correct': 1,\n",
       " 'trial': 0}"
      ]
     },
     "execution_count": 96,
     "metadata": {},
     "output_type": "execute_result"
    }
   ],
   "source": [
    "datFile.entries[0]"
   ]
  },
  {
   "cell_type": "markdown",
   "metadata": {
    "heading_collapsed": true,
    "hidden": true
   },
   "source": [
    "### LEARNING TRIALS"
   ]
  },
  {
   "cell_type": "code",
   "execution_count": 90,
   "metadata": {
    "collapsed": true,
    "hidden": true
   },
   "outputs": [],
   "source": [
    "trial = np.array([])\n",
    "round_num = np.array([])\n",
    "left_image_val = np.array([])\n",
    "right_image_val = np.array([])\n",
    "selected_image_val = np.array([])\n",
    "rt = np.array([])\n",
    "correct = np.array([])\n",
    "total_correct = np.array([])\n",
    "min_correct = np.array([])\n",
    "earnings = np.array([])\n",
    "participant = np.array([])"
   ]
  },
  {
   "cell_type": "code",
   "execution_count": 91,
   "metadata": {
    "hidden": true
   },
   "outputs": [
    {
     "ename": "KeyError",
     "evalue": "'key_resp_4.rt'",
     "output_type": "error",
     "traceback": [
      "\u001b[0;31m---------------------------------------------------------------------------\u001b[0m",
      "\u001b[0;31mKeyError\u001b[0m                                  Traceback (most recent call last)",
      "\u001b[0;32m<ipython-input-91-5def3f3ee4b3>\u001b[0m in \u001b[0;36m<module>\u001b[0;34m()\u001b[0m\n\u001b[1;32m      6\u001b[0m         \u001b[0mright_image_val\u001b[0m \u001b[0;34m=\u001b[0m \u001b[0mnp\u001b[0m\u001b[0;34m.\u001b[0m\u001b[0mappend\u001b[0m\u001b[0;34m(\u001b[0m\u001b[0mright_image_val\u001b[0m\u001b[0;34m,\u001b[0m\u001b[0mdatFile\u001b[0m\u001b[0;34m.\u001b[0m\u001b[0mentries\u001b[0m\u001b[0;34m[\u001b[0m\u001b[0mi\u001b[0m\u001b[0;34m]\u001b[0m\u001b[0;34m[\u001b[0m\u001b[0;34m'right_image_val'\u001b[0m\u001b[0;34m]\u001b[0m\u001b[0;34m)\u001b[0m\u001b[0;34m\u001b[0m\u001b[0m\n\u001b[1;32m      7\u001b[0m         \u001b[0mselected_image_val\u001b[0m \u001b[0;34m=\u001b[0m \u001b[0mnp\u001b[0m\u001b[0;34m.\u001b[0m\u001b[0mappend\u001b[0m\u001b[0;34m(\u001b[0m\u001b[0mselected_image_val\u001b[0m\u001b[0;34m,\u001b[0m\u001b[0mdatFile\u001b[0m\u001b[0;34m.\u001b[0m\u001b[0mentries\u001b[0m\u001b[0;34m[\u001b[0m\u001b[0mi\u001b[0m\u001b[0;34m]\u001b[0m\u001b[0;34m[\u001b[0m\u001b[0;34m'selected_image'\u001b[0m\u001b[0;34m]\u001b[0m\u001b[0;34m)\u001b[0m\u001b[0;34m\u001b[0m\u001b[0m\n\u001b[0;32m----> 8\u001b[0;31m         \u001b[0mrt\u001b[0m \u001b[0;34m=\u001b[0m \u001b[0mnp\u001b[0m\u001b[0;34m.\u001b[0m\u001b[0mappend\u001b[0m\u001b[0;34m(\u001b[0m\u001b[0mrt\u001b[0m\u001b[0;34m,\u001b[0m\u001b[0mdatFile\u001b[0m\u001b[0;34m.\u001b[0m\u001b[0mentries\u001b[0m\u001b[0;34m[\u001b[0m\u001b[0mi\u001b[0m\u001b[0;34m]\u001b[0m\u001b[0;34m[\u001b[0m\u001b[0;34m'key_resp_4.rt'\u001b[0m\u001b[0;34m]\u001b[0m\u001b[0;34m[\u001b[0m\u001b[0;36m0\u001b[0m\u001b[0;34m]\u001b[0m\u001b[0;34m)\u001b[0m \u001b[0;31m# this is a list so taking the first element\u001b[0m\u001b[0;34m\u001b[0m\u001b[0m\n\u001b[0m\u001b[1;32m      9\u001b[0m         \u001b[0mcorrect\u001b[0m \u001b[0;34m=\u001b[0m \u001b[0mnp\u001b[0m\u001b[0;34m.\u001b[0m\u001b[0mappend\u001b[0m\u001b[0;34m(\u001b[0m\u001b[0mcorrect\u001b[0m\u001b[0;34m,\u001b[0m\u001b[0mdatFile\u001b[0m\u001b[0;34m.\u001b[0m\u001b[0mentries\u001b[0m\u001b[0;34m[\u001b[0m\u001b[0mi\u001b[0m\u001b[0;34m]\u001b[0m\u001b[0;34m[\u001b[0m\u001b[0;34m'correct'\u001b[0m\u001b[0;34m]\u001b[0m\u001b[0;34m)\u001b[0m\u001b[0;34m\u001b[0m\u001b[0m\n\u001b[1;32m     10\u001b[0m         \u001b[0mtotal_correct\u001b[0m \u001b[0;34m=\u001b[0m \u001b[0mnp\u001b[0m\u001b[0;34m.\u001b[0m\u001b[0mappend\u001b[0m\u001b[0;34m(\u001b[0m\u001b[0mtotal_correct\u001b[0m\u001b[0;34m,\u001b[0m \u001b[0mdatFile\u001b[0m\u001b[0;34m.\u001b[0m\u001b[0mentries\u001b[0m\u001b[0;34m[\u001b[0m\u001b[0mi\u001b[0m\u001b[0;34m]\u001b[0m\u001b[0;34m[\u001b[0m\u001b[0;34m'total_correct'\u001b[0m\u001b[0;34m]\u001b[0m\u001b[0;34m)\u001b[0m\u001b[0;34m\u001b[0m\u001b[0m\n",
      "\u001b[0;31mKeyError\u001b[0m: 'key_resp_4.rt'"
     ]
    }
   ],
   "source": [
    "# LEARNING TRIALS\n",
    "for i in range(len(datFile.entries)):\n",
    "    if datFile.entries[i].has_key('trial') == True:\n",
    "        # FACE BINARY\n",
    "        \n",
    "        # FACE EXACT\n",
    "        \n",
    "        # HOUSE BINARY\n",
    "        \n",
    "        # HOUSE EXACT\n",
    "        trial = np.append(trial,datFile.entries[i]['trial'])\n",
    "        round_num = np.append(round_num,datFile.entries[i]['trial'])\n",
    "        left_image_val = np.append(left_image_val,datFile.entries[i]['left_image_val'])\n",
    "        right_image_val = np.append(right_image_val,datFile.entries[i]['right_image_val'])\n",
    "        selected_image_val = np.append(selected_image_val,datFile.entries[i]['selected_image'])\n",
    "        rt = np.append(rt,datFile.entries[i]['key_resp_4.rt'][0]) # this is a list so taking the first element\n",
    "        correct = np.append(correct,datFile.entries[i]['correct'])\n",
    "        total_correct = np.append(total_correct, datFile.entries[i]['total_correct'])\n",
    "        min_correct = np.append(min_correct,datFile.entries[i]['min_correct'])\n",
    "        earnings = np.append(earnings,datFile.entries[i]['earnings'])\n",
    "        participant = np.append(participant,datFile.entries[i]['participant'])\n",
    "        "
   ]
  },
  {
   "cell_type": "markdown",
   "metadata": {
    "hidden": true
   },
   "source": [
    "### TRIALS"
   ]
  },
  {
   "cell_type": "code",
   "execution_count": 165,
   "metadata": {
    "hidden": true
   },
   "outputs": [
    {
     "data": {
      "text/plain": [
       "{'Trial': 100,\n",
       " 'correct': 1,\n",
       " 'date': u'2017_Nov_22_1630',\n",
       " 'earnings': 229.0,\n",
       " 'expName': 'test02_TestSegment',\n",
       " 'faceVal': 0.5,\n",
       " 'frameRate': 59.999538147157125,\n",
       " 'houseVal': -0.25,\n",
       " 'imageList': [1, 0, 1],\n",
       " 'mult1House': 1,\n",
       " 'mult2Face': 1,\n",
       " 'numberEntry_4.keys': ['space', 'space', 'f'],\n",
       " 'numberEntry_4.rt': [0.9669095074459619,\n",
       "  1.850038762888289,\n",
       "  3.2502330355091544],\n",
       " u'participant': u'123',\n",
       " u'session': u'20171122',\n",
       " 'summedVal': 0.25,\n",
       " 'trial_blocks.thisIndex': 0,\n",
       " 'trial_blocks.thisN': 2,\n",
       " 'trial_blocks.thisRepN': 2,\n",
       " 'trial_blocks.thisTrialN': 0,\n",
       " 'trials_2.thisIndex': 0,\n",
       " 'trials_2.thisN': 99,\n",
       " 'trials_2.thisRepN': 99,\n",
       " 'trials_2.thisTrialN': 0}"
      ]
     },
     "execution_count": 165,
     "metadata": {},
     "output_type": "execute_result"
    }
   ],
   "source": [
    "datFile.entries[402]"
   ]
  },
  {
   "cell_type": "code",
   "execution_count": 13,
   "metadata": {
    "collapsed": true,
    "hidden": true
   },
   "outputs": [],
   "source": [
    "trial = np.array([])\n",
    "round_num = np.array([])\n",
    "\n",
    "face_val = np.array([])\n",
    "house_val = np.array([])\n",
    "face_mult = np.array([])\n",
    "house_mult = np.array([])\n",
    "summed_val = np.array([])\n",
    "\n",
    "image_list = []\n",
    "first_image = np.array([])\n",
    "last_image = np.array([])\n",
    "key_entry_list = []\n",
    "num_fixations = np.array([])\n",
    "rt_list = []\n",
    "rt = np.array([])\n",
    "\n",
    "correct = np.array([])\n",
    "earnings = np.array([])\n",
    "participant = np.array([])\n",
    "trial = np.array([])\n",
    "\n",
    "dfs = {}\n",
    "\n",
    "for item in datFiles:\n",
    "    datFile = datFiles[str(item)]\n",
    "    \n",
    "    for i in range(len(datFile.entries)):\n",
    "        if datFile.entries[i].has_key('numberEntry_4.keys') == True:\n",
    "            trial = np.append(trial, datFile.entries[i]['Trial'])\n",
    "            round_num = np.append(round_num, datFile.entries[i]['trial_blocks.thisN'])\n",
    "\n",
    "            face_val = np.append(face_val, datFile.entries[i]['faceVal'])\n",
    "            house_val = np.append(house_val, datFile.entries[i]['houseVal'])\n",
    "            face_mult = np.append(face_mult, datFile.entries[i]['mult2Face'])\n",
    "            house_mult = np.append(house_mult, datFile.entries[i]['mult1House'])\n",
    "            summed_val = np.append(summed_val, datFile.entries[i]['summedVal'])\n",
    "\n",
    "            image_list = image_list + [datFile.entries[i]['imageList']]  # LIST of LISTS\n",
    "            first_image = np.append(first_image, datFile.entries[i]['imageList'][0])\n",
    "            last_image = np.append(last_image, datFile.entries[i]['imageList'][-1])\n",
    "            key_entry_list = key_entry_list + [datFile.entries[i]['numberEntry_4.keys']]  # LIST of LISTS\n",
    "            num_fixations = np.append(num_fixations, len(datFile.entries[i]['numberEntry_4.keys']))\n",
    "            rt_list = rt_list + [datFile.entries[i]['numberEntry_4.rt']]   # LIST of LISTS\n",
    "            rt = np.append(rt, datFile.entries[i]['numberEntry_4.rt'][-1])    # this is a list so taking the last element\n",
    "\n",
    "            correct = np.append(correct, datFile.entries[i]['correct'])\n",
    "            earnings = np.append(earnings,datFile.entries[i]['earnings'])\n",
    "            participant = np.append(participant,datFile.entries[i]['participant'])\n",
    "            \n",
    "d = {'trial': trial, 'round_num': round_num, 'face_val': face_val, 'house_val': house_val,\n",
    "         'image_list': image_list, 'first_image': first_image, 'last_image': last_image,\n",
    "         'key_entry_list': key_entry_list, 'num_fixations': num_fixations, 'rt_list': rt_list, 'rt': rt,\n",
    "         'correct': correct, 'earnings': earnings, 'participant': participant,\n",
    "     'face_mult': face_mult, 'house_mult': house_mult, 'summed_val': summed_val} \n",
    "df = pd.DataFrame(data = d)\n"
   ]
  },
  {
   "cell_type": "code",
   "execution_count": 14,
   "metadata": {
    "collapsed": true,
    "hidden": true,
    "scrolled": false
   },
   "outputs": [],
   "source": [
    "df.to_csv('/Users/djw/Dropbox/PROGRAMMING/_NEURO/2017_MADE/Analysis/Data/v4_extra.csv')"
   ]
  },
  {
   "cell_type": "code",
   "execution_count": null,
   "metadata": {
    "collapsed": true,
    "hidden": true
   },
   "outputs": [],
   "source": []
  }
 ],
 "metadata": {
  "anaconda-cloud": {},
  "kernelspec": {
   "display_name": "Python [conda root]",
   "language": "python",
   "name": "conda-root-py"
  },
  "language_info": {
   "codemirror_mode": {
    "name": "ipython",
    "version": 2
   },
   "file_extension": ".py",
   "mimetype": "text/x-python",
   "name": "python",
   "nbconvert_exporter": "python",
   "pygments_lexer": "ipython2",
   "version": "2.7.12"
  },
  "toc": {
   "nav_menu": {},
   "number_sections": true,
   "sideBar": true,
   "skip_h1_title": false,
   "title_cell": "Table of Contents",
   "title_sidebar": "Contents",
   "toc_cell": true,
   "toc_position": {},
   "toc_section_display": true,
   "toc_window_display": true
  }
 },
 "nbformat": 4,
 "nbformat_minor": 2
}
