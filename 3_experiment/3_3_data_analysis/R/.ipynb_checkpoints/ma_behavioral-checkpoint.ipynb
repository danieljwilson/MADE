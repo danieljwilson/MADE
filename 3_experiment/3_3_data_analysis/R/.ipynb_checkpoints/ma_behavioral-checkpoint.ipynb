{
 "cells": [
  {
   "cell_type": "markdown",
   "metadata": {
    "toc-hr-collapsed": false
   },
   "source": [
    "# Imports"
   ]
  },
  {
   "cell_type": "markdown",
   "metadata": {},
   "source": [
    "## Libraries"
   ]
  },
  {
   "cell_type": "code",
   "execution_count": 91,
   "metadata": {},
   "outputs": [],
   "source": [
    "library(tidyverse)\n",
    "library(Hmisc) # cut2\n",
    "\n",
    "## set universal plot size:\n",
    "options(repr.plot.width=7, repr.plot.height=3.5)"
   ]
  },
  {
   "cell_type": "markdown",
   "metadata": {},
   "source": [
    "## Data"
   ]
  },
  {
   "cell_type": "markdown",
   "metadata": {},
   "source": [
    "### Load\n",
    "---\n",
    "Already Cleaned\n",
    "\n",
    "**++ADD cleaning parameters** to `ma_clean_data` file\n",
    "\n",
    "---"
   ]
  },
  {
   "cell_type": "code",
   "execution_count": 17,
   "metadata": {},
   "outputs": [],
   "source": [
    "load(\"../data/swap_v1_clean.RData\")\n",
    "load(\"../data/swap_v2_clean.RData\")\n",
    "\n",
    "# rename for simplicity\n",
    "v1 = swap_v1_clean\n",
    "v2 = swap_v2_clean\n",
    "# clean up\n",
    "rm(swap_v1_clean, swap_v2_clean)"
   ]
  },
  {
   "cell_type": "code",
   "execution_count": 16,
   "metadata": {},
   "outputs": [
    {
     "data": {
      "text/html": [
       "<table>\n",
       "<thead><tr><th scope=col>Trial</th><th scope=col>correct</th><th scope=col>faceVal</th><th scope=col>houseVal</th><th scope=col>mult1House</th><th scope=col>mult2Face</th><th scope=col>summedVal</th><th scope=col>earnings</th><th scope=col>imageList</th><th scope=col>flip</th><th scope=col>⋯</th><th scope=col>4_fixation</th><th scope=col>5_fixation</th><th scope=col>6_fixation</th><th scope=col>7_fixation</th><th scope=col>8_fixation</th><th scope=col>9_fixation</th><th scope=col>10_fixation</th><th scope=col>11_fixation</th><th scope=col>12_fixation</th><th scope=col>13_fixation</th></tr></thead>\n",
       "<tbody>\n",
       "\t<tr><td>1                 </td><td>1                 </td><td>0.66              </td><td> 0.86             </td><td>2                 </td><td>2                 </td><td> 3.04             </td><td>39.60             </td><td>[1, 0, 1, 0, 1, 0]</td><td>2                 </td><td>⋯                 </td><td>0.433219          </td><td>1.233326          </td><td>2.699835          </td><td>NA                </td><td>NA                </td><td>NA                </td><td>NA                </td><td>NA                </td><td>NA                </td><td>NA                </td></tr>\n",
       "\t<tr><td>2                 </td><td>0                 </td><td>0.38              </td><td>-0.52             </td><td>1                 </td><td>1                 </td><td>-0.14             </td><td>39.46             </td><td>[0, 1, 0]         </td><td>2                 </td><td>⋯                 </td><td>      NA          </td><td>      NA          </td><td>      NA          </td><td>NA                </td><td>NA                </td><td>NA                </td><td>NA                </td><td>NA                </td><td>NA                </td><td>NA                </td></tr>\n",
       "\t<tr><td>3                 </td><td>1                 </td><td>0.32              </td><td>-0.68             </td><td>1                 </td><td>3                 </td><td> 0.28             </td><td>39.74             </td><td>[0, 1, 0]         </td><td>1                 </td><td>⋯                 </td><td>      NA          </td><td>      NA          </td><td>      NA          </td><td>NA                </td><td>NA                </td><td>NA                </td><td>NA                </td><td>NA                </td><td>NA                </td><td>NA                </td></tr>\n",
       "</tbody>\n",
       "</table>\n"
      ],
      "text/latex": [
       "\\begin{tabular}{r|llllllllllllllllllllllllllllllllllllllllllllllllllllllllllll}\n",
       " Trial & correct & faceVal & houseVal & mult1House & mult2Face & summedVal & earnings & imageList & flip & ⋯ & 4\\_fixation & 5\\_fixation & 6\\_fixation & 7\\_fixation & 8\\_fixation & 9\\_fixation & 10\\_fixation & 11\\_fixation & 12\\_fixation & 13\\_fixation\\\\\n",
       "\\hline\n",
       "\t 1                      & 1                      & 0.66                   &  0.86                  & 2                      & 2                      &  3.04                  & 39.60                  & {[}1, 0, 1, 0, 1, 0{]} & 2                      & ⋯                      & 0.433219               & 1.233326               & 2.699835               & NA                     & NA                     & NA                     & NA                     & NA                     & NA                     & NA                    \\\\\n",
       "\t 2                      & 0                      & 0.38                   & -0.52                  & 1                      & 1                      & -0.14                  & 39.46                  & {[}0, 1, 0{]}          & 2                      & ⋯                      &       NA               &       NA               &       NA               & NA                     & NA                     & NA                     & NA                     & NA                     & NA                     & NA                    \\\\\n",
       "\t 3                      & 1                      & 0.32                   & -0.68                  & 1                      & 3                      &  0.28                  & 39.74                  & {[}0, 1, 0{]}          & 1                      & ⋯                      &       NA               &       NA               &       NA               & NA                     & NA                     & NA                     & NA                     & NA                     & NA                     & NA                    \\\\\n",
       "\\end{tabular}\n"
      ],
      "text/markdown": [
       "\n",
       "| Trial | correct | faceVal | houseVal | mult1House | mult2Face | summedVal | earnings | imageList | flip | ⋯ | 4_fixation | 5_fixation | 6_fixation | 7_fixation | 8_fixation | 9_fixation | 10_fixation | 11_fixation | 12_fixation | 13_fixation |\n",
       "|---|---|---|---|---|---|---|---|---|---|---|---|---|---|---|---|---|---|---|---|---|\n",
       "| 1                  | 1                  | 0.66               |  0.86              | 2                  | 2                  |  3.04              | 39.60              | [1, 0, 1, 0, 1, 0] | 2                  | ⋯                  | 0.433219           | 1.233326           | 2.699835           | NA                 | NA                 | NA                 | NA                 | NA                 | NA                 | NA                 |\n",
       "| 2                  | 0                  | 0.38               | -0.52              | 1                  | 1                  | -0.14              | 39.46              | [0, 1, 0]          | 2                  | ⋯                  |       NA           |       NA           |       NA           | NA                 | NA                 | NA                 | NA                 | NA                 | NA                 | NA                 |\n",
       "| 3                  | 1                  | 0.32               | -0.68              | 1                  | 3                  |  0.28              | 39.74              | [0, 1, 0]          | 1                  | ⋯                  |       NA           |       NA           |       NA           | NA                 | NA                 | NA                 | NA                 | NA                 | NA                 | NA                 |\n",
       "\n"
      ],
      "text/plain": [
       "  Trial correct faceVal houseVal mult1House mult2Face summedVal earnings\n",
       "1 1     1       0.66     0.86    2          2          3.04     39.60   \n",
       "2 2     0       0.38    -0.52    1          1         -0.14     39.46   \n",
       "3 3     1       0.32    -0.68    1          3          0.28     39.74   \n",
       "  imageList          flip ⋯ 4_fixation 5_fixation 6_fixation 7_fixation\n",
       "1 [1, 0, 1, 0, 1, 0] 2    ⋯ 0.433219   1.233326   2.699835   NA        \n",
       "2 [0, 1, 0]          2    ⋯       NA         NA         NA   NA        \n",
       "3 [0, 1, 0]          1    ⋯       NA         NA         NA   NA        \n",
       "  8_fixation 9_fixation 10_fixation 11_fixation 12_fixation 13_fixation\n",
       "1 NA         NA         NA          NA          NA          NA         \n",
       "2 NA         NA         NA          NA          NA          NA         \n",
       "3 NA         NA         NA          NA          NA          NA         "
      ]
     },
     "metadata": {},
     "output_type": "display_data"
    },
    {
     "data": {
      "text/html": [
       "<table>\n",
       "<thead><tr><th></th><th scope=col>choice</th><th scope=col>correct</th><th scope=col>earnings</th><th scope=col>face_mult</th><th scope=col>face_val_base</th><th scope=col>first_image</th><th scope=col>house_mult</th><th scope=col>house_val_base</th><th scope=col>image_list</th><th scope=col>key_entry_list</th><th scope=col>⋯</th><th scope=col>absSummedVal</th><th scope=col>swapAmount</th><th scope=col>firstMult</th><th scope=col>firstVal</th><th scope=col>secondMult</th><th scope=col>secondVal</th><th scope=col>faceTotal</th><th scope=col>houseTotal</th><th scope=col>total_0_face</th><th scope=col>total_1_house</th></tr></thead>\n",
       "<tbody>\n",
       "\t<tr><th scope=row>10</th><td>0                               </td><td>1                               </td><td>-10.600                         </td><td>2.0                             </td><td>-0.38                           </td><td>1                               </td><td>0.5                             </td><td>-0.72                           </td><td>[1, 0, 1]                       </td><td>['space', 'space', 'j']         </td><td>⋯                               </td><td>1.120                           </td><td>3                               </td><td>0.5                             </td><td>-0.36                           </td><td>2.0                             </td><td>-0.760                          </td><td>-0.76                           </td><td>-0.360                          </td><td>1.6668216                       </td><td>4.616794                        </td></tr>\n",
       "\t<tr><th scope=row>11</th><td>1                               </td><td>1                               </td><td>-10.306                         </td><td>0.5                             </td><td> 0.50                           </td><td>0                               </td><td>0.1                             </td><td> 0.44                           </td><td>[0, 1]                          </td><td>['space', 'f']                  </td><td>⋯                               </td><td>0.294                           </td><td>2                               </td><td>0.5                             </td><td> 0.25                           </td><td>0.1                             </td><td> 0.044                          </td><td> 0.25                           </td><td> 0.044                          </td><td>0.9669452                       </td><td>2.850013                        </td></tr>\n",
       "\t<tr><th scope=row>13</th><td>0                               </td><td>1                               </td><td>-10.646                         </td><td>1.0                             </td><td>-0.40                           </td><td>0                               </td><td>1.0                             </td><td>-0.78                           </td><td>[0, 1, 0, 1]                    </td><td>['space', 'space', 'space', 'j']</td><td>⋯                               </td><td>1.180                           </td><td>4                               </td><td>1.0                             </td><td>-0.40                           </td><td>1.0                             </td><td>-0.780                          </td><td>-0.40                           </td><td>-0.780                          </td><td>0.9169345                       </td><td>2.099861                        </td></tr>\n",
       "</tbody>\n",
       "</table>\n"
      ],
      "text/latex": [
       "\\begin{tabular}{r|lllllllllllllllllllllllllllllllllllllllllllllllllllllllllllllllllllllllllllllllllllllllllllllllll}\n",
       "  & choice & correct & earnings & face\\_mult & face\\_val\\_base & first\\_image & house\\_mult & house\\_val\\_base & image\\_list & key\\_entry\\_list & ⋯ & absSummedVal & swapAmount & firstMult & firstVal & secondMult & secondVal & faceTotal & houseTotal & total\\_0\\_face & total\\_1\\_house\\\\\n",
       "\\hline\n",
       "\t10 & 0                                    & 1                                    & -10.600                              & 2.0                                  & -0.38                                & 1                                    & 0.5                                  & -0.72                                & {[}1, 0, 1{]}                        & {[}'space', 'space', 'j'{]}          & ⋯                                    & 1.120                                & 3                                    & 0.5                                  & -0.36                                & 2.0                                  & -0.760                               & -0.76                                & -0.360                               & 1.6668216                            & 4.616794                            \\\\\n",
       "\t11 & 1                                    & 1                                    & -10.306                              & 0.5                                  &  0.50                                & 0                                    & 0.1                                  &  0.44                                & {[}0, 1{]}                           & {[}'space', 'f'{]}                   & ⋯                                    & 0.294                                & 2                                    & 0.5                                  &  0.25                                & 0.1                                  &  0.044                               &  0.25                                &  0.044                               & 0.9669452                            & 2.850013                            \\\\\n",
       "\t13 & 0                                    & 1                                    & -10.646                              & 1.0                                  & -0.40                                & 0                                    & 1.0                                  & -0.78                                & {[}0, 1, 0, 1{]}                     & {[}'space', 'space', 'space', 'j'{]} & ⋯                                    & 1.180                                & 4                                    & 1.0                                  & -0.40                                & 1.0                                  & -0.780                               & -0.40                                & -0.780                               & 0.9169345                            & 2.099861                            \\\\\n",
       "\\end{tabular}\n"
      ],
      "text/markdown": [
       "\n",
       "| <!--/--> | choice | correct | earnings | face_mult | face_val_base | first_image | house_mult | house_val_base | image_list | key_entry_list | ⋯ | absSummedVal | swapAmount | firstMult | firstVal | secondMult | secondVal | faceTotal | houseTotal | total_0_face | total_1_house |\n",
       "|---|---|---|---|---|---|---|---|---|---|---|---|---|---|---|---|---|---|---|---|---|---|\n",
       "| 10 | 0                                | 1                                | -10.600                          | 2.0                              | -0.38                            | 1                                | 0.5                              | -0.72                            | [1, 0, 1]                        | ['space', 'space', 'j']          | ⋯                                | 1.120                            | 3                                | 0.5                              | -0.36                            | 2.0                              | -0.760                           | -0.76                            | -0.360                           | 1.6668216                        | 4.616794                         |\n",
       "| 11 | 1                                | 1                                | -10.306                          | 0.5                              |  0.50                            | 0                                | 0.1                              |  0.44                            | [0, 1]                           | ['space', 'f']                   | ⋯                                | 0.294                            | 2                                | 0.5                              |  0.25                            | 0.1                              |  0.044                           |  0.25                            |  0.044                           | 0.9669452                        | 2.850013                         |\n",
       "| 13 | 0                                | 1                                | -10.646                          | 1.0                              | -0.40                            | 0                                | 1.0                              | -0.78                            | [0, 1, 0, 1]                     | ['space', 'space', 'space', 'j'] | ⋯                                | 1.180                            | 4                                | 1.0                              | -0.40                            | 1.0                              | -0.780                           | -0.40                            | -0.780                           | 0.9169345                        | 2.099861                         |\n",
       "\n"
      ],
      "text/plain": [
       "   choice correct earnings face_mult face_val_base first_image house_mult\n",
       "10 0      1       -10.600  2.0       -0.38         1           0.5       \n",
       "11 1      1       -10.306  0.5        0.50         0           0.1       \n",
       "13 0      1       -10.646  1.0       -0.40         0           1.0       \n",
       "   house_val_base image_list   key_entry_list                   ⋯ absSummedVal\n",
       "10 -0.72          [1, 0, 1]    ['space', 'space', 'j']          ⋯ 1.120       \n",
       "11  0.44          [0, 1]       ['space', 'f']                   ⋯ 0.294       \n",
       "13 -0.78          [0, 1, 0, 1] ['space', 'space', 'space', 'j'] ⋯ 1.180       \n",
       "   swapAmount firstMult firstVal secondMult secondVal faceTotal houseTotal\n",
       "10 3          0.5       -0.36    2.0        -0.760    -0.76     -0.360    \n",
       "11 2          0.5        0.25    0.1         0.044     0.25      0.044    \n",
       "13 4          1.0       -0.40    1.0        -0.780    -0.40     -0.780    \n",
       "   total_0_face total_1_house\n",
       "10 1.6668216    4.616794     \n",
       "11 0.9669452    2.850013     \n",
       "13 0.9169345    2.099861     "
      ]
     },
     "metadata": {},
     "output_type": "display_data"
    }
   ],
   "source": [
    "head(v1, 3)\n",
    "head(v2, 3)"
   ]
  },
  {
   "cell_type": "markdown",
   "metadata": {},
   "source": [
    "### Format"
   ]
  },
  {
   "cell_type": "code",
   "execution_count": null,
   "metadata": {},
   "outputs": [],
   "source": [
    "# Bin responses\n",
    "v1$bin = cut2(v1$summedVal, g=19, levels.mean=TRUE, digits=2)\n",
    "v2$bin = cut2(v2$summedVal, g=19, levels.mean=TRUE, digits=2)\n",
    "\n",
    "v1$bin_abs = cut2(abs(v1$summedVal), g=10, levels.mean=TRUE, digits=2)\n",
    "v2$bin_abs = cut2(abs(v2$summedVal), g=10, levels.mean=TRUE, digits=2)"
   ]
  },
  {
   "cell_type": "markdown",
   "metadata": {},
   "source": [
    "# Psychometrics"
   ]
  },
  {
   "cell_type": "markdown",
   "metadata": {
    "toc-hr-collapsed": false
   },
   "source": [
    "## RT\n",
    "by Abs. Offer Value"
   ]
  },
  {
   "cell_type": "markdown",
   "metadata": {},
   "source": [
    "### V1"
   ]
  },
  {
   "cell_type": "code",
   "execution_count": 97,
   "metadata": {},
   "outputs": [
    {
     "data": {
      "text/html": [
       "<table>\n",
       "<thead><tr><th scope=col>bin_abs</th><th scope=col>N</th><th scope=col>rt_se</th><th scope=col>rt</th></tr></thead>\n",
       "<tbody>\n",
       "\t<tr><td>0.063    </td><td>23       </td><td>0.2260056</td><td>3.462391 </td></tr>\n",
       "\t<tr><td>0.181    </td><td>23       </td><td>0.2242383</td><td>3.272296 </td></tr>\n",
       "\t<tr><td>0.271    </td><td>23       </td><td>0.2445968</td><td>3.334918 </td></tr>\n",
       "</tbody>\n",
       "</table>\n"
      ],
      "text/latex": [
       "\\begin{tabular}{r|llll}\n",
       " bin\\_abs & N & rt\\_se & rt\\\\\n",
       "\\hline\n",
       "\t 0.063     & 23        & 0.2260056 & 3.462391 \\\\\n",
       "\t 0.181     & 23        & 0.2242383 & 3.272296 \\\\\n",
       "\t 0.271     & 23        & 0.2445968 & 3.334918 \\\\\n",
       "\\end{tabular}\n"
      ],
      "text/markdown": [
       "\n",
       "| bin_abs | N | rt_se | rt |\n",
       "|---|---|---|---|\n",
       "| 0.063     | 23        | 0.2260056 | 3.462391  |\n",
       "| 0.181     | 23        | 0.2242383 | 3.272296  |\n",
       "| 0.271     | 23        | 0.2445968 | 3.334918  |\n",
       "\n"
      ],
      "text/plain": [
       "  bin_abs N  rt_se     rt      \n",
       "1 0.063   23 0.2260056 3.462391\n",
       "2 0.181   23 0.2242383 3.272296\n",
       "3 0.271   23 0.2445968 3.334918"
      ]
     },
     "metadata": {},
     "output_type": "display_data"
    }
   ],
   "source": [
    "df = v1\n",
    "\n",
    "subjects = length(unique(df$subject))\n",
    "\n",
    "rt = df %>%\n",
    "    group_by(subject, bin_abs) %>%\n",
    "    summarise(rt = mean(rt)) %>%\n",
    "    group_by(bin_abs) %>%\n",
    "    summarise(N = length(rt),\n",
    "              rt_se = sd(rt) / sqrt(subjects),\n",
    "              rt = mean(rt)\n",
    "             )\n",
    "\n",
    "head(rt, 3)"
   ]
  },
  {
   "cell_type": "markdown",
   "metadata": {},
   "source": [
    "#### Plot"
   ]
  },
  {
   "cell_type": "code",
   "execution_count": 98,
   "metadata": {},
   "outputs": [
    {
     "data": {
      "image/png": "[encoded data removed]",
      "text/plain": [
       "plot without title"
      ]
     },
     "metadata": {},
     "output_type": "display_data"
    }
   ],
   "source": [
    "ggplot(data = rt,aes(x = bin_abs,y = rt)) + \n",
    "  geom_point() + \n",
    "  #geom_line() +\n",
    "  geom_errorbar(aes(ymin = rt-rt_se,ymax = rt+rt_se)) + \n",
    "  labs(x = \"Net Value\", y = \"Reaction Time (seconds)\") +\n",
    "  theme_minimal() +\n",
    "  ggtitle(\"Mean Reaction Time by abs(Net Value)\")"
   ]
  },
  {
   "cell_type": "markdown",
   "metadata": {},
   "source": [
    "### V2"
   ]
  },
  {
   "cell_type": "code",
   "execution_count": 99,
   "metadata": {},
   "outputs": [
    {
     "data": {
      "text/html": [
       "<table>\n",
       "<thead><tr><th scope=col>bin_abs</th><th scope=col>N</th><th scope=col>rt_se</th><th scope=col>rt</th></tr></thead>\n",
       "<tbody>\n",
       "\t<tr><td>0.061    </td><td>31       </td><td>0.1436890</td><td>4.090551 </td></tr>\n",
       "\t<tr><td>0.204    </td><td>31       </td><td>0.1596938</td><td>4.035085 </td></tr>\n",
       "\t<tr><td>0.375    </td><td>31       </td><td>0.1459261</td><td>3.811187 </td></tr>\n",
       "</tbody>\n",
       "</table>\n"
      ],
      "text/latex": [
       "\\begin{tabular}{r|llll}\n",
       " bin\\_abs & N & rt\\_se & rt\\\\\n",
       "\\hline\n",
       "\t 0.061     & 31        & 0.1436890 & 4.090551 \\\\\n",
       "\t 0.204     & 31        & 0.1596938 & 4.035085 \\\\\n",
       "\t 0.375     & 31        & 0.1459261 & 3.811187 \\\\\n",
       "\\end{tabular}\n"
      ],
      "text/markdown": [
       "\n",
       "| bin_abs | N | rt_se | rt |\n",
       "|---|---|---|---|\n",
       "| 0.061     | 31        | 0.1436890 | 4.090551  |\n",
       "| 0.204     | 31        | 0.1596938 | 4.035085  |\n",
       "| 0.375     | 31        | 0.1459261 | 3.811187  |\n",
       "\n"
      ],
      "text/plain": [
       "  bin_abs N  rt_se     rt      \n",
       "1 0.061   31 0.1436890 4.090551\n",
       "2 0.204   31 0.1596938 4.035085\n",
       "3 0.375   31 0.1459261 3.811187"
      ]
     },
     "metadata": {},
     "output_type": "display_data"
    }
   ],
   "source": [
    "df = v2\n",
    "\n",
    "subjects = length(unique(df$subject))\n",
    "\n",
    "rt = df %>%\n",
    "    group_by(subject, bin_abs) %>%\n",
    "    summarise(rt = mean(rt)) %>%\n",
    "    group_by(bin_abs) %>%\n",
    "    summarise(N = length(rt),\n",
    "              rt_se = sd(rt) / sqrt(subjects),\n",
    "              rt = mean(rt)\n",
    "             )\n",
    "\n",
    "head(rt, 3)"
   ]
  },
  {
   "cell_type": "markdown",
   "metadata": {},
   "source": [
    "#### Plot"
   ]
  },
  {
   "cell_type": "code",
   "execution_count": 100,
   "metadata": {},
   "outputs": [
    {
     "data": {
      "image/png": "[encoded data removed]",
      "text/plain": [
       "plot without title"
      ]
     },
     "metadata": {},
     "output_type": "display_data"
    }
   ],
   "source": [
    "ggplot(data = rt,aes(x = bin_abs,y = rt)) + \n",
    "  geom_point() + \n",
    "  #geom_line() +\n",
    "  geom_errorbar(aes(ymin = rt-rt_se,ymax = rt+rt_se)) + \n",
    "  labs(x = \"Net Value\", y = \"Reaction Time (seconds)\") +\n",
    "  theme_minimal() +\n",
    "  ggtitle(\"Mean Reaction Time by abs(Net Value)\")"
   ]
  },
  {
   "cell_type": "markdown",
   "metadata": {},
   "source": [
    "### V3.0.1"
   ]
  },
  {
   "cell_type": "code",
   "execution_count": null,
   "metadata": {},
   "outputs": [],
   "source": []
  },
  {
   "cell_type": "markdown",
   "metadata": {},
   "source": [
    "### V3.0.2"
   ]
  },
  {
   "cell_type": "code",
   "execution_count": null,
   "metadata": {},
   "outputs": [],
   "source": []
  },
  {
   "cell_type": "markdown",
   "metadata": {},
   "source": [
    "### V3.1.0"
   ]
  },
  {
   "cell_type": "code",
   "execution_count": null,
   "metadata": {},
   "outputs": [],
   "source": []
  },
  {
   "cell_type": "markdown",
   "metadata": {},
   "source": [
    "### Comparisons"
   ]
  },
  {
   "cell_type": "code",
   "execution_count": null,
   "metadata": {},
   "outputs": [],
   "source": []
  },
  {
   "cell_type": "markdown",
   "metadata": {
    "toc-hr-collapsed": false
   },
   "source": [
    "## Fixations\n",
    "by Abs. Offer Value"
   ]
  },
  {
   "cell_type": "markdown",
   "metadata": {},
   "source": [
    "### V1"
   ]
  },
  {
   "cell_type": "code",
   "execution_count": 102,
   "metadata": {},
   "outputs": [
    {
     "data": {
      "text/html": [
       "<table>\n",
       "<thead><tr><th scope=col>bin_abs</th><th scope=col>N</th><th scope=col>fix_se</th><th scope=col>fix_num</th></tr></thead>\n",
       "<tbody>\n",
       "\t<tr><td>0.063    </td><td>23       </td><td>0.1252995</td><td>3.291546 </td></tr>\n",
       "\t<tr><td>0.181    </td><td>23       </td><td>0.1326401</td><td>3.218687 </td></tr>\n",
       "\t<tr><td>0.271    </td><td>23       </td><td>0.1397366</td><td>3.218578 </td></tr>\n",
       "</tbody>\n",
       "</table>\n"
      ],
      "text/latex": [
       "\\begin{tabular}{r|llll}\n",
       " bin\\_abs & N & fix\\_se & fix\\_num\\\\\n",
       "\\hline\n",
       "\t 0.063     & 23        & 0.1252995 & 3.291546 \\\\\n",
       "\t 0.181     & 23        & 0.1326401 & 3.218687 \\\\\n",
       "\t 0.271     & 23        & 0.1397366 & 3.218578 \\\\\n",
       "\\end{tabular}\n"
      ],
      "text/markdown": [
       "\n",
       "| bin_abs | N | fix_se | fix_num |\n",
       "|---|---|---|---|\n",
       "| 0.063     | 23        | 0.1252995 | 3.291546  |\n",
       "| 0.181     | 23        | 0.1326401 | 3.218687  |\n",
       "| 0.271     | 23        | 0.1397366 | 3.218578  |\n",
       "\n"
      ],
      "text/plain": [
       "  bin_abs N  fix_se    fix_num \n",
       "1 0.063   23 0.1252995 3.291546\n",
       "2 0.181   23 0.1326401 3.218687\n",
       "3 0.271   23 0.1397366 3.218578"
      ]
     },
     "metadata": {},
     "output_type": "display_data"
    }
   ],
   "source": [
    "df = v1\n",
    "\n",
    "subjects = length(unique(df$subject))\n",
    "\n",
    "fix = df %>%\n",
    "    group_by(subject, bin_abs) %>%\n",
    "    summarise(swaps = mean(swapAmount)) %>%\n",
    "    group_by(bin_abs) %>%\n",
    "    summarise(N = length(swaps),\n",
    "              fix_se = sd(swaps) / sqrt(subjects),\n",
    "              fix_num = mean(swaps)\n",
    "             )\n",
    "\n",
    "head(fix, 3)"
   ]
  },
  {
   "cell_type": "markdown",
   "metadata": {},
   "source": [
    "#### Plot"
   ]
  },
  {
   "cell_type": "code",
   "execution_count": 103,
   "metadata": {},
   "outputs": [
    {
     "data": {
      "image/png": "[encoded data removed]",
      "text/plain": [
       "plot without title"
      ]
     },
     "metadata": {},
     "output_type": "display_data"
    }
   ],
   "source": [
    "ggplot(data = fix,aes(x = bin_abs,y = fix_num)) + \n",
    "  geom_point() + \n",
    "  #geom_line() +\n",
    "  geom_errorbar(aes(ymin = fix_num-fix_se,ymax = fix_num+fix_se)) + \n",
    "  labs(x = \"Net Value\", y = \"Fixations (count)\") +\n",
    "  theme_minimal() +\n",
    "  ggtitle(\"Mean Fixation Count by abs(Net Value)\")"
   ]
  },
  {
   "cell_type": "markdown",
   "metadata": {},
   "source": [
    "### V2"
   ]
  },
  {
   "cell_type": "code",
   "execution_count": 104,
   "metadata": {},
   "outputs": [
    {
     "data": {
      "text/html": [
       "<table>\n",
       "<thead><tr><th scope=col>bin_abs</th><th scope=col>N</th><th scope=col>fix_se</th><th scope=col>fix_num</th></tr></thead>\n",
       "<tbody>\n",
       "\t<tr><td>0.061    </td><td>31       </td><td>0.1547338</td><td>3.782820 </td></tr>\n",
       "\t<tr><td>0.204    </td><td>31       </td><td>0.1276974</td><td>3.643790 </td></tr>\n",
       "\t<tr><td>0.375    </td><td>31       </td><td>0.1343699</td><td>3.563872 </td></tr>\n",
       "</tbody>\n",
       "</table>\n"
      ],
      "text/latex": [
       "\\begin{tabular}{r|llll}\n",
       " bin\\_abs & N & fix\\_se & fix\\_num\\\\\n",
       "\\hline\n",
       "\t 0.061     & 31        & 0.1547338 & 3.782820 \\\\\n",
       "\t 0.204     & 31        & 0.1276974 & 3.643790 \\\\\n",
       "\t 0.375     & 31        & 0.1343699 & 3.563872 \\\\\n",
       "\\end{tabular}\n"
      ],
      "text/markdown": [
       "\n",
       "| bin_abs | N | fix_se | fix_num |\n",
       "|---|---|---|---|\n",
       "| 0.061     | 31        | 0.1547338 | 3.782820  |\n",
       "| 0.204     | 31        | 0.1276974 | 3.643790  |\n",
       "| 0.375     | 31        | 0.1343699 | 3.563872  |\n",
       "\n"
      ],
      "text/plain": [
       "  bin_abs N  fix_se    fix_num \n",
       "1 0.061   31 0.1547338 3.782820\n",
       "2 0.204   31 0.1276974 3.643790\n",
       "3 0.375   31 0.1343699 3.563872"
      ]
     },
     "metadata": {},
     "output_type": "display_data"
    }
   ],
   "source": [
    "df = v2\n",
    "\n",
    "subjects = length(unique(df$subject))\n",
    "\n",
    "fix = df %>%\n",
    "    group_by(subject, bin_abs) %>%\n",
    "    summarise(swaps = mean(swapAmount)) %>%\n",
    "    group_by(bin_abs) %>%\n",
    "    summarise(N = length(swaps),\n",
    "              fix_se = sd(swaps) / sqrt(subjects),\n",
    "              fix_num = mean(swaps)\n",
    "             )\n",
    "\n",
    "head(fix, 3)"
   ]
  },
  {
   "cell_type": "markdown",
   "metadata": {},
   "source": [
    "#### Plot"
   ]
  },
  {
   "cell_type": "code",
   "execution_count": 105,
   "metadata": {},
   "outputs": [
    {
     "data": {
      "image/png": "[encoded data removed]",
      "text/plain": [
       "plot without title"
      ]
     },
     "metadata": {},
     "output_type": "display_data"
    }
   ],
   "source": [
    "ggplot(data = fix,aes(x = bin_abs,y = fix_num)) + \n",
    "  geom_point() + \n",
    "  #geom_line() +\n",
    "  geom_errorbar(aes(ymin = fix_num-fix_se,ymax = fix_num+fix_se)) + \n",
    "  labs(x = \"Net Value\", y = \"Fixations (count)\") +\n",
    "  theme_minimal() +\n",
    "  ggtitle(\"Mean Fixation Count by abs(Net Value)\")"
   ]
  },
  {
   "cell_type": "markdown",
   "metadata": {},
   "source": [
    "### V3.0.1"
   ]
  },
  {
   "cell_type": "code",
   "execution_count": null,
   "metadata": {},
   "outputs": [],
   "source": []
  },
  {
   "cell_type": "markdown",
   "metadata": {},
   "source": [
    "#### Plot"
   ]
  },
  {
   "cell_type": "code",
   "execution_count": null,
   "metadata": {},
   "outputs": [],
   "source": []
  },
  {
   "cell_type": "markdown",
   "metadata": {},
   "source": [
    "### V3.0.2"
   ]
  },
  {
   "cell_type": "code",
   "execution_count": null,
   "metadata": {},
   "outputs": [],
   "source": []
  },
  {
   "cell_type": "markdown",
   "metadata": {},
   "source": [
    "#### Plot"
   ]
  },
  {
   "cell_type": "code",
   "execution_count": null,
   "metadata": {},
   "outputs": [],
   "source": []
  },
  {
   "cell_type": "markdown",
   "metadata": {},
   "source": [
    "### V3.1.0"
   ]
  },
  {
   "cell_type": "code",
   "execution_count": null,
   "metadata": {},
   "outputs": [],
   "source": []
  },
  {
   "cell_type": "markdown",
   "metadata": {},
   "source": [
    "#### Plot"
   ]
  },
  {
   "cell_type": "code",
   "execution_count": null,
   "metadata": {},
   "outputs": [],
   "source": []
  },
  {
   "cell_type": "markdown",
   "metadata": {},
   "source": [
    "### Comparisons"
   ]
  },
  {
   "cell_type": "code",
   "execution_count": null,
   "metadata": {},
   "outputs": [],
   "source": []
  },
  {
   "cell_type": "markdown",
   "metadata": {},
   "source": [
    "#### Plot"
   ]
  },
  {
   "cell_type": "code",
   "execution_count": null,
   "metadata": {},
   "outputs": [],
   "source": []
  },
  {
   "cell_type": "markdown",
   "metadata": {
    "toc-hr-collapsed": false
   },
   "source": [
    "## P(Accept)\n",
    "by Offer Value"
   ]
  },
  {
   "cell_type": "markdown",
   "metadata": {},
   "source": [
    "### V1"
   ]
  },
  {
   "cell_type": "code",
   "execution_count": 78,
   "metadata": {},
   "outputs": [
    {
     "data": {
      "text/html": [
       "<table>\n",
       "<thead><tr><th scope=col>bin</th><th scope=col>N</th><th scope=col>accept_se</th><th scope=col>accept</th></tr></thead>\n",
       "<tbody>\n",
       "\t<tr><td>-2.5441   </td><td>23        </td><td>0.08197456</td><td>0.04883540</td></tr>\n",
       "\t<tr><td>-1.5376   </td><td>23        </td><td>0.07050193</td><td>0.04829321</td></tr>\n",
       "\t<tr><td>-1.1026   </td><td>23        </td><td>0.04729659</td><td>0.07498281</td></tr>\n",
       "</tbody>\n",
       "</table>\n"
      ],
      "text/latex": [
       "\\begin{tabular}{r|llll}\n",
       " bin & N & accept\\_se & accept\\\\\n",
       "\\hline\n",
       "\t -2.5441    & 23         & 0.08197456 & 0.04883540\\\\\n",
       "\t -1.5376    & 23         & 0.07050193 & 0.04829321\\\\\n",
       "\t -1.1026    & 23         & 0.04729659 & 0.07498281\\\\\n",
       "\\end{tabular}\n"
      ],
      "text/markdown": [
       "\n",
       "| bin | N | accept_se | accept |\n",
       "|---|---|---|---|\n",
       "| -2.5441    | 23         | 0.08197456 | 0.04883540 |\n",
       "| -1.5376    | 23         | 0.07050193 | 0.04829321 |\n",
       "| -1.1026    | 23         | 0.04729659 | 0.07498281 |\n",
       "\n"
      ],
      "text/plain": [
       "  bin     N  accept_se  accept    \n",
       "1 -2.5441 23 0.08197456 0.04883540\n",
       "2 -1.5376 23 0.07050193 0.04829321\n",
       "3 -1.1026 23 0.04729659 0.07498281"
      ]
     },
     "metadata": {},
     "output_type": "display_data"
    }
   ],
   "source": [
    "df = v1\n",
    "\n",
    "subjects = length(unique(df$subject))\n",
    "\n",
    "# p(accept)\n",
    "p_a = df %>%\n",
    "    group_by(subject, bin) %>%\n",
    "    summarise(accept = mean(choice)) %>%\n",
    "    group_by(bin) %>%\n",
    "    summarise(N = length(accept),\n",
    "              accept_se = sd(accept, na.rm=TRUE) / sqrt(subjects),\n",
    "              accept = mean(accept)\n",
    "             )\n",
    "\n",
    "head(p_a, 3)"
   ]
  },
  {
   "cell_type": "markdown",
   "metadata": {},
   "source": [
    "#### Plot"
   ]
  },
  {
   "cell_type": "code",
   "execution_count": null,
   "metadata": {},
   "outputs": [],
   "source": []
  },
  {
   "cell_type": "markdown",
   "metadata": {},
   "source": [
    "### V2"
   ]
  },
  {
   "cell_type": "code",
   "execution_count": 81,
   "metadata": {},
   "outputs": [
    {
     "data": {
      "text/html": [
       "<table>\n",
       "<thead><tr><th scope=col>bin</th><th scope=col>N</th><th scope=col>accept_se</th><th scope=col>accept</th></tr></thead>\n",
       "<tbody>\n",
       "\t<tr><td>-8.119    </td><td>31        </td><td>0.01387307</td><td>0.03528732</td></tr>\n",
       "\t<tr><td>-3.632    </td><td>31        </td><td>0.01621134</td><td>0.06879851</td></tr>\n",
       "\t<tr><td>-1.976    </td><td>31        </td><td>0.01412080</td><td>0.07554009</td></tr>\n",
       "</tbody>\n",
       "</table>\n"
      ],
      "text/latex": [
       "\\begin{tabular}{r|llll}\n",
       " bin & N & accept\\_se & accept\\\\\n",
       "\\hline\n",
       "\t -8.119     & 31         & 0.01387307 & 0.03528732\\\\\n",
       "\t -3.632     & 31         & 0.01621134 & 0.06879851\\\\\n",
       "\t -1.976     & 31         & 0.01412080 & 0.07554009\\\\\n",
       "\\end{tabular}\n"
      ],
      "text/markdown": [
       "\n",
       "| bin | N | accept_se | accept |\n",
       "|---|---|---|---|\n",
       "| -8.119     | 31         | 0.01387307 | 0.03528732 |\n",
       "| -3.632     | 31         | 0.01621134 | 0.06879851 |\n",
       "| -1.976     | 31         | 0.01412080 | 0.07554009 |\n",
       "\n"
      ],
      "text/plain": [
       "  bin    N  accept_se  accept    \n",
       "1 -8.119 31 0.01387307 0.03528732\n",
       "2 -3.632 31 0.01621134 0.06879851\n",
       "3 -1.976 31 0.01412080 0.07554009"
      ]
     },
     "metadata": {},
     "output_type": "display_data"
    }
   ],
   "source": [
    "df = v2\n",
    "\n",
    "subjects = length(unique(df$subject))\n",
    "\n",
    "# p(accept)\n",
    "p_a = df %>%\n",
    "    group_by(subject, bin) %>%\n",
    "    summarise(accept = mean(choice)) %>%\n",
    "    group_by(bin) %>%\n",
    "    summarise(N = length(accept),\n",
    "              accept_se = sd(accept, na.rm=TRUE) / sqrt(subjects),\n",
    "              accept = mean(accept)\n",
    "             )\n",
    "\n",
    "head(p_a, 3)"
   ]
  },
  {
   "cell_type": "markdown",
   "metadata": {},
   "source": [
    "### V3.0.1"
   ]
  },
  {
   "cell_type": "code",
   "execution_count": null,
   "metadata": {},
   "outputs": [],
   "source": []
  },
  {
   "cell_type": "markdown",
   "metadata": {},
   "source": [
    "### V3.0.2"
   ]
  },
  {
   "cell_type": "code",
   "execution_count": null,
   "metadata": {},
   "outputs": [],
   "source": []
  },
  {
   "cell_type": "markdown",
   "metadata": {},
   "source": [
    "### V3.1.0"
   ]
  },
  {
   "cell_type": "code",
   "execution_count": null,
   "metadata": {},
   "outputs": [],
   "source": []
  },
  {
   "cell_type": "markdown",
   "metadata": {},
   "source": [
    "### Comparisons"
   ]
  },
  {
   "cell_type": "code",
   "execution_count": null,
   "metadata": {},
   "outputs": [],
   "source": []
  },
  {
   "cell_type": "markdown",
   "metadata": {
    "toc-hr-collapsed": true
   },
   "source": [
    "# Attention"
   ]
  },
  {
   "cell_type": "markdown",
   "metadata": {},
   "source": [
    "## Base Value"
   ]
  },
  {
   "cell_type": "markdown",
   "metadata": {
    "toc-hr-collapsed": true
   },
   "source": [
    "### First Fixation"
   ]
  },
  {
   "cell_type": "markdown",
   "metadata": {},
   "source": [
    "#### V1"
   ]
  },
  {
   "cell_type": "code",
   "execution_count": null,
   "metadata": {},
   "outputs": [],
   "source": []
  },
  {
   "cell_type": "markdown",
   "metadata": {},
   "source": [
    "#### V2"
   ]
  },
  {
   "cell_type": "code",
   "execution_count": null,
   "metadata": {},
   "outputs": [],
   "source": []
  },
  {
   "cell_type": "markdown",
   "metadata": {},
   "source": [
    "#### V3.0.1"
   ]
  },
  {
   "cell_type": "code",
   "execution_count": null,
   "metadata": {},
   "outputs": [],
   "source": []
  },
  {
   "cell_type": "markdown",
   "metadata": {},
   "source": [
    "#### V3.0.2"
   ]
  },
  {
   "cell_type": "code",
   "execution_count": null,
   "metadata": {},
   "outputs": [],
   "source": []
  },
  {
   "cell_type": "markdown",
   "metadata": {},
   "source": [
    "#### V3.1.0"
   ]
  },
  {
   "cell_type": "code",
   "execution_count": null,
   "metadata": {},
   "outputs": [],
   "source": []
  },
  {
   "cell_type": "markdown",
   "metadata": {},
   "source": [
    "#### Comparisons"
   ]
  },
  {
   "cell_type": "code",
   "execution_count": null,
   "metadata": {},
   "outputs": [],
   "source": []
  },
  {
   "cell_type": "markdown",
   "metadata": {
    "toc-hr-collapsed": true
   },
   "source": [
    "### Middle Fixation"
   ]
  },
  {
   "cell_type": "markdown",
   "metadata": {},
   "source": [
    "#### V1"
   ]
  },
  {
   "cell_type": "code",
   "execution_count": null,
   "metadata": {},
   "outputs": [],
   "source": []
  },
  {
   "cell_type": "markdown",
   "metadata": {},
   "source": [
    "#### V2"
   ]
  },
  {
   "cell_type": "code",
   "execution_count": null,
   "metadata": {},
   "outputs": [],
   "source": []
  },
  {
   "cell_type": "markdown",
   "metadata": {},
   "source": [
    "#### V3.0.1"
   ]
  },
  {
   "cell_type": "code",
   "execution_count": null,
   "metadata": {},
   "outputs": [],
   "source": []
  },
  {
   "cell_type": "markdown",
   "metadata": {},
   "source": [
    "#### V3.0.2"
   ]
  },
  {
   "cell_type": "code",
   "execution_count": null,
   "metadata": {},
   "outputs": [],
   "source": []
  },
  {
   "cell_type": "markdown",
   "metadata": {},
   "source": [
    "#### V3.1.0"
   ]
  },
  {
   "cell_type": "code",
   "execution_count": null,
   "metadata": {},
   "outputs": [],
   "source": []
  },
  {
   "cell_type": "markdown",
   "metadata": {},
   "source": [
    "#### Comparisons"
   ]
  },
  {
   "cell_type": "code",
   "execution_count": null,
   "metadata": {},
   "outputs": [],
   "source": []
  },
  {
   "cell_type": "markdown",
   "metadata": {
    "toc-hr-collapsed": true
   },
   "source": [
    "### Final Fixation"
   ]
  },
  {
   "cell_type": "markdown",
   "metadata": {},
   "source": [
    "#### V1"
   ]
  },
  {
   "cell_type": "code",
   "execution_count": null,
   "metadata": {},
   "outputs": [],
   "source": []
  },
  {
   "cell_type": "markdown",
   "metadata": {},
   "source": [
    "#### V2"
   ]
  },
  {
   "cell_type": "code",
   "execution_count": null,
   "metadata": {},
   "outputs": [],
   "source": []
  },
  {
   "cell_type": "markdown",
   "metadata": {},
   "source": [
    "#### V3.0.1"
   ]
  },
  {
   "cell_type": "code",
   "execution_count": null,
   "metadata": {},
   "outputs": [],
   "source": []
  },
  {
   "cell_type": "markdown",
   "metadata": {},
   "source": [
    "#### V3.0.2"
   ]
  },
  {
   "cell_type": "code",
   "execution_count": null,
   "metadata": {},
   "outputs": [],
   "source": []
  },
  {
   "cell_type": "markdown",
   "metadata": {},
   "source": [
    "#### V3.1.0"
   ]
  },
  {
   "cell_type": "code",
   "execution_count": null,
   "metadata": {},
   "outputs": [],
   "source": []
  },
  {
   "cell_type": "markdown",
   "metadata": {},
   "source": [
    "#### Comparisons"
   ]
  },
  {
   "cell_type": "code",
   "execution_count": null,
   "metadata": {},
   "outputs": [],
   "source": []
  },
  {
   "cell_type": "markdown",
   "metadata": {},
   "source": [
    "## Multiplier"
   ]
  },
  {
   "cell_type": "markdown",
   "metadata": {
    "toc-hr-collapsed": true
   },
   "source": [
    "### First Fixation"
   ]
  },
  {
   "cell_type": "code",
   "execution_count": null,
   "metadata": {},
   "outputs": [],
   "source": []
  },
  {
   "cell_type": "markdown",
   "metadata": {},
   "source": [
    "#### V1"
   ]
  },
  {
   "cell_type": "code",
   "execution_count": null,
   "metadata": {},
   "outputs": [],
   "source": []
  },
  {
   "cell_type": "markdown",
   "metadata": {},
   "source": [
    "#### V2"
   ]
  },
  {
   "cell_type": "code",
   "execution_count": null,
   "metadata": {},
   "outputs": [],
   "source": []
  },
  {
   "cell_type": "markdown",
   "metadata": {},
   "source": [
    "#### V3.0.1"
   ]
  },
  {
   "cell_type": "code",
   "execution_count": null,
   "metadata": {},
   "outputs": [],
   "source": []
  },
  {
   "cell_type": "markdown",
   "metadata": {},
   "source": [
    "#### V3.0.2"
   ]
  },
  {
   "cell_type": "code",
   "execution_count": null,
   "metadata": {},
   "outputs": [],
   "source": []
  },
  {
   "cell_type": "markdown",
   "metadata": {},
   "source": [
    "#### V3.1.0"
   ]
  },
  {
   "cell_type": "code",
   "execution_count": null,
   "metadata": {},
   "outputs": [],
   "source": []
  },
  {
   "cell_type": "markdown",
   "metadata": {},
   "source": [
    "#### Comparisons"
   ]
  },
  {
   "cell_type": "code",
   "execution_count": null,
   "metadata": {},
   "outputs": [],
   "source": []
  },
  {
   "cell_type": "markdown",
   "metadata": {
    "toc-hr-collapsed": true
   },
   "source": [
    "### Middle Fixation"
   ]
  },
  {
   "cell_type": "markdown",
   "metadata": {},
   "source": [
    "#### V1"
   ]
  },
  {
   "cell_type": "code",
   "execution_count": null,
   "metadata": {},
   "outputs": [],
   "source": []
  },
  {
   "cell_type": "markdown",
   "metadata": {},
   "source": [
    "#### V2"
   ]
  },
  {
   "cell_type": "code",
   "execution_count": null,
   "metadata": {},
   "outputs": [],
   "source": []
  },
  {
   "cell_type": "markdown",
   "metadata": {},
   "source": [
    "#### V3.0.1"
   ]
  },
  {
   "cell_type": "code",
   "execution_count": null,
   "metadata": {},
   "outputs": [],
   "source": []
  },
  {
   "cell_type": "markdown",
   "metadata": {},
   "source": [
    "#### V3.0.2"
   ]
  },
  {
   "cell_type": "code",
   "execution_count": null,
   "metadata": {},
   "outputs": [],
   "source": []
  },
  {
   "cell_type": "markdown",
   "metadata": {},
   "source": [
    "#### V3.1.0"
   ]
  },
  {
   "cell_type": "code",
   "execution_count": null,
   "metadata": {},
   "outputs": [],
   "source": []
  },
  {
   "cell_type": "markdown",
   "metadata": {},
   "source": [
    "#### Comparisons"
   ]
  },
  {
   "cell_type": "code",
   "execution_count": null,
   "metadata": {},
   "outputs": [],
   "source": []
  },
  {
   "cell_type": "markdown",
   "metadata": {
    "toc-hr-collapsed": true
   },
   "source": [
    "### Final Fixation"
   ]
  },
  {
   "cell_type": "markdown",
   "metadata": {},
   "source": [
    "#### V1"
   ]
  },
  {
   "cell_type": "code",
   "execution_count": null,
   "metadata": {},
   "outputs": [],
   "source": []
  },
  {
   "cell_type": "markdown",
   "metadata": {},
   "source": [
    "#### V2"
   ]
  },
  {
   "cell_type": "code",
   "execution_count": null,
   "metadata": {},
   "outputs": [],
   "source": []
  },
  {
   "cell_type": "markdown",
   "metadata": {},
   "source": [
    "#### V3.0.1"
   ]
  },
  {
   "cell_type": "code",
   "execution_count": null,
   "metadata": {},
   "outputs": [],
   "source": []
  },
  {
   "cell_type": "markdown",
   "metadata": {},
   "source": [
    "#### V3.0.2"
   ]
  },
  {
   "cell_type": "code",
   "execution_count": null,
   "metadata": {},
   "outputs": [],
   "source": []
  },
  {
   "cell_type": "markdown",
   "metadata": {},
   "source": [
    "#### V3.1.0"
   ]
  },
  {
   "cell_type": "code",
   "execution_count": null,
   "metadata": {},
   "outputs": [],
   "source": []
  },
  {
   "cell_type": "markdown",
   "metadata": {},
   "source": [
    "#### Comparisons"
   ]
  },
  {
   "cell_type": "code",
   "execution_count": null,
   "metadata": {},
   "outputs": [],
   "source": []
  },
  {
   "cell_type": "markdown",
   "metadata": {},
   "source": [
    "## Weighted Value"
   ]
  },
  {
   "cell_type": "markdown",
   "metadata": {
    "toc-hr-collapsed": true
   },
   "source": [
    "### First Fixation"
   ]
  },
  {
   "cell_type": "markdown",
   "metadata": {},
   "source": [
    "#### V1"
   ]
  },
  {
   "cell_type": "code",
   "execution_count": null,
   "metadata": {},
   "outputs": [],
   "source": []
  },
  {
   "cell_type": "markdown",
   "metadata": {},
   "source": [
    "#### V2"
   ]
  },
  {
   "cell_type": "code",
   "execution_count": null,
   "metadata": {},
   "outputs": [],
   "source": []
  },
  {
   "cell_type": "markdown",
   "metadata": {},
   "source": [
    "#### V3.0.1"
   ]
  },
  {
   "cell_type": "code",
   "execution_count": null,
   "metadata": {},
   "outputs": [],
   "source": []
  },
  {
   "cell_type": "markdown",
   "metadata": {},
   "source": [
    "#### V3.0.2"
   ]
  },
  {
   "cell_type": "code",
   "execution_count": null,
   "metadata": {},
   "outputs": [],
   "source": []
  },
  {
   "cell_type": "markdown",
   "metadata": {},
   "source": [
    "#### V3.1.0"
   ]
  },
  {
   "cell_type": "code",
   "execution_count": null,
   "metadata": {},
   "outputs": [],
   "source": []
  },
  {
   "cell_type": "markdown",
   "metadata": {},
   "source": [
    "#### Comparisons"
   ]
  },
  {
   "cell_type": "code",
   "execution_count": null,
   "metadata": {},
   "outputs": [],
   "source": []
  },
  {
   "cell_type": "markdown",
   "metadata": {
    "toc-hr-collapsed": true
   },
   "source": [
    "### Middle Fixation"
   ]
  },
  {
   "cell_type": "markdown",
   "metadata": {},
   "source": [
    "#### V1"
   ]
  },
  {
   "cell_type": "code",
   "execution_count": null,
   "metadata": {},
   "outputs": [],
   "source": []
  },
  {
   "cell_type": "markdown",
   "metadata": {},
   "source": [
    "#### V2"
   ]
  },
  {
   "cell_type": "code",
   "execution_count": null,
   "metadata": {},
   "outputs": [],
   "source": []
  },
  {
   "cell_type": "markdown",
   "metadata": {},
   "source": [
    "#### V3.0.1"
   ]
  },
  {
   "cell_type": "code",
   "execution_count": null,
   "metadata": {},
   "outputs": [],
   "source": []
  },
  {
   "cell_type": "markdown",
   "metadata": {},
   "source": [
    "#### V3.0.2"
   ]
  },
  {
   "cell_type": "code",
   "execution_count": null,
   "metadata": {},
   "outputs": [],
   "source": []
  },
  {
   "cell_type": "markdown",
   "metadata": {},
   "source": [
    "#### V3.1.0"
   ]
  },
  {
   "cell_type": "code",
   "execution_count": null,
   "metadata": {},
   "outputs": [],
   "source": []
  },
  {
   "cell_type": "markdown",
   "metadata": {},
   "source": [
    "#### Comparisons"
   ]
  },
  {
   "cell_type": "code",
   "execution_count": null,
   "metadata": {},
   "outputs": [],
   "source": []
  },
  {
   "cell_type": "markdown",
   "metadata": {
    "toc-hr-collapsed": true
   },
   "source": [
    "### Final Fixation"
   ]
  },
  {
   "cell_type": "markdown",
   "metadata": {},
   "source": [
    "#### V1"
   ]
  },
  {
   "cell_type": "code",
   "execution_count": null,
   "metadata": {},
   "outputs": [],
   "source": []
  },
  {
   "cell_type": "markdown",
   "metadata": {},
   "source": [
    "#### V2"
   ]
  },
  {
   "cell_type": "code",
   "execution_count": null,
   "metadata": {},
   "outputs": [],
   "source": []
  },
  {
   "cell_type": "markdown",
   "metadata": {},
   "source": [
    "#### V3.0.1"
   ]
  },
  {
   "cell_type": "code",
   "execution_count": null,
   "metadata": {},
   "outputs": [],
   "source": []
  },
  {
   "cell_type": "markdown",
   "metadata": {},
   "source": [
    "#### V3.0.2"
   ]
  },
  {
   "cell_type": "code",
   "execution_count": null,
   "metadata": {},
   "outputs": [],
   "source": []
  },
  {
   "cell_type": "markdown",
   "metadata": {},
   "source": [
    "#### V3.1.0"
   ]
  },
  {
   "cell_type": "code",
   "execution_count": null,
   "metadata": {},
   "outputs": [],
   "source": []
  },
  {
   "cell_type": "markdown",
   "metadata": {},
   "source": [
    "#### Comparisons"
   ]
  },
  {
   "cell_type": "code",
   "execution_count": null,
   "metadata": {},
   "outputs": [],
   "source": []
  },
  {
   "cell_type": "markdown",
   "metadata": {
    "toc-hr-collapsed": true
   },
   "source": [
    "# Choice ~ Attention & Value"
   ]
  },
  {
   "cell_type": "code",
   "execution_count": null,
   "metadata": {},
   "outputs": [],
   "source": []
  }
 ],
 "metadata": {
  "kernelspec": {
   "display_name": "R",
   "language": "R",
   "name": "ir"
  },
  "language_info": {
   "codemirror_mode": "r",
   "file_extension": ".r",
   "mimetype": "text/x-r-source",
   "name": "R",
   "pygments_lexer": "r",
   "version": "3.5.2"
  },
  "toc-autonumbering": true
 },
 "nbformat": 4,
 "nbformat_minor": 2
}
